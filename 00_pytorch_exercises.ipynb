{
  "nbformat": 4,
  "nbformat_minor": 0,
  "metadata": {
    "colab": {
      "provenance": [],
      "gpuType": "T4",
      "authorship_tag": "ABX9TyOQwDRP2TiXDzyIQQFYSVJK",
      "include_colab_link": true
    },
    "kernelspec": {
      "name": "python3",
      "display_name": "Python 3"
    },
    "language_info": {
      "name": "python"
    },
    "accelerator": "GPU"
  },
  "cells": [
    {
      "cell_type": "markdown",
      "metadata": {
        "id": "view-in-github",
        "colab_type": "text"
      },
      "source": [
        "<a href=\"https://colab.research.google.com/github/aRod209/pytorch-for-deep-learning/blob/main/00_pytorch_exercises.ipynb\" target=\"_parent\"><img src=\"https://colab.research.google.com/assets/colab-badge.svg\" alt=\"Open In Colab\"/></a>"
      ]
    },
    {
      "cell_type": "code",
      "execution_count": null,
      "metadata": {
        "id": "5rCgC00CmV_u"
      },
      "outputs": [],
      "source": [
        "import torch\n",
        "import numpy as np"
      ]
    },
    {
      "cell_type": "markdown",
      "source": [
        "1. Documentation reading - A big part of deep learning (and learning to code in general) is getting familiar with the documentation of a certain framework you're using. We'll be using the PyTorch documentation a lot throughout the rest of this course. So I'd recommend spending 10-minutes reading the following (it's okay if you don't get some things for now, the focus is not yet full understanding, it's awareness). See the documentation on [torch.Tensor](https://pytorch.org/docs/stable/tensors.html#torch-tensor) and for [torch.Cuda](https://pytorch.org/docs/master/notes/cuda.html#cuda-semantics)."
      ],
      "metadata": {
        "id": "HKs84qYMmmBD"
      }
    },
    {
      "cell_type": "code",
      "source": [
        "# 2. Create a random tensor with shape (7, 7).\n",
        "x = torch.rand((7,7))\n",
        "x"
      ],
      "metadata": {
        "colab": {
          "base_uri": "https://localhost:8080/"
        },
        "id": "7ObR1xnks-A9",
        "outputId": "9892e1ca-5db7-485e-a21d-4ef53837c6f8"
      },
      "execution_count": null,
      "outputs": [
        {
          "output_type": "execute_result",
          "data": {
            "text/plain": [
              "tensor([[0.2766, 0.2692, 0.8655, 0.1750, 0.6118, 0.9960, 0.0675],\n",
              "        [0.6443, 0.9388, 0.1015, 0.4497, 0.8689, 0.6739, 0.8166],\n",
              "        [0.8761, 0.2859, 0.3114, 0.0512, 0.8801, 0.6874, 0.4297],\n",
              "        [0.0645, 0.9965, 0.2914, 0.8616, 0.1682, 0.6127, 0.2605],\n",
              "        [0.8801, 0.0333, 0.2434, 0.1795, 0.6944, 0.2206, 0.3885],\n",
              "        [0.1183, 0.6090, 0.7059, 0.8416, 0.6579, 0.6549, 0.1870],\n",
              "        [0.8069, 0.7312, 0.6258, 0.1175, 0.4356, 0.5946, 0.2049]])"
            ]
          },
          "metadata": {},
          "execution_count": 2
        }
      ]
    },
    {
      "cell_type": "code",
      "source": [
        "# 3. Perform a matrix multiplication on the tensor from 2 with another random tensor with\n",
        "# shape (1, 7) (hint: you may have to transpose the second tensor).\n",
        "y = torch.rand((1,7))\n",
        "print(f'x:\\n{x}\\n')\n",
        "print(f'y:\\n{y}\\n')\n",
        "print(f'y.T:\\n{y.T}\\n')\n",
        "print(f'x * y.T: {np.dot(x, y.T)}\\n')"
      ],
      "metadata": {
        "colab": {
          "base_uri": "https://localhost:8080/"
        },
        "id": "eX3H0Ah2tRhM",
        "outputId": "4f76537a-1a4b-4216-cd77-41c79dcab950"
      },
      "execution_count": null,
      "outputs": [
        {
          "output_type": "stream",
          "name": "stdout",
          "text": [
            "x:\n",
            "tensor([[0.2766, 0.2692, 0.8655, 0.1750, 0.6118, 0.9960, 0.0675],\n",
            "        [0.6443, 0.9388, 0.1015, 0.4497, 0.8689, 0.6739, 0.8166],\n",
            "        [0.8761, 0.2859, 0.3114, 0.0512, 0.8801, 0.6874, 0.4297],\n",
            "        [0.0645, 0.9965, 0.2914, 0.8616, 0.1682, 0.6127, 0.2605],\n",
            "        [0.8801, 0.0333, 0.2434, 0.1795, 0.6944, 0.2206, 0.3885],\n",
            "        [0.1183, 0.6090, 0.7059, 0.8416, 0.6579, 0.6549, 0.1870],\n",
            "        [0.8069, 0.7312, 0.6258, 0.1175, 0.4356, 0.5946, 0.2049]])\n",
            "\n",
            "y:\n",
            "tensor([[0.3651, 0.6209, 0.4471, 0.9882, 0.7171, 0.2298, 0.9152]])\n",
            "\n",
            "y.T:\n",
            "tensor([[0.3651],\n",
            "        [0.6209],\n",
            "        [0.4471],\n",
            "        [0.9882],\n",
            "        [0.7171],\n",
            "        [0.2298],\n",
            "        [0.9152]])\n",
            "\n",
            "x * y.T: [[1.5574586]\n",
            " [2.833174 ]\n",
            " [1.8696151]\n",
            " [2.123819 ]\n",
            " [1.5324389]\n",
            " [2.3620834]\n",
            " [1.7810941]]\n",
            "\n"
          ]
        }
      ]
    },
    {
      "cell_type": "code",
      "source": [
        "# 4. Set the random seed to 0 and do exercises 2 & 3 over again.\n",
        "RANDOM_SEED = 0\n",
        "torch.manual_seed(RANDOM_SEED)\n",
        "x = torch.rand(7,7)\n",
        "\n",
        "torch.manual_seed(RANDOM_SEED)\n",
        "y = torch.rand(1,7)\n",
        "\n",
        "print(f'x:\\n{x}\\n')\n",
        "print(f'y:\\n{y}\\n')\n",
        "print(f'y.T:\\n{y.T}\\n')\n",
        "print(f'np.dot(x, y.T):\\n {np.dot(x, y.T)}\\n')\n",
        "print(f'torch.matmul(x, y.T):\\n{torch.matmul(x, y.T)}')"
      ],
      "metadata": {
        "colab": {
          "base_uri": "https://localhost:8080/"
        },
        "id": "8EawhEvnuAEh",
        "outputId": "0fc0c0a2-edac-446d-b19e-55104be12551"
      },
      "execution_count": null,
      "outputs": [
        {
          "output_type": "stream",
          "name": "stdout",
          "text": [
            "x:\n",
            "tensor([[0.4963, 0.7682, 0.0885, 0.1320, 0.3074, 0.6341, 0.4901],\n",
            "        [0.8964, 0.4556, 0.6323, 0.3489, 0.4017, 0.0223, 0.1689],\n",
            "        [0.2939, 0.5185, 0.6977, 0.8000, 0.1610, 0.2823, 0.6816],\n",
            "        [0.9152, 0.3971, 0.8742, 0.4194, 0.5529, 0.9527, 0.0362],\n",
            "        [0.1852, 0.3734, 0.3051, 0.9320, 0.1759, 0.2698, 0.1507],\n",
            "        [0.0317, 0.2081, 0.9298, 0.7231, 0.7423, 0.5263, 0.2437],\n",
            "        [0.5846, 0.0332, 0.1387, 0.2422, 0.8155, 0.7932, 0.2783]])\n",
            "\n",
            "y:\n",
            "tensor([[0.4963, 0.7682, 0.0885, 0.1320, 0.3074, 0.6341, 0.4901]])\n",
            "\n",
            "y.T:\n",
            "tensor([[0.4963],\n",
            "        [0.7682],\n",
            "        [0.0885],\n",
            "        [0.1320],\n",
            "        [0.3074],\n",
            "        [0.6341],\n",
            "        [0.4901]])\n",
            "\n",
            "np.dot(x, y.T):\n",
            " [[1.5984519 ]\n",
            " [1.1173093 ]\n",
            " [1.2740741 ]\n",
            " [1.6837609 ]\n",
            " [0.82785815]\n",
            " [1.0347089 ]\n",
            " [1.2498218 ]]\n",
            "\n",
            "torch.matmul(x, y.T):\n",
            "tensor([[1.5985],\n",
            "        [1.1173],\n",
            "        [1.2741],\n",
            "        [1.6838],\n",
            "        [0.8279],\n",
            "        [1.0347],\n",
            "        [1.2498]])\n"
          ]
        }
      ]
    },
    {
      "cell_type": "code",
      "source": [
        "# 5. Speaking of random seeds, we saw how to set it with torch.manual_seed() but is there a GPU equivalent?\n",
        "# (hint: you'll need to look into the documentation for torch.cuda for this one). If there is, set the GPU random seed to 1234.\n",
        "torch.cuda.is_available()"
      ],
      "metadata": {
        "colab": {
          "base_uri": "https://localhost:8080/"
        },
        "id": "sXf6sLi0v-me",
        "outputId": "805c0ea6-ee06-4a66-9db0-d1f62cae4486"
      },
      "execution_count": null,
      "outputs": [
        {
          "output_type": "execute_result",
          "data": {
            "text/plain": [
              "True"
            ]
          },
          "metadata": {},
          "execution_count": 5
        }
      ]
    },
    {
      "cell_type": "code",
      "source": [
        "# Setup device agnositc code\n",
        "device = 'cuda' if torch.cuda.is_available() else 'cpu'\n",
        "device"
      ],
      "metadata": {
        "colab": {
          "base_uri": "https://localhost:8080/",
          "height": 35
        },
        "id": "9dvsS4Y_xHOs",
        "outputId": "6ccdb994-8bcd-4c93-e8be-06b5deabe3da"
      },
      "execution_count": null,
      "outputs": [
        {
          "output_type": "execute_result",
          "data": {
            "text/plain": [
              "'cuda'"
            ],
            "application/vnd.google.colaboratory.intrinsic+json": {
              "type": "string"
            }
          },
          "metadata": {},
          "execution_count": 6
        }
      ]
    },
    {
      "cell_type": "code",
      "source": [
        "RANDOM_SEED = 1234\n",
        "\n",
        "# 6. Create two random tensors of shape (2, 3) and send them both to the GPU (you'll need access to a GPU for this).\n",
        "# Set torch.manual_seed(1234) when creating the tensors (this doesn't have to be the GPU random seed).\n",
        "torch.cuda.manual_seed(RANDOM_SEED)\n",
        "x = torch.rand(size=(2,3), device=device)\n",
        "\n",
        "torch.cuda.manual_seed(RANDOM_SEED)\n",
        "y = torch.rand(size=(2,3), device=device)\n",
        "\n",
        "# 7. Perform a matrix multiplication on the tensors you created in 6 (again, you may have to adjust the shapes of one of the tensors).\n",
        "z = torch.matmul(x, y.T)\n",
        "print(f'x:\\n{x}\\n')\n",
        "print(f'y:\\n{y}\\n')\n",
        "print(f'y.T:\\n{y.T}\\n')\n",
        "print(f'torch.matmul(x, y.T):\\n {z}\\n')"
      ],
      "metadata": {
        "colab": {
          "base_uri": "https://localhost:8080/"
        },
        "id": "vt5QKS3VxWN9",
        "outputId": "2ef68847-dfdd-4c49-8937-04bf007bb7a2"
      },
      "execution_count": null,
      "outputs": [
        {
          "output_type": "stream",
          "name": "stdout",
          "text": [
            "x:\n",
            "tensor([[0.1272, 0.8167, 0.5440],\n",
            "        [0.6601, 0.2721, 0.9737]], device='cuda:0')\n",
            "\n",
            "y:\n",
            "tensor([[0.1272, 0.8167, 0.5440],\n",
            "        [0.6601, 0.2721, 0.9737]], device='cuda:0')\n",
            "\n",
            "y.T:\n",
            "tensor([[0.1272, 0.6601],\n",
            "        [0.8167, 0.2721],\n",
            "        [0.5440, 0.9737]], device='cuda:0')\n",
            "\n",
            "torch.matmul(x, y.T):\n",
            " tensor([[0.9792, 0.8358],\n",
            "        [0.8358, 1.4578]], device='cuda:0')\n",
            "\n"
          ]
        }
      ]
    },
    {
      "cell_type": "code",
      "source": [
        "# 8. Find the maximum and minimum values of the output of 7.\n",
        "torch.max(z), torch.min(z)"
      ],
      "metadata": {
        "colab": {
          "base_uri": "https://localhost:8080/"
        },
        "id": "cj5yDaLCy2CC",
        "outputId": "81a70f3b-c6ba-401d-9b7a-57d2231b1eed"
      },
      "execution_count": null,
      "outputs": [
        {
          "output_type": "execute_result",
          "data": {
            "text/plain": [
              "(tensor(1.4578, device='cuda:0'), tensor(0.8358, device='cuda:0'))"
            ]
          },
          "metadata": {},
          "execution_count": 22
        }
      ]
    },
    {
      "cell_type": "code",
      "source": [
        "# 9. Find the maximum and minimum index values of the output of 7.\n",
        "torch.argmax(z), torch.argmin(z)"
      ],
      "metadata": {
        "colab": {
          "base_uri": "https://localhost:8080/"
        },
        "id": "Z6lhDqA31p6u",
        "outputId": "ee31ec37-57e0-4ff1-f3cf-537d52051cf7"
      },
      "execution_count": null,
      "outputs": [
        {
          "output_type": "execute_result",
          "data": {
            "text/plain": [
              "(tensor(3, device='cuda:0'), tensor(1, device='cuda:0'))"
            ]
          },
          "metadata": {},
          "execution_count": 23
        }
      ]
    },
    {
      "cell_type": "code",
      "source": [
        "# 10. Make a random tensor with shape (1, 1, 1, 10) and then create a new tensor with all the 1 dimensions removed to be left with a tensor of shape (10).\n",
        "# Set the seed to 7 when you create it and print out the first tensor and it's shape as well as the second tensor and it's shape.\n",
        "\n",
        "RANDOM_SEED = 7\n",
        "\n",
        "torch.manual_seed(RANDOM_SEED)\n",
        "x = torch.rand((1,1,1,10))\n",
        "y = x.flatten()\n",
        "x, y"
      ],
      "metadata": {
        "colab": {
          "base_uri": "https://localhost:8080/"
        },
        "id": "JzMFg5F42QdP",
        "outputId": "70bf1e00-abe7-4754-d856-5119641a9876"
      },
      "execution_count": null,
      "outputs": [
        {
          "output_type": "execute_result",
          "data": {
            "text/plain": [
              "(tensor([[[[0.5349, 0.1988, 0.6592, 0.6569, 0.2328, 0.4251, 0.2071, 0.6297,\n",
              "            0.3653, 0.8513]]]]),\n",
              " tensor([0.5349, 0.1988, 0.6592, 0.6569, 0.2328, 0.4251, 0.2071, 0.6297, 0.3653,\n",
              "         0.8513]))"
            ]
          },
          "metadata": {},
          "execution_count": 35
        }
      ]
    },
    {
      "cell_type": "code",
      "source": [
        "x.shape, y.shape"
      ],
      "metadata": {
        "colab": {
          "base_uri": "https://localhost:8080/"
        },
        "id": "8eDqnt_I3R3n",
        "outputId": "44f6882b-2c42-4e40-e3d6-7a42acc76e05"
      },
      "execution_count": null,
      "outputs": [
        {
          "output_type": "execute_result",
          "data": {
            "text/plain": [
              "(torch.Size([1, 1, 1, 10]), torch.Size([10]))"
            ]
          },
          "metadata": {},
          "execution_count": 36
        }
      ]
    },
    {
      "cell_type": "code",
      "source": [],
      "metadata": {
        "id": "3LRyzuiL3_3H"
      },
      "execution_count": null,
      "outputs": []
    }
  ]
}