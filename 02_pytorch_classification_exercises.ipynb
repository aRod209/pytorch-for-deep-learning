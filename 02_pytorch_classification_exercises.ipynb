{
  "nbformat": 4,
  "nbformat_minor": 0,
  "metadata": {
    "colab": {
      "name": "02_pytorch_classification_exercises.ipynb",
      "provenance": [],
      "toc_visible": true,
      "include_colab_link": true
    },
    "kernelspec": {
      "name": "python3",
      "display_name": "Python 3"
    },
    "language_info": {
      "name": "python"
    },
    "accelerator": "GPU"
  },
  "cells": [
    {
      "cell_type": "markdown",
      "metadata": {
        "id": "view-in-github",
        "colab_type": "text"
      },
      "source": [
        "<a href=\"https://colab.research.google.com/github/aRod209/pytorch-for-deep-learning/blob/main/02_pytorch_classification_exercises.ipynb\" target=\"_parent\"><img src=\"https://colab.research.google.com/assets/colab-badge.svg\" alt=\"Open In Colab\"/></a>"
      ]
    },
    {
      "cell_type": "markdown",
      "source": [
        "# 02. PyTorch Classification Exercises\n",
        "\n",
        "The following is a template for 02. PyTorch Classification exercises.\n",
        "\n",
        "It's only starter code and it's your job to fill in the blanks.\n",
        "\n",
        "Because of the flexibility of PyTorch, there may be more than one way to answer the question.\n",
        "\n",
        "Don't worry about trying to be *right* just try writing code that suffices the question.\n",
        "\n",
        "## Resources\n",
        "* These exercises are based on [notebook 02 of the learn PyTorch course](https://www.learnpytorch.io/02_pytorch_classification/).\n",
        "* You can see one form of [solutions on GitHub](https://github.com/mrdbourke/pytorch-deep-learning/tree/main/extras/solutions) (but try the exercises below yourself first!)."
      ],
      "metadata": {
        "id": "ZKJFt7YxH8yl"
      }
    },
    {
      "cell_type": "code",
      "source": [
        "# Import torch\n",
        "import torch\n",
        "\n",
        "# Setup device agnostic code\n",
        "device = 'cuda' if torch.cuda.is_available() else 'cpu'\n",
        "\n",
        "# Setup random seed\n",
        "RANDOM_SEED = 42"
      ],
      "metadata": {
        "id": "CSrUPgapO0tf"
      },
      "execution_count": 246,
      "outputs": []
    },
    {
      "cell_type": "markdown",
      "source": [
        "## 1. Make a binary classification dataset with Scikit-Learn's [`make_moons()`](https://scikit-learn.org/stable/modules/generated/sklearn.datasets.make_moons.html) function.\n",
        "  * For consistency, the dataset should have 1000 samples and a `random_state=42`.\n",
        "  * Turn the data into PyTorch tensors.\n",
        "  * Split the data into training and test sets using `train_test_split` with 80% training and 20% testing."
      ],
      "metadata": {
        "id": "pH7jIZ2SPFee"
      }
    },
    {
      "cell_type": "code",
      "source": [
        "# Create a dataset with Scikit-Learn's make_moons()\n",
        "from sklearn.datasets import make_moons\n",
        "\n",
        "X, y = make_moons(n_samples=1000,\n",
        "                  random_state=RANDOM_SEED)"
      ],
      "metadata": {
        "id": "5t4VhPV1PX1X"
      },
      "execution_count": 247,
      "outputs": []
    },
    {
      "cell_type": "code",
      "source": [
        "print(f'First 5 examples of X:\\n\\n{X[:5]}\\n')\n",
        "print(f'First 5 examples of y:\\n\\n{y[:5]}')"
      ],
      "metadata": {
        "colab": {
          "base_uri": "https://localhost:8080/"
        },
        "id": "JGje-dP2Zius",
        "outputId": "17095bfe-0c9c-4a0d-f8d1-d3b012d6fbf8"
      },
      "execution_count": 248,
      "outputs": [
        {
          "output_type": "stream",
          "name": "stdout",
          "text": [
            "First 5 examples of X:\n",
            "\n",
            "[[ 0.00872719  0.36817352]\n",
            " [ 0.921384   -0.49690497]\n",
            " [ 0.94022577 -0.49821192]\n",
            " [ 0.46587532 -0.34540571]\n",
            " [-0.85041204  0.52611726]]\n",
            "\n",
            "First 5 examples of y:\n",
            "\n",
            "[1 1 1 1 0]\n"
          ]
        }
      ]
    },
    {
      "cell_type": "code",
      "source": [
        "print(f'Length of X: {len(X)}; length of y: {len(y)}')"
      ],
      "metadata": {
        "colab": {
          "base_uri": "https://localhost:8080/"
        },
        "id": "C1KQGcV8ZbOI",
        "outputId": "18280736-8144-42b0-a8d0-3a605e69fc27"
      },
      "execution_count": 249,
      "outputs": [
        {
          "output_type": "stream",
          "name": "stdout",
          "text": [
            "Length of X: 1000; length of y: 1000\n"
          ]
        }
      ]
    },
    {
      "cell_type": "code",
      "source": [
        "# Turn data into a DataFrame\n",
        "import pandas as pd\n",
        "\n",
        "df = pd.DataFrame({'X1': X[:, 0],\n",
        "                   'X2': X[:, 1],\n",
        "                   'label': y})\n",
        "df.head()"
      ],
      "metadata": {
        "id": "SUeHZ3-3P9C7",
        "colab": {
          "base_uri": "https://localhost:8080/",
          "height": 206
        },
        "outputId": "11532fa0-e711-4c30-acfa-7434d4319d95"
      },
      "execution_count": 250,
      "outputs": [
        {
          "output_type": "execute_result",
          "data": {
            "text/plain": [
              "         X1        X2  label\n",
              "0  0.008727  0.368174      1\n",
              "1  0.921384 -0.496905      1\n",
              "2  0.940226 -0.498212      1\n",
              "3  0.465875 -0.345406      1\n",
              "4 -0.850412  0.526117      0"
            ],
            "text/html": [
              "\n",
              "  <div id=\"df-d67b50d0-2c6e-4623-b0c5-6409347767b0\" class=\"colab-df-container\">\n",
              "    <div>\n",
              "<style scoped>\n",
              "    .dataframe tbody tr th:only-of-type {\n",
              "        vertical-align: middle;\n",
              "    }\n",
              "\n",
              "    .dataframe tbody tr th {\n",
              "        vertical-align: top;\n",
              "    }\n",
              "\n",
              "    .dataframe thead th {\n",
              "        text-align: right;\n",
              "    }\n",
              "</style>\n",
              "<table border=\"1\" class=\"dataframe\">\n",
              "  <thead>\n",
              "    <tr style=\"text-align: right;\">\n",
              "      <th></th>\n",
              "      <th>X1</th>\n",
              "      <th>X2</th>\n",
              "      <th>label</th>\n",
              "    </tr>\n",
              "  </thead>\n",
              "  <tbody>\n",
              "    <tr>\n",
              "      <th>0</th>\n",
              "      <td>0.008727</td>\n",
              "      <td>0.368174</td>\n",
              "      <td>1</td>\n",
              "    </tr>\n",
              "    <tr>\n",
              "      <th>1</th>\n",
              "      <td>0.921384</td>\n",
              "      <td>-0.496905</td>\n",
              "      <td>1</td>\n",
              "    </tr>\n",
              "    <tr>\n",
              "      <th>2</th>\n",
              "      <td>0.940226</td>\n",
              "      <td>-0.498212</td>\n",
              "      <td>1</td>\n",
              "    </tr>\n",
              "    <tr>\n",
              "      <th>3</th>\n",
              "      <td>0.465875</td>\n",
              "      <td>-0.345406</td>\n",
              "      <td>1</td>\n",
              "    </tr>\n",
              "    <tr>\n",
              "      <th>4</th>\n",
              "      <td>-0.850412</td>\n",
              "      <td>0.526117</td>\n",
              "      <td>0</td>\n",
              "    </tr>\n",
              "  </tbody>\n",
              "</table>\n",
              "</div>\n",
              "    <div class=\"colab-df-buttons\">\n",
              "\n",
              "  <div class=\"colab-df-container\">\n",
              "    <button class=\"colab-df-convert\" onclick=\"convertToInteractive('df-d67b50d0-2c6e-4623-b0c5-6409347767b0')\"\n",
              "            title=\"Convert this dataframe to an interactive table.\"\n",
              "            style=\"display:none;\">\n",
              "\n",
              "  <svg xmlns=\"http://www.w3.org/2000/svg\" height=\"24px\" viewBox=\"0 -960 960 960\">\n",
              "    <path d=\"M120-120v-720h720v720H120Zm60-500h600v-160H180v160Zm220 220h160v-160H400v160Zm0 220h160v-160H400v160ZM180-400h160v-160H180v160Zm440 0h160v-160H620v160ZM180-180h160v-160H180v160Zm440 0h160v-160H620v160Z\"/>\n",
              "  </svg>\n",
              "    </button>\n",
              "\n",
              "  <style>\n",
              "    .colab-df-container {\n",
              "      display:flex;\n",
              "      gap: 12px;\n",
              "    }\n",
              "\n",
              "    .colab-df-convert {\n",
              "      background-color: #E8F0FE;\n",
              "      border: none;\n",
              "      border-radius: 50%;\n",
              "      cursor: pointer;\n",
              "      display: none;\n",
              "      fill: #1967D2;\n",
              "      height: 32px;\n",
              "      padding: 0 0 0 0;\n",
              "      width: 32px;\n",
              "    }\n",
              "\n",
              "    .colab-df-convert:hover {\n",
              "      background-color: #E2EBFA;\n",
              "      box-shadow: 0px 1px 2px rgba(60, 64, 67, 0.3), 0px 1px 3px 1px rgba(60, 64, 67, 0.15);\n",
              "      fill: #174EA6;\n",
              "    }\n",
              "\n",
              "    .colab-df-buttons div {\n",
              "      margin-bottom: 4px;\n",
              "    }\n",
              "\n",
              "    [theme=dark] .colab-df-convert {\n",
              "      background-color: #3B4455;\n",
              "      fill: #D2E3FC;\n",
              "    }\n",
              "\n",
              "    [theme=dark] .colab-df-convert:hover {\n",
              "      background-color: #434B5C;\n",
              "      box-shadow: 0px 1px 3px 1px rgba(0, 0, 0, 0.15);\n",
              "      filter: drop-shadow(0px 1px 2px rgba(0, 0, 0, 0.3));\n",
              "      fill: #FFFFFF;\n",
              "    }\n",
              "  </style>\n",
              "\n",
              "    <script>\n",
              "      const buttonEl =\n",
              "        document.querySelector('#df-d67b50d0-2c6e-4623-b0c5-6409347767b0 button.colab-df-convert');\n",
              "      buttonEl.style.display =\n",
              "        google.colab.kernel.accessAllowed ? 'block' : 'none';\n",
              "\n",
              "      async function convertToInteractive(key) {\n",
              "        const element = document.querySelector('#df-d67b50d0-2c6e-4623-b0c5-6409347767b0');\n",
              "        const dataTable =\n",
              "          await google.colab.kernel.invokeFunction('convertToInteractive',\n",
              "                                                    [key], {});\n",
              "        if (!dataTable) return;\n",
              "\n",
              "        const docLinkHtml = 'Like what you see? Visit the ' +\n",
              "          '<a target=\"_blank\" href=https://colab.research.google.com/notebooks/data_table.ipynb>data table notebook</a>'\n",
              "          + ' to learn more about interactive tables.';\n",
              "        element.innerHTML = '';\n",
              "        dataTable['output_type'] = 'display_data';\n",
              "        await google.colab.output.renderOutput(dataTable, element);\n",
              "        const docLink = document.createElement('div');\n",
              "        docLink.innerHTML = docLinkHtml;\n",
              "        element.appendChild(docLink);\n",
              "      }\n",
              "    </script>\n",
              "  </div>\n",
              "\n",
              "\n",
              "<div id=\"df-b2327b3e-b3fc-4b2c-8a54-63c4adf1491d\">\n",
              "  <button class=\"colab-df-quickchart\" onclick=\"quickchart('df-b2327b3e-b3fc-4b2c-8a54-63c4adf1491d')\"\n",
              "            title=\"Suggest charts.\"\n",
              "            style=\"display:none;\">\n",
              "\n",
              "<svg xmlns=\"http://www.w3.org/2000/svg\" height=\"24px\"viewBox=\"0 0 24 24\"\n",
              "     width=\"24px\">\n",
              "    <g>\n",
              "        <path d=\"M19 3H5c-1.1 0-2 .9-2 2v14c0 1.1.9 2 2 2h14c1.1 0 2-.9 2-2V5c0-1.1-.9-2-2-2zM9 17H7v-7h2v7zm4 0h-2V7h2v10zm4 0h-2v-4h2v4z\"/>\n",
              "    </g>\n",
              "</svg>\n",
              "  </button>\n",
              "\n",
              "<style>\n",
              "  .colab-df-quickchart {\n",
              "      --bg-color: #E8F0FE;\n",
              "      --fill-color: #1967D2;\n",
              "      --hover-bg-color: #E2EBFA;\n",
              "      --hover-fill-color: #174EA6;\n",
              "      --disabled-fill-color: #AAA;\n",
              "      --disabled-bg-color: #DDD;\n",
              "  }\n",
              "\n",
              "  [theme=dark] .colab-df-quickchart {\n",
              "      --bg-color: #3B4455;\n",
              "      --fill-color: #D2E3FC;\n",
              "      --hover-bg-color: #434B5C;\n",
              "      --hover-fill-color: #FFFFFF;\n",
              "      --disabled-bg-color: #3B4455;\n",
              "      --disabled-fill-color: #666;\n",
              "  }\n",
              "\n",
              "  .colab-df-quickchart {\n",
              "    background-color: var(--bg-color);\n",
              "    border: none;\n",
              "    border-radius: 50%;\n",
              "    cursor: pointer;\n",
              "    display: none;\n",
              "    fill: var(--fill-color);\n",
              "    height: 32px;\n",
              "    padding: 0;\n",
              "    width: 32px;\n",
              "  }\n",
              "\n",
              "  .colab-df-quickchart:hover {\n",
              "    background-color: var(--hover-bg-color);\n",
              "    box-shadow: 0 1px 2px rgba(60, 64, 67, 0.3), 0 1px 3px 1px rgba(60, 64, 67, 0.15);\n",
              "    fill: var(--button-hover-fill-color);\n",
              "  }\n",
              "\n",
              "  .colab-df-quickchart-complete:disabled,\n",
              "  .colab-df-quickchart-complete:disabled:hover {\n",
              "    background-color: var(--disabled-bg-color);\n",
              "    fill: var(--disabled-fill-color);\n",
              "    box-shadow: none;\n",
              "  }\n",
              "\n",
              "  .colab-df-spinner {\n",
              "    border: 2px solid var(--fill-color);\n",
              "    border-color: transparent;\n",
              "    border-bottom-color: var(--fill-color);\n",
              "    animation:\n",
              "      spin 1s steps(1) infinite;\n",
              "  }\n",
              "\n",
              "  @keyframes spin {\n",
              "    0% {\n",
              "      border-color: transparent;\n",
              "      border-bottom-color: var(--fill-color);\n",
              "      border-left-color: var(--fill-color);\n",
              "    }\n",
              "    20% {\n",
              "      border-color: transparent;\n",
              "      border-left-color: var(--fill-color);\n",
              "      border-top-color: var(--fill-color);\n",
              "    }\n",
              "    30% {\n",
              "      border-color: transparent;\n",
              "      border-left-color: var(--fill-color);\n",
              "      border-top-color: var(--fill-color);\n",
              "      border-right-color: var(--fill-color);\n",
              "    }\n",
              "    40% {\n",
              "      border-color: transparent;\n",
              "      border-right-color: var(--fill-color);\n",
              "      border-top-color: var(--fill-color);\n",
              "    }\n",
              "    60% {\n",
              "      border-color: transparent;\n",
              "      border-right-color: var(--fill-color);\n",
              "    }\n",
              "    80% {\n",
              "      border-color: transparent;\n",
              "      border-right-color: var(--fill-color);\n",
              "      border-bottom-color: var(--fill-color);\n",
              "    }\n",
              "    90% {\n",
              "      border-color: transparent;\n",
              "      border-bottom-color: var(--fill-color);\n",
              "    }\n",
              "  }\n",
              "</style>\n",
              "\n",
              "  <script>\n",
              "    async function quickchart(key) {\n",
              "      const quickchartButtonEl =\n",
              "        document.querySelector('#' + key + ' button');\n",
              "      quickchartButtonEl.disabled = true;  // To prevent multiple clicks.\n",
              "      quickchartButtonEl.classList.add('colab-df-spinner');\n",
              "      try {\n",
              "        const charts = await google.colab.kernel.invokeFunction(\n",
              "            'suggestCharts', [key], {});\n",
              "      } catch (error) {\n",
              "        console.error('Error during call to suggestCharts:', error);\n",
              "      }\n",
              "      quickchartButtonEl.classList.remove('colab-df-spinner');\n",
              "      quickchartButtonEl.classList.add('colab-df-quickchart-complete');\n",
              "    }\n",
              "    (() => {\n",
              "      let quickchartButtonEl =\n",
              "        document.querySelector('#df-b2327b3e-b3fc-4b2c-8a54-63c4adf1491d button');\n",
              "      quickchartButtonEl.style.display =\n",
              "        google.colab.kernel.accessAllowed ? 'block' : 'none';\n",
              "    })();\n",
              "  </script>\n",
              "</div>\n",
              "    </div>\n",
              "  </div>\n"
            ]
          },
          "metadata": {},
          "execution_count": 250
        }
      ]
    },
    {
      "cell_type": "code",
      "source": [
        "df['X1']"
      ],
      "metadata": {
        "colab": {
          "base_uri": "https://localhost:8080/"
        },
        "id": "kUwRFhVJbVzc",
        "outputId": "aae0a9b1-b0fe-4c27-80c0-17c54bb0f85b"
      },
      "execution_count": 251,
      "outputs": [
        {
          "output_type": "execute_result",
          "data": {
            "text/plain": [
              "0      0.008727\n",
              "1      0.921384\n",
              "2      0.940226\n",
              "3      0.465875\n",
              "4     -0.850412\n",
              "         ...   \n",
              "995    0.785463\n",
              "996   -0.128705\n",
              "997    1.640910\n",
              "998   -0.919916\n",
              "999    0.800798\n",
              "Name: X1, Length: 1000, dtype: float64"
            ]
          },
          "metadata": {},
          "execution_count": 251
        }
      ]
    },
    {
      "cell_type": "code",
      "source": [
        "# Visualize the data on a scatter plot\n",
        "import matplotlib.pyplot as plt\n",
        "\n",
        "plt.scatter(x=df['X1'],\n",
        "            y=df['X2'],\n",
        "            c=df['label'],\n",
        "            cmap=plt.cm.bwr)"
      ],
      "metadata": {
        "id": "owrkPSFvQPFI",
        "colab": {
          "base_uri": "https://localhost:8080/",
          "height": 447
        },
        "outputId": "155a536f-53a3-4d60-9aad-0ea50a5f0405"
      },
      "execution_count": 252,
      "outputs": [
        {
          "output_type": "execute_result",
          "data": {
            "text/plain": [
              "<matplotlib.collections.PathCollection at 0x7c2634f31bd0>"
            ]
          },
          "metadata": {},
          "execution_count": 252
        },
        {
          "output_type": "display_data",
          "data": {
            "text/plain": [
              "<Figure size 640x480 with 1 Axes>"
            ],
            "image/png": "[encoded data removed]"
          },
          "metadata": {}
        }
      ]
    },
    {
      "cell_type": "code",
      "source": [
        "# Turn data into tensors of dtype float\n",
        "X = torch.from_numpy(X).type(torch.float)\n",
        "y = torch.from_numpy(y).type(torch.float)\n",
        "\n",
        "# Split the data into train and test sets (80% train, 20% test)\n",
        "from sklearn.model_selection import train_test_split\n",
        "\n",
        "TEST_SIZE = 0.2\n",
        "X_train, X_test, y_train, y_test = train_test_split(X,\n",
        "                                                    y,\n",
        "                                                    test_size=TEST_SIZE,\n",
        "                                                    random_state=RANDOM_SEED)"
      ],
      "metadata": {
        "id": "bDhyHn9fR4dq"
      },
      "execution_count": 253,
      "outputs": []
    },
    {
      "cell_type": "markdown",
      "source": [
        "## 2. Build a model by subclassing `nn.Module` that incorporates non-linear activation functions and is capable of fitting the data you created in 1.\n",
        "  * Feel free to use any combination of PyTorch layers (linear and non-linear) you want."
      ],
      "metadata": {
        "id": "cMIjxZdzQfPz"
      }
    },
    {
      "cell_type": "code",
      "source": [
        "import torch\n",
        "from torch import nn\n",
        "\n",
        "# Inherit from nn.Module to make a model capable of fitting the mooon data\n",
        "class MoonModelV0(nn.Module):\n",
        "    ## Your code here ##\n",
        "    def __init__(self):\n",
        "      super().__init__()\n",
        "      self.linear_layer_stack = nn.Sequential(\n",
        "          nn.Linear(in_features=2, out_features=10),\n",
        "          nn.ReLU(),\n",
        "          nn.Linear(in_features=10, out_features=10),\n",
        "          nn.ReLU(),\n",
        "          nn.Linear(in_features=10, out_features=5),\n",
        "          nn.ReLU(),\n",
        "          nn.Linear(in_features=5, out_features=1)\n",
        "          )\n",
        "\n",
        "    def forward(self, x):\n",
        "        ## Your code here ##\n",
        "        return self.linear_layer_stack(x)\n",
        "\n",
        "# Instantiate the model\n",
        "## Your code here ##\n",
        "model_0 = MoonModelV0().to(device)"
      ],
      "metadata": {
        "id": "hwtyvm34Ri6Q"
      },
      "execution_count": 254,
      "outputs": []
    },
    {
      "cell_type": "markdown",
      "source": [
        "## 3. Setup a binary classification compatible loss function and optimizer to use when training the model built in 2."
      ],
      "metadata": {
        "id": "DSj97RwyVeFE"
      }
    },
    {
      "cell_type": "code",
      "source": [
        "# Setup loss function\n",
        "loss_fn = nn.BCEWithLogitsLoss()\n",
        "# Setup optimizer to optimize model's parameters\n",
        "optimizer = torch.optim.SGD(params=model_0.parameters(),\n",
        "                            lr=0.1)"
      ],
      "metadata": {
        "id": "whSGw5qgVvxU"
      },
      "execution_count": 255,
      "outputs": []
    },
    {
      "cell_type": "markdown",
      "source": [
        "## 4. Create a training and testing loop to fit the model you created in 2 to the data you created in 1.\n",
        "  * Do a forward pass of the model to see what's coming out in the form of logits, prediction probabilities and labels.\n",
        "  * To measure model accuray, you can create your own accuracy function or use the accuracy function in [TorchMetrics](https://torchmetrics.readthedocs.io/en/latest/).\n",
        "  * Train the model for long enough for it to reach over 96% accuracy.\n",
        "  * The training loop should output progress every 10 epochs of the model's training and test set loss and accuracy."
      ],
      "metadata": {
        "id": "nvk4PfNTWUAt"
      }
    },
    {
      "cell_type": "code",
      "source": [
        "# What's coming out of our model?\n",
        "\n",
        "# logits (raw outputs of model)\n",
        "print(\"Logits:\")\n",
        "## Your code here ##\n",
        "model_0.eval()\n",
        "with torch.inference_mode():\n",
        "  logits = model(X_train.to(device))\n",
        "\n",
        "print(f'{logits[:5]}\\n')\n",
        "\n",
        "# Prediction probabilities\n",
        "print(\"Pred probs:\")\n",
        "## Your code here ##\n",
        "probs = torch.sigmoid(logits)\n",
        "print(f'{probs[:5]}\\n')\n",
        "\n",
        "# Prediction labels\n",
        "print(\"Pred labels:\")\n",
        "## Your code here ##\n",
        "preds = torch.round(probs)\n",
        "print(preds[:5])"
      ],
      "metadata": {
        "colab": {
          "base_uri": "https://localhost:8080/"
        },
        "id": "AgnFdlamd2-D",
        "outputId": "ad1f010f-f272-4935-f50b-6174cb819754"
      },
      "execution_count": 256,
      "outputs": [
        {
          "output_type": "stream",
          "name": "stdout",
          "text": [
            "Logits:\n",
            "tensor([[-0.1205],\n",
            "        [-0.1343],\n",
            "        [-0.1394],\n",
            "        [-0.1394],\n",
            "        [-0.1137]], device='cuda:0')\n",
            "\n",
            "Pred probs:\n",
            "tensor([[0.4699],\n",
            "        [0.4665],\n",
            "        [0.4652],\n",
            "        [0.4652],\n",
            "        [0.4716]], device='cuda:0')\n",
            "\n",
            "Pred labels:\n",
            "tensor([[0.],\n",
            "        [0.],\n",
            "        [0.],\n",
            "        [0.],\n",
            "        [0.]], device='cuda:0')\n"
          ]
        }
      ]
    },
    {
      "cell_type": "code",
      "source": [
        "# Let's calculuate the accuracy using accuracy from TorchMetrics\n",
        "!pip -q install torchmetrics # Colab doesn't come with torchmetrics\n",
        "from torchmetrics import Accuracy\n",
        "\n",
        "## TODO: Uncomment this code to use the Accuracy function\n",
        "acc_fn = Accuracy(task=\"multiclass\", num_classes=2).to(device) # send accuracy function to device\n",
        "acc_fn"
      ],
      "metadata": {
        "id": "rUSDNHB4euoJ",
        "colab": {
          "base_uri": "https://localhost:8080/"
        },
        "outputId": "7d8da5ba-3e2d-4aa4-8d82-163a06c5bc2c"
      },
      "execution_count": 257,
      "outputs": [
        {
          "output_type": "execute_result",
          "data": {
            "text/plain": [
              "MulticlassAccuracy()"
            ]
          },
          "metadata": {},
          "execution_count": 257
        }
      ]
    },
    {
      "cell_type": "code",
      "source": [
        "y_logits.size(), y_train.size()"
      ],
      "metadata": {
        "colab": {
          "base_uri": "https://localhost:8080/"
        },
        "id": "n3sbhWKDcUn2",
        "outputId": "530d0ee1-22eb-4972-f7b3-60f300730f26"
      },
      "execution_count": 258,
      "outputs": [
        {
          "output_type": "execute_result",
          "data": {
            "text/plain": [
              "(torch.Size([800]), torch.Size([800]))"
            ]
          },
          "metadata": {},
          "execution_count": 258
        }
      ]
    },
    {
      "cell_type": "code",
      "source": [
        "## TODO: Uncomment this to set the seed\n",
        "torch.manual_seed(RANDOM_SEED)\n",
        "\n",
        "# Setup epochs\n",
        "epochs = 1000\n",
        "\n",
        "# Send data to the device\n",
        "X_train, y_train = X_train.to(device), y_train.to(device)\n",
        "X_test, y_test = X_test.to(device), y_test.to(device)\n",
        "\n",
        "# Loop through the data\n",
        "for epoch in range(epochs):\n",
        "  ### Training\n",
        "  model_0.train()\n",
        "\n",
        "  # 1. Forward pass (logits output)\n",
        "  y_logits = model_0(X_train).squeeze()\n",
        "\n",
        "  # Turn logits into prediction probabilities\n",
        "  y_probs = torch.sigmoid(y_logits)\n",
        "\n",
        "  # Turn prediction probabilities into prediction labels\n",
        "  y_pred = torch.round(y_probs)\n",
        "\n",
        "  # 2. Calculaute the loss\n",
        "  loss = loss_fn(y_logits, y_train) # loss = compare model raw outputs to desired model outputs\n",
        "\n",
        "  # Calculate the accuracy\n",
        "  acc = acc_fn(y_pred, y_train.int()) # the accuracy function needs to compare pred labels (not logits) with actual labels\n",
        "\n",
        "  # 3. Zero the gradients\n",
        "  optimizer.zero_grad()\n",
        "\n",
        "  # 4. Loss backward (perform backpropagation) - https://brilliant.org/wiki/backpropagation/#:~:text=Backpropagation%2C%20short%20for%20%22backward%20propagation,to%20the%20neural%20network's%20weights.\n",
        "  loss.backward()\n",
        "\n",
        "  # 5. Step the optimizer (gradient descent) - https://towardsdatascience.com/gradient-descent-algorithm-a-deep-dive-cf04e8115f21#:~:text=Gradient%20descent%20(GD)%20is%20an,e.g.%20in%20a%20linear%20regression)\n",
        "  optimizer.step()\n",
        "\n",
        "  ### Testing\n",
        "  model_0.eval()\n",
        "  with torch.inference_mode():\n",
        "    # 1. Forward pass (to get the logits)\n",
        "    y_test_logits = model_0(X_test).squeeze()\n",
        "\n",
        "    # Turn the test logits into prediction labels\n",
        "    y_test_probs = torch.sigmoid(y_test_logits)\n",
        "    y_test_pred = torch.round(y_test_probs)\n",
        "\n",
        "    # 2. Caculate the test loss/acc\n",
        "    test_loss = loss_fn(y_test_logits, y_test)\n",
        "    test_acc = acc_fn(y_test_pred, y_test.int())\n",
        "\n",
        "  # Print out what's happening every 100 epochs\n",
        "  if epoch % 100 == 0:\n",
        "    print(f'Epoch: {epoch} | Loss: {loss:.5f} | Accuracy: {acc:.2f}% | Test Loss: {test_loss:.5f} | Test Accuracy: {test_acc:.2f}%')"
      ],
      "metadata": {
        "id": "SHBY3h7XXnxt",
        "colab": {
          "base_uri": "https://localhost:8080/"
        },
        "outputId": "92470c23-cdb6-4871-e11e-ed46bf904a26"
      },
      "execution_count": 259,
      "outputs": [
        {
          "output_type": "stream",
          "name": "stdout",
          "text": [
            "Epoch: 0 | Loss: 0.71287 | Accuracy: 0.50% | Test Loss: 0.71172 | Test Accuracy: 0.50%\n",
            "Epoch: 100 | Loss: 0.68942 | Accuracy: 0.61% | Test Loss: 0.68990 | Test Accuracy: 0.57%\n",
            "Epoch: 200 | Loss: 0.61902 | Accuracy: 0.76% | Test Loss: 0.62488 | Test Accuracy: 0.75%\n",
            "Epoch: 300 | Loss: 0.38257 | Accuracy: 0.85% | Test Loss: 0.39462 | Test Accuracy: 0.84%\n",
            "Epoch: 400 | Loss: 0.26783 | Accuracy: 0.89% | Test Loss: 0.26824 | Test Accuracy: 0.90%\n",
            "Epoch: 500 | Loss: 0.22188 | Accuracy: 0.91% | Test Loss: 0.21748 | Test Accuracy: 0.92%\n",
            "Epoch: 600 | Loss: 0.14415 | Accuracy: 0.96% | Test Loss: 0.13901 | Test Accuracy: 0.96%\n",
            "Epoch: 700 | Loss: 0.06830 | Accuracy: 1.00% | Test Loss: 0.06650 | Test Accuracy: 1.00%\n",
            "Epoch: 800 | Loss: 0.04144 | Accuracy: 1.00% | Test Loss: 0.04014 | Test Accuracy: 1.00%\n",
            "Epoch: 900 | Loss: 0.03021 | Accuracy: 1.00% | Test Loss: 0.02920 | Test Accuracy: 1.00%\n"
          ]
        }
      ]
    },
    {
      "cell_type": "markdown",
      "source": [
        "## 5. Make predictions with your trained model and plot them using the `plot_decision_boundary()` function created in this notebook."
      ],
      "metadata": {
        "id": "8Nwihtomj9JO"
      }
    },
    {
      "cell_type": "code",
      "source": [
        "# Plot the model predictions\n",
        "import numpy as np\n",
        "\n",
        "def plot_decision_boundary(model, X, y):\n",
        "\n",
        "    # Put everything to CPU (works better with NumPy + Matplotlib)\n",
        "    model.to(\"cpu\")\n",
        "    X, y = X.to(\"cpu\"), y.to(\"cpu\")\n",
        "\n",
        "    # Source - https://madewithml.com/courses/foundations/neural-networks/\n",
        "    # (with modifications)\n",
        "    x_min, x_max = X[:, 0].min() - 0.1, X[:, 0].max() + 0.1\n",
        "    y_min, y_max = X[:, 1].min() - 0.1, X[:, 1].max() + 0.1\n",
        "    xx, yy = np.meshgrid(np.linspace(x_min, x_max, 101),\n",
        "                         np.linspace(y_min, y_max, 101))\n",
        "\n",
        "    # Make features\n",
        "    X_to_pred_on = torch.from_numpy(np.column_stack((xx.ravel(), yy.ravel()))).float()\n",
        "\n",
        "    # Make predictions\n",
        "    model.eval()\n",
        "    with torch.inference_mode():\n",
        "        y_logits = model(X_to_pred_on)\n",
        "\n",
        "    # Test for multi-class or binary and adjust logits to prediction labels\n",
        "    if len(torch.unique(y)) > 2:\n",
        "        y_pred = torch.softmax(y_logits, dim=1).argmax(dim=1) # mutli-class\n",
        "    else:\n",
        "        y_pred = torch.round(torch.sigmoid(y_logits)) # binary\n",
        "\n",
        "    # Reshape preds and plot\n",
        "    y_pred = y_pred.reshape(xx.shape).detach().numpy()\n",
        "    plt.contourf(xx, yy, y_pred, cmap=plt.cm.RdYlBu, alpha=0.7)\n",
        "    plt.scatter(X[:, 0], X[:, 1], c=y, s=40, cmap=plt.cm.RdYlBu)\n",
        "    plt.xlim(xx.min(), xx.max())\n",
        "    plt.ylim(yy.min(), yy.max())"
      ],
      "metadata": {
        "id": "0YRzatb8a1P2"
      },
      "execution_count": 260,
      "outputs": []
    },
    {
      "cell_type": "code",
      "source": [
        "# Plot decision boundaries for training and test sets\n",
        "plot_decision_boundary(model_0, X_test, y_test)"
      ],
      "metadata": {
        "id": "PMrcpyirig1d",
        "colab": {
          "base_uri": "https://localhost:8080/",
          "height": 430
        },
        "outputId": "e0438d47-f45f-42e6-8bab-06c897e7803a"
      },
      "execution_count": 261,
      "outputs": [
        {
          "output_type": "display_data",
          "data": {
            "text/plain": [
              "<Figure size 640x480 with 1 Axes>"
            ],
            "image/png": "[encoded data removed]"
          },
          "metadata": {}
        }
      ]
    },
    {
      "cell_type": "markdown",
      "source": [
        "## 6. Replicate the Tanh (hyperbolic tangent) activation function in pure PyTorch.\n",
        "  * Feel free to reference the [ML cheatsheet website](https://ml-cheatsheet.readthedocs.io/en/latest/activation_functions.html#tanh) for the formula."
      ],
      "metadata": {
        "id": "EtMYBvtciiAU"
      }
    },
    {
      "cell_type": "code",
      "source": [
        "# Create a straight line tensor\n",
        "line = torch.arange(-2, 2, 0.1)"
      ],
      "metadata": {
        "id": "BlXaWC5TkEUE"
      },
      "execution_count": 262,
      "outputs": []
    },
    {
      "cell_type": "code",
      "source": [
        "# Test torch.tanh() on the tensor and plot it\n",
        "tanh = torch.tanh(line)\n",
        "fig, ax = plt.subplots()\n",
        "ax.grid()\n",
        "plt.axhline(0, color='black', linewidth=.5)\n",
        "plt.axvline(0, color='black', linewidth=.5)\n",
        "plt.plot(line, tanh)\n",
        "plt.show()"
      ],
      "metadata": {
        "id": "vZPCcQmIkZjO",
        "colab": {
          "base_uri": "https://localhost:8080/",
          "height": 430
        },
        "outputId": "5f7f4a71-ad09-4ed4-9150-caaea81b3c2b"
      },
      "execution_count": 263,
      "outputs": [
        {
          "output_type": "display_data",
          "data": {
            "text/plain": [
              "<Figure size 640x480 with 1 Axes>"
            ],
            "image/png": "[encoded data removed]"
          },
          "metadata": {}
        }
      ]
    },
    {
      "cell_type": "code",
      "source": [
        "# Replicate torch.tanh() and plot it\n",
        "def tanh(x : torch.tensor) -> torch.tensor:\n",
        "  return (torch.exp(x) - torch.exp(-x)) / (torch.exp(x) + torch.exp(-x))\n",
        "\n",
        "fig, ax = plt.subplots()\n",
        "ax.grid()\n",
        "plt.axhline(0, color='black', linewidth=.5)\n",
        "plt.axvline(0, color='black', linewidth=.5)\n",
        "plt.plot(line, tanh(line))\n",
        "plt.show()"
      ],
      "metadata": {
        "id": "J-ne__Kjkdc1",
        "colab": {
          "base_uri": "https://localhost:8080/",
          "height": 430
        },
        "outputId": "247338bb-5ed6-461a-acaa-cee546e06f67"
      },
      "execution_count": 264,
      "outputs": [
        {
          "output_type": "display_data",
          "data": {
            "text/plain": [
              "<Figure size 640x480 with 1 Axes>"
            ],
            "image/png": "[encoded data removed]"
          },
          "metadata": {}
        }
      ]
    },
    {
      "cell_type": "markdown",
      "source": [
        "## 7. Create a multi-class dataset using the [spirals data creation function from CS231n](https://cs231n.github.io/neural-networks-case-study/) (see below for the code).\n",
        "  * Split the data into training and test sets (80% train, 20% test) as well as turn it into PyTorch tensors.\n",
        "  * Construct a model capable of fitting the data (you may need a combination of linear and non-linear layers).\n",
        "  * Build a loss function and optimizer capable of handling multi-class data (optional extension: use the Adam optimizer instead of SGD, you may have to experiment with different values of the learning rate to get it working).\n",
        "  * Make a training and testing loop for the multi-class data and train a model on it to reach over 95% testing accuracy (you can use any accuracy measuring function here that you like) - 1000 epochs should be plenty.\n",
        "  * Plot the decision boundaries on the spirals dataset from your model predictions, the `plot_decision_boundary()` function should work for this dataset too."
      ],
      "metadata": {
        "id": "Lbt1bNcWk5G9"
      }
    },
    {
      "cell_type": "code",
      "source": [
        "# Code for creating a spiral dataset from CS231n\n",
        "import numpy as np\n",
        "import matplotlib.pyplot as plt\n",
        "RANDOM_SEED = 42\n",
        "np.random.seed(RANDOM_SEED)\n",
        "N = 100 # number of points per class\n",
        "D = 2 # dimensionality\n",
        "K = 3 # number of classes\n",
        "X = np.zeros((N*K,D)) # data matrix (each row = single example)\n",
        "y = np.zeros(N*K, dtype='uint8') # class labels\n",
        "for j in range(K):\n",
        "  ix = range(N*j,N*(j+1))\n",
        "  r = np.linspace(0.0,1,N) # radius\n",
        "  t = np.linspace(j*4,(j+1)*4,N) + np.random.randn(N)*0.2 # theta\n",
        "  X[ix] = np.c_[r*np.sin(t), r*np.cos(t)]\n",
        "  y[ix] = j\n",
        "# lets visualize the data\n",
        "plt.scatter(X[:, 0], X[:, 1], c=y, s=40, cmap=plt.cm.RdYlBu)\n",
        "plt.show()"
      ],
      "metadata": {
        "colab": {
          "base_uri": "https://localhost:8080/",
          "height": 265
        },
        "id": "tU-UNZsKlJls",
        "outputId": "8b7b745a-070d-4ecb-c639-c4ee4d8eae06"
      },
      "execution_count": null,
      "outputs": [
        {
          "output_type": "display_data",
          "data": {
            "image/png": "[encoded data removed]",
            "text/plain": [
              "<Figure size 432x288 with 1 Axes>"
            ]
          },
          "metadata": {
            "needs_background": "light"
          }
        }
      ]
    },
    {
      "cell_type": "code",
      "source": [
        "# Turn data into tensors\n",
        "import torch\n",
        "X = torch.from_numpy(X).type(torch.float) # features as float32\n",
        "y = torch.from_numpy(y).type(torch.LongTensor) # labels need to be of type long\n",
        "\n",
        "# Create train and test splits\n",
        "from sklearn.model_selection import train_test_split\n"
      ],
      "metadata": {
        "id": "OWVrmkEyl0VP"
      },
      "execution_count": null,
      "outputs": []
    },
    {
      "cell_type": "code",
      "source": [
        "# Let's calculuate the accuracy for when we fit our model\n",
        "!pip -q install torchmetrics # colab doesn't come with torchmetrics\n",
        "from torchmetrics import Accuracy\n",
        "\n",
        "## TODO: uncomment the two lines below to send the accuracy function to the device\n",
        "# acc_fn = Accuracy(task=\"multiclass\", num_classes=4).to(device)\n",
        "# acc_fn"
      ],
      "metadata": {
        "id": "a-v-7f0op0tG"
      },
      "execution_count": null,
      "outputs": []
    },
    {
      "cell_type": "code",
      "source": [
        "# Prepare device agnostic code\n",
        "# device = \"cuda\" if torch.cuda.is_available() else \"cpu\"\n",
        "\n",
        "# Create model by subclassing nn.Module\n",
        "\n",
        "\n",
        "\n",
        "# Instantiate model and send it to device\n"
      ],
      "metadata": {
        "id": "DB3u3ldumapf"
      },
      "execution_count": null,
      "outputs": []
    },
    {
      "cell_type": "code",
      "source": [
        "# Setup data to be device agnostic\n",
        "\n",
        "\n",
        "# Print out first 10 untrained model outputs (forward pass)\n",
        "print(\"Logits:\")\n",
        "## Your code here ##\n",
        "\n",
        "print(\"Pred probs:\")\n",
        "## Your code here ##\n",
        "\n",
        "print(\"Pred labels:\")\n",
        "## Your code here ##"
      ],
      "metadata": {
        "colab": {
          "base_uri": "https://localhost:8080/"
        },
        "id": "QE7XWSSunMTS",
        "outputId": "00b31909-87c9-41e3-9dbb-fb4c4bd3aabd"
      },
      "execution_count": null,
      "outputs": [
        {
          "output_type": "stream",
          "name": "stdout",
          "text": [
            "Logits:\n",
            "Pred probs:\n",
            "Pred labels:\n"
          ]
        }
      ]
    },
    {
      "cell_type": "code",
      "source": [
        "# Setup loss function and optimizer\n",
        "# loss_fn =\n",
        "# optimizer ="
      ],
      "metadata": {
        "id": "54EqLRKLo0AW"
      },
      "execution_count": null,
      "outputs": []
    },
    {
      "cell_type": "code",
      "source": [
        "# Build a training loop for the model\n",
        "\n",
        "# Loop over data\n",
        "\n",
        "\n",
        "  ## Training\n",
        "\n",
        "  # 1. Forward pass\n",
        "\n",
        "\n",
        "  # 2. Calculate the loss\n",
        "\n",
        "\n",
        "  # 3. Optimizer zero grad\n",
        "\n",
        "\n",
        "  # 4. Loss backward\n",
        "\n",
        "\n",
        "  # 5. Optimizer step\n",
        "\n",
        "\n",
        "  ## Testing\n",
        "\n",
        "\n",
        "    # 1. Forward pass\n",
        "\n",
        "    # 2. Caculate loss and acc\n",
        "\n",
        "  # Print out what's happening every 100 epochs\n",
        ""
      ],
      "metadata": {
        "id": "vIlExkUHnmxi"
      },
      "execution_count": null,
      "outputs": []
    },
    {
      "cell_type": "code",
      "source": [
        "# Plot decision boundaries for training and test sets\n"
      ],
      "metadata": {
        "id": "JrwVRbaE0keT"
      },
      "execution_count": null,
      "outputs": []
    }
  ]
}