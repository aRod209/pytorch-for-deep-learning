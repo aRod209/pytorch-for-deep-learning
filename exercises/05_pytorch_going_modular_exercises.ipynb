{
  "nbformat": 4,
  "nbformat_minor": 0,
  "metadata": {
    "colab": {
      "name": "05_pytorch_going_modular_exercise_template.ipynb",
      "provenance": [],
      "include_colab_link": true
    },
    "kernelspec": {
      "name": "python3",
      "display_name": "Python 3"
    },
    "language_info": {
      "name": "python"
    }
  },
  "cells": [
    {
      "cell_type": "markdown",
      "metadata": {
        "id": "view-in-github",
        "colab_type": "text"
      },
      "source": [
        "<a href=\"https://colab.research.google.com/github/aRod209/pytorch-for-deep-learning/blob/main/exercises/05_pytorch_going_modular_exercises.ipynb\" target=\"_parent\"><img src=\"https://colab.research.google.com/assets/colab-badge.svg\" alt=\"Open In Colab\"/></a>"
      ]
    },
    {
      "cell_type": "markdown",
      "source": [
        "# 05. PyTorch Going Modular Exercises\n",
        "\n",
        "Welcome to the 05. PyTorch Going Modular exercise template notebook.\n",
        "\n",
        "There are several questions in this notebook and it's your goal to answer them by writing Python and PyTorch code.\n",
        "\n",
        "> **Note:** There may be more than one solution to each of the exercises, don't worry too much about the *exact* right answer. Try to write some code that works first and then improve it if you can.\n",
        "\n",
        "## Resources and solutions\n",
        "\n",
        "* These exercises/solutions are based on [section 05. PyTorch Going Modular](https://www.learnpytorch.io/05_pytorch_going_modular/) of the Learn PyTorch for Deep Learning course by Zero to Mastery.\n",
        "\n",
        "**Solutions:**\n",
        "\n",
        "Try to complete the code below *before* looking at these.\n",
        "\n",
        "* See a live [walkthrough of the solutions (errors and all) on YouTube](https://youtu.be/ijgFhMK3pp4).\n",
        "* See an example [solutions notebook for these exercises on GitHub](https://github.com/mrdbourke/pytorch-deep-learning/blob/main/extras/solutions/05_pytorch_going_modular_exercise_solutions.ipynb)."
      ],
      "metadata": {
        "id": "zNqPNlYylluR"
      }
    },
    {
      "cell_type": "markdown",
      "source": [
        "## 1. Turn the code to get the data (from section 1. Get Data) into a Python script, such as `get_data.py`.\n",
        "\n",
        "* When you run the script using `python get_data.py` it should check if the data already exists and skip downloading if it does.\n",
        "* If the data download is successful, you should be able to access the `pizza_steak_sushi` images from the `data` directory."
      ],
      "metadata": {
        "id": "bicbWSrPmfTU"
      }
    },
    {
      "cell_type": "code",
      "source": [
        "%%writefile get_data.py\n",
        "\"\"\"\n",
        "Downloads a zipfile of data consisting of pizza, steak, and sushi images.\n",
        "The zipfile is unzipped and the images are stored in an image path directory.\n",
        "The Zipfile is then removed from the directory.\n",
        "\"\"\"\n",
        "import os\n",
        "import zipfile\n",
        "\n",
        "from pathlib import Path\n",
        "\n",
        "import requests\n",
        "\n",
        "# Setup path to data folder\n",
        "data_path = Path('data/')\n",
        "image_path = data_path / 'pizza_steak_sushi'\n",
        "image_zip_path = data_path / 'pizza_steak_sushi.zip'\n",
        "\n",
        "# If the image folder doesn't exist, download it and prepare it.\n",
        "if image_path.is_dir():\n",
        "  print(f'{image_path} directory exists.')\n",
        "else:\n",
        "  print(f'Did not find {image_path} directory, creating one...')\n",
        "  image_path.mkdir(parents=True, exist_ok=True)\n",
        "\n",
        "# Download pizza, steak, and sushi data\n",
        "with open(image_zip_path, 'wb') as f:\n",
        "  request  = requests.get('https://github.com/mrdbourke/pytorch-deep-learning/raw/main/data/pizza_steak_sushi.zip')\n",
        "  print('Downloading pizza, steak, and sushi data...')\n",
        "  f.write(request.content)\n",
        "\n",
        "# Unzip pizza, steak, and sushi data\n",
        "with zipfile.ZipFile(image_zip_path, 'r') as zip_ref:\n",
        "  print('Unzipping pizza, steak, and sushi data...')\n",
        "  zip_ref.extractall(image_path)\n",
        "\n",
        "# Remove zip file\n",
        "os.remove(image_zip_path)"
      ],
      "metadata": {
        "id": "r0BCn1XIYZ8c",
        "outputId": "85254693-6c11-4478-8e5a-15073608694a",
        "colab": {
          "base_uri": "https://localhost:8080/"
        }
      },
      "execution_count": null,
      "outputs": [
        {
          "output_type": "stream",
          "name": "stdout",
          "text": [
            "Writing get_data.py\n"
          ]
        }
      ]
    },
    {
      "cell_type": "code",
      "source": [
        "# Example running of get_data.py\n",
        "!python get_data.py"
      ],
      "metadata": {
        "id": "_LrUOIC-YOP9",
        "outputId": "4a45c438-8081-4161-b7ad-5874e6422c7f",
        "colab": {
          "base_uri": "https://localhost:8080/"
        }
      },
      "execution_count": null,
      "outputs": [
        {
          "output_type": "stream",
          "name": "stdout",
          "text": [
            "Did not find data/pizza_steak_sushi directory, creating one...\n",
            "Downloading pizza, steak, and sushi data...\n",
            "Unzipping pizza, steak, and sushi data...\n"
          ]
        }
      ]
    },
    {
      "cell_type": "markdown",
      "source": [
        "## 2. Use [Python's `argparse` module](https://docs.python.org/3/library/argparse.html) to be able to send the `train.py` custom hyperparameter values for training procedures.\n",
        "* Add an argument flag for using a different:\n",
        "  * Training/testing directory\n",
        "  * Learning rate\n",
        "  * Batch size\n",
        "  * Number of epochs to train for\n",
        "  * Number of hidden units in the TinyVGG model\n",
        "    * Keep the default values for each of the above arguments as what they already are (as in notebook 05).\n",
        "* For example, you should be able to run something similar to the following line to train a TinyVGG model with a learning rate of 0.003 and a batch size of 64 for 20 epochs: `python train.py --learning_rate 0.003 batch_size 64 num_epochs 20`.\n",
        "* **Note:** Since `train.py` leverages the other scripts we created in section 05, such as, `model_builder.py`, `utils.py` and `engine.py`, you'll have to make sure they're available to use too. You can find these in the [`going_modular` folder on the course GitHub](https://github.com/mrdbourke/pytorch-deep-learning/tree/main/going_modular/going_modular)."
      ],
      "metadata": {
        "id": "zjyn7LU3mvkR"
      }
    },
    {
      "cell_type": "code",
      "source": [
        "%%writefile data_setup.py\n",
        "\"\"\"\n",
        "Sets up the data that is needed for model training and testing.\n",
        "\"\"\"\n",
        "# Standard library imports\n",
        "import os\n",
        "from pathlib import Path\n",
        "\n",
        "# Third-party imports\n",
        "from torch.utils.data import DataLoader\n",
        "from torchvision import datasets, transforms\n",
        "import torchvision\n",
        "\n",
        "\n",
        "BATCH_SIZE = 32\n",
        "NUM_WORKERS = os.cpu_count()\n",
        "\n",
        "def create_data_directories(image_path:Path) -> tuple:\n",
        "  \"\"\"Creates Paths for training data and testing data.\n",
        "\n",
        "  Creates and returns Path objects for the training data directory\n",
        "  and the testing data directory.\n",
        "\n",
        "  Args:\n",
        "  image_path: A parent Path for the image data.\n",
        "\n",
        "  Returns:\n",
        "  A tuple of (Path, Path) representing the path directories of the\n",
        "  training data and testing data respectively.\n",
        "\n",
        "  Example usage:\n",
        "  train_dir, test_dir = create_data_directories(image_path=\"path/to/images\")\n",
        "  \"\"\"\n",
        "  train_dir = image_path / 'train'\n",
        "  test_dir = image_path / 'test'\n",
        "  return train_dir, test_dir\n",
        "\n",
        "def create_data_transform() -> transforms.Compose:\n",
        "  \"\"\"Creates a DataTransform.\n",
        "\n",
        "  Creates a Compose object that will apply two transforms.\n",
        "  First the Compose object will resize an image to 64X64 pixels and\n",
        "  then transform the image to a PyTorch tensor.\n",
        "\n",
        "  Returns:\n",
        "  A Compose object that applies two transforms that resizes an image\n",
        "  and turns the image into a tensor.\n",
        "\n",
        "  Example usage:\n",
        "  data_transform = create_data_transform\n",
        "  \"\"\"\n",
        "  data_transform = transforms.Compose([\n",
        "      transforms.Resize(size=(64, 64)),\n",
        "      transforms.ToTensor()])\n",
        "  return data_transform\n",
        "\n",
        "def create_datasets(train_dir: Path,\n",
        "                    test_dir: Path,\n",
        "                    transform: transforms.Compose) -> tuple:\n",
        "  \"\"\"Creates training and testing Datasets.\n",
        "\n",
        "  Takes in Paths, for the training data directory and testing data directory,\n",
        "  and a Transform to build a tuple of ImageFolder Datasets.\n",
        "\n",
        "  Args:\n",
        "  train_dir: Path to training data directory.\n",
        "  test_dir: Path to testing data directory.\n",
        "  transform: torchvision transforms to perform on training and testing data.\n",
        "\n",
        "  Returns:\n",
        "  A tuple of (ImageFolder, ImageFolder).\n",
        "\n",
        "  Example usage:\n",
        "  train_data, test_data = create_datasets(train_dir:train_path,\n",
        "    test_dir=test_path,\n",
        "    transform=data_transform)\n",
        "  \"\"\"\n",
        "  train_data = datasets.ImageFolder(root=train_dir, transform=transform)\n",
        "  test_data = datasets.ImageFolder(root=test_dir, transform=transform)\n",
        "  return train_data, test_data\n",
        "\n",
        "def create_dataloaders(train_data: str,\n",
        "                       test_data: str,\n",
        "                       batch_size:int=BATCH_SIZE,\n",
        "                       num_workers: int=NUM_WORKERS) -> tuple:\n",
        "  \"\"\"Creates training and testing DataLoaders.\n",
        "\n",
        "  Takes in a training directory and testing directory path and turns them into\n",
        "  PyTorch Datasts and then into PyTorch DataLoaders.\n",
        "\n",
        "  Args:\n",
        "  train_dir: Path to training data directory.\n",
        "  test_dir: Path to testing data directory.\n",
        "  batch_size: Number of samples per batch in each of te DataLoaders.\n",
        "  num_workers: An integer of number of workers per DataLoader.\n",
        "\n",
        "  Returns:\n",
        "  A tuple of (DataLoader, DataLoader).\n",
        "\n",
        "  Example usage:\n",
        "  train_dataloader, test_dataloader, class_names = create_dataloader(\n",
        "    train_dir=path/to/train_dir,\n",
        "    test_dir=path/to/test_dir,\n",
        "    batch_size=32,\n",
        "    num_workers=4\n",
        "  )\n",
        "  \"\"\"\n",
        "\n",
        "  # Turn datasets into DataLoaders\n",
        "  train_dataloader = DataLoader(\n",
        "      dataset=train_data,\n",
        "      batch_size=batch_size,\n",
        "      shuffle=True,\n",
        "      num_workers=num_workers,\n",
        "      pin_memory=True\n",
        "  )\n",
        "\n",
        "  test_dataloader = DataLoader(\n",
        "      dataset=test_data,\n",
        "      batch_size=batch_size,\n",
        "      shuffle=False,\n",
        "      num_workers=num_workers,\n",
        "      pin_memory=True\n",
        "  )\n",
        "\n",
        "  return train_dataloader, test_dataloader"
      ],
      "metadata": {
        "id": "MKNDUp45YaW-",
        "outputId": "6d074f74-72d4-4673-ad4e-ccaec9e771ea",
        "colab": {
          "base_uri": "https://localhost:8080/"
        }
      },
      "execution_count": 7,
      "outputs": [
        {
          "output_type": "stream",
          "name": "stdout",
          "text": [
            "Overwriting data_setup.py\n"
          ]
        }
      ]
    },
    {
      "cell_type": "code",
      "source": [
        "%%writefile train.py\n",
        "# Third-party imports\n",
        "import torch\n",
        "\n",
        "# Application-specific imports\n",
        "import data_setup\n",
        "\n",
        "# Setup hyperparameters\n",
        "\n",
        "# Setup device agnostic code\n",
        "device = 'cuda' if torch.cuda.is_available() else 'cpu'\n",
        "\n",
        "# Setup directories\n"
      ],
      "metadata": {
        "id": "cAdWlNOlouYw"
      },
      "execution_count": null,
      "outputs": []
    },
    {
      "cell_type": "code",
      "source": [
        "# Example running of train.py\n",
        "!python train.py --num_epochs 5 --batch_size 128 --hidden_units 128 --learning_rate 0.0003"
      ],
      "metadata": {
        "id": "LzaJl39lC40N"
      },
      "execution_count": null,
      "outputs": []
    },
    {
      "cell_type": "markdown",
      "source": [
        "## 3. Create a Python script to predict (such as `predict.py`) on a target image given a file path with a saved model.\n",
        "\n",
        "* For example, you should be able to run the command `python predict.py some_image.jpeg` and have a trained PyTorch model predict on the image and return its prediction.\n",
        "* To see example prediction code, check out the [predicting on a custom image section in notebook 04](https://www.learnpytorch.io/04_pytorch_custom_datasets/#113-putting-custom-image-prediction-together-building-a-function).\n",
        "* You may also have to write code to load in a trained model."
      ],
      "metadata": {
        "id": "P2g6EEYvm-46"
      }
    },
    {
      "cell_type": "code",
      "source": [
        "# YOUR CODE HERE"
      ],
      "metadata": {
        "id": "HU7W6VZfYawP"
      },
      "execution_count": null,
      "outputs": []
    },
    {
      "cell_type": "code",
      "source": [
        "# Example running of predict.py\n",
        "!python predict.py --image data/pizza_steak_sushi/test/sushi/175783.jpg"
      ],
      "metadata": {
        "id": "Zcvw9sitIn6r"
      },
      "execution_count": null,
      "outputs": []
    }
  ]
}