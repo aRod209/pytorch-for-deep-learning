{
  "nbformat": 4,
  "nbformat_minor": 0,
  "metadata": {
    "colab": {
      "name": "05_pytorch_going_modular_exercise_template.ipynb",
      "provenance": [],
      "include_colab_link": true
    },
    "kernelspec": {
      "name": "python3",
      "display_name": "Python 3"
    },
    "language_info": {
      "name": "python"
    }
  },
  "cells": [
    {
      "cell_type": "markdown",
      "metadata": {
        "id": "view-in-github",
        "colab_type": "text"
      },
      "source": [
        "<a href=\"https://colab.research.google.com/github/aRod209/pytorch-for-deep-learning/blob/main/exercises/05_pytorch_going_modular_exercises.ipynb\" target=\"_parent\"><img src=\"https://colab.research.google.com/assets/colab-badge.svg\" alt=\"Open In Colab\"/></a>"
      ]
    },
    {
      "cell_type": "markdown",
      "source": [
        "# 05. PyTorch Going Modular Exercises\n",
        "\n",
        "Welcome to the 05. PyTorch Going Modular exercise template notebook.\n",
        "\n",
        "There are several questions in this notebook and it's your goal to answer them by writing Python and PyTorch code.\n",
        "\n",
        "> **Note:** There may be more than one solution to each of the exercises, don't worry too much about the *exact* right answer. Try to write some code that works first and then improve it if you can.\n",
        "\n",
        "## Resources and solutions\n",
        "\n",
        "* These exercises/solutions are based on [section 05. PyTorch Going Modular](https://www.learnpytorch.io/05_pytorch_going_modular/) of the Learn PyTorch for Deep Learning course by Zero to Mastery.\n",
        "\n",
        "**Solutions:**\n",
        "\n",
        "Try to complete the code below *before* looking at these.\n",
        "\n",
        "* See a live [walkthrough of the solutions (errors and all) on YouTube](https://youtu.be/ijgFhMK3pp4).\n",
        "* See an example [solutions notebook for these exercises on GitHub](https://github.com/mrdbourke/pytorch-deep-learning/blob/main/extras/solutions/05_pytorch_going_modular_exercise_solutions.ipynb)."
      ],
      "metadata": {
        "id": "zNqPNlYylluR"
      }
    },
    {
      "cell_type": "markdown",
      "source": [
        "## 1. Turn the code to get the data (from section 1. Get Data) into a Python script, such as `get_data.py`.\n",
        "\n",
        "* When you run the script using `python get_data.py` it should check if the data already exists and skip downloading if it does.\n",
        "* If the data download is successful, you should be able to access the `pizza_steak_sushi` images from the `data` directory."
      ],
      "metadata": {
        "id": "bicbWSrPmfTU"
      }
    },
    {
      "cell_type": "code",
      "source": [
        "%%writefile get_data.py\n",
        "\"\"\"\n",
        "Downloads a zipfile of data consisting of pizza, steak, and sushi images.\n",
        "The zipfile is unzipped and the images are stored in an image path directory.\n",
        "The Zipfile is then removed from the directory.\n",
        "\"\"\"\n",
        "import os\n",
        "import zipfile\n",
        "\n",
        "from pathlib import Path\n",
        "\n",
        "import requests\n",
        "\n",
        "# Setup path to data folder\n",
        "data_path = Path('data/')\n",
        "image_path = data_path / 'pizza_steak_sushi'\n",
        "image_zip_path = data_path / 'pizza_steak_sushi.zip'\n",
        "\n",
        "# If the image folder doesn't exist, download it and prepare it.\n",
        "if image_path.is_dir():\n",
        "  print(f'{image_path} directory exists.')\n",
        "else:\n",
        "  print(f'Did not find {image_path} directory, creating one...')\n",
        "  image_path.mkdir(parents=True, exist_ok=True)\n",
        "\n",
        "# Download pizza, steak, and sushi data\n",
        "with open(image_zip_path, 'wb') as f:\n",
        "  request  = requests.get('https://github.com/mrdbourke/pytorch-deep-learning/raw/main/data/pizza_steak_sushi.zip')\n",
        "  print('Downloading pizza, steak, and sushi data...')\n",
        "  f.write(request.content)\n",
        "\n",
        "# Unzip pizza, steak, and sushi data\n",
        "with zipfile.ZipFile(image_zip_path, 'r') as zip_ref:\n",
        "  print('Unzipping pizza, steak, and sushi data...')\n",
        "  zip_ref.extractall(image_path)\n",
        "\n",
        "# Remove zip file\n",
        "os.remove(image_zip_path)"
      ],
      "metadata": {
        "id": "r0BCn1XIYZ8c",
        "outputId": "2da4eb76-7725-4ebb-f6b7-cb72f437762d",
        "colab": {
          "base_uri": "https://localhost:8080/"
        }
      },
      "execution_count": 1,
      "outputs": [
        {
          "output_type": "stream",
          "name": "stdout",
          "text": [
            "Writing get_data.py\n"
          ]
        }
      ]
    },
    {
      "cell_type": "code",
      "source": [
        "# Example running of get_data.py\n",
        "!python get_data.py"
      ],
      "metadata": {
        "id": "_LrUOIC-YOP9",
        "outputId": "c9ffccbd-eb61-468e-901b-9aa4d791182e",
        "colab": {
          "base_uri": "https://localhost:8080/"
        }
      },
      "execution_count": 2,
      "outputs": [
        {
          "output_type": "stream",
          "name": "stdout",
          "text": [
            "Did not find data/pizza_steak_sushi directory, creating one...\n",
            "Downloading pizza, steak, and sushi data...\n",
            "Unzipping pizza, steak, and sushi data...\n"
          ]
        }
      ]
    },
    {
      "cell_type": "markdown",
      "source": [
        "## 2. Use [Python's `argparse` module](https://docs.python.org/3/library/argparse.html) to be able to send the `train.py` custom hyperparameter values for training procedures.\n",
        "* Add an argument flag for using a different:\n",
        "  * Training/testing directory\n",
        "  * Learning rate\n",
        "  * Batch size\n",
        "  * Number of epochs to train for\n",
        "  * Number of hidden units in the TinyVGG model\n",
        "    * Keep the default values for each of the above arguments as what they already are (as in notebook 05).\n",
        "* For example, you should be able to run something similar to the following line to train a TinyVGG model with a learning rate of 0.003 and a batch size of 64 for 20 epochs: `python train.py --learning_rate 0.003 batch_size 64 num_epochs 20`.\n",
        "* **Note:** Since `train.py` leverages the other scripts we created in section 05, such as, `model_builder.py`, `utils.py` and `engine.py`, you'll have to make sure they're available to use too. You can find these in the [`going_modular` folder on the course GitHub](https://github.com/mrdbourke/pytorch-deep-learning/tree/main/going_modular/going_modular)."
      ],
      "metadata": {
        "id": "zjyn7LU3mvkR"
      }
    },
    {
      "cell_type": "code",
      "source": [
        "%%writefile data_setup.py\n",
        "\"\"\"\n",
        "Sets up the data that is needed for model training and testing.\n",
        "\"\"\"\n",
        "# Standard library imports\n",
        "import os\n",
        "from pathlib import Path\n",
        "\n",
        "# Third-party imports\n",
        "from torch.utils.data import DataLoader\n",
        "from torchvision import datasets, transforms\n",
        "import torchvision\n",
        "\n",
        "\n",
        "BATCH_SIZE = 32\n",
        "NUM_WORKERS = os.cpu_count()\n",
        "\n",
        "def create_data_directories(parent_dir:Path) -> tuple:\n",
        "  \"\"\"Creates Paths for training data and testing data.\n",
        "\n",
        "  Uses a parent directory to create and returns Path objects\n",
        "  for the training data directory and the testing data directory.\n",
        "\n",
        "  Args:\n",
        "  parent_dir: A parent Path for the image data.\n",
        "\n",
        "  Returns:\n",
        "  A tuple of (Path, Path) representing the path directories of the\n",
        "  training data and testing data respectively.\n",
        "\n",
        "  Example usage:\n",
        "  train_dir, test_dir = create_data_directories(image_path=\"path/to/images\")\n",
        "  \"\"\"\n",
        "  train_dir = parent_dir / 'train'\n",
        "  test_dir = parent_dir / 'test'\n",
        "  return train_dir, test_dir\n",
        "\n",
        "def create_data_transform() -> transforms.Compose:\n",
        "  \"\"\"Creates a DataTransform.\n",
        "\n",
        "  Creates a Compose object that will apply two transforms.\n",
        "  First the Compose object will resize an image to 64X64 pixels and\n",
        "  then transform the image to a PyTorch tensor.\n",
        "\n",
        "  Returns:\n",
        "  A Compose object that applies two transforms that resizes an image\n",
        "  and turns the image into a tensor.\n",
        "\n",
        "  Example usage:\n",
        "  data_transform = create_data_transform\n",
        "  \"\"\"\n",
        "  data_transform = transforms.Compose([\n",
        "      transforms.Resize(size=(64, 64)),\n",
        "      transforms.ToTensor()])\n",
        "  return data_transform\n",
        "\n",
        "def create_datasets(train_dir: Path,\n",
        "                    test_dir: Path,\n",
        "                    transform: transforms.Compose) -> tuple:\n",
        "  \"\"\"Creates training and testing Datasets.\n",
        "\n",
        "  Takes in Paths, for the training data directory and testing data directory,\n",
        "  and a Transform to build a tuple of ImageFolder Datasets.\n",
        "\n",
        "  Args:\n",
        "  train_dir: Path to training data directory.\n",
        "  test_dir: Path to testing data directory.\n",
        "  transform: torchvision transforms to perform on training and testing data.\n",
        "\n",
        "  Returns:\n",
        "  A tuple of (ImageFolder, ImageFolder).\n",
        "\n",
        "  Example usage:\n",
        "  train_data, test_data = create_datasets(train_dir:train_path,\n",
        "    test_dir=test_path,\n",
        "    transform=data_transform)\n",
        "  \"\"\"\n",
        "  train_data = datasets.ImageFolder(root=train_dir, transform=transform)\n",
        "  test_data = datasets.ImageFolder(root=test_dir, transform=transform)\n",
        "  return train_data, test_data\n",
        "\n",
        "def create_dataloaders(train_data: str,\n",
        "                       test_data: str,\n",
        "                       batch_size:int=BATCH_SIZE,\n",
        "                       num_workers: int=NUM_WORKERS) -> tuple:\n",
        "  \"\"\"Creates training and testing DataLoaders.\n",
        "\n",
        "  Takes in a training directory and testing directory path and turns them into\n",
        "  PyTorch Datasts and then into PyTorch DataLoaders.\n",
        "\n",
        "  Args:\n",
        "  train_data: Training data.\n",
        "  test_data: Test data.\n",
        "  batch_size: Number of samples per batch in each of te DataLoaders.\n",
        "  num_workers: An integer of number of workers per DataLoader.\n",
        "\n",
        "  Returns:\n",
        "  A tuple of (DataLoader, DataLoader).\n",
        "\n",
        "  Example usage:\n",
        "  train_dataloader, test_dataloader, class_names = create_dataloader(\n",
        "    train_data=train_data,\n",
        "    test_data=test_data,\n",
        "    batch_size=32,\n",
        "    num_workers=4\n",
        "  )\n",
        "  \"\"\"\n",
        "\n",
        "  # Turn datasets into DataLoaders\n",
        "  train_dataloader = DataLoader(\n",
        "      dataset=train_data,\n",
        "      batch_size=batch_size,\n",
        "      shuffle=True,\n",
        "      num_workers=num_workers,\n",
        "      pin_memory=True\n",
        "  )\n",
        "\n",
        "  test_dataloader = DataLoader(\n",
        "      dataset=test_data,\n",
        "      batch_size=batch_size,\n",
        "      shuffle=False,\n",
        "      num_workers=num_workers,\n",
        "      pin_memory=True\n",
        "  )\n",
        "\n",
        "  return train_dataloader, test_dataloader"
      ],
      "metadata": {
        "id": "MKNDUp45YaW-",
        "outputId": "90e420e2-fd05-4ee7-86ef-5347c3733ae6",
        "colab": {
          "base_uri": "https://localhost:8080/"
        }
      },
      "execution_count": 3,
      "outputs": [
        {
          "output_type": "stream",
          "name": "stdout",
          "text": [
            "Writing data_setup.py\n"
          ]
        }
      ]
    },
    {
      "cell_type": "code",
      "source": [
        "%%writefile model_builder.py\n",
        "\"\"\"\n",
        "Contains PyTorch model code to instantiate a TinyVGG model from the\n",
        "CNN Explainer website.\n",
        "\"\"\"\n",
        "import torch\n",
        "from torch import nn\n",
        "\n",
        "class TinyVGG(nn.Module):\n",
        "  def __init__(self, input_shape: int, hidden_units: int, output_shape: int) -> None:\n",
        "    \"\"\"Creates the TinyVGG architecture.\n",
        "\n",
        "  Replicates the TinyVGG architecture from the CNN Explainer website in PyTorch.\n",
        "  See the original architecture here: https://poloclub.github.io/cnn-explainer/\n",
        "\n",
        "  Args:\n",
        "    input_shape: An integer indicating number of input channels.\n",
        "    hidden_units: An integer indicating number of hidden units between layers.\n",
        "    output_shape: An integer indicating number of output units.\n",
        "  \"\"\"\n",
        "    super().__init__()\n",
        "    self.conv_block_1 = nn.Sequential(\n",
        "        nn.Conv2d(in_channels=input_shape,\n",
        "                  out_channels=hidden_units,\n",
        "                  kernel_size=3,\n",
        "                  stride=1,\n",
        "                  padding=0),\n",
        "        nn.ReLU(),\n",
        "        nn.Conv2d(in_channels=hidden_units,\n",
        "                  out_channels=hidden_units,\n",
        "                  kernel_size=3,\n",
        "                  stride=1,\n",
        "                  padding=0),\n",
        "        nn.ReLU(),\n",
        "        nn.MaxPool2d(kernel_size=2,\n",
        "                     stride=2)\n",
        "    )\n",
        "    self.conv_block_2 = nn.Sequential(\n",
        "        nn.Conv2d(in_channels=hidden_units,\n",
        "                  out_channels=hidden_units,\n",
        "                  kernel_size=3,\n",
        "                  stride=1,\n",
        "                  padding=0),\n",
        "        nn.ReLU(),\n",
        "        nn.Conv2d(in_channels=hidden_units,\n",
        "                  out_channels=hidden_units,\n",
        "                  kernel_size=3,\n",
        "                  stride=1,\n",
        "                  padding=0),\n",
        "        nn.ReLU(),\n",
        "        nn.MaxPool2d(kernel_size=2,\n",
        "                     stride=2)\n",
        "    )\n",
        "    self.classifier = nn.Sequential(\n",
        "        nn.Flatten(),\n",
        "        nn.Linear(in_features=hidden_units*13*13,\n",
        "                  out_features=output_shape)\n",
        "    )\n",
        "\n",
        "  def forward(self, x: torch.Tensor) -> torch.Tensor:\n",
        "    \"\"\"The forward pass.\n",
        "\n",
        "    First computes the first convulational block, followed by the 2nd\n",
        "    convulutional block followed by the classifer.\n",
        "\n",
        "    Args:\n",
        "     x: The tensor to compute in the forward pass.\n",
        "\n",
        "    Returns:\n",
        "     A tensor that was computed in the forward pass.\n",
        "    \"\"\"\n",
        "    return self.classifier(self.conv_block_2(self.conv_block_1(x)))\n"
      ],
      "metadata": {
        "id": "owDg5x5cwr_q",
        "colab": {
          "base_uri": "https://localhost:8080/"
        },
        "outputId": "2de66ba0-01c4-4521-c558-dc265a09cf98"
      },
      "execution_count": 10,
      "outputs": [
        {
          "output_type": "stream",
          "name": "stdout",
          "text": [
            "Overwriting model_builder.py\n"
          ]
        }
      ]
    },
    {
      "cell_type": "code",
      "source": [
        "%%writefile engine.py\n",
        "\"\"\"\n",
        "Contains functions for training and testing PyTorch model.\n",
        "\"\"\"\n",
        "# Standard library imports\n",
        "from typing import Dict, Tuple\n",
        "\n",
        "# Third-party imports\n",
        "import torch\n",
        "\n",
        "# Application-specific imports\n",
        "\n",
        "def train_step(model: torch.nn.Module,\n",
        "               dataloader: torch.utils.data.DataLoader,\n",
        "               loss_fn: torch.nn.Module,\n",
        "               optimizer: torch.optim.Optimizer,\n",
        "               device: torch.device) -> Tuple[float, float]:\n",
        "  \"\"\"Trains a PyiTorch model for a single epoch.\n",
        "\n",
        "  Turns a target PyTorch model to training mode and then\n",
        "  runs through all of the required training steps (forward,\n",
        "  pass, loss calculation, optimilzer step).\n",
        "\n",
        "  Args:\n",
        "    model: A PyTorch model to be trained.\n",
        "    dataloader: A DataLoader instance for the model to be trained on.\n",
        "    loss_fn: A PyTorch loss function to minimize.\n",
        "    optimizer: A PyTorch optimizer to help minimize the loss function.\n",
        "    device: A target device to compute on (e.g. \"cuda\" or \"cpu\")\n",
        "\n",
        "  Returns:\n",
        "    A tuple of training loss and training accuracy metrics.\n",
        "    In the form (train_loss, train,accuracy). For example:\n",
        "\n",
        "  (0.1111, 0.2152)\n",
        "  \"\"\"\n",
        "  # Put model in train mode\n",
        "  model.train()\n",
        "\n",
        "  # Setup train loss and train accuracy values\n",
        "  train_loss, train_acc = 0, 0\n",
        "\n",
        "  # Loop through data loader batches\n",
        "  for batch, (X, y) in enumerate(dataloader):\n",
        "    # Send data to target device\n",
        "    X, y = X.to(device), y.to(device)\n",
        "\n",
        "    # 1. Forward pass\n",
        "    y_logits = model(X)\n",
        "\n",
        "    # 2. Calculate the loss\n",
        "    loss = loss_fn(y_logits, y)\n",
        "    train_loss += loss.item()\n",
        "\n",
        "    # 3. Optimzer zero grad\n",
        "    optimizer.zero_grad()\n",
        "\n",
        "    # 4. Loss backward\n",
        "    loss.backward()\n",
        "\n",
        "    # 5. Optimizer step\n",
        "    optimizer.step()\n",
        "\n",
        "    # Calculate and accumulate accuracy metric across all batches\n",
        "    y_preds = torch.argmax(torch.softmax(y_logits, dim=1), dim=1)\n",
        "    train_acc += (y_preds == y).sum().item()/len(y_preds)\n",
        "\n",
        "  # Adjust metrics to get average loss and accuracy per batch\n",
        "  train_loss = train_loss / len(dataloader)\n",
        "  train_acc == train_acc / len(dataloader)\n",
        "\n",
        "  return train_loss, train_acc\n",
        "\n",
        "def test_step(model: torch.nn.Module,\n",
        "              dataloader: torch.utils.data.DataLoader,\n",
        "              loss_fn: torch.nn.Module,\n",
        "              device: torch.device) -> Tuple[float, float]:\n",
        "  \"\"\"Tests a PyTorch model for a single epoch.\n",
        "\n",
        "  Turns a target PyTorch model to \"eval\" mode and then performs\n",
        "  a forward pass on a teting dataset.\n",
        "\n",
        "  Args:\n",
        "    model: A PyTorch model to be tested.\n",
        "    dataloader: A DataLoader instance for the model to be tested on.\n",
        "    loss_fn: A PyTorch loss function to calculate loss on the test data.\n",
        "    device: A target device to compute on (e.g. \"cuda\" or \"cpu\").\n",
        "\n",
        "  Returns:\n",
        "    A tuple of testing loss and testing accuracy metrics.\n",
        "    In the form (test_loss, test_accuracy). For example:\n",
        "\n",
        "    (0.0222, 0.08988)\n",
        "  \"\"\"\n",
        "  # Put model in eval mode\n",
        "  model.eval()\n",
        "\n",
        "  # Setup test loss and test accuracy values\n",
        "  test_loss, test_acc = 0, 0\n",
        "\n",
        "  # Turn on inference context manager\n",
        "  with torch.inference_mode():\n",
        "    # Loop through DataLoader batches\n",
        "    for batch, (X, y) in enumerate(dataloader):\n",
        "      # Send data to target device\n",
        "      X, y = X.to(device), y.to(device)\n",
        "\n",
        "      # 1. Forward pass\n",
        "      y_logits = model(X)\n",
        "\n",
        "      # 2. Calculate and accumulate loss\n",
        "      loss = loss_fn(y_logits, y)\n",
        "      test_loss += loss.item()\n",
        "\n",
        "      # Calculate and accumulate accuracy\n",
        "      test_preds = y_logits.argmax(dim=1)\n",
        "      test_acc = (test_preds == y).sum().item()/len(test_preds)\n",
        "\n",
        "  # Adjust metrics to get average loss and accuracy per batch\n",
        "  test_loss = test_loss / len(dataloader)\n",
        "  test_acc = test_acc / len(dataloader)\n",
        "\n",
        "  return test_loss, test_acc"
      ],
      "metadata": {
        "id": "co7KCMI5lVNH"
      },
      "execution_count": null,
      "outputs": []
    },
    {
      "cell_type": "code",
      "source": [
        "%%writefile train.py\n",
        "\"\"\"\n",
        "Trains the data.\n",
        "\"\"\"\n",
        "# Standard library imports\n",
        "import argparse\n",
        "import os\n",
        "\n",
        "from pathlib import Path\n",
        "from timeit import default_timer as timer\n",
        "\n",
        "# Third-party imports\n",
        "import torch\n",
        "\n",
        "# Application-specific imports\n",
        "import data_setup\n",
        "import get_data\n",
        "import model_builder\n",
        "\n",
        "# Create the argument parser\n",
        "# Create the argument parser\n",
        "parser = argparse.ArgumentParser(description=\"Training script for a neural network.\")\n",
        "\n",
        "# Add arguments\n",
        "parser.add_argument('--num_epochs', type=int, default=5, help='Number of epochs to train.')\n",
        "parser.add_argument('--batch_size', type=int, default=32, help='Batch size for training.')\n",
        "parser.add_argument('--hidden_units', type=int, default=10, help='Number of hidden units in the neural network.')\n",
        "parser.add_argument('--learning_rate', type=float, default=0.001, help='Learning rate for the optimizer.')\n",
        "\n",
        "# Parse the arguments\n",
        "args = parser.parse_args()\n",
        "\n",
        "# Use the arguments\n",
        "print(f'Training with settings: epochs={args.num_epochs}, batch size={args.batch_size}, '\n",
        "      f'hidden units={args.hidden_units}, learning rate={args.learning_rate}')\n",
        "\n",
        "# Setup hyperparameters\n",
        "BATCH_SIZE = 32\n",
        "HIDDEN_UNITS = 10\n",
        "INPUT_SHAPE = 3\n",
        "LEARNING_RATE = 0.001\n",
        "NUM_EPOCHS = 5\n",
        "NUM_WORKERS = os.cpu_count()\n",
        "IMAGE_DATA_PATH = 'data/pizza_steak_sushi'\n",
        "\n",
        "# Setup device agnostic code\n",
        "device = 'cuda' if torch.cuda.is_available() else 'cpu'\n",
        "\n",
        "# Setup directories\n",
        "parent_dir = Path(IMAGE_DATA_PATH)\n",
        "train_dir, test_dir = data_setup.create_data_directories(parent_dir)\n",
        "\n",
        "# Create transforms\n",
        "data_transform = data_setup.create_data_transform()\n",
        "\n",
        "# Create data sets\n",
        "train_data, test_data = data_setup.create_datasets(train_dir=train_dir,\n",
        "                                                   test_dir=test_dir,\n",
        "                                                   transform=data_transform)\n",
        "\n",
        "# Create data loaders\n",
        "train_dataloader, test_dataloader = data_setup.create_dataloaders(train_data=train_data,\n",
        "                                                                  test_data=test_data,\n",
        "                                                                  batch_size=BATCH_SIZE,\n",
        "                                                                  num_workers=NUM_WORKERS)\n",
        "\n",
        "\n",
        "# Create model\n",
        "model = model_builder.TinyVGG(input_shape=INPUT_SHAPE,\n",
        "                              hidden_units=HIDDEN_UNITS,\n",
        "                              output_shape=len(train_data.classes)).to(device)\n",
        "\n",
        "# Setup loss and optimizer\n",
        "loss_fn = torch.nn.CrossEntropyLoss()\n",
        "optimizer = torch.optim.Adam(params=model.params(),\n",
        "                             lr=0.001)\n",
        "\n",
        "# Start the timer\n",
        "start_time = timer()\n",
        "\n",
        "# Setup training with help from engine.py\n",
        "\n",
        "print(model)"
      ],
      "metadata": {
        "id": "cAdWlNOlouYw",
        "outputId": "58df248f-b9cf-4b6d-a03a-aa37ae502d21",
        "colab": {
          "base_uri": "https://localhost:8080/"
        }
      },
      "execution_count": 11,
      "outputs": [
        {
          "output_type": "stream",
          "name": "stdout",
          "text": [
            "Overwriting train.py\n"
          ]
        }
      ]
    },
    {
      "cell_type": "code",
      "source": [
        "# Example running of train.py\n",
        "!python train.py --num_epochs 5 --batch_size 128 --hidden_units 128 --learning_rate 0.0003"
      ],
      "metadata": {
        "id": "LzaJl39lC40N",
        "outputId": "941b5e10-5f4f-40fd-b262-d85ee7187123",
        "colab": {
          "base_uri": "https://localhost:8080/"
        }
      },
      "execution_count": 12,
      "outputs": [
        {
          "output_type": "stream",
          "name": "stdout",
          "text": [
            "data/pizza_steak_sushi directory exists.\n",
            "Downloading pizza, steak, and sushi data...\n",
            "Unzipping pizza, steak, and sushi data...\n",
            "Training with settings: epochs=5, batch size=128, hidden units=128, learning rate=0.0003\n",
            "TinyVGG(\n",
            "  (conv_block_1): Sequential(\n",
            "    (0): Conv2d(3, 10, kernel_size=(3, 3), stride=(1, 1))\n",
            "    (1): ReLU()\n",
            "    (2): Conv2d(10, 10, kernel_size=(3, 3), stride=(1, 1))\n",
            "    (3): ReLU()\n",
            "    (4): MaxPool2d(kernel_size=2, stride=2, padding=0, dilation=1, ceil_mode=False)\n",
            "  )\n",
            "  (conv_block_2): Sequential(\n",
            "    (0): Conv2d(10, 10, kernel_size=(3, 3), stride=(1, 1))\n",
            "    (1): ReLU()\n",
            "    (2): Conv2d(10, 10, kernel_size=(3, 3), stride=(1, 1))\n",
            "    (3): ReLU()\n",
            "    (4): MaxPool2d(kernel_size=2, stride=2, padding=0, dilation=1, ceil_mode=False)\n",
            "  )\n",
            "  (classifier): Sequential(\n",
            "    (0): Flatten(start_dim=1, end_dim=-1)\n",
            "    (1): Linear(in_features=1690, out_features=3, bias=True)\n",
            "  )\n",
            ")\n"
          ]
        }
      ]
    },
    {
      "cell_type": "markdown",
      "source": [
        "## 3. Create a Python script to predict (such as `predict.py`) on a target image given a file path with a saved model.\n",
        "\n",
        "* For example, you should be able to run the command `python predict.py some_image.jpeg` and have a trained PyTorch model predict on the image and return its prediction.\n",
        "* To see example prediction code, check out the [predicting on a custom image section in notebook 04](https://www.learnpytorch.io/04_pytorch_custom_datasets/#113-putting-custom-image-prediction-together-building-a-function).\n",
        "* You may also have to write code to load in a trained model."
      ],
      "metadata": {
        "id": "P2g6EEYvm-46"
      }
    },
    {
      "cell_type": "code",
      "source": [
        "# YOUR CODE HERE"
      ],
      "metadata": {
        "id": "HU7W6VZfYawP"
      },
      "execution_count": null,
      "outputs": []
    },
    {
      "cell_type": "code",
      "source": [
        "# Example running of predict.py\n",
        "!python predict.py --image data/pizza_steak_sushi/test/sushi/175783.jpg"
      ],
      "metadata": {
        "id": "Zcvw9sitIn6r",
        "outputId": "1d5590c6-dd69-4557-df2f-56f3d242bdee",
        "colab": {
          "base_uri": "https://localhost:8080/"
        }
      },
      "execution_count": null,
      "outputs": [
        {
          "output_type": "stream",
          "name": "stdout",
          "text": [
            "python3: can't open file '/content/predict.py': [Errno 2] No such file or directory\n"
          ]
        }
      ]
    }
  ]
}