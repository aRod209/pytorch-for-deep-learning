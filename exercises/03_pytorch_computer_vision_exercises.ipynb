{
  "nbformat": 4,
  "nbformat_minor": 0,
  "metadata": {
    "colab": {
      "name": "03_pytorch_computer_vision_exercises.ipynb",
      "provenance": [],
      "gpuType": "T4",
      "toc_visible": true,
      "include_colab_link": true
    },
    "kernelspec": {
      "name": "python3",
      "display_name": "Python 3"
    },
    "language_info": {
      "name": "python"
    },
    "widgets": {
      "application/vnd.jupyter.widget-state+json": {
        "256bc85ae7b74bc4b20594c18ab69fa1": {
          "model_module": "@jupyter-widgets/controls",
          "model_name": "HBoxModel",
          "model_module_version": "1.5.0",
          "state": {
            "_dom_classes": [],
            "_model_module": "@jupyter-widgets/controls",
            "_model_module_version": "1.5.0",
            "_model_name": "HBoxModel",
            "_view_count": null,
            "_view_module": "@jupyter-widgets/controls",
            "_view_module_version": "1.5.0",
            "_view_name": "HBoxView",
            "box_style": "",
            "children": [
              "IPY_MODEL_6bfd7b3eed914f619fe775f48b565756",
              "IPY_MODEL_c452d825b75c4a2697725796ccd4785b",
              "IPY_MODEL_8898bbe0f4544c55b3084390a713cfc5"
            ],
            "layout": "IPY_MODEL_5a0924d1942c4674bd01110238afc3d7"
          }
        },
        "6bfd7b3eed914f619fe775f48b565756": {
          "model_module": "@jupyter-widgets/controls",
          "model_name": "HTMLModel",
          "model_module_version": "1.5.0",
          "state": {
            "_dom_classes": [],
            "_model_module": "@jupyter-widgets/controls",
            "_model_module_version": "1.5.0",
            "_model_name": "HTMLModel",
            "_view_count": null,
            "_view_module": "@jupyter-widgets/controls",
            "_view_module_version": "1.5.0",
            "_view_name": "HTMLView",
            "description": "",
            "description_tooltip": null,
            "layout": "IPY_MODEL_3a66340be4fe40f7ba7af35eb3068b50",
            "placeholder": "​",
            "style": "IPY_MODEL_ff43bc9b6deb41078cf0a01395f4c8fc",
            "value": "100%"
          }
        },
        "c452d825b75c4a2697725796ccd4785b": {
          "model_module": "@jupyter-widgets/controls",
          "model_name": "FloatProgressModel",
          "model_module_version": "1.5.0",
          "state": {
            "_dom_classes": [],
            "_model_module": "@jupyter-widgets/controls",
            "_model_module_version": "1.5.0",
            "_model_name": "FloatProgressModel",
            "_view_count": null,
            "_view_module": "@jupyter-widgets/controls",
            "_view_module_version": "1.5.0",
            "_view_name": "ProgressView",
            "bar_style": "success",
            "description": "",
            "description_tooltip": null,
            "layout": "IPY_MODEL_e9145c8b30514d568e46625e6fdcb119",
            "max": 5,
            "min": 0,
            "orientation": "horizontal",
            "style": "IPY_MODEL_253322d2f4ca4b03bb197cff077b98ce",
            "value": 5
          }
        },
        "8898bbe0f4544c55b3084390a713cfc5": {
          "model_module": "@jupyter-widgets/controls",
          "model_name": "HTMLModel",
          "model_module_version": "1.5.0",
          "state": {
            "_dom_classes": [],
            "_model_module": "@jupyter-widgets/controls",
            "_model_module_version": "1.5.0",
            "_model_name": "HTMLModel",
            "_view_count": null,
            "_view_module": "@jupyter-widgets/controls",
            "_view_module_version": "1.5.0",
            "_view_name": "HTMLView",
            "description": "",
            "description_tooltip": null,
            "layout": "IPY_MODEL_cc12bc00a9104e458b4210f85a072cfc",
            "placeholder": "​",
            "style": "IPY_MODEL_0a1d442113aa406b854b3f67373ead79",
            "value": " 5/5 [03:50&lt;00:00, 44.72s/it]"
          }
        },
        "5a0924d1942c4674bd01110238afc3d7": {
          "model_module": "@jupyter-widgets/base",
          "model_name": "LayoutModel",
          "model_module_version": "1.2.0",
          "state": {
            "_model_module": "@jupyter-widgets/base",
            "_model_module_version": "1.2.0",
            "_model_name": "LayoutModel",
            "_view_count": null,
            "_view_module": "@jupyter-widgets/base",
            "_view_module_version": "1.2.0",
            "_view_name": "LayoutView",
            "align_content": null,
            "align_items": null,
            "align_self": null,
            "border": null,
            "bottom": null,
            "display": null,
            "flex": null,
            "flex_flow": null,
            "grid_area": null,
            "grid_auto_columns": null,
            "grid_auto_flow": null,
            "grid_auto_rows": null,
            "grid_column": null,
            "grid_gap": null,
            "grid_row": null,
            "grid_template_areas": null,
            "grid_template_columns": null,
            "grid_template_rows": null,
            "height": null,
            "justify_content": null,
            "justify_items": null,
            "left": null,
            "margin": null,
            "max_height": null,
            "max_width": null,
            "min_height": null,
            "min_width": null,
            "object_fit": null,
            "object_position": null,
            "order": null,
            "overflow": null,
            "overflow_x": null,
            "overflow_y": null,
            "padding": null,
            "right": null,
            "top": null,
            "visibility": null,
            "width": null
          }
        },
        "3a66340be4fe40f7ba7af35eb3068b50": {
          "model_module": "@jupyter-widgets/base",
          "model_name": "LayoutModel",
          "model_module_version": "1.2.0",
          "state": {
            "_model_module": "@jupyter-widgets/base",
            "_model_module_version": "1.2.0",
            "_model_name": "LayoutModel",
            "_view_count": null,
            "_view_module": "@jupyter-widgets/base",
            "_view_module_version": "1.2.0",
            "_view_name": "LayoutView",
            "align_content": null,
            "align_items": null,
            "align_self": null,
            "border": null,
            "bottom": null,
            "display": null,
            "flex": null,
            "flex_flow": null,
            "grid_area": null,
            "grid_auto_columns": null,
            "grid_auto_flow": null,
            "grid_auto_rows": null,
            "grid_column": null,
            "grid_gap": null,
            "grid_row": null,
            "grid_template_areas": null,
            "grid_template_columns": null,
            "grid_template_rows": null,
            "height": null,
            "justify_content": null,
            "justify_items": null,
            "left": null,
            "margin": null,
            "max_height": null,
            "max_width": null,
            "min_height": null,
            "min_width": null,
            "object_fit": null,
            "object_position": null,
            "order": null,
            "overflow": null,
            "overflow_x": null,
            "overflow_y": null,
            "padding": null,
            "right": null,
            "top": null,
            "visibility": null,
            "width": null
          }
        },
        "ff43bc9b6deb41078cf0a01395f4c8fc": {
          "model_module": "@jupyter-widgets/controls",
          "model_name": "DescriptionStyleModel",
          "model_module_version": "1.5.0",
          "state": {
            "_model_module": "@jupyter-widgets/controls",
            "_model_module_version": "1.5.0",
            "_model_name": "DescriptionStyleModel",
            "_view_count": null,
            "_view_module": "@jupyter-widgets/base",
            "_view_module_version": "1.2.0",
            "_view_name": "StyleView",
            "description_width": ""
          }
        },
        "e9145c8b30514d568e46625e6fdcb119": {
          "model_module": "@jupyter-widgets/base",
          "model_name": "LayoutModel",
          "model_module_version": "1.2.0",
          "state": {
            "_model_module": "@jupyter-widgets/base",
            "_model_module_version": "1.2.0",
            "_model_name": "LayoutModel",
            "_view_count": null,
            "_view_module": "@jupyter-widgets/base",
            "_view_module_version": "1.2.0",
            "_view_name": "LayoutView",
            "align_content": null,
            "align_items": null,
            "align_self": null,
            "border": null,
            "bottom": null,
            "display": null,
            "flex": null,
            "flex_flow": null,
            "grid_area": null,
            "grid_auto_columns": null,
            "grid_auto_flow": null,
            "grid_auto_rows": null,
            "grid_column": null,
            "grid_gap": null,
            "grid_row": null,
            "grid_template_areas": null,
            "grid_template_columns": null,
            "grid_template_rows": null,
            "height": null,
            "justify_content": null,
            "justify_items": null,
            "left": null,
            "margin": null,
            "max_height": null,
            "max_width": null,
            "min_height": null,
            "min_width": null,
            "object_fit": null,
            "object_position": null,
            "order": null,
            "overflow": null,
            "overflow_x": null,
            "overflow_y": null,
            "padding": null,
            "right": null,
            "top": null,
            "visibility": null,
            "width": null
          }
        },
        "253322d2f4ca4b03bb197cff077b98ce": {
          "model_module": "@jupyter-widgets/controls",
          "model_name": "ProgressStyleModel",
          "model_module_version": "1.5.0",
          "state": {
            "_model_module": "@jupyter-widgets/controls",
            "_model_module_version": "1.5.0",
            "_model_name": "ProgressStyleModel",
            "_view_count": null,
            "_view_module": "@jupyter-widgets/base",
            "_view_module_version": "1.2.0",
            "_view_name": "StyleView",
            "bar_color": null,
            "description_width": ""
          }
        },
        "cc12bc00a9104e458b4210f85a072cfc": {
          "model_module": "@jupyter-widgets/base",
          "model_name": "LayoutModel",
          "model_module_version": "1.2.0",
          "state": {
            "_model_module": "@jupyter-widgets/base",
            "_model_module_version": "1.2.0",
            "_model_name": "LayoutModel",
            "_view_count": null,
            "_view_module": "@jupyter-widgets/base",
            "_view_module_version": "1.2.0",
            "_view_name": "LayoutView",
            "align_content": null,
            "align_items": null,
            "align_self": null,
            "border": null,
            "bottom": null,
            "display": null,
            "flex": null,
            "flex_flow": null,
            "grid_area": null,
            "grid_auto_columns": null,
            "grid_auto_flow": null,
            "grid_auto_rows": null,
            "grid_column": null,
            "grid_gap": null,
            "grid_row": null,
            "grid_template_areas": null,
            "grid_template_columns": null,
            "grid_template_rows": null,
            "height": null,
            "justify_content": null,
            "justify_items": null,
            "left": null,
            "margin": null,
            "max_height": null,
            "max_width": null,
            "min_height": null,
            "min_width": null,
            "object_fit": null,
            "object_position": null,
            "order": null,
            "overflow": null,
            "overflow_x": null,
            "overflow_y": null,
            "padding": null,
            "right": null,
            "top": null,
            "visibility": null,
            "width": null
          }
        },
        "0a1d442113aa406b854b3f67373ead79": {
          "model_module": "@jupyter-widgets/controls",
          "model_name": "DescriptionStyleModel",
          "model_module_version": "1.5.0",
          "state": {
            "_model_module": "@jupyter-widgets/controls",
            "_model_module_version": "1.5.0",
            "_model_name": "DescriptionStyleModel",
            "_view_count": null,
            "_view_module": "@jupyter-widgets/base",
            "_view_module_version": "1.2.0",
            "_view_name": "StyleView",
            "description_width": ""
          }
        },
        "c91268fa7a0a4c719a4f8d9bc611d083": {
          "model_module": "@jupyter-widgets/controls",
          "model_name": "HBoxModel",
          "model_module_version": "1.5.0",
          "state": {
            "_dom_classes": [],
            "_model_module": "@jupyter-widgets/controls",
            "_model_module_version": "1.5.0",
            "_model_name": "HBoxModel",
            "_view_count": null,
            "_view_module": "@jupyter-widgets/controls",
            "_view_module_version": "1.5.0",
            "_view_name": "HBoxView",
            "box_style": "",
            "children": [
              "IPY_MODEL_1dc8680c9b3349c5aae947bc174f9301",
              "IPY_MODEL_15fb839dc82445c6a1a588e5ab0bcec0",
              "IPY_MODEL_a410bc1a93594233a5a9b2bec4a24786"
            ],
            "layout": "IPY_MODEL_a16769a848ed4563adcbabb387e54756"
          }
        },
        "1dc8680c9b3349c5aae947bc174f9301": {
          "model_module": "@jupyter-widgets/controls",
          "model_name": "HTMLModel",
          "model_module_version": "1.5.0",
          "state": {
            "_dom_classes": [],
            "_model_module": "@jupyter-widgets/controls",
            "_model_module_version": "1.5.0",
            "_model_name": "HTMLModel",
            "_view_count": null,
            "_view_module": "@jupyter-widgets/controls",
            "_view_module_version": "1.5.0",
            "_view_name": "HTMLView",
            "description": "",
            "description_tooltip": null,
            "layout": "IPY_MODEL_2e0d06a1541e4aee875c6c6d30666880",
            "placeholder": "​",
            "style": "IPY_MODEL_f4277757e3cc41359a4b00da8a58828c",
            "value": "100%"
          }
        },
        "15fb839dc82445c6a1a588e5ab0bcec0": {
          "model_module": "@jupyter-widgets/controls",
          "model_name": "FloatProgressModel",
          "model_module_version": "1.5.0",
          "state": {
            "_dom_classes": [],
            "_model_module": "@jupyter-widgets/controls",
            "_model_module_version": "1.5.0",
            "_model_name": "FloatProgressModel",
            "_view_count": null,
            "_view_module": "@jupyter-widgets/controls",
            "_view_module_version": "1.5.0",
            "_view_name": "ProgressView",
            "bar_style": "success",
            "description": "",
            "description_tooltip": null,
            "layout": "IPY_MODEL_4f2be2250f7c49ec99221f8487d1bb86",
            "max": 5,
            "min": 0,
            "orientation": "horizontal",
            "style": "IPY_MODEL_864c9dc21f684916b0cee187955917c5",
            "value": 5
          }
        },
        "a410bc1a93594233a5a9b2bec4a24786": {
          "model_module": "@jupyter-widgets/controls",
          "model_name": "HTMLModel",
          "model_module_version": "1.5.0",
          "state": {
            "_dom_classes": [],
            "_model_module": "@jupyter-widgets/controls",
            "_model_module_version": "1.5.0",
            "_model_name": "HTMLModel",
            "_view_count": null,
            "_view_module": "@jupyter-widgets/controls",
            "_view_module_version": "1.5.0",
            "_view_name": "HTMLView",
            "description": "",
            "description_tooltip": null,
            "layout": "IPY_MODEL_dd6875331c3341d0ae2e8e51c07e2caf",
            "placeholder": "​",
            "style": "IPY_MODEL_a8f79f8675d34151ae45f44c98c4e592",
            "value": " 5/5 [01:43&lt;00:00, 20.93s/it]"
          }
        },
        "a16769a848ed4563adcbabb387e54756": {
          "model_module": "@jupyter-widgets/base",
          "model_name": "LayoutModel",
          "model_module_version": "1.2.0",
          "state": {
            "_model_module": "@jupyter-widgets/base",
            "_model_module_version": "1.2.0",
            "_model_name": "LayoutModel",
            "_view_count": null,
            "_view_module": "@jupyter-widgets/base",
            "_view_module_version": "1.2.0",
            "_view_name": "LayoutView",
            "align_content": null,
            "align_items": null,
            "align_self": null,
            "border": null,
            "bottom": null,
            "display": null,
            "flex": null,
            "flex_flow": null,
            "grid_area": null,
            "grid_auto_columns": null,
            "grid_auto_flow": null,
            "grid_auto_rows": null,
            "grid_column": null,
            "grid_gap": null,
            "grid_row": null,
            "grid_template_areas": null,
            "grid_template_columns": null,
            "grid_template_rows": null,
            "height": null,
            "justify_content": null,
            "justify_items": null,
            "left": null,
            "margin": null,
            "max_height": null,
            "max_width": null,
            "min_height": null,
            "min_width": null,
            "object_fit": null,
            "object_position": null,
            "order": null,
            "overflow": null,
            "overflow_x": null,
            "overflow_y": null,
            "padding": null,
            "right": null,
            "top": null,
            "visibility": null,
            "width": null
          }
        },
        "2e0d06a1541e4aee875c6c6d30666880": {
          "model_module": "@jupyter-widgets/base",
          "model_name": "LayoutModel",
          "model_module_version": "1.2.0",
          "state": {
            "_model_module": "@jupyter-widgets/base",
            "_model_module_version": "1.2.0",
            "_model_name": "LayoutModel",
            "_view_count": null,
            "_view_module": "@jupyter-widgets/base",
            "_view_module_version": "1.2.0",
            "_view_name": "LayoutView",
            "align_content": null,
            "align_items": null,
            "align_self": null,
            "border": null,
            "bottom": null,
            "display": null,
            "flex": null,
            "flex_flow": null,
            "grid_area": null,
            "grid_auto_columns": null,
            "grid_auto_flow": null,
            "grid_auto_rows": null,
            "grid_column": null,
            "grid_gap": null,
            "grid_row": null,
            "grid_template_areas": null,
            "grid_template_columns": null,
            "grid_template_rows": null,
            "height": null,
            "justify_content": null,
            "justify_items": null,
            "left": null,
            "margin": null,
            "max_height": null,
            "max_width": null,
            "min_height": null,
            "min_width": null,
            "object_fit": null,
            "object_position": null,
            "order": null,
            "overflow": null,
            "overflow_x": null,
            "overflow_y": null,
            "padding": null,
            "right": null,
            "top": null,
            "visibility": null,
            "width": null
          }
        },
        "f4277757e3cc41359a4b00da8a58828c": {
          "model_module": "@jupyter-widgets/controls",
          "model_name": "DescriptionStyleModel",
          "model_module_version": "1.5.0",
          "state": {
            "_model_module": "@jupyter-widgets/controls",
            "_model_module_version": "1.5.0",
            "_model_name": "DescriptionStyleModel",
            "_view_count": null,
            "_view_module": "@jupyter-widgets/base",
            "_view_module_version": "1.2.0",
            "_view_name": "StyleView",
            "description_width": ""
          }
        },
        "4f2be2250f7c49ec99221f8487d1bb86": {
          "model_module": "@jupyter-widgets/base",
          "model_name": "LayoutModel",
          "model_module_version": "1.2.0",
          "state": {
            "_model_module": "@jupyter-widgets/base",
            "_model_module_version": "1.2.0",
            "_model_name": "LayoutModel",
            "_view_count": null,
            "_view_module": "@jupyter-widgets/base",
            "_view_module_version": "1.2.0",
            "_view_name": "LayoutView",
            "align_content": null,
            "align_items": null,
            "align_self": null,
            "border": null,
            "bottom": null,
            "display": null,
            "flex": null,
            "flex_flow": null,
            "grid_area": null,
            "grid_auto_columns": null,
            "grid_auto_flow": null,
            "grid_auto_rows": null,
            "grid_column": null,
            "grid_gap": null,
            "grid_row": null,
            "grid_template_areas": null,
            "grid_template_columns": null,
            "grid_template_rows": null,
            "height": null,
            "justify_content": null,
            "justify_items": null,
            "left": null,
            "margin": null,
            "max_height": null,
            "max_width": null,
            "min_height": null,
            "min_width": null,
            "object_fit": null,
            "object_position": null,
            "order": null,
            "overflow": null,
            "overflow_x": null,
            "overflow_y": null,
            "padding": null,
            "right": null,
            "top": null,
            "visibility": null,
            "width": null
          }
        },
        "864c9dc21f684916b0cee187955917c5": {
          "model_module": "@jupyter-widgets/controls",
          "model_name": "ProgressStyleModel",
          "model_module_version": "1.5.0",
          "state": {
            "_model_module": "@jupyter-widgets/controls",
            "_model_module_version": "1.5.0",
            "_model_name": "ProgressStyleModel",
            "_view_count": null,
            "_view_module": "@jupyter-widgets/base",
            "_view_module_version": "1.2.0",
            "_view_name": "StyleView",
            "bar_color": null,
            "description_width": ""
          }
        },
        "dd6875331c3341d0ae2e8e51c07e2caf": {
          "model_module": "@jupyter-widgets/base",
          "model_name": "LayoutModel",
          "model_module_version": "1.2.0",
          "state": {
            "_model_module": "@jupyter-widgets/base",
            "_model_module_version": "1.2.0",
            "_model_name": "LayoutModel",
            "_view_count": null,
            "_view_module": "@jupyter-widgets/base",
            "_view_module_version": "1.2.0",
            "_view_name": "LayoutView",
            "align_content": null,
            "align_items": null,
            "align_self": null,
            "border": null,
            "bottom": null,
            "display": null,
            "flex": null,
            "flex_flow": null,
            "grid_area": null,
            "grid_auto_columns": null,
            "grid_auto_flow": null,
            "grid_auto_rows": null,
            "grid_column": null,
            "grid_gap": null,
            "grid_row": null,
            "grid_template_areas": null,
            "grid_template_columns": null,
            "grid_template_rows": null,
            "height": null,
            "justify_content": null,
            "justify_items": null,
            "left": null,
            "margin": null,
            "max_height": null,
            "max_width": null,
            "min_height": null,
            "min_width": null,
            "object_fit": null,
            "object_position": null,
            "order": null,
            "overflow": null,
            "overflow_x": null,
            "overflow_y": null,
            "padding": null,
            "right": null,
            "top": null,
            "visibility": null,
            "width": null
          }
        },
        "a8f79f8675d34151ae45f44c98c4e592": {
          "model_module": "@jupyter-widgets/controls",
          "model_name": "DescriptionStyleModel",
          "model_module_version": "1.5.0",
          "state": {
            "_model_module": "@jupyter-widgets/controls",
            "_model_module_version": "1.5.0",
            "_model_name": "DescriptionStyleModel",
            "_view_count": null,
            "_view_module": "@jupyter-widgets/base",
            "_view_module_version": "1.2.0",
            "_view_name": "StyleView",
            "description_width": ""
          }
        }
      }
    },
    "accelerator": "GPU"
  },
  "cells": [
    {
      "cell_type": "markdown",
      "metadata": {
        "id": "view-in-github",
        "colab_type": "text"
      },
      "source": [
        "<a href=\"https://colab.research.google.com/github/aRod209/pytorch-for-deep-learning/blob/main/exercises/03_pytorch_computer_vision_exercises.ipynb\" target=\"_parent\"><img src=\"https://colab.research.google.com/assets/colab-badge.svg\" alt=\"Open In Colab\"/></a>"
      ]
    },
    {
      "cell_type": "markdown",
      "source": [
        "# 03. PyTorch Computer Vision Exercises\n",
        "\n",
        "The following is a collection of exercises based on computer vision fundamentals in PyTorch.\n",
        "\n",
        "They're a bunch of fun.\n",
        "\n",
        "You're going to get to write plenty of code!\n",
        "\n",
        "## Resources\n",
        "\n",
        "1. These exercises are based on [notebook 03 of the Learn PyTorch for Deep Learning course](https://www.learnpytorch.io/03_pytorch_computer_vision/).\n",
        "2. See a live [walkthrough of the solutions (errors and all) on YouTube](https://youtu.be/_PibmqpEyhA).\n",
        "  * **Note:** Going through these exercises took me just over 3 hours of solid coding, so you should expect around the same.\n",
        "3. See [other solutions on the course GitHub](https://github.com/mrdbourke/pytorch-deep-learning/tree/main/extras/solutions)."
      ],
      "metadata": {
        "id": "Vex99np2wFVt"
      }
    },
    {
      "cell_type": "code",
      "source": [
        "# Check for GPU\n",
        "!nvidia-smi"
      ],
      "metadata": {
        "colab": {
          "base_uri": "https://localhost:8080/"
        },
        "id": "GaeYzOTLwWh2",
        "outputId": "00e7bfe4-7d64-42e8-f459-d9bff67e875a"
      },
      "execution_count": 1,
      "outputs": [
        {
          "output_type": "stream",
          "name": "stdout",
          "text": [
            "Tue Feb 27 01:52:09 2024       \n",
            "+---------------------------------------------------------------------------------------+\n",
            "| NVIDIA-SMI 535.104.05             Driver Version: 535.104.05   CUDA Version: 12.2     |\n",
            "|-----------------------------------------+----------------------+----------------------+\n",
            "| GPU  Name                 Persistence-M | Bus-Id        Disp.A | Volatile Uncorr. ECC |\n",
            "| Fan  Temp   Perf          Pwr:Usage/Cap |         Memory-Usage | GPU-Util  Compute M. |\n",
            "|                                         |                      |               MIG M. |\n",
            "|=========================================+======================+======================|\n",
            "|   0  Tesla T4                       Off | 00000000:00:04.0 Off |                    0 |\n",
            "| N/A   47C    P8              10W /  70W |      0MiB / 15360MiB |      0%      Default |\n",
            "|                                         |                      |                  N/A |\n",
            "+-----------------------------------------+----------------------+----------------------+\n",
            "                                                                                         \n",
            "+---------------------------------------------------------------------------------------+\n",
            "| Processes:                                                                            |\n",
            "|  GPU   GI   CI        PID   Type   Process name                            GPU Memory |\n",
            "|        ID   ID                                                             Usage      |\n",
            "|=======================================================================================|\n",
            "|  No running processes found                                                           |\n",
            "+---------------------------------------------------------------------------------------+\n"
          ]
        }
      ]
    },
    {
      "cell_type": "code",
      "source": [
        "# Import torch and numpy\n",
        "import torch\n",
        "import numpy as np\n",
        "\n",
        "# Exercises require PyTorch > 1.10.0\n",
        "print(torch.__version__)\n",
        "\n",
        "# TODO: Setup device agnostic code\n",
        "device = 'cuda' if torch.cuda.is_available() else 'cpu'\n",
        "device"
      ],
      "metadata": {
        "colab": {
          "base_uri": "https://localhost:8080/",
          "height": 53
        },
        "id": "DNwZLMbCzJLk",
        "outputId": "d1eb3783-ae8f-44bb-e550-60b6404edd7f"
      },
      "execution_count": 2,
      "outputs": [
        {
          "output_type": "stream",
          "name": "stdout",
          "text": [
            "2.1.0+cu121\n"
          ]
        },
        {
          "output_type": "execute_result",
          "data": {
            "text/plain": [
              "'cuda'"
            ],
            "application/vnd.google.colaboratory.intrinsic+json": {
              "type": "string"
            }
          },
          "metadata": {},
          "execution_count": 2
        }
      ]
    },
    {
      "cell_type": "markdown",
      "source": [
        "## 1. What are 3 areas in industry where computer vision is currently being used?"
      ],
      "metadata": {
        "id": "FSFX7tc1w-en"
      }
    },
    {
      "cell_type": "markdown",
      "source": [
        "Autonomous vehicles, facial recognition, cancer detection"
      ],
      "metadata": {
        "id": "VyWRkvWGbCXj"
      }
    },
    {
      "cell_type": "markdown",
      "source": [
        "## 2. Search \"what is overfitting in machine learning\" and write down a sentence about what you find."
      ],
      "metadata": {
        "id": "oBK-WI6YxDYa"
      }
    },
    {
      "cell_type": "markdown",
      "source": [
        "Overfitting is when your a machine learning model fits very well to the training data but it does not fit/generalize well to new data."
      ],
      "metadata": {
        "id": "d1rxD6GObCqh"
      }
    },
    {
      "cell_type": "markdown",
      "source": [
        "## 3. Search \"ways to prevent overfitting in machine learning\", write down 3 of the things you find and a sentence about each.\n",
        "> **Note:** there are lots of these, so don't worry too much about all of them, just pick 3 and start with those."
      ],
      "metadata": {
        "id": "XeYFEqw8xK26"
      }
    },
    {
      "cell_type": "markdown",
      "source": [
        "- Regularization: Introduces a penalty on model complexity into the loss function.\n",
        "- Cross-Validation: Training a model on different folds of data ensures the model's performance is not overly dependant on a particular partition of the training data.\n",
        "- More training data: More data can help the model generalize better to new data by training on more data that does not have the same outliers as existing training data but does have the same general patterns that are important to focus on."
      ],
      "metadata": {
        "id": "ocvOdWKcbEKr"
      }
    },
    {
      "cell_type": "markdown",
      "source": [
        "## 4. Spend 20-minutes reading and clicking through the [CNN Explainer website](https://poloclub.github.io/cnn-explainer/).\n",
        "\n",
        "* Upload your own example image using the \"upload\" button on the website and see what happens in each layer of a CNN as your image passes through it."
      ],
      "metadata": {
        "id": "DKdEEFEqxM-8"
      }
    },
    {
      "cell_type": "code",
      "source": [],
      "metadata": {
        "id": "TqZaJIRMbFtS"
      },
      "execution_count": 2,
      "outputs": []
    },
    {
      "cell_type": "markdown",
      "source": [
        "## 5. Load the [`torchvision.datasets.MNIST()`](https://pytorch.org/vision/stable/generated/torchvision.datasets.MNIST.html#torchvision.datasets.MNIST) train and test datasets."
      ],
      "metadata": {
        "id": "lvf-3pODxXYI"
      }
    },
    {
      "cell_type": "code",
      "source": [
        "# Import PyTorch\n",
        "import torch\n",
        "from torch import nn\n",
        "\n",
        "# Import Torchvision\n",
        "import torchvision\n",
        "from torchvision import datasets\n",
        "from torchvision import transforms\n",
        "from torchvision.transforms import ToTensor\n",
        "\n",
        "train_data = datasets.MNIST(\n",
        "    root='data', # where to download data to\n",
        "    train=True, # create dataset from training data\n",
        "    download=True, # download from internet and put in root directory\n",
        "    transform=ToTensor(), # how to transform the data\n",
        "    target_transform=None # how to transform the target/labels\n",
        ")\n",
        "\n",
        "test_data = datasets.MNIST(\n",
        "    root='data',\n",
        "    train=False,\n",
        "    download=True,\n",
        "    transform=ToTensor(),\n",
        "    target_transform=None\n",
        ")"
      ],
      "metadata": {
        "id": "SHjeuN81bHza",
        "colab": {
          "base_uri": "https://localhost:8080/"
        },
        "outputId": "574284a5-6dc0-4ebe-c99f-1db2d42a0378"
      },
      "execution_count": 3,
      "outputs": [
        {
          "output_type": "stream",
          "name": "stdout",
          "text": [
            "Downloading http://yann.lecun.com/exdb/mnist/train-images-idx3-ubyte.gz\n",
            "Downloading http://yann.lecun.com/exdb/mnist/train-images-idx3-ubyte.gz to data/MNIST/raw/train-images-idx3-ubyte.gz\n"
          ]
        },
        {
          "output_type": "stream",
          "name": "stderr",
          "text": [
            "100%|██████████| 9912422/9912422 [00:00<00:00, 134831544.51it/s]\n"
          ]
        },
        {
          "output_type": "stream",
          "name": "stdout",
          "text": [
            "Extracting data/MNIST/raw/train-images-idx3-ubyte.gz to data/MNIST/raw\n",
            "\n",
            "Downloading http://yann.lecun.com/exdb/mnist/train-labels-idx1-ubyte.gz\n",
            "Downloading http://yann.lecun.com/exdb/mnist/train-labels-idx1-ubyte.gz to data/MNIST/raw/train-labels-idx1-ubyte.gz\n"
          ]
        },
        {
          "output_type": "stream",
          "name": "stderr",
          "text": [
            "100%|██████████| 28881/28881 [00:00<00:00, 88355721.24it/s]\n"
          ]
        },
        {
          "output_type": "stream",
          "name": "stdout",
          "text": [
            "Extracting data/MNIST/raw/train-labels-idx1-ubyte.gz to data/MNIST/raw\n",
            "\n",
            "Downloading http://yann.lecun.com/exdb/mnist/t10k-images-idx3-ubyte.gz\n",
            "Downloading http://yann.lecun.com/exdb/mnist/t10k-images-idx3-ubyte.gz to data/MNIST/raw/t10k-images-idx3-ubyte.gz\n"
          ]
        },
        {
          "output_type": "stream",
          "name": "stderr",
          "text": [
            "100%|██████████| 1648877/1648877 [00:00<00:00, 78944927.13it/s]\n"
          ]
        },
        {
          "output_type": "stream",
          "name": "stdout",
          "text": [
            "Extracting data/MNIST/raw/t10k-images-idx3-ubyte.gz to data/MNIST/raw\n",
            "\n",
            "Downloading http://yann.lecun.com/exdb/mnist/t10k-labels-idx1-ubyte.gz\n",
            "Downloading http://yann.lecun.com/exdb/mnist/t10k-labels-idx1-ubyte.gz to data/MNIST/raw/t10k-labels-idx1-ubyte.gz\n"
          ]
        },
        {
          "output_type": "stream",
          "name": "stderr",
          "text": [
            "100%|██████████| 4542/4542 [00:00<00:00, 2999610.89it/s]\n"
          ]
        },
        {
          "output_type": "stream",
          "name": "stdout",
          "text": [
            "Extracting data/MNIST/raw/t10k-labels-idx1-ubyte.gz to data/MNIST/raw\n",
            "\n"
          ]
        }
      ]
    },
    {
      "cell_type": "code",
      "source": [
        "train_data"
      ],
      "metadata": {
        "colab": {
          "base_uri": "https://localhost:8080/"
        },
        "id": "NZZzQHdAv9fm",
        "outputId": "f51ee28d-a1c2-4f33-f25b-8638f82c2538"
      },
      "execution_count": 4,
      "outputs": [
        {
          "output_type": "execute_result",
          "data": {
            "text/plain": [
              "Dataset MNIST\n",
              "    Number of datapoints: 60000\n",
              "    Root location: data\n",
              "    Split: Train\n",
              "    StandardTransform\n",
              "Transform: ToTensor()"
            ]
          },
          "metadata": {},
          "execution_count": 4
        }
      ]
    },
    {
      "cell_type": "code",
      "source": [
        "test_data"
      ],
      "metadata": {
        "colab": {
          "base_uri": "https://localhost:8080/"
        },
        "id": "o1nx9K08wFZ9",
        "outputId": "03c172d7-a606-4a44-eb62-731476f4ad68"
      },
      "execution_count": 5,
      "outputs": [
        {
          "output_type": "execute_result",
          "data": {
            "text/plain": [
              "Dataset MNIST\n",
              "    Number of datapoints: 10000\n",
              "    Root location: data\n",
              "    Split: Test\n",
              "    StandardTransform\n",
              "Transform: ToTensor()"
            ]
          },
          "metadata": {},
          "execution_count": 5
        }
      ]
    },
    {
      "cell_type": "code",
      "source": [
        "train_data.class_to_idx"
      ],
      "metadata": {
        "colab": {
          "base_uri": "https://localhost:8080/"
        },
        "id": "kDeOpDZX4vpA",
        "outputId": "a83aaaed-19b2-4626-e329-82f7ebc792dc"
      },
      "execution_count": 6,
      "outputs": [
        {
          "output_type": "execute_result",
          "data": {
            "text/plain": [
              "{'0 - zero': 0,\n",
              " '1 - one': 1,\n",
              " '2 - two': 2,\n",
              " '3 - three': 3,\n",
              " '4 - four': 4,\n",
              " '5 - five': 5,\n",
              " '6 - six': 6,\n",
              " '7 - seven': 7,\n",
              " '8 - eight': 8,\n",
              " '9 - nine': 9}"
            ]
          },
          "metadata": {},
          "execution_count": 6
        }
      ]
    },
    {
      "cell_type": "markdown",
      "source": [
        "## 6. Visualize at least 5 different samples of the MNIST training dataset."
      ],
      "metadata": {
        "id": "qxZW-uAbxe_F"
      }
    },
    {
      "cell_type": "code",
      "source": [
        "image, label = train_data[0]\n",
        "print(f'Image shape: {image.shape} -> [color channel, height, width]')\n",
        "print(f'Image label: {train_data.classes[label]}')"
      ],
      "metadata": {
        "colab": {
          "base_uri": "https://localhost:8080/"
        },
        "id": "G1VFIQ4i46Bp",
        "outputId": "e8b186ea-c9aa-488a-a920-bb9e0ff42bf5"
      },
      "execution_count": 7,
      "outputs": [
        {
          "output_type": "stream",
          "name": "stdout",
          "text": [
            "Image shape: torch.Size([1, 28, 28]) -> [color channel, height, width]\n",
            "Image label: 5 - five\n"
          ]
        }
      ]
    },
    {
      "cell_type": "code",
      "source": [
        "# Import matplotlib for visualizations\n",
        "import matplotlib.pyplot as plt\n",
        "\n",
        "torch.manual_seed(7)\n",
        "\n",
        "fig = plt.figure(figsize=(9,9))\n",
        "rows, cols = 3, 3\n",
        "\n",
        "for i in range(1, rows*cols+1):\n",
        "  random_idx = torch.randint(0, len(train_data), size=(1,)).item()\n",
        "  image, label = train_data[random_idx]\n",
        "  fig.add_subplot(rows, cols, i)\n",
        "  plt.imshow(image.squeeze(), cmap='gray')\n",
        "  plt.title(train_data.classes[label])\n",
        "  plt.axis(False)"
      ],
      "metadata": {
        "id": "QVFsYi1PbItE",
        "colab": {
          "base_uri": "https://localhost:8080/",
          "height": 752
        },
        "outputId": "b8d00ce0-12f8-40ed-ae1a-44b7160e79fc"
      },
      "execution_count": 8,
      "outputs": [
        {
          "output_type": "display_data",
          "data": {
            "text/plain": [
              "<Figure size 900x900 with 9 Axes>"
            ],
            "image/png": "[encoded data removed]"
          },
          "metadata": {}
        }
      ]
    },
    {
      "cell_type": "markdown",
      "source": [
        "## 7. Turn the MNIST train and test datasets into dataloaders using `torch.utils.data.DataLoader`, set the `batch_size=32`."
      ],
      "metadata": {
        "id": "JAPDzW0wxhi3"
      }
    },
    {
      "cell_type": "code",
      "source": [
        "from torch.utils.data import DataLoader\n",
        "\n",
        "BATCH_SIZE = 32\n",
        "\n",
        "train_dataloader = DataLoader(dataset=train_data,\n",
        "                              batch_size=BATCH_SIZE,\n",
        "                              shuffle=True)\n",
        "\n",
        "test_dataloader = DataLoader(dataset=test_data,\n",
        "                             batch_size=BATCH_SIZE,\n",
        "                             shuffle=False)"
      ],
      "metadata": {
        "id": "ALA6MPcFbJXQ"
      },
      "execution_count": 9,
      "outputs": []
    },
    {
      "cell_type": "code",
      "source": [
        "print(f'DataLoaders: {train_dataloader}, {test_dataloader}')\n",
        "print(f'Length of train_dataloader: {len(train_dataloader)} batches of {BATCH_SIZE}')\n",
        "print(f'Length of test_dataloader: {len(test_dataloader)} batches of {BATCH_SIZE}')"
      ],
      "metadata": {
        "id": "Kvtg3BjICKYr",
        "outputId": "b4fb0f5e-4378-401d-d716-fe82a3f4afb1",
        "colab": {
          "base_uri": "https://localhost:8080/"
        }
      },
      "execution_count": 10,
      "outputs": [
        {
          "output_type": "stream",
          "name": "stdout",
          "text": [
            "DataLoaders: <torch.utils.data.dataloader.DataLoader object at 0x7b46b7d22aa0>, <torch.utils.data.dataloader.DataLoader object at 0x7b46b7c96890>\n",
            "Length of train_dataloader: 1875 batches of 32\n",
            "Length of test_dataloader: 313 batches of 32\n"
          ]
        }
      ]
    },
    {
      "cell_type": "markdown",
      "source": [
        "## 8. Recreate `model_2` used in notebook 03 (the same model from the [CNN Explainer website](https://poloclub.github.io/cnn-explainer/), also known as TinyVGG) capable of fitting on the MNIST dataset."
      ],
      "metadata": {
        "id": "bCCVfXk5xjYS"
      }
    },
    {
      "cell_type": "code",
      "source": [
        "class TinyVGG(nn.Module):\n",
        "  \"\"\"\n",
        "  Model recreates the Tiny VGG model from\n",
        "  the CNN Explainer website.\n",
        "  Tiny VGG uses a 3x3 kernel size in convulational layers,\n",
        "  with a stride of 1 and zero-padding,\n",
        "  and a 2x2 kernel size in the max pool layers.\n",
        "\n",
        "  This is different from what was actually done in the video lecture.\n",
        "  \"\"\"\n",
        "  CONV_LAYER_KERNEL_SIZE = 3\n",
        "  MAX_POOL_KERNEL_SIZE = 2\n",
        "  STRIDE = 1\n",
        "  PADDING = 0\n",
        "\n",
        "  def __init__(self, input_shape: int, hidden_units: int, output_shape: int):\n",
        "    super().__init__()\n",
        "    self.conv_block_1 = nn.Sequential(\n",
        "        nn.Conv2d(in_channels=input_shape,\n",
        "                  out_channels=hidden_units,\n",
        "                  kernel_size=self.CONV_LAYER_KERNEL_SIZE,\n",
        "                  stride=self.STRIDE,\n",
        "                  padding=self.PADDING),\n",
        "        nn.ReLU(),\n",
        "        nn.Conv2d(in_channels=hidden_units,\n",
        "                  out_channels=hidden_units,\n",
        "                  kernel_size=self.CONV_LAYER_KERNEL_SIZE,\n",
        "                  stride=self.STRIDE,\n",
        "                  padding=self.PADDING),\n",
        "        nn.ReLU(),\n",
        "        nn.MaxPool2d(kernel_size=self.MAX_POOL_KERNEL_SIZE)\n",
        "    )\n",
        "    self.conv_block_2 = nn.Sequential(\n",
        "        nn.Conv2d(in_channels=hidden_units,\n",
        "                  out_channels=hidden_units,\n",
        "                  kernel_size=self.CONV_LAYER_KERNEL_SIZE,\n",
        "                  stride=self.STRIDE,\n",
        "                  padding=self.PADDING),\n",
        "        nn.ReLU(),\n",
        "        nn.Conv2d(in_channels=hidden_units,\n",
        "                  out_channels=hidden_units,\n",
        "                  kernel_size=self.CONV_LAYER_KERNEL_SIZE,\n",
        "                  stride=self.STRIDE,\n",
        "                  padding=self.PADDING),\n",
        "        nn.ReLU(),\n",
        "        nn.MaxPool2d(kernel_size=self.MAX_POOL_KERNEL_SIZE)\n",
        "    )\n",
        "    self.classifier = nn.Sequential(\n",
        "        nn.Flatten(),\n",
        "        nn.Linear(in_features=hidden_units*4*4,\n",
        "                  out_features=output_shape)\n",
        "    )\n",
        "\n",
        "  def forward(self, x):\n",
        "    #print(f'Output shape of input x: {x.shape}')\n",
        "    x = self.conv_block_1(x)\n",
        "    #print(f'Output shape of conv_block_1: {x.shape}')\n",
        "    x = self.conv_block_2(x)\n",
        "    #print(f'Output shape of conv_block_2: {x.shape}')\n",
        "    x = self.classifier(x)\n",
        "    #print(f'Output shape of classifier: {x.shape}')\n",
        "    return x"
      ],
      "metadata": {
        "id": "5IKNF22XbKYS"
      },
      "execution_count": 11,
      "outputs": []
    },
    {
      "cell_type": "markdown",
      "source": [
        "## 9. Train the model you built in exercise 8. for 5 epochs on CPU and GPU and see how long it takes on each."
      ],
      "metadata": {
        "id": "sf_3zUr7xlhy"
      }
    },
    {
      "cell_type": "code",
      "source": [
        "from timeit import default_timer as timer\n",
        "\n",
        "# Import tqdm for progress bar (Google Colab has tqdm built-in)\n",
        "from tqdm.auto import tqdm"
      ],
      "metadata": {
        "id": "oNewCcvsoFWr"
      },
      "execution_count": 12,
      "outputs": []
    },
    {
      "cell_type": "code",
      "source": [
        "# Create function to time experiments\n",
        "def print_train_time(start:float, end:float, device:torch.device=None):\n",
        "  \"\"\"Prints the train time on the device.\n",
        "\n",
        "  Args:\n",
        "    start (float): The training start time.\n",
        "    end (float): The training end time.\n",
        "    device (torch.device): The device the model was trained on.\n",
        "\n",
        "  Returns:\n",
        "    [float]: The total train time.\n",
        "  \"\"\"\n",
        "  total_time = end - start\n",
        "  print(f'Train time on {device}: {total_time:.3f} seconds')"
      ],
      "metadata": {
        "id": "jSo6vVWFbNLD"
      },
      "execution_count": 13,
      "outputs": []
    },
    {
      "cell_type": "code",
      "source": [
        "# Calculate accuracy (a classification metric)\n",
        "def accuracy_fn(y_true, y_pred):\n",
        "    \"\"\"Calculates accuracy between truth labels and predictions.\n",
        "\n",
        "    Args:\n",
        "        y_true (torch.Tensor): Truth labels for predictions.\n",
        "        y_pred (torch.Tensor): Predictions to be compared to predictions.\n",
        "\n",
        "    Returns:\n",
        "        [torch.float]: Accuracy value between y_true and y_pred, e.g. 78.45\n",
        "    \"\"\"\n",
        "    correct = torch.eq(y_true, y_pred).sum().item()\n",
        "    acc = (correct / len(y_pred)) * 100\n",
        "    return acc\n"
      ],
      "metadata": {
        "id": "DlZDbq4brNvU"
      },
      "execution_count": 14,
      "outputs": []
    },
    {
      "cell_type": "code",
      "source": [
        "# Create training step\n",
        "def train_step(model: torch.nn.Module,\n",
        "               data_loader: torch.utils.data.DataLoader,\n",
        "               loss_fn: torch.nn.Module,\n",
        "               optimizer: torch.optim.Optimizer,\n",
        "               accuracy_fn,\n",
        "               device: torch.device = device):\n",
        "  \"\"\"Performs training step with model trying to learn on data_loader.\n",
        "  Args:\n",
        "    model (torch.nn.Module): The neural network model.\n",
        "    data_loader (torch.utils.data.DataLoader): The iterable of the dataset.\n",
        "    loss_fn (torch.nn.Module): The loss function.\n",
        "    optimizer (torch.optim.Optimizer): The optimization algorithm.\n",
        "    accuracy_fn: The accuracy function.\n",
        "    device (torch.device): The device to run model training/testing on.\n",
        "  \"\"\"\n",
        "  train_loss, train_acc = 0, 0\n",
        "\n",
        "  # Put model into training mode\n",
        "  model.train()\n",
        "\n",
        "  # Loop through the training batches\n",
        "  for batch, (X, y) in enumerate(data_loader):\n",
        "    # Put data on target device\n",
        "    X, y = X.to(device), y.to(device)\n",
        "\n",
        "    # 1. Forward pass\n",
        "    y_logits = model(X)\n",
        "    y_preds = y_logits.argmax(dim=1)\n",
        "\n",
        "    # 2. Calculate loss and accuracy (per batch)\n",
        "    loss = loss_fn(y_logits, y)\n",
        "    train_loss += loss\n",
        "    train_acc += accuracy_fn(y_true=y, y_pred=y_preds)\n",
        "\n",
        "    # 3. Optimizer zero grad\n",
        "    optimizer.zero_grad()\n",
        "\n",
        "    # 4. Loss backward\n",
        "    loss.backward()\n",
        "\n",
        "    # 5. Optimizer step (update model's parameters once per batch)\n",
        "    optimizer.step()\n",
        "\n",
        "    # 6. Print out what's happening\n",
        "    if batch % 300 == 0 or batch == len(data_loader)-1:\n",
        "      print(f'Looked at {(batch+1) * len(X)}/{len(data_loader.dataset)} samples')\n",
        "\n",
        "  # 7. Adjust metrics and print out results\n",
        "  train_loss /= len(data_loader)\n",
        "  train_acc /= len(data_loader)\n",
        "  print(f'Train loss: {train_loss:.5f} | Train accuracy: {train_acc:.5f}')"
      ],
      "metadata": {
        "id": "Fhg8FqhbesrX"
      },
      "execution_count": 15,
      "outputs": []
    },
    {
      "cell_type": "code",
      "source": [
        "# Create test step\n",
        "def test_step(model: torch.nn.Module,\n",
        "              data_loader: torch.utils.data.DataLoader,\n",
        "              loss_fn: torch.nn.Module,\n",
        "              accuracy_fn,\n",
        "              device: torch.device = device):\n",
        "  \"\"\"Performs a testing loop step on model going over data_loader.\n",
        "  Args:\n",
        "    model (torch.nn.Module): The neural network model.\n",
        "    data_loader (torch.utils.data.DataLoader): The iterable of the dataset.\n",
        "    loss_fn (torch.nn.Module): The loss function.\n",
        "    accuracy_fn: The accuracy function.\n",
        "    device (torch.device): The device to run model training/testing on.\n",
        "\n",
        "  Returns:\n",
        "    [tensor(n,)[int]]: A tensor of predictions of the data in data_loader.\n",
        "  \"\"\"\n",
        "  test_loss, test_acc = 0, 0\n",
        "  all_preds = []\n",
        "\n",
        "  # Put the model in eval mode\n",
        "  model.eval()\n",
        "\n",
        "  # Turn on inference mode context manager\n",
        "  with torch.inference_mode():\n",
        "    for X, y in data_loader:\n",
        "      # Send the data to the target device\n",
        "      X, y = X.to(device), y.to(device)\n",
        "\n",
        "      # 1. Forward pass\n",
        "      test_logits = model(X)\n",
        "      test_preds = test_logits.argmax(dim=1)\n",
        "      all_preds.append(test_preds.cpu())\n",
        "\n",
        "      # 2. Calculate the loss/acc\n",
        "      test_loss += loss_fn(test_logits, y)\n",
        "      test_acc += accuracy_fn(y_true=y, y_pred=test_preds)\n",
        "\n",
        "    # 3. Adjust metrics and print out results\n",
        "    test_loss /= len(data_loader)\n",
        "    test_acc /= len(data_loader)\n",
        "    print(f'Test loss: {test_loss:.5f} | Test accuracy: {test_acc:.5f}\\n')\n",
        "\n",
        "    # 4. Return predictions\n",
        "    return torch.cat(all_preds)"
      ],
      "metadata": {
        "id": "TDAc9Qkrjzwv"
      },
      "execution_count": 16,
      "outputs": []
    },
    {
      "cell_type": "code",
      "source": [
        "# Create method to train and test model\n",
        "def train_and_test(model: torch.nn.Module,\n",
        "                   data_loader: torch.utils.data.DataLoader,\n",
        "                   loss_fn: torch.nn.Module,\n",
        "                   optimizer: torch.optim.Optimizer,\n",
        "                   accuracy_fn,\n",
        "                   epochs: int,\n",
        "                   device: torch.device = device):\n",
        "  \"\"\"Trains and tests model on data_loader for each number in epochs.\n",
        "\n",
        "  Args:\n",
        "    model (torch.nn.Module): The neural network model.\n",
        "    data_loader (torch.utils.data.DataLoader): The iterable of the dataset.\n",
        "    loss_fn (torch.nn.Module): The loss function.\n",
        "    optimizer (torch.optim.Optimizer): The optimization algorithm.\n",
        "    accuracy_fn: The accuracy function.\n",
        "    epochs (int): The number of epochs for training.\n",
        "    device (torch.device): The device to run model training/testing on.\n",
        "  \"\"\"\n",
        "  train_time_start = timer()\n",
        "\n",
        "  for epoch in tqdm(range(epochs)):\n",
        "    print(f'Epoch: {epoch}\\n----------------')\n",
        "\n",
        "    train_step(model=model,\n",
        "               data_loader=data_loader,\n",
        "               loss_fn=loss_fn,\n",
        "               optimizer=optimizer,\n",
        "               accuracy_fn=accuracy_fn,\n",
        "               device=device)\n",
        "\n",
        "    test_step(model=model,\n",
        "              data_loader=data_loader,\n",
        "              loss_fn=loss_fn,\n",
        "              accuracy_fn=accuracy_fn,\n",
        "              device=device)\n",
        "\n",
        "  train_time_end = timer()\n",
        "  total_train_time = print_train_time(start = train_time_start,\n",
        "                                      end = train_time_end,\n",
        "                                      device = device)\n",
        "\n",
        "  total_train_time"
      ],
      "metadata": {
        "id": "gzM4sGFVnW17"
      },
      "execution_count": 17,
      "outputs": []
    },
    {
      "cell_type": "code",
      "source": [
        "# Set hidden units and color channel\n",
        "TINY_VGG_HIDDEN_UNITS = 10\n",
        "EPOCHS = 5\n",
        "COLOR_CHANNEL, _, _ = image.shape"
      ],
      "metadata": {
        "id": "e_HUcVh3r--D"
      },
      "execution_count": 18,
      "outputs": []
    },
    {
      "cell_type": "code",
      "source": [
        "# Create Tiny VGG model on CPU\n",
        "tiny_vgg_cpu = TinyVGG(input_shape=COLOR_CHANNEL,\n",
        "                       hidden_units=TINY_VGG_HIDDEN_UNITS,\n",
        "                       output_shape=len(train_data.class_to_idx)).to('cpu')\n",
        "\n",
        "tiny_vgg_cpu"
      ],
      "metadata": {
        "colab": {
          "base_uri": "https://localhost:8080/"
        },
        "id": "PpB8pNZEsDD4",
        "outputId": "f3daff52-5da2-4a10-e059-d4875c93570d"
      },
      "execution_count": 19,
      "outputs": [
        {
          "output_type": "execute_result",
          "data": {
            "text/plain": [
              "TinyVGG(\n",
              "  (conv_block_1): Sequential(\n",
              "    (0): Conv2d(1, 10, kernel_size=(3, 3), stride=(1, 1))\n",
              "    (1): ReLU()\n",
              "    (2): Conv2d(10, 10, kernel_size=(3, 3), stride=(1, 1))\n",
              "    (3): ReLU()\n",
              "    (4): MaxPool2d(kernel_size=2, stride=2, padding=0, dilation=1, ceil_mode=False)\n",
              "  )\n",
              "  (conv_block_2): Sequential(\n",
              "    (0): Conv2d(10, 10, kernel_size=(3, 3), stride=(1, 1))\n",
              "    (1): ReLU()\n",
              "    (2): Conv2d(10, 10, kernel_size=(3, 3), stride=(1, 1))\n",
              "    (3): ReLU()\n",
              "    (4): MaxPool2d(kernel_size=2, stride=2, padding=0, dilation=1, ceil_mode=False)\n",
              "  )\n",
              "  (classifier): Sequential(\n",
              "    (0): Flatten(start_dim=1, end_dim=-1)\n",
              "    (1): Linear(in_features=160, out_features=10, bias=True)\n",
              "  )\n",
              ")"
            ]
          },
          "metadata": {},
          "execution_count": 19
        }
      ]
    },
    {
      "cell_type": "code",
      "source": [
        "# Crate Tiny VGG model on GPU\n",
        "tiny_vgg_gpu = TinyVGG(input_shape=COLOR_CHANNEL,\n",
        "                        hidden_units=TINY_VGG_HIDDEN_UNITS,\n",
        "                        output_shape=len(train_data.class_to_idx)).to('cuda')\n",
        "\n",
        "tiny_vgg_gpu"
      ],
      "metadata": {
        "colab": {
          "base_uri": "https://localhost:8080/"
        },
        "id": "RjYdtsLqtDAo",
        "outputId": "f8dc1ead-1881-425c-e027-62ad35fba333"
      },
      "execution_count": 20,
      "outputs": [
        {
          "output_type": "execute_result",
          "data": {
            "text/plain": [
              "TinyVGG(\n",
              "  (conv_block_1): Sequential(\n",
              "    (0): Conv2d(1, 10, kernel_size=(3, 3), stride=(1, 1))\n",
              "    (1): ReLU()\n",
              "    (2): Conv2d(10, 10, kernel_size=(3, 3), stride=(1, 1))\n",
              "    (3): ReLU()\n",
              "    (4): MaxPool2d(kernel_size=2, stride=2, padding=0, dilation=1, ceil_mode=False)\n",
              "  )\n",
              "  (conv_block_2): Sequential(\n",
              "    (0): Conv2d(10, 10, kernel_size=(3, 3), stride=(1, 1))\n",
              "    (1): ReLU()\n",
              "    (2): Conv2d(10, 10, kernel_size=(3, 3), stride=(1, 1))\n",
              "    (3): ReLU()\n",
              "    (4): MaxPool2d(kernel_size=2, stride=2, padding=0, dilation=1, ceil_mode=False)\n",
              "  )\n",
              "  (classifier): Sequential(\n",
              "    (0): Flatten(start_dim=1, end_dim=-1)\n",
              "    (1): Linear(in_features=160, out_features=10, bias=True)\n",
              "  )\n",
              ")"
            ]
          },
          "metadata": {},
          "execution_count": 20
        }
      ]
    },
    {
      "cell_type": "code",
      "source": [
        "# Create loss function and optimizer for tiny_vgg_cpu_optimizer\n",
        "loss_fn = nn.CrossEntropyLoss()\n",
        "tiny_vgg_cpu_optimizer = torch.optim.SGD(params=tiny_vgg_cpu.parameters(),\n",
        "                                         lr=0.1)"
      ],
      "metadata": {
        "id": "krKg57CM5Ewh"
      },
      "execution_count": 21,
      "outputs": []
    },
    {
      "cell_type": "code",
      "source": [
        "torch.manual_seed(7)\n",
        "train_and_test(model=tiny_vgg_cpu,\n",
        "               data_loader=train_dataloader,\n",
        "               loss_fn=loss_fn,\n",
        "               optimizer=tiny_vgg_cpu_optimizer,\n",
        "               accuracy_fn=accuracy_fn,\n",
        "               epochs=EPOCHS,\n",
        "               device='cpu')"
      ],
      "metadata": {
        "colab": {
          "base_uri": "https://localhost:8080/",
          "height": 1000,
          "referenced_widgets": [
            "256bc85ae7b74bc4b20594c18ab69fa1",
            "6bfd7b3eed914f619fe775f48b565756",
            "c452d825b75c4a2697725796ccd4785b",
            "8898bbe0f4544c55b3084390a713cfc5",
            "5a0924d1942c4674bd01110238afc3d7",
            "3a66340be4fe40f7ba7af35eb3068b50",
            "ff43bc9b6deb41078cf0a01395f4c8fc",
            "e9145c8b30514d568e46625e6fdcb119",
            "253322d2f4ca4b03bb197cff077b98ce",
            "cc12bc00a9104e458b4210f85a072cfc",
            "0a1d442113aa406b854b3f67373ead79"
          ]
        },
        "id": "-ytKDT9NmeVT",
        "outputId": "110f9bbd-b76b-4fa7-fc08-99a90d917b74"
      },
      "execution_count": 22,
      "outputs": [
        {
          "output_type": "display_data",
          "data": {
            "text/plain": [
              "  0%|          | 0/5 [00:00<?, ?it/s]"
            ],
            "application/vnd.jupyter.widget-view+json": {
              "version_major": 2,
              "version_minor": 0,
              "model_id": "256bc85ae7b74bc4b20594c18ab69fa1"
            }
          },
          "metadata": {}
        },
        {
          "output_type": "stream",
          "name": "stdout",
          "text": [
            "Epoch: 0\n",
            "----------------\n",
            "Looked at 32/60000 samples\n",
            "Looked at 9632/60000 samples\n",
            "Looked at 19232/60000 samples\n",
            "Looked at 28832/60000 samples\n",
            "Looked at 38432/60000 samples\n",
            "Looked at 48032/60000 samples\n",
            "Looked at 57632/60000 samples\n",
            "Looked at 60000/60000 samples\n",
            "Train loss: 0.43489 | Train accuracy: 84.95167\n",
            "Test loss: 0.09508 | Test accuracy: 97.02333\n",
            "\n",
            "Epoch: 1\n",
            "----------------\n",
            "Looked at 32/60000 samples\n",
            "Looked at 9632/60000 samples\n",
            "Looked at 19232/60000 samples\n",
            "Looked at 28832/60000 samples\n",
            "Looked at 38432/60000 samples\n",
            "Looked at 48032/60000 samples\n",
            "Looked at 57632/60000 samples\n",
            "Looked at 60000/60000 samples\n",
            "Train loss: 0.08950 | Train accuracy: 97.20833\n",
            "Test loss: 0.10650 | Test accuracy: 96.54167\n",
            "\n",
            "Epoch: 2\n",
            "----------------\n",
            "Looked at 32/60000 samples\n",
            "Looked at 9632/60000 samples\n",
            "Looked at 19232/60000 samples\n",
            "Looked at 28832/60000 samples\n",
            "Looked at 38432/60000 samples\n",
            "Looked at 48032/60000 samples\n",
            "Looked at 57632/60000 samples\n",
            "Looked at 60000/60000 samples\n",
            "Train loss: 0.06772 | Train accuracy: 97.87000\n",
            "Test loss: 0.06489 | Test accuracy: 97.84500\n",
            "\n",
            "Epoch: 3\n",
            "----------------\n",
            "Looked at 32/60000 samples\n",
            "Looked at 9632/60000 samples\n",
            "Looked at 19232/60000 samples\n",
            "Looked at 28832/60000 samples\n",
            "Looked at 38432/60000 samples\n",
            "Looked at 48032/60000 samples\n",
            "Looked at 57632/60000 samples\n",
            "Looked at 60000/60000 samples\n",
            "Train loss: 0.05677 | Train accuracy: 98.27500\n",
            "Test loss: 0.04488 | Test accuracy: 98.55833\n",
            "\n",
            "Epoch: 4\n",
            "----------------\n",
            "Looked at 32/60000 samples\n",
            "Looked at 9632/60000 samples\n",
            "Looked at 19232/60000 samples\n",
            "Looked at 28832/60000 samples\n",
            "Looked at 38432/60000 samples\n",
            "Looked at 48032/60000 samples\n",
            "Looked at 57632/60000 samples\n",
            "Looked at 60000/60000 samples\n",
            "Train loss: 0.04981 | Train accuracy: 98.40833\n",
            "Test loss: 0.04509 | Test accuracy: 98.59167\n",
            "\n",
            "Train time on cpu: 230.190 seconds\n"
          ]
        }
      ]
    },
    {
      "cell_type": "code",
      "source": [
        "# Create loss function and optimizer for tiny_vgg_gpu_optimizer\n",
        "loss_fn = nn.CrossEntropyLoss()\n",
        "tiny_vgg_gpu_optimizer = torch.optim.SGD(params=tiny_vgg_gpu.parameters(),\n",
        "                                         lr=0.1)"
      ],
      "metadata": {
        "id": "gC5nmggtToOF"
      },
      "execution_count": 23,
      "outputs": []
    },
    {
      "cell_type": "code",
      "source": [
        "torch.manual_seed(7)\n",
        "train_and_test(model=tiny_vgg_gpu,\n",
        "               data_loader=train_dataloader,\n",
        "               loss_fn=loss_fn,\n",
        "               optimizer=tiny_vgg_gpu_optimizer,\n",
        "               accuracy_fn=accuracy_fn,\n",
        "               epochs=EPOCHS,\n",
        "               device='cuda')"
      ],
      "metadata": {
        "id": "3uzflQf1T4Q3",
        "outputId": "d5d7a752-fb7f-43ae-a571-05195ea0e692",
        "colab": {
          "base_uri": "https://localhost:8080/",
          "height": 1000,
          "referenced_widgets": [
            "c91268fa7a0a4c719a4f8d9bc611d083",
            "1dc8680c9b3349c5aae947bc174f9301",
            "15fb839dc82445c6a1a588e5ab0bcec0",
            "a410bc1a93594233a5a9b2bec4a24786",
            "a16769a848ed4563adcbabb387e54756",
            "2e0d06a1541e4aee875c6c6d30666880",
            "f4277757e3cc41359a4b00da8a58828c",
            "4f2be2250f7c49ec99221f8487d1bb86",
            "864c9dc21f684916b0cee187955917c5",
            "dd6875331c3341d0ae2e8e51c07e2caf",
            "a8f79f8675d34151ae45f44c98c4e592"
          ]
        }
      },
      "execution_count": 24,
      "outputs": [
        {
          "output_type": "display_data",
          "data": {
            "text/plain": [
              "  0%|          | 0/5 [00:00<?, ?it/s]"
            ],
            "application/vnd.jupyter.widget-view+json": {
              "version_major": 2,
              "version_minor": 0,
              "model_id": "c91268fa7a0a4c719a4f8d9bc611d083"
            }
          },
          "metadata": {}
        },
        {
          "output_type": "stream",
          "name": "stdout",
          "text": [
            "Epoch: 0\n",
            "----------------\n",
            "Looked at 32/60000 samples\n",
            "Looked at 9632/60000 samples\n",
            "Looked at 19232/60000 samples\n",
            "Looked at 28832/60000 samples\n",
            "Looked at 38432/60000 samples\n",
            "Looked at 48032/60000 samples\n",
            "Looked at 57632/60000 samples\n",
            "Looked at 60000/60000 samples\n",
            "Train loss: 0.28107 | Train accuracy: 90.65333\n",
            "Test loss: 0.09276 | Test accuracy: 97.29500\n",
            "\n",
            "Epoch: 1\n",
            "----------------\n",
            "Looked at 32/60000 samples\n",
            "Looked at 9632/60000 samples\n",
            "Looked at 19232/60000 samples\n",
            "Looked at 28832/60000 samples\n",
            "Looked at 38432/60000 samples\n",
            "Looked at 48032/60000 samples\n",
            "Looked at 57632/60000 samples\n",
            "Looked at 60000/60000 samples\n",
            "Train loss: 0.08772 | Train accuracy: 97.33500\n",
            "Test loss: 0.07033 | Test accuracy: 97.78667\n",
            "\n",
            "Epoch: 2\n",
            "----------------\n",
            "Looked at 32/60000 samples\n",
            "Looked at 9632/60000 samples\n",
            "Looked at 19232/60000 samples\n",
            "Looked at 28832/60000 samples\n",
            "Looked at 38432/60000 samples\n",
            "Looked at 48032/60000 samples\n",
            "Looked at 57632/60000 samples\n",
            "Looked at 60000/60000 samples\n",
            "Train loss: 0.06838 | Train accuracy: 97.86500\n",
            "Test loss: 0.06671 | Test accuracy: 97.85833\n",
            "\n",
            "Epoch: 3\n",
            "----------------\n",
            "Looked at 32/60000 samples\n",
            "Looked at 9632/60000 samples\n",
            "Looked at 19232/60000 samples\n",
            "Looked at 28832/60000 samples\n",
            "Looked at 38432/60000 samples\n",
            "Looked at 48032/60000 samples\n",
            "Looked at 57632/60000 samples\n",
            "Looked at 60000/60000 samples\n",
            "Train loss: 0.05842 | Train accuracy: 98.20500\n",
            "Test loss: 0.04941 | Test accuracy: 98.46167\n",
            "\n",
            "Epoch: 4\n",
            "----------------\n",
            "Looked at 32/60000 samples\n",
            "Looked at 9632/60000 samples\n",
            "Looked at 19232/60000 samples\n",
            "Looked at 28832/60000 samples\n",
            "Looked at 38432/60000 samples\n",
            "Looked at 48032/60000 samples\n",
            "Looked at 57632/60000 samples\n",
            "Looked at 60000/60000 samples\n",
            "Train loss: 0.05161 | Train accuracy: 98.34167\n",
            "Test loss: 0.04294 | Test accuracy: 98.66667\n",
            "\n",
            "Train time on cuda: 103.012 seconds\n"
          ]
        }
      ]
    },
    {
      "cell_type": "markdown",
      "source": [
        "## 10. Make predictions using your trained model and visualize at least 5 of them comparing the prediciton to the target label."
      ],
      "metadata": {
        "id": "w1CsHhPpxp1w"
      }
    },
    {
      "cell_type": "code",
      "source": [
        "preds = test_step(model=tiny_vgg_gpu,\n",
        "              data_loader=test_dataloader,\n",
        "              loss_fn=loss_fn,\n",
        "              accuracy_fn=accuracy_fn,\n",
        "              device=device)"
      ],
      "metadata": {
        "id": "_YGgZvSobNxu",
        "outputId": "6e938b56-d7db-497c-92e1-55b1ebe357cc",
        "colab": {
          "base_uri": "https://localhost:8080/"
        }
      },
      "execution_count": 25,
      "outputs": [
        {
          "output_type": "stream",
          "name": "stdout",
          "text": [
            "Test loss: 0.05008 | Test accuracy: 98.22284\n",
            "\n"
          ]
        }
      ]
    },
    {
      "cell_type": "code",
      "source": [
        "# Initialize lists to hold the images and true labels in the test_dataloader\n",
        "images_list = []\n",
        "labels_list = []\n",
        "\n",
        "for images, labels in test_dataloader:\n",
        "    images_list.extend(images)\n",
        "    labels_list.extend(labels)"
      ],
      "metadata": {
        "id": "l79etMAa5rwg"
      },
      "execution_count": 26,
      "outputs": []
    },
    {
      "cell_type": "code",
      "source": [
        "# Combine image, true label, and predicted label as one element in a list\n",
        "test_data_and_preds = [(image, true_label, predicted_label) for image, true_label, predicted_label in zip(images_list, labels_list, list(preds.numpy()))]\n",
        "len(test_data_and_preds)"
      ],
      "metadata": {
        "id": "22VzzB_cWhZm",
        "outputId": "3edd1a95-bfbc-4b32-a78a-273464946e7d",
        "colab": {
          "base_uri": "https://localhost:8080/"
        }
      },
      "execution_count": 27,
      "outputs": [
        {
          "output_type": "execute_result",
          "data": {
            "text/plain": [
              "10000"
            ]
          },
          "metadata": {},
          "execution_count": 27
        }
      ]
    },
    {
      "cell_type": "code",
      "source": [
        "# Get 16 different random samples from test_data_and_preds\n",
        "import random\n",
        "\n",
        "random.seed(7)\n",
        "\n",
        "NUM_SAMPLES = 9\n",
        "\n",
        "random_data = random.sample(test_data_and_preds, k=NUM_SAMPLES)"
      ],
      "metadata": {
        "id": "G_3RzBiXhn-x"
      },
      "execution_count": 31,
      "outputs": []
    },
    {
      "cell_type": "code",
      "source": [
        "class_names = train_data.classes\n",
        "class_names"
      ],
      "metadata": {
        "id": "RJq-H8OIirZZ",
        "colab": {
          "base_uri": "https://localhost:8080/"
        },
        "outputId": "8b356a61-6543-4c6a-93a5-be562bbfa61b"
      },
      "execution_count": 32,
      "outputs": [
        {
          "output_type": "execute_result",
          "data": {
            "text/plain": [
              "['0 - zero',\n",
              " '1 - one',\n",
              " '2 - two',\n",
              " '3 - three',\n",
              " '4 - four',\n",
              " '5 - five',\n",
              " '6 - six',\n",
              " '7 - seven',\n",
              " '8 - eight',\n",
              " '9 - nine']"
            ]
          },
          "metadata": {},
          "execution_count": 32
        }
      ]
    },
    {
      "cell_type": "code",
      "source": [
        "import math\n",
        "from math import sqrt\n",
        "\n",
        "# Plot Predictions\n",
        "plt.figure(figsize=(9,9))\n",
        "nrows = int(sqrt(NUM_SAMPLES))\n",
        "ncols = int(sqrt(NUM_SAMPLES))\n",
        "\n",
        "for i, data_sample in enumerate(random_data):\n",
        "  # Unpack data sample\n",
        "  image, true_label, predicted_label = data_sample\n",
        "\n",
        "  # Create subplot\n",
        "  plt.subplot(nrows, ncols, i+1)\n",
        "\n",
        "  # Plot the target image\n",
        "  plt.imshow(image.squeeze(), cmap='gray')\n",
        "\n",
        "  # Find the predicted class name (in text form, e.g. 'Sandal')\n",
        "  predicted_class_name = class_names[predicted_label]\n",
        "\n",
        "  # Get the true class name (in text form)\n",
        "  true_class_name = class_names[true_label]\n",
        "\n",
        "  # Create a title for the plot\n",
        "  title_text = f'Predicted: {predicted_class_name} | Truth: {true_class_name}'\n",
        "\n",
        "  # Check for equality between pred and truth and change color of title text\n",
        "  if predicted_class_name == true_class_name:\n",
        "    title_color = 'g'\n",
        "  else:\n",
        "    title_color = 'r'\n",
        "\n",
        "  # Plot the title\n",
        "  plt.title(title_text, fontsize=10, c=title_color)\n",
        "\n",
        "  plt.axis(False)"
      ],
      "metadata": {
        "id": "Pzb0_PuKaAbo",
        "colab": {
          "base_uri": "https://localhost:8080/",
          "height": 749
        },
        "outputId": "999f1673-5c1c-4745-d14b-741de7d93110"
      },
      "execution_count": 35,
      "outputs": [
        {
          "output_type": "display_data",
          "data": {
            "text/plain": [
              "<Figure size 900x900 with 9 Axes>"
            ],
            "image/png": "[encoded data removed]"
          },
          "metadata": {}
        }
      ]
    },
    {
      "cell_type": "markdown",
      "source": [
        "## 11. Plot a confusion matrix comparing your model's predictions to the truth labels."
      ],
      "metadata": {
        "id": "qQwzqlBWxrpG"
      }
    },
    {
      "cell_type": "code",
      "source": [
        "# See if required packages are installed and if not, install them.\n",
        "try:\n",
        "  import torchmetrics, mlxtend\n",
        "  print(f'mlxtend version: {mlxtend.__version__}')\n",
        "  assert int(mlxtend.__version__.split('.')[1]) >= 19, 'mlxtend version should be 0.19 or higher'\n",
        "except:\n",
        "  !pip install -q torchmetrics -U mlxtend\n",
        "  import torchmetrics, mlxtend\n",
        "  print(f'mlxtend version: {mlxtend.__version__}')"
      ],
      "metadata": {
        "id": "vSrXiT_AbQ6e",
        "colab": {
          "base_uri": "https://localhost:8080/"
        },
        "outputId": "6927aaed-89dd-4080-91c6-100276df8a84"
      },
      "execution_count": 36,
      "outputs": [
        {
          "output_type": "stream",
          "name": "stdout",
          "text": [
            "\u001b[2K     \u001b[90m━━━━━━━━━━━━━━━━━━━━━━━━━━━━━━━━━━━━━━━━\u001b[0m \u001b[32m840.4/840.4 kB\u001b[0m \u001b[31m10.3 MB/s\u001b[0m eta \u001b[36m0:00:00\u001b[0m\n",
            "\u001b[2K     \u001b[90m━━━━━━━━━━━━━━━━━━━━━━━━━━━━━━━━━━━━━━━━\u001b[0m \u001b[32m1.4/1.4 MB\u001b[0m \u001b[31m19.4 MB/s\u001b[0m eta \u001b[36m0:00:00\u001b[0m\n",
            "\u001b[?25hmlxtend version: 0.23.1\n"
          ]
        }
      ]
    },
    {
      "cell_type": "code",
      "source": [
        "from torchmetrics import ConfusionMatrix\n",
        "from mlxtend.plotting import plot_confusion_matrix\n",
        "\n",
        "confmat = ConfusionMatrix(num_classes=len(class_names), task='multiclass')\n",
        "confmat_tensor = confmat(preds=preds,\n",
        "                         target=test_data.targets)\n",
        "\n",
        "confmat_tensor"
      ],
      "metadata": {
        "colab": {
          "base_uri": "https://localhost:8080/"
        },
        "id": "Akomj89YTUIq",
        "outputId": "cec69ead-d465-4eb7-81d9-c9f4c507ad1a"
      },
      "execution_count": 38,
      "outputs": [
        {
          "output_type": "execute_result",
          "data": {
            "text/plain": [
              "tensor([[ 976,    1,    0,    0,    0,    0,    2,    1,    0,    0],\n",
              "        [   0, 1130,    1,    0,    0,    0,    1,    1,    2,    0],\n",
              "        [   1,    3, 1020,    3,    0,    0,    1,    1,    3,    0],\n",
              "        [   1,    0,    1,  992,    0,   11,    0,    2,    2,    1],\n",
              "        [   0,    1,    4,    0,  949,    0,    6,    1,    3,   18],\n",
              "        [   2,    0,    0,    3,    0,  882,    1,    1,    1,    2],\n",
              "        [  11,    4,    1,    1,    1,    3,  933,    1,    3,    0],\n",
              "        [   0,    7,    8,    0,    0,    0,    0, 1003,    2,    8],\n",
              "        [   6,    0,    3,    2,    0,    5,    3,    0,  950,    5],\n",
              "        [   1,    5,    0,    0,    2,    4,    1,    6,    3,  987]])"
            ]
          },
          "metadata": {},
          "execution_count": 38
        }
      ]
    },
    {
      "cell_type": "code",
      "source": [
        "fig, ax = plot_confusion_matrix(\n",
        "    conf_mat=confmat_tensor.numpy(),\n",
        "    class_names=class_names,\n",
        "    figsize=(10, 7)\n",
        ")"
      ],
      "metadata": {
        "colab": {
          "base_uri": "https://localhost:8080/",
          "height": 660
        },
        "id": "08YGOukiT67g",
        "outputId": "be83a52a-2a9b-4c55-fd95-4ee088ef39d8"
      },
      "execution_count": 39,
      "outputs": [
        {
          "output_type": "display_data",
          "data": {
            "text/plain": [
              "<Figure size 1000x700 with 1 Axes>"
            ],
            "image/png": "[encoded data removed]"
          },
          "metadata": {}
        }
      ]
    },
    {
      "cell_type": "markdown",
      "source": [
        "## 12. Create a random tensor of shape `[1, 3, 64, 64]` and pass it through a `nn.Conv2d()` layer with various hyperparameter settings (these can be any settings you choose), what do you notice if the `kernel_size` parameter goes up and down?"
      ],
      "metadata": {
        "id": "lj6bDhoWxt2y"
      }
    },
    {
      "cell_type": "code",
      "source": [
        "torch.manual_seed(7)\n",
        "\n",
        "t = torch.rand(size=[1, 3, 64, 64])\n",
        "t"
      ],
      "metadata": {
        "id": "leCTsqtSbR5P",
        "colab": {
          "base_uri": "https://localhost:8080/"
        },
        "outputId": "0fb6111e-a29c-4ca6-a879-89b36a3abe4b"
      },
      "execution_count": 41,
      "outputs": [
        {
          "output_type": "execute_result",
          "data": {
            "text/plain": [
              "tensor([[[[0.5349, 0.1988, 0.6592,  ..., 0.5550, 0.6361, 0.1081],\n",
              "          [0.3305, 0.5196, 0.2147,  ..., 0.3572, 0.0663, 0.1744],\n",
              "          [0.7042, 0.6979, 0.1908,  ..., 0.6712, 0.7957, 0.9995],\n",
              "          ...,\n",
              "          [0.8623, 0.5799, 0.0493,  ..., 0.0773, 0.6557, 0.1577],\n",
              "          [0.3028, 0.0437, 0.0658,  ..., 0.1017, 0.8548, 0.0438],\n",
              "          [0.9340, 0.6379, 0.1911,  ..., 0.5484, 0.7785, 0.6296]],\n",
              "\n",
              "         [[0.8736, 0.0577, 0.0510,  ..., 0.6105, 0.3268, 0.9005],\n",
              "          [0.6085, 0.3064, 0.4446,  ..., 0.0144, 0.6968, 0.8492],\n",
              "          [0.9643, 0.0795, 0.5867,  ..., 0.4383, 0.9444, 0.8719],\n",
              "          ...,\n",
              "          [0.8248, 0.4243, 0.4861,  ..., 0.7735, 0.4287, 0.7283],\n",
              "          [0.4275, 0.4120, 0.9760,  ..., 0.5936, 0.3197, 0.8245],\n",
              "          [0.2405, 0.3538, 0.2223,  ..., 0.4567, 0.8340, 0.7671]],\n",
              "\n",
              "         [[0.9400, 0.3030, 0.0273,  ..., 0.4461, 0.1049, 0.9498],\n",
              "          [0.2548, 0.8768, 0.0016,  ..., 0.6498, 0.8317, 0.3790],\n",
              "          [0.5969, 0.4711, 0.2554,  ..., 0.7109, 0.3505, 0.9485],\n",
              "          ...,\n",
              "          [0.8688, 0.2540, 0.6494,  ..., 0.0748, 0.8532, 0.8032],\n",
              "          [0.9513, 0.6706, 0.2086,  ..., 0.2543, 0.8782, 0.9408],\n",
              "          [0.1519, 0.7447, 0.1016,  ..., 0.5998, 0.3414, 0.2086]]]])"
            ]
          },
          "metadata": {},
          "execution_count": 41
        }
      ]
    },
    {
      "cell_type": "code",
      "source": [
        "layer = nn.Conv2d(in_channels=3,\n",
        "                  out_channels=10,\n",
        "                  kernel_size=3,\n",
        "                  stride=1,\n",
        "                  padding=0)\n",
        "\n",
        "layer(t).shape"
      ],
      "metadata": {
        "id": "vlkzYDqcUns5",
        "outputId": "9c111a65-c1a5-4191-8798-292622f5c3e6",
        "colab": {
          "base_uri": "https://localhost:8080/"
        }
      },
      "execution_count": 44,
      "outputs": [
        {
          "output_type": "execute_result",
          "data": {
            "text/plain": [
              "torch.Size([1, 10, 62, 62])"
            ]
          },
          "metadata": {},
          "execution_count": 44
        }
      ]
    },
    {
      "cell_type": "code",
      "source": [
        "layer = nn.Conv2d(in_channels=3,\n",
        "                  out_channels=10,\n",
        "                  kernel_size=5,\n",
        "                  stride=1,\n",
        "                  padding=0)\n",
        "\n",
        "layer(t).shape"
      ],
      "metadata": {
        "id": "tBd1aUdaV35M",
        "outputId": "e093d0df-9577-4d10-d9d3-0cd46de7f58e",
        "colab": {
          "base_uri": "https://localhost:8080/"
        }
      },
      "execution_count": 45,
      "outputs": [
        {
          "output_type": "execute_result",
          "data": {
            "text/plain": [
              "torch.Size([1, 10, 60, 60])"
            ]
          },
          "metadata": {},
          "execution_count": 45
        }
      ]
    },
    {
      "cell_type": "code",
      "source": [
        "layer = nn.Conv2d(in_channels=3,\n",
        "                  out_channels=10,\n",
        "                  kernel_size=8,\n",
        "                  stride=1,\n",
        "                  padding=0)\n",
        "\n",
        "layer(t).shape"
      ],
      "metadata": {
        "id": "1GR2QjpgV9e4",
        "outputId": "7cf01902-5de9-41b8-dd1e-7f36a7448e3b",
        "colab": {
          "base_uri": "https://localhost:8080/"
        }
      },
      "execution_count": 46,
      "outputs": [
        {
          "output_type": "execute_result",
          "data": {
            "text/plain": [
              "torch.Size([1, 10, 57, 57])"
            ]
          },
          "metadata": {},
          "execution_count": 46
        }
      ]
    },
    {
      "cell_type": "code",
      "source": [
        "layer = nn.Conv2d(in_channels=3,\n",
        "                  out_channels=10,\n",
        "                  kernel_size=2,\n",
        "                  stride=1,\n",
        "                  padding=0)\n",
        "\n",
        "layer(t).shape"
      ],
      "metadata": {
        "id": "aqjua2LTWAsI",
        "outputId": "a81bd4f4-800e-4029-b5a9-15be49862abd",
        "colab": {
          "base_uri": "https://localhost:8080/"
        }
      },
      "execution_count": 47,
      "outputs": [
        {
          "output_type": "execute_result",
          "data": {
            "text/plain": [
              "torch.Size([1, 10, 63, 63])"
            ]
          },
          "metadata": {},
          "execution_count": 47
        }
      ]
    },
    {
      "cell_type": "markdown",
      "source": [
        "The size of the output images were larger for small kernel sizes versus being a smaller image size for larger kernel sizes."
      ],
      "metadata": {
        "id": "4Xjg-ZlkWF0S"
      }
    },
    {
      "cell_type": "markdown",
      "source": [
        "## 13. Use a model similar to the trained `model_2` from notebook 03 to make predictions on the test [`torchvision.datasets.FashionMNIST`](https://pytorch.org/vision/main/generated/torchvision.datasets.FashionMNIST.html) dataset.\n",
        "* Then plot some predictions where the model was wrong alongside what the label of the image should've been.\n",
        "* After visualing these predictions do you think it's more of a modelling error or a data error?\n",
        "* As in, could the model do better or are the labels of the data too close to each other (e.g. a \"Shirt\" label is too close to \"T-shirt/top\")?"
      ],
      "metadata": {
        "id": "VHS20cNTxwSi"
      }
    },
    {
      "cell_type": "code",
      "source": [
        "fashion_mnist_train_data = datasets.FashionMNIST(\n",
        "    root='data',\n",
        "    train=True,\n",
        "    download=True,\n",
        "    transform=ToTensor(),\n",
        "    target_transform=None\n",
        ")\n",
        "\n",
        "fashion_mnist_test_data = datasets.FashionMNIST(\n",
        "    root='data',\n",
        "    train=False,\n",
        "    download=True,\n",
        "    transform=ToTensor(),\n",
        "    target_transform=None\n",
        ")"
      ],
      "metadata": {
        "id": "g-9FL8d8YPmR"
      },
      "execution_count": 52,
      "outputs": []
    },
    {
      "cell_type": "code",
      "source": [
        "len(fashion_mnist_train_data), len(fashion_mnist_test_data)"
      ],
      "metadata": {
        "id": "i3B_L65mY6e4",
        "outputId": "741cece5-5bee-4bd6-cd28-f142d311c124",
        "colab": {
          "base_uri": "https://localhost:8080/"
        }
      },
      "execution_count": 53,
      "outputs": [
        {
          "output_type": "execute_result",
          "data": {
            "text/plain": [
              "(60000, 10000)"
            ]
          },
          "metadata": {},
          "execution_count": 53
        }
      ]
    },
    {
      "cell_type": "code",
      "source": [
        "# The model that we have is currently similar to model_2 from lecture notebook 03.\n",
        "wrong_predictions = [(image, true_label, predicted_label) for image, true_label, predicted_label in test_data_and_preds if true_label != predicted_label]\n",
        "len(wrong_predictions)"
      ],
      "metadata": {
        "id": "78a8LjtdbSZj",
        "colab": {
          "base_uri": "https://localhost:8080/"
        },
        "outputId": "3f44bb6f-9379-4364-c784-9028ff8faf26"
      },
      "execution_count": 48,
      "outputs": [
        {
          "output_type": "execute_result",
          "data": {
            "text/plain": [
              "178"
            ]
          },
          "metadata": {},
          "execution_count": 48
        }
      ]
    },
    {
      "cell_type": "code",
      "source": [
        "# Plot Predictions\n",
        "plt.figure(figsize=(9,9))\n",
        "nrows = int(sqrt(NUM_SAMPLES))\n",
        "ncols = int(sqrt(NUM_SAMPLES))\n",
        "\n",
        "for i, data_sample in enumerate(wrong_predictions[:NUM_SAMPLES]):\n",
        "  # Unpack data sample\n",
        "  image, true_label, predicted_label = data_sample\n",
        "\n",
        "  # Create subplot\n",
        "  plt.subplot(nrows, ncols, i+1)\n",
        "\n",
        "  # Plot the target image\n",
        "  plt.imshow(image.squeeze(), cmap='gray')\n",
        "\n",
        "  # Find the predicted class name (in text form, e.g. 'Sandal')\n",
        "  predicted_class_name = class_names[predicted_label]\n",
        "\n",
        "  # Get the true class name (in text form)\n",
        "  true_class_name = class_names[true_label]\n",
        "\n",
        "  # Create a title for the plot\n",
        "  title_text = f'Predicted: {predicted_class_name} | Truth: {true_class_name}'\n",
        "\n",
        "  # Check for equality between pred and truth and change color of title text\n",
        "  if predicted_class_name == true_class_name:\n",
        "    title_color = 'g'\n",
        "  else:\n",
        "    title_color = 'r'\n",
        "\n",
        "  # Plot the title\n",
        "  plt.title(title_text, fontsize=10, c=title_color)\n",
        "\n",
        "  plt.axis(False)"
      ],
      "metadata": {
        "id": "tbsxgyVYXbh4",
        "outputId": "b81a0fe7-109e-4b5e-e8d5-f3c7ba9a913f",
        "colab": {
          "base_uri": "https://localhost:8080/",
          "height": 749
        }
      },
      "execution_count": 50,
      "outputs": [
        {
          "output_type": "display_data",
          "data": {
            "text/plain": [
              "<Figure size 900x900 with 9 Axes>"
            ],
            "image/png": "[encoded data removed]"
          },
          "metadata": {}
        }
      ]
    }
  ]
}