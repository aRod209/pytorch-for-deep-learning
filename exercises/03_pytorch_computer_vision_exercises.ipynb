{
  "nbformat": 4,
  "nbformat_minor": 0,
  "metadata": {
    "colab": {
      "name": "03_pytorch_computer_vision_exercises.ipynb",
      "provenance": [],
      "gpuType": "T4",
      "toc_visible": true,
      "include_colab_link": true
    },
    "kernelspec": {
      "name": "python3",
      "display_name": "Python 3"
    },
    "language_info": {
      "name": "python"
    },
    "widgets": {
      "application/vnd.jupyter.widget-state+json": {
        "8d2b5fff66484fa289723d0ed73225dc": {
          "model_module": "@jupyter-widgets/controls",
          "model_name": "HBoxModel",
          "model_module_version": "1.5.0",
          "state": {
            "_dom_classes": [],
            "_model_module": "@jupyter-widgets/controls",
            "_model_module_version": "1.5.0",
            "_model_name": "HBoxModel",
            "_view_count": null,
            "_view_module": "@jupyter-widgets/controls",
            "_view_module_version": "1.5.0",
            "_view_name": "HBoxView",
            "box_style": "",
            "children": [
              "IPY_MODEL_fac5e923e932483ca60ac4c01bdd4da3",
              "IPY_MODEL_eb489477c12e4469a05aad467a35d620",
              "IPY_MODEL_9e3bcb11e3064211a9dfdcbf857657ab"
            ],
            "layout": "IPY_MODEL_7df0543526db43479b030f8cf6665220"
          }
        },
        "fac5e923e932483ca60ac4c01bdd4da3": {
          "model_module": "@jupyter-widgets/controls",
          "model_name": "HTMLModel",
          "model_module_version": "1.5.0",
          "state": {
            "_dom_classes": [],
            "_model_module": "@jupyter-widgets/controls",
            "_model_module_version": "1.5.0",
            "_model_name": "HTMLModel",
            "_view_count": null,
            "_view_module": "@jupyter-widgets/controls",
            "_view_module_version": "1.5.0",
            "_view_name": "HTMLView",
            "description": "",
            "description_tooltip": null,
            "layout": "IPY_MODEL_514ce6197ce74365b0b6658774cb03fb",
            "placeholder": "​",
            "style": "IPY_MODEL_365dca9fd45a46be9f9cf72635ad05c7",
            "value": "100%"
          }
        },
        "eb489477c12e4469a05aad467a35d620": {
          "model_module": "@jupyter-widgets/controls",
          "model_name": "FloatProgressModel",
          "model_module_version": "1.5.0",
          "state": {
            "_dom_classes": [],
            "_model_module": "@jupyter-widgets/controls",
            "_model_module_version": "1.5.0",
            "_model_name": "FloatProgressModel",
            "_view_count": null,
            "_view_module": "@jupyter-widgets/controls",
            "_view_module_version": "1.5.0",
            "_view_name": "ProgressView",
            "bar_style": "success",
            "description": "",
            "description_tooltip": null,
            "layout": "IPY_MODEL_8df815f4fdce4b8db200ac6c24a1041d",
            "max": 5,
            "min": 0,
            "orientation": "horizontal",
            "style": "IPY_MODEL_6448aba7da024867828467fda9777627",
            "value": 5
          }
        },
        "9e3bcb11e3064211a9dfdcbf857657ab": {
          "model_module": "@jupyter-widgets/controls",
          "model_name": "HTMLModel",
          "model_module_version": "1.5.0",
          "state": {
            "_dom_classes": [],
            "_model_module": "@jupyter-widgets/controls",
            "_model_module_version": "1.5.0",
            "_model_name": "HTMLModel",
            "_view_count": null,
            "_view_module": "@jupyter-widgets/controls",
            "_view_module_version": "1.5.0",
            "_view_name": "HTMLView",
            "description": "",
            "description_tooltip": null,
            "layout": "IPY_MODEL_292ca696024741bfa90d895a24327153",
            "placeholder": "​",
            "style": "IPY_MODEL_8e9f05b7b2b64619be1675c134bb1e8b",
            "value": " 5/5 [03:00&lt;00:00, 35.85s/it]"
          }
        },
        "7df0543526db43479b030f8cf6665220": {
          "model_module": "@jupyter-widgets/base",
          "model_name": "LayoutModel",
          "model_module_version": "1.2.0",
          "state": {
            "_model_module": "@jupyter-widgets/base",
            "_model_module_version": "1.2.0",
            "_model_name": "LayoutModel",
            "_view_count": null,
            "_view_module": "@jupyter-widgets/base",
            "_view_module_version": "1.2.0",
            "_view_name": "LayoutView",
            "align_content": null,
            "align_items": null,
            "align_self": null,
            "border": null,
            "bottom": null,
            "display": null,
            "flex": null,
            "flex_flow": null,
            "grid_area": null,
            "grid_auto_columns": null,
            "grid_auto_flow": null,
            "grid_auto_rows": null,
            "grid_column": null,
            "grid_gap": null,
            "grid_row": null,
            "grid_template_areas": null,
            "grid_template_columns": null,
            "grid_template_rows": null,
            "height": null,
            "justify_content": null,
            "justify_items": null,
            "left": null,
            "margin": null,
            "max_height": null,
            "max_width": null,
            "min_height": null,
            "min_width": null,
            "object_fit": null,
            "object_position": null,
            "order": null,
            "overflow": null,
            "overflow_x": null,
            "overflow_y": null,
            "padding": null,
            "right": null,
            "top": null,
            "visibility": null,
            "width": null
          }
        },
        "514ce6197ce74365b0b6658774cb03fb": {
          "model_module": "@jupyter-widgets/base",
          "model_name": "LayoutModel",
          "model_module_version": "1.2.0",
          "state": {
            "_model_module": "@jupyter-widgets/base",
            "_model_module_version": "1.2.0",
            "_model_name": "LayoutModel",
            "_view_count": null,
            "_view_module": "@jupyter-widgets/base",
            "_view_module_version": "1.2.0",
            "_view_name": "LayoutView",
            "align_content": null,
            "align_items": null,
            "align_self": null,
            "border": null,
            "bottom": null,
            "display": null,
            "flex": null,
            "flex_flow": null,
            "grid_area": null,
            "grid_auto_columns": null,
            "grid_auto_flow": null,
            "grid_auto_rows": null,
            "grid_column": null,
            "grid_gap": null,
            "grid_row": null,
            "grid_template_areas": null,
            "grid_template_columns": null,
            "grid_template_rows": null,
            "height": null,
            "justify_content": null,
            "justify_items": null,
            "left": null,
            "margin": null,
            "max_height": null,
            "max_width": null,
            "min_height": null,
            "min_width": null,
            "object_fit": null,
            "object_position": null,
            "order": null,
            "overflow": null,
            "overflow_x": null,
            "overflow_y": null,
            "padding": null,
            "right": null,
            "top": null,
            "visibility": null,
            "width": null
          }
        },
        "365dca9fd45a46be9f9cf72635ad05c7": {
          "model_module": "@jupyter-widgets/controls",
          "model_name": "DescriptionStyleModel",
          "model_module_version": "1.5.0",
          "state": {
            "_model_module": "@jupyter-widgets/controls",
            "_model_module_version": "1.5.0",
            "_model_name": "DescriptionStyleModel",
            "_view_count": null,
            "_view_module": "@jupyter-widgets/base",
            "_view_module_version": "1.2.0",
            "_view_name": "StyleView",
            "description_width": ""
          }
        },
        "8df815f4fdce4b8db200ac6c24a1041d": {
          "model_module": "@jupyter-widgets/base",
          "model_name": "LayoutModel",
          "model_module_version": "1.2.0",
          "state": {
            "_model_module": "@jupyter-widgets/base",
            "_model_module_version": "1.2.0",
            "_model_name": "LayoutModel",
            "_view_count": null,
            "_view_module": "@jupyter-widgets/base",
            "_view_module_version": "1.2.0",
            "_view_name": "LayoutView",
            "align_content": null,
            "align_items": null,
            "align_self": null,
            "border": null,
            "bottom": null,
            "display": null,
            "flex": null,
            "flex_flow": null,
            "grid_area": null,
            "grid_auto_columns": null,
            "grid_auto_flow": null,
            "grid_auto_rows": null,
            "grid_column": null,
            "grid_gap": null,
            "grid_row": null,
            "grid_template_areas": null,
            "grid_template_columns": null,
            "grid_template_rows": null,
            "height": null,
            "justify_content": null,
            "justify_items": null,
            "left": null,
            "margin": null,
            "max_height": null,
            "max_width": null,
            "min_height": null,
            "min_width": null,
            "object_fit": null,
            "object_position": null,
            "order": null,
            "overflow": null,
            "overflow_x": null,
            "overflow_y": null,
            "padding": null,
            "right": null,
            "top": null,
            "visibility": null,
            "width": null
          }
        },
        "6448aba7da024867828467fda9777627": {
          "model_module": "@jupyter-widgets/controls",
          "model_name": "ProgressStyleModel",
          "model_module_version": "1.5.0",
          "state": {
            "_model_module": "@jupyter-widgets/controls",
            "_model_module_version": "1.5.0",
            "_model_name": "ProgressStyleModel",
            "_view_count": null,
            "_view_module": "@jupyter-widgets/base",
            "_view_module_version": "1.2.0",
            "_view_name": "StyleView",
            "bar_color": null,
            "description_width": ""
          }
        },
        "292ca696024741bfa90d895a24327153": {
          "model_module": "@jupyter-widgets/base",
          "model_name": "LayoutModel",
          "model_module_version": "1.2.0",
          "state": {
            "_model_module": "@jupyter-widgets/base",
            "_model_module_version": "1.2.0",
            "_model_name": "LayoutModel",
            "_view_count": null,
            "_view_module": "@jupyter-widgets/base",
            "_view_module_version": "1.2.0",
            "_view_name": "LayoutView",
            "align_content": null,
            "align_items": null,
            "align_self": null,
            "border": null,
            "bottom": null,
            "display": null,
            "flex": null,
            "flex_flow": null,
            "grid_area": null,
            "grid_auto_columns": null,
            "grid_auto_flow": null,
            "grid_auto_rows": null,
            "grid_column": null,
            "grid_gap": null,
            "grid_row": null,
            "grid_template_areas": null,
            "grid_template_columns": null,
            "grid_template_rows": null,
            "height": null,
            "justify_content": null,
            "justify_items": null,
            "left": null,
            "margin": null,
            "max_height": null,
            "max_width": null,
            "min_height": null,
            "min_width": null,
            "object_fit": null,
            "object_position": null,
            "order": null,
            "overflow": null,
            "overflow_x": null,
            "overflow_y": null,
            "padding": null,
            "right": null,
            "top": null,
            "visibility": null,
            "width": null
          }
        },
        "8e9f05b7b2b64619be1675c134bb1e8b": {
          "model_module": "@jupyter-widgets/controls",
          "model_name": "DescriptionStyleModel",
          "model_module_version": "1.5.0",
          "state": {
            "_model_module": "@jupyter-widgets/controls",
            "_model_module_version": "1.5.0",
            "_model_name": "DescriptionStyleModel",
            "_view_count": null,
            "_view_module": "@jupyter-widgets/base",
            "_view_module_version": "1.2.0",
            "_view_name": "StyleView",
            "description_width": ""
          }
        },
        "c9cbec4a0af149c0bc1a6e1ec906d995": {
          "model_module": "@jupyter-widgets/controls",
          "model_name": "HBoxModel",
          "model_module_version": "1.5.0",
          "state": {
            "_dom_classes": [],
            "_model_module": "@jupyter-widgets/controls",
            "_model_module_version": "1.5.0",
            "_model_name": "HBoxModel",
            "_view_count": null,
            "_view_module": "@jupyter-widgets/controls",
            "_view_module_version": "1.5.0",
            "_view_name": "HBoxView",
            "box_style": "",
            "children": [
              "IPY_MODEL_e220cb955986404293ec643b72363e21",
              "IPY_MODEL_6a957cf2bee844d0a1f1d66706929e49",
              "IPY_MODEL_159b8060bb584d0791651dae9fbe8b00"
            ],
            "layout": "IPY_MODEL_4d9aab4515f44f399518bc8580adfada"
          }
        },
        "e220cb955986404293ec643b72363e21": {
          "model_module": "@jupyter-widgets/controls",
          "model_name": "HTMLModel",
          "model_module_version": "1.5.0",
          "state": {
            "_dom_classes": [],
            "_model_module": "@jupyter-widgets/controls",
            "_model_module_version": "1.5.0",
            "_model_name": "HTMLModel",
            "_view_count": null,
            "_view_module": "@jupyter-widgets/controls",
            "_view_module_version": "1.5.0",
            "_view_name": "HTMLView",
            "description": "",
            "description_tooltip": null,
            "layout": "IPY_MODEL_ba8301452da344fab47548c4cb34a20e",
            "placeholder": "​",
            "style": "IPY_MODEL_7f653871ecee4d82b08c6f0baf16bf91",
            "value": "100%"
          }
        },
        "6a957cf2bee844d0a1f1d66706929e49": {
          "model_module": "@jupyter-widgets/controls",
          "model_name": "FloatProgressModel",
          "model_module_version": "1.5.0",
          "state": {
            "_dom_classes": [],
            "_model_module": "@jupyter-widgets/controls",
            "_model_module_version": "1.5.0",
            "_model_name": "FloatProgressModel",
            "_view_count": null,
            "_view_module": "@jupyter-widgets/controls",
            "_view_module_version": "1.5.0",
            "_view_name": "ProgressView",
            "bar_style": "success",
            "description": "",
            "description_tooltip": null,
            "layout": "IPY_MODEL_84f76ae575e34b20aa545f09ee3c2006",
            "max": 5,
            "min": 0,
            "orientation": "horizontal",
            "style": "IPY_MODEL_f19a12c5a0da48d89f3f1cca69316584",
            "value": 5
          }
        },
        "159b8060bb584d0791651dae9fbe8b00": {
          "model_module": "@jupyter-widgets/controls",
          "model_name": "HTMLModel",
          "model_module_version": "1.5.0",
          "state": {
            "_dom_classes": [],
            "_model_module": "@jupyter-widgets/controls",
            "_model_module_version": "1.5.0",
            "_model_name": "HTMLModel",
            "_view_count": null,
            "_view_module": "@jupyter-widgets/controls",
            "_view_module_version": "1.5.0",
            "_view_name": "HTMLView",
            "description": "",
            "description_tooltip": null,
            "layout": "IPY_MODEL_907447848b9846a2ac67dc6c6f6cd106",
            "placeholder": "​",
            "style": "IPY_MODEL_6710634e42c1475bb2fbf6a8d0170b6f",
            "value": " 5/5 [01:01&lt;00:00, 12.35s/it]"
          }
        },
        "4d9aab4515f44f399518bc8580adfada": {
          "model_module": "@jupyter-widgets/base",
          "model_name": "LayoutModel",
          "model_module_version": "1.2.0",
          "state": {
            "_model_module": "@jupyter-widgets/base",
            "_model_module_version": "1.2.0",
            "_model_name": "LayoutModel",
            "_view_count": null,
            "_view_module": "@jupyter-widgets/base",
            "_view_module_version": "1.2.0",
            "_view_name": "LayoutView",
            "align_content": null,
            "align_items": null,
            "align_self": null,
            "border": null,
            "bottom": null,
            "display": null,
            "flex": null,
            "flex_flow": null,
            "grid_area": null,
            "grid_auto_columns": null,
            "grid_auto_flow": null,
            "grid_auto_rows": null,
            "grid_column": null,
            "grid_gap": null,
            "grid_row": null,
            "grid_template_areas": null,
            "grid_template_columns": null,
            "grid_template_rows": null,
            "height": null,
            "justify_content": null,
            "justify_items": null,
            "left": null,
            "margin": null,
            "max_height": null,
            "max_width": null,
            "min_height": null,
            "min_width": null,
            "object_fit": null,
            "object_position": null,
            "order": null,
            "overflow": null,
            "overflow_x": null,
            "overflow_y": null,
            "padding": null,
            "right": null,
            "top": null,
            "visibility": null,
            "width": null
          }
        },
        "ba8301452da344fab47548c4cb34a20e": {
          "model_module": "@jupyter-widgets/base",
          "model_name": "LayoutModel",
          "model_module_version": "1.2.0",
          "state": {
            "_model_module": "@jupyter-widgets/base",
            "_model_module_version": "1.2.0",
            "_model_name": "LayoutModel",
            "_view_count": null,
            "_view_module": "@jupyter-widgets/base",
            "_view_module_version": "1.2.0",
            "_view_name": "LayoutView",
            "align_content": null,
            "align_items": null,
            "align_self": null,
            "border": null,
            "bottom": null,
            "display": null,
            "flex": null,
            "flex_flow": null,
            "grid_area": null,
            "grid_auto_columns": null,
            "grid_auto_flow": null,
            "grid_auto_rows": null,
            "grid_column": null,
            "grid_gap": null,
            "grid_row": null,
            "grid_template_areas": null,
            "grid_template_columns": null,
            "grid_template_rows": null,
            "height": null,
            "justify_content": null,
            "justify_items": null,
            "left": null,
            "margin": null,
            "max_height": null,
            "max_width": null,
            "min_height": null,
            "min_width": null,
            "object_fit": null,
            "object_position": null,
            "order": null,
            "overflow": null,
            "overflow_x": null,
            "overflow_y": null,
            "padding": null,
            "right": null,
            "top": null,
            "visibility": null,
            "width": null
          }
        },
        "7f653871ecee4d82b08c6f0baf16bf91": {
          "model_module": "@jupyter-widgets/controls",
          "model_name": "DescriptionStyleModel",
          "model_module_version": "1.5.0",
          "state": {
            "_model_module": "@jupyter-widgets/controls",
            "_model_module_version": "1.5.0",
            "_model_name": "DescriptionStyleModel",
            "_view_count": null,
            "_view_module": "@jupyter-widgets/base",
            "_view_module_version": "1.2.0",
            "_view_name": "StyleView",
            "description_width": ""
          }
        },
        "84f76ae575e34b20aa545f09ee3c2006": {
          "model_module": "@jupyter-widgets/base",
          "model_name": "LayoutModel",
          "model_module_version": "1.2.0",
          "state": {
            "_model_module": "@jupyter-widgets/base",
            "_model_module_version": "1.2.0",
            "_model_name": "LayoutModel",
            "_view_count": null,
            "_view_module": "@jupyter-widgets/base",
            "_view_module_version": "1.2.0",
            "_view_name": "LayoutView",
            "align_content": null,
            "align_items": null,
            "align_self": null,
            "border": null,
            "bottom": null,
            "display": null,
            "flex": null,
            "flex_flow": null,
            "grid_area": null,
            "grid_auto_columns": null,
            "grid_auto_flow": null,
            "grid_auto_rows": null,
            "grid_column": null,
            "grid_gap": null,
            "grid_row": null,
            "grid_template_areas": null,
            "grid_template_columns": null,
            "grid_template_rows": null,
            "height": null,
            "justify_content": null,
            "justify_items": null,
            "left": null,
            "margin": null,
            "max_height": null,
            "max_width": null,
            "min_height": null,
            "min_width": null,
            "object_fit": null,
            "object_position": null,
            "order": null,
            "overflow": null,
            "overflow_x": null,
            "overflow_y": null,
            "padding": null,
            "right": null,
            "top": null,
            "visibility": null,
            "width": null
          }
        },
        "f19a12c5a0da48d89f3f1cca69316584": {
          "model_module": "@jupyter-widgets/controls",
          "model_name": "ProgressStyleModel",
          "model_module_version": "1.5.0",
          "state": {
            "_model_module": "@jupyter-widgets/controls",
            "_model_module_version": "1.5.0",
            "_model_name": "ProgressStyleModel",
            "_view_count": null,
            "_view_module": "@jupyter-widgets/base",
            "_view_module_version": "1.2.0",
            "_view_name": "StyleView",
            "bar_color": null,
            "description_width": ""
          }
        },
        "907447848b9846a2ac67dc6c6f6cd106": {
          "model_module": "@jupyter-widgets/base",
          "model_name": "LayoutModel",
          "model_module_version": "1.2.0",
          "state": {
            "_model_module": "@jupyter-widgets/base",
            "_model_module_version": "1.2.0",
            "_model_name": "LayoutModel",
            "_view_count": null,
            "_view_module": "@jupyter-widgets/base",
            "_view_module_version": "1.2.0",
            "_view_name": "LayoutView",
            "align_content": null,
            "align_items": null,
            "align_self": null,
            "border": null,
            "bottom": null,
            "display": null,
            "flex": null,
            "flex_flow": null,
            "grid_area": null,
            "grid_auto_columns": null,
            "grid_auto_flow": null,
            "grid_auto_rows": null,
            "grid_column": null,
            "grid_gap": null,
            "grid_row": null,
            "grid_template_areas": null,
            "grid_template_columns": null,
            "grid_template_rows": null,
            "height": null,
            "justify_content": null,
            "justify_items": null,
            "left": null,
            "margin": null,
            "max_height": null,
            "max_width": null,
            "min_height": null,
            "min_width": null,
            "object_fit": null,
            "object_position": null,
            "order": null,
            "overflow": null,
            "overflow_x": null,
            "overflow_y": null,
            "padding": null,
            "right": null,
            "top": null,
            "visibility": null,
            "width": null
          }
        },
        "6710634e42c1475bb2fbf6a8d0170b6f": {
          "model_module": "@jupyter-widgets/controls",
          "model_name": "DescriptionStyleModel",
          "model_module_version": "1.5.0",
          "state": {
            "_model_module": "@jupyter-widgets/controls",
            "_model_module_version": "1.5.0",
            "_model_name": "DescriptionStyleModel",
            "_view_count": null,
            "_view_module": "@jupyter-widgets/base",
            "_view_module_version": "1.2.0",
            "_view_name": "StyleView",
            "description_width": ""
          }
        },
        "a87b841ef495417bb668bb1e6a89901d": {
          "model_module": "@jupyter-widgets/controls",
          "model_name": "HBoxModel",
          "model_module_version": "1.5.0",
          "state": {
            "_dom_classes": [],
            "_model_module": "@jupyter-widgets/controls",
            "_model_module_version": "1.5.0",
            "_model_name": "HBoxModel",
            "_view_count": null,
            "_view_module": "@jupyter-widgets/controls",
            "_view_module_version": "1.5.0",
            "_view_name": "HBoxView",
            "box_style": "",
            "children": [
              "IPY_MODEL_df9b975d8a934c7f863f70f9b2701823",
              "IPY_MODEL_77fb94aefa464cb9b6c9431b6985bf1d",
              "IPY_MODEL_5cacaf5df2f74eb2acc85f1ea31a709b"
            ],
            "layout": "IPY_MODEL_ceabc767a60e49b7a576284f65518d70"
          }
        },
        "df9b975d8a934c7f863f70f9b2701823": {
          "model_module": "@jupyter-widgets/controls",
          "model_name": "HTMLModel",
          "model_module_version": "1.5.0",
          "state": {
            "_dom_classes": [],
            "_model_module": "@jupyter-widgets/controls",
            "_model_module_version": "1.5.0",
            "_model_name": "HTMLModel",
            "_view_count": null,
            "_view_module": "@jupyter-widgets/controls",
            "_view_module_version": "1.5.0",
            "_view_name": "HTMLView",
            "description": "",
            "description_tooltip": null,
            "layout": "IPY_MODEL_ffb91f1b0cf2407bbf610323b1ade7bf",
            "placeholder": "​",
            "style": "IPY_MODEL_0cee6bcadd514d9c83871e7555beacb1",
            "value": "100%"
          }
        },
        "77fb94aefa464cb9b6c9431b6985bf1d": {
          "model_module": "@jupyter-widgets/controls",
          "model_name": "FloatProgressModel",
          "model_module_version": "1.5.0",
          "state": {
            "_dom_classes": [],
            "_model_module": "@jupyter-widgets/controls",
            "_model_module_version": "1.5.0",
            "_model_name": "FloatProgressModel",
            "_view_count": null,
            "_view_module": "@jupyter-widgets/controls",
            "_view_module_version": "1.5.0",
            "_view_name": "ProgressView",
            "bar_style": "success",
            "description": "",
            "description_tooltip": null,
            "layout": "IPY_MODEL_8d99d774c6a845d885ab711b0640acfb",
            "max": 5,
            "min": 0,
            "orientation": "horizontal",
            "style": "IPY_MODEL_5b33fc7569ae4b92bf5c2999ac85f025",
            "value": 5
          }
        },
        "5cacaf5df2f74eb2acc85f1ea31a709b": {
          "model_module": "@jupyter-widgets/controls",
          "model_name": "HTMLModel",
          "model_module_version": "1.5.0",
          "state": {
            "_dom_classes": [],
            "_model_module": "@jupyter-widgets/controls",
            "_model_module_version": "1.5.0",
            "_model_name": "HTMLModel",
            "_view_count": null,
            "_view_module": "@jupyter-widgets/controls",
            "_view_module_version": "1.5.0",
            "_view_name": "HTMLView",
            "description": "",
            "description_tooltip": null,
            "layout": "IPY_MODEL_7d3f356b15ee4b77a8733baecfd86096",
            "placeholder": "​",
            "style": "IPY_MODEL_ffa9818e79b547fa83a2539a8e3b3f9f",
            "value": " 5/5 [01:02&lt;00:00, 12.48s/it]"
          }
        },
        "ceabc767a60e49b7a576284f65518d70": {
          "model_module": "@jupyter-widgets/base",
          "model_name": "LayoutModel",
          "model_module_version": "1.2.0",
          "state": {
            "_model_module": "@jupyter-widgets/base",
            "_model_module_version": "1.2.0",
            "_model_name": "LayoutModel",
            "_view_count": null,
            "_view_module": "@jupyter-widgets/base",
            "_view_module_version": "1.2.0",
            "_view_name": "LayoutView",
            "align_content": null,
            "align_items": null,
            "align_self": null,
            "border": null,
            "bottom": null,
            "display": null,
            "flex": null,
            "flex_flow": null,
            "grid_area": null,
            "grid_auto_columns": null,
            "grid_auto_flow": null,
            "grid_auto_rows": null,
            "grid_column": null,
            "grid_gap": null,
            "grid_row": null,
            "grid_template_areas": null,
            "grid_template_columns": null,
            "grid_template_rows": null,
            "height": null,
            "justify_content": null,
            "justify_items": null,
            "left": null,
            "margin": null,
            "max_height": null,
            "max_width": null,
            "min_height": null,
            "min_width": null,
            "object_fit": null,
            "object_position": null,
            "order": null,
            "overflow": null,
            "overflow_x": null,
            "overflow_y": null,
            "padding": null,
            "right": null,
            "top": null,
            "visibility": null,
            "width": null
          }
        },
        "ffb91f1b0cf2407bbf610323b1ade7bf": {
          "model_module": "@jupyter-widgets/base",
          "model_name": "LayoutModel",
          "model_module_version": "1.2.0",
          "state": {
            "_model_module": "@jupyter-widgets/base",
            "_model_module_version": "1.2.0",
            "_model_name": "LayoutModel",
            "_view_count": null,
            "_view_module": "@jupyter-widgets/base",
            "_view_module_version": "1.2.0",
            "_view_name": "LayoutView",
            "align_content": null,
            "align_items": null,
            "align_self": null,
            "border": null,
            "bottom": null,
            "display": null,
            "flex": null,
            "flex_flow": null,
            "grid_area": null,
            "grid_auto_columns": null,
            "grid_auto_flow": null,
            "grid_auto_rows": null,
            "grid_column": null,
            "grid_gap": null,
            "grid_row": null,
            "grid_template_areas": null,
            "grid_template_columns": null,
            "grid_template_rows": null,
            "height": null,
            "justify_content": null,
            "justify_items": null,
            "left": null,
            "margin": null,
            "max_height": null,
            "max_width": null,
            "min_height": null,
            "min_width": null,
            "object_fit": null,
            "object_position": null,
            "order": null,
            "overflow": null,
            "overflow_x": null,
            "overflow_y": null,
            "padding": null,
            "right": null,
            "top": null,
            "visibility": null,
            "width": null
          }
        },
        "0cee6bcadd514d9c83871e7555beacb1": {
          "model_module": "@jupyter-widgets/controls",
          "model_name": "DescriptionStyleModel",
          "model_module_version": "1.5.0",
          "state": {
            "_model_module": "@jupyter-widgets/controls",
            "_model_module_version": "1.5.0",
            "_model_name": "DescriptionStyleModel",
            "_view_count": null,
            "_view_module": "@jupyter-widgets/base",
            "_view_module_version": "1.2.0",
            "_view_name": "StyleView",
            "description_width": ""
          }
        },
        "8d99d774c6a845d885ab711b0640acfb": {
          "model_module": "@jupyter-widgets/base",
          "model_name": "LayoutModel",
          "model_module_version": "1.2.0",
          "state": {
            "_model_module": "@jupyter-widgets/base",
            "_model_module_version": "1.2.0",
            "_model_name": "LayoutModel",
            "_view_count": null,
            "_view_module": "@jupyter-widgets/base",
            "_view_module_version": "1.2.0",
            "_view_name": "LayoutView",
            "align_content": null,
            "align_items": null,
            "align_self": null,
            "border": null,
            "bottom": null,
            "display": null,
            "flex": null,
            "flex_flow": null,
            "grid_area": null,
            "grid_auto_columns": null,
            "grid_auto_flow": null,
            "grid_auto_rows": null,
            "grid_column": null,
            "grid_gap": null,
            "grid_row": null,
            "grid_template_areas": null,
            "grid_template_columns": null,
            "grid_template_rows": null,
            "height": null,
            "justify_content": null,
            "justify_items": null,
            "left": null,
            "margin": null,
            "max_height": null,
            "max_width": null,
            "min_height": null,
            "min_width": null,
            "object_fit": null,
            "object_position": null,
            "order": null,
            "overflow": null,
            "overflow_x": null,
            "overflow_y": null,
            "padding": null,
            "right": null,
            "top": null,
            "visibility": null,
            "width": null
          }
        },
        "5b33fc7569ae4b92bf5c2999ac85f025": {
          "model_module": "@jupyter-widgets/controls",
          "model_name": "ProgressStyleModel",
          "model_module_version": "1.5.0",
          "state": {
            "_model_module": "@jupyter-widgets/controls",
            "_model_module_version": "1.5.0",
            "_model_name": "ProgressStyleModel",
            "_view_count": null,
            "_view_module": "@jupyter-widgets/base",
            "_view_module_version": "1.2.0",
            "_view_name": "StyleView",
            "bar_color": null,
            "description_width": ""
          }
        },
        "7d3f356b15ee4b77a8733baecfd86096": {
          "model_module": "@jupyter-widgets/base",
          "model_name": "LayoutModel",
          "model_module_version": "1.2.0",
          "state": {
            "_model_module": "@jupyter-widgets/base",
            "_model_module_version": "1.2.0",
            "_model_name": "LayoutModel",
            "_view_count": null,
            "_view_module": "@jupyter-widgets/base",
            "_view_module_version": "1.2.0",
            "_view_name": "LayoutView",
            "align_content": null,
            "align_items": null,
            "align_self": null,
            "border": null,
            "bottom": null,
            "display": null,
            "flex": null,
            "flex_flow": null,
            "grid_area": null,
            "grid_auto_columns": null,
            "grid_auto_flow": null,
            "grid_auto_rows": null,
            "grid_column": null,
            "grid_gap": null,
            "grid_row": null,
            "grid_template_areas": null,
            "grid_template_columns": null,
            "grid_template_rows": null,
            "height": null,
            "justify_content": null,
            "justify_items": null,
            "left": null,
            "margin": null,
            "max_height": null,
            "max_width": null,
            "min_height": null,
            "min_width": null,
            "object_fit": null,
            "object_position": null,
            "order": null,
            "overflow": null,
            "overflow_x": null,
            "overflow_y": null,
            "padding": null,
            "right": null,
            "top": null,
            "visibility": null,
            "width": null
          }
        },
        "ffa9818e79b547fa83a2539a8e3b3f9f": {
          "model_module": "@jupyter-widgets/controls",
          "model_name": "DescriptionStyleModel",
          "model_module_version": "1.5.0",
          "state": {
            "_model_module": "@jupyter-widgets/controls",
            "_model_module_version": "1.5.0",
            "_model_name": "DescriptionStyleModel",
            "_view_count": null,
            "_view_module": "@jupyter-widgets/base",
            "_view_module_version": "1.2.0",
            "_view_name": "StyleView",
            "description_width": ""
          }
        }
      }
    },
    "accelerator": "GPU"
  },
  "cells": [
    {
      "cell_type": "markdown",
      "metadata": {
        "id": "view-in-github",
        "colab_type": "text"
      },
      "source": [
        "<a href=\"https://colab.research.google.com/github/aRod209/pytorch-for-deep-learning/blob/main/exercises/03_pytorch_computer_vision_exercises.ipynb\" target=\"_parent\"><img src=\"https://colab.research.google.com/assets/colab-badge.svg\" alt=\"Open In Colab\"/></a>"
      ]
    },
    {
      "cell_type": "markdown",
      "source": [
        "# 03. PyTorch Computer Vision Exercises\n",
        "\n",
        "The following is a collection of exercises based on computer vision fundamentals in PyTorch.\n",
        "\n",
        "They're a bunch of fun.\n",
        "\n",
        "You're going to get to write plenty of code!\n",
        "\n",
        "## Resources\n",
        "\n",
        "1. These exercises are based on [notebook 03 of the Learn PyTorch for Deep Learning course](https://www.learnpytorch.io/03_pytorch_computer_vision/).\n",
        "2. See a live [walkthrough of the solutions (errors and all) on YouTube](https://youtu.be/_PibmqpEyhA).\n",
        "  * **Note:** Going through these exercises took me just over 3 hours of solid coding, so you should expect around the same.\n",
        "3. See [other solutions on the course GitHub](https://github.com/mrdbourke/pytorch-deep-learning/tree/main/extras/solutions)."
      ],
      "metadata": {
        "id": "Vex99np2wFVt"
      }
    },
    {
      "cell_type": "code",
      "source": [
        "# Check for GPU\n",
        "!nvidia-smi"
      ],
      "metadata": {
        "colab": {
          "base_uri": "https://localhost:8080/"
        },
        "id": "GaeYzOTLwWh2",
        "outputId": "16e0c806-3270-4114-fa09-8dbbcee7fe8d"
      },
      "execution_count": 46,
      "outputs": [
        {
          "output_type": "stream",
          "name": "stdout",
          "text": [
            "Tue Feb 27 16:11:55 2024       \n",
            "+---------------------------------------------------------------------------------------+\n",
            "| NVIDIA-SMI 535.104.05             Driver Version: 535.104.05   CUDA Version: 12.2     |\n",
            "|-----------------------------------------+----------------------+----------------------+\n",
            "| GPU  Name                 Persistence-M | Bus-Id        Disp.A | Volatile Uncorr. ECC |\n",
            "| Fan  Temp   Perf          Pwr:Usage/Cap |         Memory-Usage | GPU-Util  Compute M. |\n",
            "|                                         |                      |               MIG M. |\n",
            "|=========================================+======================+======================|\n",
            "|   0  Tesla T4                       Off | 00000000:00:04.0 Off |                    0 |\n",
            "| N/A   49C    P0              27W /  70W |    203MiB / 15360MiB |      0%      Default |\n",
            "|                                         |                      |                  N/A |\n",
            "+-----------------------------------------+----------------------+----------------------+\n",
            "                                                                                         \n",
            "+---------------------------------------------------------------------------------------+\n",
            "| Processes:                                                                            |\n",
            "|  GPU   GI   CI        PID   Type   Process name                            GPU Memory |\n",
            "|        ID   ID                                                             Usage      |\n",
            "|=======================================================================================|\n",
            "+---------------------------------------------------------------------------------------+\n"
          ]
        }
      ]
    },
    {
      "cell_type": "code",
      "source": [
        "# Import torch and numpy\n",
        "import torch\n",
        "import numpy as np\n",
        "\n",
        "# Exercises require PyTorch > 1.10.0\n",
        "print(torch.__version__)\n",
        "\n",
        "# TODO: Setup device agnostic code\n",
        "device = 'cuda' if torch.cuda.is_available() else 'cpu'\n",
        "device"
      ],
      "metadata": {
        "colab": {
          "base_uri": "https://localhost:8080/",
          "height": 53
        },
        "id": "DNwZLMbCzJLk",
        "outputId": "4f596f56-20c3-488e-dcd6-e1ae6af78e85"
      },
      "execution_count": 47,
      "outputs": [
        {
          "output_type": "stream",
          "name": "stdout",
          "text": [
            "2.1.0+cu121\n"
          ]
        },
        {
          "output_type": "execute_result",
          "data": {
            "text/plain": [
              "'cuda'"
            ],
            "application/vnd.google.colaboratory.intrinsic+json": {
              "type": "string"
            }
          },
          "metadata": {},
          "execution_count": 47
        }
      ]
    },
    {
      "cell_type": "markdown",
      "source": [
        "## 1. What are 3 areas in industry where computer vision is currently being used?"
      ],
      "metadata": {
        "id": "FSFX7tc1w-en"
      }
    },
    {
      "cell_type": "markdown",
      "source": [
        "Autonomous vehicles, facial recognition, cancer detection"
      ],
      "metadata": {
        "id": "VyWRkvWGbCXj"
      }
    },
    {
      "cell_type": "markdown",
      "source": [
        "## 2. Search \"what is overfitting in machine learning\" and write down a sentence about what you find."
      ],
      "metadata": {
        "id": "oBK-WI6YxDYa"
      }
    },
    {
      "cell_type": "markdown",
      "source": [
        "Overfitting is when your a machine learning model fits very well to the training data but it does not fit/generalize well to new data."
      ],
      "metadata": {
        "id": "d1rxD6GObCqh"
      }
    },
    {
      "cell_type": "markdown",
      "source": [
        "## 3. Search \"ways to prevent overfitting in machine learning\", write down 3 of the things you find and a sentence about each.\n",
        "> **Note:** there are lots of these, so don't worry too much about all of them, just pick 3 and start with those."
      ],
      "metadata": {
        "id": "XeYFEqw8xK26"
      }
    },
    {
      "cell_type": "markdown",
      "source": [
        "- Regularization: Introduces a penalty on model complexity into the loss function.\n",
        "- Cross-Validation: Training a model on different folds of data ensures the model's performance is not overly dependant on a particular partition of the training data.\n",
        "- More training data: More data can help the model generalize better to new data by training on more data that does not have the same outliers as existing training data but does have the same general patterns that are important to focus on."
      ],
      "metadata": {
        "id": "ocvOdWKcbEKr"
      }
    },
    {
      "cell_type": "markdown",
      "source": [
        "## 4. Spend 20-minutes reading and clicking through the [CNN Explainer website](https://poloclub.github.io/cnn-explainer/).\n",
        "\n",
        "* Upload your own example image using the \"upload\" button on the website and see what happens in each layer of a CNN as your image passes through it."
      ],
      "metadata": {
        "id": "DKdEEFEqxM-8"
      }
    },
    {
      "cell_type": "code",
      "source": [],
      "metadata": {
        "id": "TqZaJIRMbFtS"
      },
      "execution_count": 47,
      "outputs": []
    },
    {
      "cell_type": "markdown",
      "source": [
        "## 5. Load the [`torchvision.datasets.MNIST()`](https://pytorch.org/vision/stable/generated/torchvision.datasets.MNIST.html#torchvision.datasets.MNIST) train and test datasets."
      ],
      "metadata": {
        "id": "lvf-3pODxXYI"
      }
    },
    {
      "cell_type": "code",
      "source": [
        "# Import PyTorch\n",
        "import torch\n",
        "from torch import nn\n",
        "\n",
        "# Import Torchvision\n",
        "import torchvision\n",
        "from torchvision import datasets\n",
        "from torchvision import transforms\n",
        "from torchvision.transforms import ToTensor\n",
        "\n",
        "train_data = datasets.MNIST(\n",
        "    root='data', # where to download data to\n",
        "    train=True, # create dataset from training data\n",
        "    download=True, # download from internet and put in root directory\n",
        "    transform=ToTensor(), # how to transform the data\n",
        "    target_transform=None # how to transform the target/labels\n",
        ")\n",
        "\n",
        "test_data = datasets.MNIST(\n",
        "    root='data',\n",
        "    train=False,\n",
        "    download=True,\n",
        "    transform=ToTensor(),\n",
        "    target_transform=None\n",
        ")"
      ],
      "metadata": {
        "id": "SHjeuN81bHza"
      },
      "execution_count": 48,
      "outputs": []
    },
    {
      "cell_type": "code",
      "source": [
        "train_data"
      ],
      "metadata": {
        "colab": {
          "base_uri": "https://localhost:8080/"
        },
        "id": "NZZzQHdAv9fm",
        "outputId": "76a15324-9afd-465f-b53c-8b714d5b87fd"
      },
      "execution_count": 49,
      "outputs": [
        {
          "output_type": "execute_result",
          "data": {
            "text/plain": [
              "Dataset MNIST\n",
              "    Number of datapoints: 60000\n",
              "    Root location: data\n",
              "    Split: Train\n",
              "    StandardTransform\n",
              "Transform: ToTensor()"
            ]
          },
          "metadata": {},
          "execution_count": 49
        }
      ]
    },
    {
      "cell_type": "code",
      "source": [
        "test_data"
      ],
      "metadata": {
        "colab": {
          "base_uri": "https://localhost:8080/"
        },
        "id": "o1nx9K08wFZ9",
        "outputId": "a51ff14b-8d85-4723-8de6-335af3594988"
      },
      "execution_count": 50,
      "outputs": [
        {
          "output_type": "execute_result",
          "data": {
            "text/plain": [
              "Dataset MNIST\n",
              "    Number of datapoints: 10000\n",
              "    Root location: data\n",
              "    Split: Test\n",
              "    StandardTransform\n",
              "Transform: ToTensor()"
            ]
          },
          "metadata": {},
          "execution_count": 50
        }
      ]
    },
    {
      "cell_type": "code",
      "source": [
        "train_data.class_to_idx"
      ],
      "metadata": {
        "colab": {
          "base_uri": "https://localhost:8080/"
        },
        "id": "kDeOpDZX4vpA",
        "outputId": "6c809c6c-86d0-4570-a145-1eb189a1914a"
      },
      "execution_count": 51,
      "outputs": [
        {
          "output_type": "execute_result",
          "data": {
            "text/plain": [
              "{'0 - zero': 0,\n",
              " '1 - one': 1,\n",
              " '2 - two': 2,\n",
              " '3 - three': 3,\n",
              " '4 - four': 4,\n",
              " '5 - five': 5,\n",
              " '6 - six': 6,\n",
              " '7 - seven': 7,\n",
              " '8 - eight': 8,\n",
              " '9 - nine': 9}"
            ]
          },
          "metadata": {},
          "execution_count": 51
        }
      ]
    },
    {
      "cell_type": "markdown",
      "source": [
        "## 6. Visualize at least 5 different samples of the MNIST training dataset."
      ],
      "metadata": {
        "id": "qxZW-uAbxe_F"
      }
    },
    {
      "cell_type": "code",
      "source": [
        "image, label = train_data[0]\n",
        "print(f'Image shape: {image.shape} -> [color channel, height, width]')\n",
        "print(f'Image label: {train_data.classes[label]}')"
      ],
      "metadata": {
        "colab": {
          "base_uri": "https://localhost:8080/"
        },
        "id": "G1VFIQ4i46Bp",
        "outputId": "fe7f8adf-7eb3-4c0f-93a0-967a0d657a17"
      },
      "execution_count": 52,
      "outputs": [
        {
          "output_type": "stream",
          "name": "stdout",
          "text": [
            "Image shape: torch.Size([1, 28, 28]) -> [color channel, height, width]\n",
            "Image label: 5 - five\n"
          ]
        }
      ]
    },
    {
      "cell_type": "code",
      "source": [
        "# Import matplotlib for visualizations\n",
        "import matplotlib.pyplot as plt\n",
        "\n",
        "torch.manual_seed(7)\n",
        "\n",
        "fig = plt.figure(figsize=(9,9))\n",
        "rows, cols = 3, 3\n",
        "\n",
        "for i in range(1, rows*cols+1):\n",
        "  random_idx = torch.randint(0, len(train_data), size=(1,)).item()\n",
        "  image, label = train_data[random_idx]\n",
        "  fig.add_subplot(rows, cols, i)\n",
        "  plt.imshow(image.squeeze(), cmap='gray')\n",
        "  plt.title(train_data.classes[label])\n",
        "  plt.axis(False)"
      ],
      "metadata": {
        "id": "QVFsYi1PbItE",
        "colab": {
          "base_uri": "https://localhost:8080/",
          "height": 752
        },
        "outputId": "85db4495-e516-4874-a70c-923e240953ae"
      },
      "execution_count": 53,
      "outputs": [
        {
          "output_type": "display_data",
          "data": {
            "text/plain": [
              "<Figure size 900x900 with 9 Axes>"
            ],
            "image/png": "[encoded data removed]"
          },
          "metadata": {}
        }
      ]
    },
    {
      "cell_type": "markdown",
      "source": [
        "## 7. Turn the MNIST train and test datasets into dataloaders using `torch.utils.data.DataLoader`, set the `batch_size=32`."
      ],
      "metadata": {
        "id": "JAPDzW0wxhi3"
      }
    },
    {
      "cell_type": "code",
      "source": [
        "from torch.utils.data import DataLoader\n",
        "\n",
        "BATCH_SIZE = 32\n",
        "\n",
        "train_dataloader = DataLoader(dataset=train_data,\n",
        "                              batch_size=BATCH_SIZE,\n",
        "                              shuffle=True)\n",
        "\n",
        "test_dataloader = DataLoader(dataset=test_data,\n",
        "                             batch_size=BATCH_SIZE,\n",
        "                             shuffle=False)"
      ],
      "metadata": {
        "id": "ALA6MPcFbJXQ"
      },
      "execution_count": 54,
      "outputs": []
    },
    {
      "cell_type": "code",
      "source": [
        "print(f'DataLoaders: {train_dataloader}, {test_dataloader}')\n",
        "print(f'Length of train_dataloader: {len(train_dataloader)} batches of {BATCH_SIZE}')\n",
        "print(f'Length of test_dataloader: {len(test_dataloader)} batches of {BATCH_SIZE}')"
      ],
      "metadata": {
        "id": "Kvtg3BjICKYr",
        "outputId": "ed580545-cc8c-4ab3-d22e-b89e2797c125",
        "colab": {
          "base_uri": "https://localhost:8080/"
        }
      },
      "execution_count": 55,
      "outputs": [
        {
          "output_type": "stream",
          "name": "stdout",
          "text": [
            "DataLoaders: <torch.utils.data.dataloader.DataLoader object at 0x7a402b5fc580>, <torch.utils.data.dataloader.DataLoader object at 0x7a4120f8f370>\n",
            "Length of train_dataloader: 1875 batches of 32\n",
            "Length of test_dataloader: 313 batches of 32\n"
          ]
        }
      ]
    },
    {
      "cell_type": "markdown",
      "source": [
        "## 8. Recreate `model_2` used in notebook 03 (the same model from the [CNN Explainer website](https://poloclub.github.io/cnn-explainer/), also known as TinyVGG) capable of fitting on the MNIST dataset."
      ],
      "metadata": {
        "id": "bCCVfXk5xjYS"
      }
    },
    {
      "cell_type": "code",
      "source": [
        "class TinyVGG(nn.Module):\n",
        "  \"\"\"\n",
        "  Model recreates the Tiny VGG model from\n",
        "  the CNN Explainer website.\n",
        "  Tiny VGG uses a 3x3 kernel size in convulational layers,\n",
        "  with a stride of 1 and zero-padding,\n",
        "  and a 2x2 kernel size in the max pool layers.\n",
        "\n",
        "  This is different from what was actually done in the video lecture.\n",
        "  \"\"\"\n",
        "  CONV_LAYER_KERNEL_SIZE = 3\n",
        "  MAX_POOL_KERNEL_SIZE = 2\n",
        "  STRIDE = 1\n",
        "  PADDING = 0\n",
        "\n",
        "  def __init__(self, input_shape: int, hidden_units: int, output_shape: int, hidden_units_multiplier: int):\n",
        "    super().__init__()\n",
        "    self.conv_block_1 = nn.Sequential(\n",
        "        nn.Conv2d(in_channels=input_shape,\n",
        "                  out_channels=hidden_units,\n",
        "                  kernel_size=self.CONV_LAYER_KERNEL_SIZE,\n",
        "                  stride=self.STRIDE,\n",
        "                  padding=self.PADDING),\n",
        "        nn.ReLU(),\n",
        "        nn.Conv2d(in_channels=hidden_units,\n",
        "                  out_channels=hidden_units,\n",
        "                  kernel_size=self.CONV_LAYER_KERNEL_SIZE,\n",
        "                  stride=self.STRIDE,\n",
        "                  padding=self.PADDING),\n",
        "        nn.ReLU(),\n",
        "        nn.MaxPool2d(kernel_size=self.MAX_POOL_KERNEL_SIZE)\n",
        "    )\n",
        "    self.conv_block_2 = nn.Sequential(\n",
        "        nn.Conv2d(in_channels=hidden_units,\n",
        "                  out_channels=hidden_units,\n",
        "                  kernel_size=self.CONV_LAYER_KERNEL_SIZE,\n",
        "                  stride=self.STRIDE,\n",
        "                  padding=self.PADDING),\n",
        "        nn.ReLU(),\n",
        "        nn.Conv2d(in_channels=hidden_units,\n",
        "                  out_channels=hidden_units,\n",
        "                  kernel_size=self.CONV_LAYER_KERNEL_SIZE,\n",
        "                  stride=self.STRIDE,\n",
        "                  padding=self.PADDING),\n",
        "        nn.ReLU(),\n",
        "        nn.MaxPool2d(kernel_size=self.MAX_POOL_KERNEL_SIZE)\n",
        "    )\n",
        "    self.classifier = nn.Sequential(\n",
        "        nn.Flatten(),\n",
        "        nn.Linear(in_features=hidden_units*hidden_units_multiplier,\n",
        "                  out_features=output_shape)\n",
        "    )\n",
        "\n",
        "  def forward(self, x):\n",
        "    #print(f'Output shape of input x: {x.shape}')\n",
        "    x = self.conv_block_1(x)\n",
        "    #print(f'Output shape of conv_block_1: {x.shape}')\n",
        "    x = self.conv_block_2(x)\n",
        "    #print(f'Output shape of conv_block_2: {x.shape}')\n",
        "    x = self.classifier(x)\n",
        "    #print(f'Output shape of classifier: {x.shape}')\n",
        "    return x"
      ],
      "metadata": {
        "id": "5IKNF22XbKYS"
      },
      "execution_count": 56,
      "outputs": []
    },
    {
      "cell_type": "markdown",
      "source": [
        "## 9. Train the model you built in exercise 8. for 5 epochs on CPU and GPU and see how long it takes on each."
      ],
      "metadata": {
        "id": "sf_3zUr7xlhy"
      }
    },
    {
      "cell_type": "code",
      "source": [
        "from timeit import default_timer as timer\n",
        "\n",
        "# Import tqdm for progress bar (Google Colab has tqdm built-in)\n",
        "from tqdm.auto import tqdm"
      ],
      "metadata": {
        "id": "oNewCcvsoFWr"
      },
      "execution_count": 57,
      "outputs": []
    },
    {
      "cell_type": "code",
      "source": [
        "# Create function to time experiments\n",
        "def print_train_time(start:float, end:float, device:torch.device=None):\n",
        "  \"\"\"Prints the train time on the device.\n",
        "\n",
        "  Args:\n",
        "    start (float): The training start time.\n",
        "    end (float): The training end time.\n",
        "    device (torch.device): The device the model was trained on.\n",
        "\n",
        "  Returns:\n",
        "    [float]: The total train time.\n",
        "  \"\"\"\n",
        "  total_time = end - start\n",
        "  print(f'Train time on {device}: {total_time:.3f} seconds')"
      ],
      "metadata": {
        "id": "jSo6vVWFbNLD"
      },
      "execution_count": 58,
      "outputs": []
    },
    {
      "cell_type": "code",
      "source": [
        "# Calculate accuracy (a classification metric)\n",
        "def accuracy_fn(y_true, y_pred):\n",
        "    \"\"\"Calculates accuracy between truth labels and predictions.\n",
        "\n",
        "    Args:\n",
        "        y_true (torch.Tensor): Truth labels for predictions.\n",
        "        y_pred (torch.Tensor): Predictions to be compared to predictions.\n",
        "\n",
        "    Returns:\n",
        "        [torch.float]: Accuracy value between y_true and y_pred, e.g. 78.45\n",
        "    \"\"\"\n",
        "    correct = torch.eq(y_true, y_pred).sum().item()\n",
        "    acc = (correct / len(y_pred)) * 100\n",
        "    return acc\n"
      ],
      "metadata": {
        "id": "DlZDbq4brNvU"
      },
      "execution_count": 59,
      "outputs": []
    },
    {
      "cell_type": "code",
      "source": [
        "# Create training step\n",
        "def train_step(model: torch.nn.Module,\n",
        "               data_loader: torch.utils.data.DataLoader,\n",
        "               loss_fn: torch.nn.Module,\n",
        "               optimizer: torch.optim.Optimizer,\n",
        "               accuracy_fn,\n",
        "               device: torch.device = device):\n",
        "  \"\"\"Performs training step with model trying to learn on data_loader.\n",
        "  Args:\n",
        "    model (torch.nn.Module): The neural network model.\n",
        "    data_loader (torch.utils.data.DataLoader): The iterable of the dataset.\n",
        "    loss_fn (torch.nn.Module): The loss function.\n",
        "    optimizer (torch.optim.Optimizer): The optimization algorithm.\n",
        "    accuracy_fn: The accuracy function.\n",
        "    device (torch.device): The device to run model training/testing on.\n",
        "  \"\"\"\n",
        "  train_loss, train_acc = 0, 0\n",
        "\n",
        "  # Put model into training mode\n",
        "  model.train()\n",
        "\n",
        "  # Loop through the training batches\n",
        "  for batch, (X, y) in enumerate(data_loader):\n",
        "    # Put data on target device\n",
        "    X, y = X.to(device), y.to(device)\n",
        "\n",
        "    # 1. Forward pass\n",
        "    y_logits = model(X)\n",
        "    y_preds = y_logits.argmax(dim=1)\n",
        "\n",
        "    # 2. Calculate loss and accuracy (per batch)\n",
        "    loss = loss_fn(y_logits, y)\n",
        "    train_loss += loss\n",
        "    train_acc += accuracy_fn(y_true=y, y_pred=y_preds)\n",
        "\n",
        "    # 3. Optimizer zero grad\n",
        "    optimizer.zero_grad()\n",
        "\n",
        "    # 4. Loss backward\n",
        "    loss.backward()\n",
        "\n",
        "    # 5. Optimizer step (update model's parameters once per batch)\n",
        "    optimizer.step()\n",
        "\n",
        "    # 6. Print out what's happening\n",
        "    if batch % 300 == 0 or batch == len(data_loader)-1:\n",
        "      print(f'Looked at {(batch+1) * len(X)}/{len(data_loader.dataset)} samples')\n",
        "\n",
        "  # 7. Adjust metrics and print out results\n",
        "  train_loss /= len(data_loader)\n",
        "  train_acc /= len(data_loader)\n",
        "  print(f'Train loss: {train_loss:.5f} | Train accuracy: {train_acc:.5f}')"
      ],
      "metadata": {
        "id": "Fhg8FqhbesrX"
      },
      "execution_count": 60,
      "outputs": []
    },
    {
      "cell_type": "code",
      "source": [
        "# Create test step\n",
        "def test_step(model: torch.nn.Module,\n",
        "              data_loader: torch.utils.data.DataLoader,\n",
        "              loss_fn: torch.nn.Module,\n",
        "              accuracy_fn,\n",
        "              device: torch.device = device):\n",
        "  \"\"\"Performs a testing loop step on model going over data_loader.\n",
        "  Args:\n",
        "    model (torch.nn.Module): The neural network model.\n",
        "    data_loader (torch.utils.data.DataLoader): The iterable of the dataset.\n",
        "    loss_fn (torch.nn.Module): The loss function.\n",
        "    accuracy_fn: The accuracy function.\n",
        "    device (torch.device): The device to run model training/testing on.\n",
        "\n",
        "  Returns:\n",
        "    [tensor(n,)[int]]: A tensor of predictions of the data in data_loader.\n",
        "  \"\"\"\n",
        "  test_loss, test_acc = 0, 0\n",
        "  all_preds = []\n",
        "\n",
        "  # Put the model in eval mode\n",
        "  model.eval()\n",
        "\n",
        "  # Turn on inference mode context manager\n",
        "  with torch.inference_mode():\n",
        "    for X, y in data_loader:\n",
        "      # Send the data to the target device\n",
        "      X, y = X.to(device), y.to(device)\n",
        "\n",
        "      # 1. Forward pass\n",
        "      test_logits = model(X)\n",
        "      test_preds = test_logits.argmax(dim=1)\n",
        "      all_preds.append(test_preds.cpu())\n",
        "\n",
        "      # 2. Calculate the loss/acc\n",
        "      test_loss += loss_fn(test_logits, y)\n",
        "      test_acc += accuracy_fn(y_true=y, y_pred=test_preds)\n",
        "\n",
        "    # 3. Adjust metrics and print out results\n",
        "    test_loss /= len(data_loader)\n",
        "    test_acc /= len(data_loader)\n",
        "    print(f'Test loss: {test_loss:.5f} | Test accuracy: {test_acc:.5f}\\n')\n",
        "\n",
        "    # 4. Return predictions\n",
        "    return torch.cat(all_preds)"
      ],
      "metadata": {
        "id": "TDAc9Qkrjzwv"
      },
      "execution_count": 61,
      "outputs": []
    },
    {
      "cell_type": "code",
      "source": [
        "# Create method to train and test model\n",
        "def train_and_test(model: torch.nn.Module,\n",
        "                   train_dataloader: torch.utils.data.DataLoader,\n",
        "                   test_dataloader: torch.utils.data.DataLoader,\n",
        "                   loss_fn: torch.nn.Module,\n",
        "                   optimizer: torch.optim.Optimizer,\n",
        "                   accuracy_fn,\n",
        "                   epochs: int,\n",
        "                   device: torch.device = device):\n",
        "  \"\"\"Trains and tests model on data_loader for each number in epochs.\n",
        "\n",
        "  Args:\n",
        "    model (torch.nn.Module): The neural network model.\n",
        "    train_dataloader (torch.utils.data.DataLoader): The iterable of the train dataset.\n",
        "    test_dataloader (torch.utils.data.DataLoader): The iterable of the test dataset.\n",
        "    loss_fn (torch.nn.Module): The loss function.\n",
        "    optimizer (torch.optim.Optimizer): The optimization algorithm.\n",
        "    accuracy_fn: The accuracy function.\n",
        "    epochs (int): The number of epochs for training.\n",
        "    device (torch.device): The device to run model training/testing on.\n",
        "\n",
        "  Returns:\n",
        "    [tensor(n,)[int]]: A tensor of predictions of the data in data_loader.\n",
        "  \"\"\"\n",
        "  train_time_start = timer()\n",
        "\n",
        "  for epoch in tqdm(range(epochs)):\n",
        "    print(f'Epoch: {epoch}\\n----------------')\n",
        "\n",
        "    train_step(model=model,\n",
        "               data_loader=train_dataloader,\n",
        "               loss_fn=loss_fn,\n",
        "               optimizer=optimizer,\n",
        "               accuracy_fn=accuracy_fn,\n",
        "               device=device)\n",
        "\n",
        "    preds = test_step(model=model,\n",
        "              data_loader=test_dataloader,\n",
        "              loss_fn=loss_fn,\n",
        "              accuracy_fn=accuracy_fn,\n",
        "              device=device)\n",
        "\n",
        "  train_time_end = timer()\n",
        "  total_train_time = print_train_time(start = train_time_start,\n",
        "                                      end = train_time_end,\n",
        "                                      device = device)\n",
        "\n",
        "  print(total_train_time)\n",
        "\n",
        "  return preds"
      ],
      "metadata": {
        "id": "gzM4sGFVnW17"
      },
      "execution_count": 62,
      "outputs": []
    },
    {
      "cell_type": "code",
      "source": [
        "# Set hidden units and color channel\n",
        "TINY_VGG_HIDDEN_UNITS = 10\n",
        "EPOCHS = 5\n",
        "COLOR_CHANNEL, _, _ = image.shape"
      ],
      "metadata": {
        "id": "e_HUcVh3r--D"
      },
      "execution_count": 63,
      "outputs": []
    },
    {
      "cell_type": "code",
      "source": [
        "# Create Tiny VGG model on CPU\n",
        "tiny_vgg_cpu = TinyVGG(input_shape=COLOR_CHANNEL,\n",
        "                       hidden_units=TINY_VGG_HIDDEN_UNITS,\n",
        "                       output_shape=len(train_data.class_to_idx),\n",
        "                       hidden_units_multiplier=4*4).to('cpu')\n",
        "\n",
        "tiny_vgg_cpu"
      ],
      "metadata": {
        "colab": {
          "base_uri": "https://localhost:8080/"
        },
        "id": "PpB8pNZEsDD4",
        "outputId": "7b09c431-7446-40a0-dd8b-25860221add0"
      },
      "execution_count": 64,
      "outputs": [
        {
          "output_type": "execute_result",
          "data": {
            "text/plain": [
              "TinyVGG(\n",
              "  (conv_block_1): Sequential(\n",
              "    (0): Conv2d(1, 10, kernel_size=(3, 3), stride=(1, 1))\n",
              "    (1): ReLU()\n",
              "    (2): Conv2d(10, 10, kernel_size=(3, 3), stride=(1, 1))\n",
              "    (3): ReLU()\n",
              "    (4): MaxPool2d(kernel_size=2, stride=2, padding=0, dilation=1, ceil_mode=False)\n",
              "  )\n",
              "  (conv_block_2): Sequential(\n",
              "    (0): Conv2d(10, 10, kernel_size=(3, 3), stride=(1, 1))\n",
              "    (1): ReLU()\n",
              "    (2): Conv2d(10, 10, kernel_size=(3, 3), stride=(1, 1))\n",
              "    (3): ReLU()\n",
              "    (4): MaxPool2d(kernel_size=2, stride=2, padding=0, dilation=1, ceil_mode=False)\n",
              "  )\n",
              "  (classifier): Sequential(\n",
              "    (0): Flatten(start_dim=1, end_dim=-1)\n",
              "    (1): Linear(in_features=160, out_features=10, bias=True)\n",
              "  )\n",
              ")"
            ]
          },
          "metadata": {},
          "execution_count": 64
        }
      ]
    },
    {
      "cell_type": "code",
      "source": [
        "# Crate Tiny VGG model on GPU\n",
        "tiny_vgg_gpu = TinyVGG(input_shape=COLOR_CHANNEL,\n",
        "                        hidden_units=TINY_VGG_HIDDEN_UNITS,\n",
        "                        output_shape=len(train_data.class_to_idx),\n",
        "                        hidden_units_multiplier=4*4).to('cuda')\n",
        "\n",
        "tiny_vgg_gpu"
      ],
      "metadata": {
        "colab": {
          "base_uri": "https://localhost:8080/"
        },
        "id": "RjYdtsLqtDAo",
        "outputId": "8efb2718-1449-4a9b-9e8e-3e0c3bc25c37"
      },
      "execution_count": 65,
      "outputs": [
        {
          "output_type": "execute_result",
          "data": {
            "text/plain": [
              "TinyVGG(\n",
              "  (conv_block_1): Sequential(\n",
              "    (0): Conv2d(1, 10, kernel_size=(3, 3), stride=(1, 1))\n",
              "    (1): ReLU()\n",
              "    (2): Conv2d(10, 10, kernel_size=(3, 3), stride=(1, 1))\n",
              "    (3): ReLU()\n",
              "    (4): MaxPool2d(kernel_size=2, stride=2, padding=0, dilation=1, ceil_mode=False)\n",
              "  )\n",
              "  (conv_block_2): Sequential(\n",
              "    (0): Conv2d(10, 10, kernel_size=(3, 3), stride=(1, 1))\n",
              "    (1): ReLU()\n",
              "    (2): Conv2d(10, 10, kernel_size=(3, 3), stride=(1, 1))\n",
              "    (3): ReLU()\n",
              "    (4): MaxPool2d(kernel_size=2, stride=2, padding=0, dilation=1, ceil_mode=False)\n",
              "  )\n",
              "  (classifier): Sequential(\n",
              "    (0): Flatten(start_dim=1, end_dim=-1)\n",
              "    (1): Linear(in_features=160, out_features=10, bias=True)\n",
              "  )\n",
              ")"
            ]
          },
          "metadata": {},
          "execution_count": 65
        }
      ]
    },
    {
      "cell_type": "code",
      "source": [
        "# Create loss function and optimizer for tiny_vgg_cpu_optimizer\n",
        "loss_fn = nn.CrossEntropyLoss()\n",
        "tiny_vgg_cpu_optimizer = torch.optim.SGD(params=tiny_vgg_cpu.parameters(),\n",
        "                                         lr=0.1)"
      ],
      "metadata": {
        "id": "krKg57CM5Ewh"
      },
      "execution_count": 66,
      "outputs": []
    },
    {
      "cell_type": "code",
      "source": [
        "torch.manual_seed(7)\n",
        "train_and_test(model=tiny_vgg_cpu,\n",
        "               train_dataloader=train_dataloader,\n",
        "               test_dataloader=test_dataloader,\n",
        "               loss_fn=loss_fn,\n",
        "               optimizer=tiny_vgg_cpu_optimizer,\n",
        "               accuracy_fn=accuracy_fn,\n",
        "               epochs=EPOCHS,\n",
        "               device='cpu')"
      ],
      "metadata": {
        "colab": {
          "base_uri": "https://localhost:8080/",
          "height": 1000,
          "referenced_widgets": [
            "8d2b5fff66484fa289723d0ed73225dc",
            "fac5e923e932483ca60ac4c01bdd4da3",
            "eb489477c12e4469a05aad467a35d620",
            "9e3bcb11e3064211a9dfdcbf857657ab",
            "7df0543526db43479b030f8cf6665220",
            "514ce6197ce74365b0b6658774cb03fb",
            "365dca9fd45a46be9f9cf72635ad05c7",
            "8df815f4fdce4b8db200ac6c24a1041d",
            "6448aba7da024867828467fda9777627",
            "292ca696024741bfa90d895a24327153",
            "8e9f05b7b2b64619be1675c134bb1e8b"
          ]
        },
        "id": "-ytKDT9NmeVT",
        "outputId": "b0eec246-2120-437d-9599-181633f874a1"
      },
      "execution_count": 67,
      "outputs": [
        {
          "output_type": "display_data",
          "data": {
            "text/plain": [
              "  0%|          | 0/5 [00:00<?, ?it/s]"
            ],
            "application/vnd.jupyter.widget-view+json": {
              "version_major": 2,
              "version_minor": 0,
              "model_id": "8d2b5fff66484fa289723d0ed73225dc"
            }
          },
          "metadata": {}
        },
        {
          "output_type": "stream",
          "name": "stdout",
          "text": [
            "Epoch: 0\n",
            "----------------\n",
            "Looked at 32/60000 samples\n",
            "Looked at 9632/60000 samples\n",
            "Looked at 19232/60000 samples\n",
            "Looked at 28832/60000 samples\n",
            "Looked at 38432/60000 samples\n",
            "Looked at 48032/60000 samples\n",
            "Looked at 57632/60000 samples\n",
            "Looked at 60000/60000 samples\n",
            "Train loss: 0.42767 | Train accuracy: 85.04833\n",
            "Test loss: 0.07731 | Test accuracy: 97.58387\n",
            "\n",
            "Epoch: 1\n",
            "----------------\n",
            "Looked at 32/60000 samples\n",
            "Looked at 9632/60000 samples\n",
            "Looked at 19232/60000 samples\n",
            "Looked at 28832/60000 samples\n",
            "Looked at 38432/60000 samples\n",
            "Looked at 48032/60000 samples\n",
            "Looked at 57632/60000 samples\n",
            "Looked at 60000/60000 samples\n",
            "Train loss: 0.08712 | Train accuracy: 97.28000\n",
            "Test loss: 0.07858 | Test accuracy: 97.57388\n",
            "\n",
            "Epoch: 2\n",
            "----------------\n",
            "Looked at 32/60000 samples\n",
            "Looked at 9632/60000 samples\n",
            "Looked at 19232/60000 samples\n",
            "Looked at 28832/60000 samples\n",
            "Looked at 38432/60000 samples\n",
            "Looked at 48032/60000 samples\n",
            "Looked at 57632/60000 samples\n",
            "Looked at 60000/60000 samples\n",
            "Train loss: 0.06760 | Train accuracy: 97.93833\n",
            "Test loss: 0.05007 | Test accuracy: 98.38259\n",
            "\n",
            "Epoch: 3\n",
            "----------------\n",
            "Looked at 32/60000 samples\n",
            "Looked at 9632/60000 samples\n",
            "Looked at 19232/60000 samples\n",
            "Looked at 28832/60000 samples\n",
            "Looked at 38432/60000 samples\n",
            "Looked at 48032/60000 samples\n",
            "Looked at 57632/60000 samples\n",
            "Looked at 60000/60000 samples\n",
            "Train loss: 0.05767 | Train accuracy: 98.20833\n",
            "Test loss: 0.04750 | Test accuracy: 98.35264\n",
            "\n",
            "Epoch: 4\n",
            "----------------\n",
            "Looked at 32/60000 samples\n",
            "Looked at 9632/60000 samples\n",
            "Looked at 19232/60000 samples\n",
            "Looked at 28832/60000 samples\n",
            "Looked at 38432/60000 samples\n",
            "Looked at 48032/60000 samples\n",
            "Looked at 57632/60000 samples\n",
            "Looked at 60000/60000 samples\n",
            "Train loss: 0.05126 | Train accuracy: 98.38333\n",
            "Test loss: 0.04259 | Test accuracy: 98.64217\n",
            "\n",
            "Train time on cpu: 180.090 seconds\n",
            "None\n"
          ]
        },
        {
          "output_type": "execute_result",
          "data": {
            "text/plain": [
              "tensor([7, 2, 1,  ..., 4, 5, 6])"
            ]
          },
          "metadata": {},
          "execution_count": 67
        }
      ]
    },
    {
      "cell_type": "code",
      "source": [
        "# Create loss function and optimizer for tiny_vgg_gpu_optimizer\n",
        "loss_fn = nn.CrossEntropyLoss()\n",
        "tiny_vgg_gpu_optimizer = torch.optim.SGD(params=tiny_vgg_gpu.parameters(),\n",
        "                                         lr=0.1)"
      ],
      "metadata": {
        "id": "gC5nmggtToOF"
      },
      "execution_count": 68,
      "outputs": []
    },
    {
      "cell_type": "code",
      "source": [
        "torch.manual_seed(7)\n",
        "preds = train_and_test(model=tiny_vgg_gpu,\n",
        "               train_dataloader=train_dataloader,\n",
        "               test_dataloader=test_dataloader,\n",
        "               loss_fn=loss_fn,\n",
        "               optimizer=tiny_vgg_gpu_optimizer,\n",
        "               accuracy_fn=accuracy_fn,\n",
        "               epochs=EPOCHS,\n",
        "               device='cuda')"
      ],
      "metadata": {
        "id": "3uzflQf1T4Q3",
        "outputId": "f0e6f7b8-e701-449a-bbd1-8775e9ed2504",
        "colab": {
          "base_uri": "https://localhost:8080/",
          "height": 1000,
          "referenced_widgets": [
            "c9cbec4a0af149c0bc1a6e1ec906d995",
            "e220cb955986404293ec643b72363e21",
            "6a957cf2bee844d0a1f1d66706929e49",
            "159b8060bb584d0791651dae9fbe8b00",
            "4d9aab4515f44f399518bc8580adfada",
            "ba8301452da344fab47548c4cb34a20e",
            "7f653871ecee4d82b08c6f0baf16bf91",
            "84f76ae575e34b20aa545f09ee3c2006",
            "f19a12c5a0da48d89f3f1cca69316584",
            "907447848b9846a2ac67dc6c6f6cd106",
            "6710634e42c1475bb2fbf6a8d0170b6f"
          ]
        }
      },
      "execution_count": 69,
      "outputs": [
        {
          "output_type": "display_data",
          "data": {
            "text/plain": [
              "  0%|          | 0/5 [00:00<?, ?it/s]"
            ],
            "application/vnd.jupyter.widget-view+json": {
              "version_major": 2,
              "version_minor": 0,
              "model_id": "c9cbec4a0af149c0bc1a6e1ec906d995"
            }
          },
          "metadata": {}
        },
        {
          "output_type": "stream",
          "name": "stdout",
          "text": [
            "Epoch: 0\n",
            "----------------\n",
            "Looked at 32/60000 samples\n",
            "Looked at 9632/60000 samples\n",
            "Looked at 19232/60000 samples\n",
            "Looked at 28832/60000 samples\n",
            "Looked at 38432/60000 samples\n",
            "Looked at 48032/60000 samples\n",
            "Looked at 57632/60000 samples\n",
            "Looked at 60000/60000 samples\n",
            "Train loss: 0.28791 | Train accuracy: 90.53833\n",
            "Test loss: 0.08799 | Test accuracy: 97.32428\n",
            "\n",
            "Epoch: 1\n",
            "----------------\n",
            "Looked at 32/60000 samples\n",
            "Looked at 9632/60000 samples\n",
            "Looked at 19232/60000 samples\n",
            "Looked at 28832/60000 samples\n",
            "Looked at 38432/60000 samples\n",
            "Looked at 48032/60000 samples\n",
            "Looked at 57632/60000 samples\n",
            "Looked at 60000/60000 samples\n",
            "Train loss: 0.09416 | Train accuracy: 97.05167\n",
            "Test loss: 0.07234 | Test accuracy: 97.74361\n",
            "\n",
            "Epoch: 2\n",
            "----------------\n",
            "Looked at 32/60000 samples\n",
            "Looked at 9632/60000 samples\n",
            "Looked at 19232/60000 samples\n",
            "Looked at 28832/60000 samples\n",
            "Looked at 38432/60000 samples\n",
            "Looked at 48032/60000 samples\n",
            "Looked at 57632/60000 samples\n",
            "Looked at 60000/60000 samples\n",
            "Train loss: 0.07199 | Train accuracy: 97.86500\n",
            "Test loss: 0.06053 | Test accuracy: 98.05312\n",
            "\n",
            "Epoch: 3\n",
            "----------------\n",
            "Looked at 32/60000 samples\n",
            "Looked at 9632/60000 samples\n",
            "Looked at 19232/60000 samples\n",
            "Looked at 28832/60000 samples\n",
            "Looked at 38432/60000 samples\n",
            "Looked at 48032/60000 samples\n",
            "Looked at 57632/60000 samples\n",
            "Looked at 60000/60000 samples\n",
            "Train loss: 0.06009 | Train accuracy: 98.12333\n",
            "Test loss: 0.05116 | Test accuracy: 98.34265\n",
            "\n",
            "Epoch: 4\n",
            "----------------\n",
            "Looked at 32/60000 samples\n",
            "Looked at 9632/60000 samples\n",
            "Looked at 19232/60000 samples\n",
            "Looked at 28832/60000 samples\n",
            "Looked at 38432/60000 samples\n",
            "Looked at 48032/60000 samples\n",
            "Looked at 57632/60000 samples\n",
            "Looked at 60000/60000 samples\n",
            "Train loss: 0.05199 | Train accuracy: 98.40500\n",
            "Test loss: 0.04705 | Test accuracy: 98.52236\n",
            "\n",
            "Train time on cuda: 61.766 seconds\n",
            "None\n"
          ]
        }
      ]
    },
    {
      "cell_type": "markdown",
      "source": [
        "## 10. Make predictions using your trained model and visualize at least 5 of them comparing the prediciton to the target label."
      ],
      "metadata": {
        "id": "w1CsHhPpxp1w"
      }
    },
    {
      "cell_type": "code",
      "source": [
        "# Initialize lists to hold the images and true labels in the test_dataloader\n",
        "images_list = []\n",
        "labels_list = []\n",
        "\n",
        "for images, labels in test_dataloader:\n",
        "    images_list.extend(images)\n",
        "    labels_list.extend(labels)"
      ],
      "metadata": {
        "id": "l79etMAa5rwg"
      },
      "execution_count": 70,
      "outputs": []
    },
    {
      "cell_type": "code",
      "source": [
        "# Combine image, true label, and predicted label as one element in a list\n",
        "test_data_and_preds = [(image, true_label, predicted_label) for image, true_label, predicted_label in zip(images_list, labels_list, list(preds.numpy()))]\n",
        "len(test_data_and_preds)"
      ],
      "metadata": {
        "id": "22VzzB_cWhZm",
        "outputId": "40682744-b977-406a-cbc3-26c39b71fabc",
        "colab": {
          "base_uri": "https://localhost:8080/"
        }
      },
      "execution_count": 71,
      "outputs": [
        {
          "output_type": "execute_result",
          "data": {
            "text/plain": [
              "10000"
            ]
          },
          "metadata": {},
          "execution_count": 71
        }
      ]
    },
    {
      "cell_type": "code",
      "source": [
        "# Get 16 different random samples from test_data_and_preds\n",
        "import random\n",
        "\n",
        "random.seed(7)\n",
        "\n",
        "NUM_SAMPLES = 9\n",
        "\n",
        "random_data = random.sample(test_data_and_preds, k=NUM_SAMPLES)"
      ],
      "metadata": {
        "id": "G_3RzBiXhn-x"
      },
      "execution_count": 72,
      "outputs": []
    },
    {
      "cell_type": "code",
      "source": [
        "class_names = train_data.classes\n",
        "class_names"
      ],
      "metadata": {
        "id": "RJq-H8OIirZZ",
        "colab": {
          "base_uri": "https://localhost:8080/"
        },
        "outputId": "2009b88b-d73e-46b6-89eb-a4c1a170a865"
      },
      "execution_count": 73,
      "outputs": [
        {
          "output_type": "execute_result",
          "data": {
            "text/plain": [
              "['0 - zero',\n",
              " '1 - one',\n",
              " '2 - two',\n",
              " '3 - three',\n",
              " '4 - four',\n",
              " '5 - five',\n",
              " '6 - six',\n",
              " '7 - seven',\n",
              " '8 - eight',\n",
              " '9 - nine']"
            ]
          },
          "metadata": {},
          "execution_count": 73
        }
      ]
    },
    {
      "cell_type": "code",
      "source": [
        "import math\n",
        "from math import sqrt\n",
        "\n",
        "# Plot Predictions\n",
        "plt.figure(figsize=(9,9))\n",
        "nrows = int(sqrt(NUM_SAMPLES))\n",
        "ncols = int(sqrt(NUM_SAMPLES))\n",
        "\n",
        "for i, data_sample in enumerate(random_data):\n",
        "  # Unpack data sample\n",
        "  image, true_label, predicted_label = data_sample\n",
        "\n",
        "  # Create subplot\n",
        "  plt.subplot(nrows, ncols, i+1)\n",
        "\n",
        "  # Plot the target image\n",
        "  plt.imshow(image.squeeze(), cmap='gray')\n",
        "\n",
        "  # Find the predicted class name (in text form, e.g. 'Sandal')\n",
        "  predicted_class_name = class_names[predicted_label]\n",
        "\n",
        "  # Get the true class name (in text form)\n",
        "  true_class_name = class_names[true_label]\n",
        "\n",
        "  # Create a title for the plot\n",
        "  title_text = f'Predicted: {predicted_class_name} | Truth: {true_class_name}'\n",
        "\n",
        "  # Check for equality between pred and truth and change color of title text\n",
        "  if predicted_class_name == true_class_name:\n",
        "    title_color = 'g'\n",
        "  else:\n",
        "    title_color = 'r'\n",
        "\n",
        "  # Plot the title\n",
        "  plt.title(title_text, fontsize=10, c=title_color)\n",
        "\n",
        "  plt.axis(False)"
      ],
      "metadata": {
        "id": "Pzb0_PuKaAbo",
        "colab": {
          "base_uri": "https://localhost:8080/",
          "height": 749
        },
        "outputId": "0890a61a-7ad2-4dbf-f894-f861afd5bbc4"
      },
      "execution_count": 74,
      "outputs": [
        {
          "output_type": "display_data",
          "data": {
            "text/plain": [
              "<Figure size 900x900 with 9 Axes>"
            ],
            "image/png": "[encoded data removed]"
          },
          "metadata": {}
        }
      ]
    },
    {
      "cell_type": "markdown",
      "source": [
        "## 11. Plot a confusion matrix comparing your model's predictions to the truth labels."
      ],
      "metadata": {
        "id": "qQwzqlBWxrpG"
      }
    },
    {
      "cell_type": "code",
      "source": [
        "# See if required packages are installed and if not, install them.\n",
        "try:\n",
        "  import torchmetrics, mlxtend\n",
        "  print(f'mlxtend version: {mlxtend.__version__}')\n",
        "  assert int(mlxtend.__version__.split('.')[1]) >= 19, 'mlxtend version should be 0.19 or higher'\n",
        "except:\n",
        "  !pip install -q torchmetrics -U mlxtend\n",
        "  import torchmetrics, mlxtend\n",
        "  print(f'mlxtend version: {mlxtend.__version__}')"
      ],
      "metadata": {
        "id": "vSrXiT_AbQ6e",
        "colab": {
          "base_uri": "https://localhost:8080/"
        },
        "outputId": "db91a0ab-5c52-47f9-af02-f836f0068c51"
      },
      "execution_count": 75,
      "outputs": [
        {
          "output_type": "stream",
          "name": "stdout",
          "text": [
            "mlxtend version: 0.23.1\n"
          ]
        }
      ]
    },
    {
      "cell_type": "code",
      "source": [
        "from torchmetrics import ConfusionMatrix\n",
        "from mlxtend.plotting import plot_confusion_matrix\n",
        "\n",
        "confmat = ConfusionMatrix(num_classes=len(class_names), task='multiclass')\n",
        "confmat_tensor = confmat(preds=preds,\n",
        "                         target=test_data.targets)\n",
        "\n",
        "confmat_tensor"
      ],
      "metadata": {
        "colab": {
          "base_uri": "https://localhost:8080/"
        },
        "id": "Akomj89YTUIq",
        "outputId": "589f5e53-ef64-4d69-821f-fbf4b971a25f"
      },
      "execution_count": 76,
      "outputs": [
        {
          "output_type": "execute_result",
          "data": {
            "text/plain": [
              "tensor([[ 972,    0,    2,    0,    0,    0,    4,    1,    1,    0],\n",
              "        [   2, 1122,    3,    3,    0,    1,    1,    3,    0,    0],\n",
              "        [   1,    3, 1013,    8,    0,    0,    1,    3,    3,    0],\n",
              "        [   0,    0,    4, 1000,    0,    1,    0,    3,    1,    1],\n",
              "        [   0,    0,    2,    0,  961,    0,    5,    1,    2,   11],\n",
              "        [   1,    0,    0,    9,    0,  874,    2,    1,    2,    3],\n",
              "        [   5,    2,    0,    1,    2,    3,  943,    0,    2,    0],\n",
              "        [   0,    4,    4,    1,    0,    0,    0, 1013,    1,    5],\n",
              "        [   3,    0,    2,    2,    0,    0,    1,    3,  960,    3],\n",
              "        [   1,    0,    0,    1,    2,    3,    0,    6,    2,  994]])"
            ]
          },
          "metadata": {},
          "execution_count": 76
        }
      ]
    },
    {
      "cell_type": "code",
      "source": [
        "fig, ax = plot_confusion_matrix(\n",
        "    conf_mat=confmat_tensor.numpy(),\n",
        "    class_names=class_names,\n",
        "    figsize=(10, 7)\n",
        ")"
      ],
      "metadata": {
        "colab": {
          "base_uri": "https://localhost:8080/",
          "height": 660
        },
        "id": "08YGOukiT67g",
        "outputId": "499bccae-bb13-4383-b212-2a1563ada38d"
      },
      "execution_count": 77,
      "outputs": [
        {
          "output_type": "display_data",
          "data": {
            "text/plain": [
              "<Figure size 1000x700 with 1 Axes>"
            ],
            "image/png": "[encoded data removed]"
          },
          "metadata": {}
        }
      ]
    },
    {
      "cell_type": "markdown",
      "source": [
        "## 12. Create a random tensor of shape `[1, 3, 64, 64]` and pass it through a `nn.Conv2d()` layer with various hyperparameter settings (these can be any settings you choose), what do you notice if the `kernel_size` parameter goes up and down?"
      ],
      "metadata": {
        "id": "lj6bDhoWxt2y"
      }
    },
    {
      "cell_type": "code",
      "source": [
        "torch.manual_seed(7)\n",
        "\n",
        "t = torch.rand(size=[1, 3, 64, 64])\n",
        "t"
      ],
      "metadata": {
        "id": "leCTsqtSbR5P",
        "colab": {
          "base_uri": "https://localhost:8080/"
        },
        "outputId": "43edc742-30b2-475a-f8d7-157c78bed4d9"
      },
      "execution_count": 78,
      "outputs": [
        {
          "output_type": "execute_result",
          "data": {
            "text/plain": [
              "tensor([[[[0.5349, 0.1988, 0.6592,  ..., 0.5550, 0.6361, 0.1081],\n",
              "          [0.3305, 0.5196, 0.2147,  ..., 0.3572, 0.0663, 0.1744],\n",
              "          [0.7042, 0.6979, 0.1908,  ..., 0.6712, 0.7957, 0.9995],\n",
              "          ...,\n",
              "          [0.8623, 0.5799, 0.0493,  ..., 0.0773, 0.6557, 0.1577],\n",
              "          [0.3028, 0.0437, 0.0658,  ..., 0.1017, 0.8548, 0.0438],\n",
              "          [0.9340, 0.6379, 0.1911,  ..., 0.5484, 0.7785, 0.6296]],\n",
              "\n",
              "         [[0.8736, 0.0577, 0.0510,  ..., 0.6105, 0.3268, 0.9005],\n",
              "          [0.6085, 0.3064, 0.4446,  ..., 0.0144, 0.6968, 0.8492],\n",
              "          [0.9643, 0.0795, 0.5867,  ..., 0.4383, 0.9444, 0.8719],\n",
              "          ...,\n",
              "          [0.8248, 0.4243, 0.4861,  ..., 0.7735, 0.4287, 0.7283],\n",
              "          [0.4275, 0.4120, 0.9760,  ..., 0.5936, 0.3197, 0.8245],\n",
              "          [0.2405, 0.3538, 0.2223,  ..., 0.4567, 0.8340, 0.7671]],\n",
              "\n",
              "         [[0.9400, 0.3030, 0.0273,  ..., 0.4461, 0.1049, 0.9498],\n",
              "          [0.2548, 0.8768, 0.0016,  ..., 0.6498, 0.8317, 0.3790],\n",
              "          [0.5969, 0.4711, 0.2554,  ..., 0.7109, 0.3505, 0.9485],\n",
              "          ...,\n",
              "          [0.8688, 0.2540, 0.6494,  ..., 0.0748, 0.8532, 0.8032],\n",
              "          [0.9513, 0.6706, 0.2086,  ..., 0.2543, 0.8782, 0.9408],\n",
              "          [0.1519, 0.7447, 0.1016,  ..., 0.5998, 0.3414, 0.2086]]]])"
            ]
          },
          "metadata": {},
          "execution_count": 78
        }
      ]
    },
    {
      "cell_type": "code",
      "source": [
        "layer = nn.Conv2d(in_channels=3,\n",
        "                  out_channels=10,\n",
        "                  kernel_size=3,\n",
        "                  stride=1,\n",
        "                  padding=0)\n",
        "\n",
        "layer(t).shape"
      ],
      "metadata": {
        "id": "vlkzYDqcUns5",
        "outputId": "e60593a8-4c2d-4c15-a804-99656774df2a",
        "colab": {
          "base_uri": "https://localhost:8080/"
        }
      },
      "execution_count": 79,
      "outputs": [
        {
          "output_type": "execute_result",
          "data": {
            "text/plain": [
              "torch.Size([1, 10, 62, 62])"
            ]
          },
          "metadata": {},
          "execution_count": 79
        }
      ]
    },
    {
      "cell_type": "code",
      "source": [
        "layer = nn.Conv2d(in_channels=3,\n",
        "                  out_channels=10,\n",
        "                  kernel_size=5,\n",
        "                  stride=1,\n",
        "                  padding=0)\n",
        "\n",
        "layer(t).shape"
      ],
      "metadata": {
        "id": "tBd1aUdaV35M",
        "outputId": "e2c0c2c7-5588-4685-ca74-adaa0468e820",
        "colab": {
          "base_uri": "https://localhost:8080/"
        }
      },
      "execution_count": 80,
      "outputs": [
        {
          "output_type": "execute_result",
          "data": {
            "text/plain": [
              "torch.Size([1, 10, 60, 60])"
            ]
          },
          "metadata": {},
          "execution_count": 80
        }
      ]
    },
    {
      "cell_type": "code",
      "source": [
        "layer = nn.Conv2d(in_channels=3,\n",
        "                  out_channels=10,\n",
        "                  kernel_size=8,\n",
        "                  stride=1,\n",
        "                  padding=0)\n",
        "\n",
        "layer(t).shape"
      ],
      "metadata": {
        "id": "1GR2QjpgV9e4",
        "outputId": "8d85c59b-d236-4dab-e532-4b2e66a8ad9d",
        "colab": {
          "base_uri": "https://localhost:8080/"
        }
      },
      "execution_count": 81,
      "outputs": [
        {
          "output_type": "execute_result",
          "data": {
            "text/plain": [
              "torch.Size([1, 10, 57, 57])"
            ]
          },
          "metadata": {},
          "execution_count": 81
        }
      ]
    },
    {
      "cell_type": "code",
      "source": [
        "layer = nn.Conv2d(in_channels=3,\n",
        "                  out_channels=10,\n",
        "                  kernel_size=2,\n",
        "                  stride=1,\n",
        "                  padding=0)\n",
        "\n",
        "layer(t).shape"
      ],
      "metadata": {
        "id": "aqjua2LTWAsI",
        "outputId": "bc17e63c-b1d9-4216-aa58-80ac75d9f3bf",
        "colab": {
          "base_uri": "https://localhost:8080/"
        }
      },
      "execution_count": 82,
      "outputs": [
        {
          "output_type": "execute_result",
          "data": {
            "text/plain": [
              "torch.Size([1, 10, 63, 63])"
            ]
          },
          "metadata": {},
          "execution_count": 82
        }
      ]
    },
    {
      "cell_type": "markdown",
      "source": [
        "The size of the output images were larger for small kernel sizes versus being a smaller image size for larger kernel sizes."
      ],
      "metadata": {
        "id": "4Xjg-ZlkWF0S"
      }
    },
    {
      "cell_type": "markdown",
      "source": [
        "## 13. Use a model similar to the trained `model_2` from notebook 03 to make predictions on the test [`torchvision.datasets.FashionMNIST`](https://pytorch.org/vision/main/generated/torchvision.datasets.FashionMNIST.html) dataset.\n",
        "* Then plot some predictions where the model was wrong alongside what the label of the image should've been.\n",
        "* After visualing these predictions do you think it's more of a modelling error or a data error?\n",
        "* As in, could the model do better or are the labels of the data too close to each other (e.g. a \"Shirt\" label is too close to \"T-shirt/top\")?"
      ],
      "metadata": {
        "id": "VHS20cNTxwSi"
      }
    },
    {
      "cell_type": "code",
      "source": [
        "# Download FashionMNIST dataset\n",
        "fashion_mnist_train_data = datasets.FashionMNIST(\n",
        "    root='data',\n",
        "    train=True,\n",
        "    download=True,\n",
        "    transform=ToTensor(),\n",
        "    target_transform=None\n",
        ")\n",
        "\n",
        "fashion_mnist_test_data = datasets.FashionMNIST(\n",
        "    root='data',\n",
        "    train=False,\n",
        "    download=True,\n",
        "    transform=ToTensor(),\n",
        "    target_transform=None\n",
        ")"
      ],
      "metadata": {
        "id": "g-9FL8d8YPmR"
      },
      "execution_count": 83,
      "outputs": []
    },
    {
      "cell_type": "code",
      "source": [
        "len(fashion_mnist_train_data), len(fashion_mnist_test_data)"
      ],
      "metadata": {
        "id": "i3B_L65mY6e4",
        "outputId": "18fb2e24-c47d-4cbe-bae0-c1f4afd5a614",
        "colab": {
          "base_uri": "https://localhost:8080/"
        }
      },
      "execution_count": 84,
      "outputs": [
        {
          "output_type": "execute_result",
          "data": {
            "text/plain": [
              "(60000, 10000)"
            ]
          },
          "metadata": {},
          "execution_count": 84
        }
      ]
    },
    {
      "cell_type": "code",
      "source": [
        "# Prepare DataLoader\n",
        "fashion_mnist_train_dataloader = DataLoader(dataset=fashion_mnist_train_data,\n",
        "                                            batch_size=BATCH_SIZE,\n",
        "                                            shuffle=True)\n",
        "\n",
        "fashion_mnist_test_dataloader = DataLoader(dataset=fashion_mnist_test_data,\n",
        "                                           batch_size=BATCH_SIZE,\n",
        "                                           shuffle=False)"
      ],
      "metadata": {
        "id": "WMz295D-Gy4u"
      },
      "execution_count": 85,
      "outputs": []
    },
    {
      "cell_type": "code",
      "source": [
        "print(f'FashionMNIST train DataLoader: {fashion_mnist_train_dataloader}')\n",
        "print(f'FashionMNIST test DataLoader: {fashion_mnist_test_dataloader}')\n",
        "print(f'Length of FashionMNIST train DataLoader: {len(fashion_mnist_train_dataloader)} batches of {BATCH_SIZE}')\n",
        "print(f'Length of FashionMNIST test DataLoader: {len(fashion_mnist_test_dataloader)} batches of {BATCH_SIZE}')"
      ],
      "metadata": {
        "id": "wONMJOVlHUEA",
        "outputId": "fa340dec-51bd-48f6-ea5e-e1b24af5bb82",
        "colab": {
          "base_uri": "https://localhost:8080/"
        }
      },
      "execution_count": 86,
      "outputs": [
        {
          "output_type": "stream",
          "name": "stdout",
          "text": [
            "FashionMNIST train DataLoader: <torch.utils.data.dataloader.DataLoader object at 0x7a3fbf129f90>\n",
            "FashionMNIST test DataLoader: <torch.utils.data.dataloader.DataLoader object at 0x7a3fbf12a0e0>\n",
            "Length of FashionMNIST train DataLoader: 1875 batches of 32\n",
            "Length of FashionMNIST test DataLoader: 313 batches of 32\n"
          ]
        }
      ]
    },
    {
      "cell_type": "code",
      "source": [
        "# Crate Tiny VGG model on GPU for the FashionMNIST dataset\n",
        "FASHION_MNIST_COLOR_CHANNEL = 1\n",
        "\n",
        "fashion_mnist_tiny_vgg = TinyVGG(input_shape=FASHION_MNIST_COLOR_CHANNEL,\n",
        "                        hidden_units=TINY_VGG_HIDDEN_UNITS,\n",
        "                        output_shape=len(fashion_mnist_train_data.class_to_idx),\n",
        "                        hidden_units_multiplier=4*4).to(device)\n",
        "\n",
        "fashion_mnist_tiny_vgg"
      ],
      "metadata": {
        "id": "CwAsamEbITFF",
        "outputId": "59494b5a-aaab-4318-b2f3-eefc1091b7c2",
        "colab": {
          "base_uri": "https://localhost:8080/"
        }
      },
      "execution_count": 93,
      "outputs": [
        {
          "output_type": "execute_result",
          "data": {
            "text/plain": [
              "TinyVGG(\n",
              "  (conv_block_1): Sequential(\n",
              "    (0): Conv2d(1, 10, kernel_size=(3, 3), stride=(1, 1))\n",
              "    (1): ReLU()\n",
              "    (2): Conv2d(10, 10, kernel_size=(3, 3), stride=(1, 1))\n",
              "    (3): ReLU()\n",
              "    (4): MaxPool2d(kernel_size=2, stride=2, padding=0, dilation=1, ceil_mode=False)\n",
              "  )\n",
              "  (conv_block_2): Sequential(\n",
              "    (0): Conv2d(10, 10, kernel_size=(3, 3), stride=(1, 1))\n",
              "    (1): ReLU()\n",
              "    (2): Conv2d(10, 10, kernel_size=(3, 3), stride=(1, 1))\n",
              "    (3): ReLU()\n",
              "    (4): MaxPool2d(kernel_size=2, stride=2, padding=0, dilation=1, ceil_mode=False)\n",
              "  )\n",
              "  (classifier): Sequential(\n",
              "    (0): Flatten(start_dim=1, end_dim=-1)\n",
              "    (1): Linear(in_features=160, out_features=10, bias=True)\n",
              "  )\n",
              ")"
            ]
          },
          "metadata": {},
          "execution_count": 93
        }
      ]
    },
    {
      "cell_type": "code",
      "source": [
        "loss_fn = nn.CrossEntropyLoss()\n",
        "fashion_mnist_tiny_vgg_optimizer = torch.optim.SGD(params=fashion_mnist_tiny_vgg.parameters(),\n",
        "                            lr=0.1)"
      ],
      "metadata": {
        "id": "OKBeAjcFQ3Ms"
      },
      "execution_count": 94,
      "outputs": []
    },
    {
      "cell_type": "code",
      "source": [
        "fashion_mnist_preds = train_and_test(model=fashion_mnist_tiny_vgg,\n",
        "               train_dataloader=fashion_mnist_train_dataloader,\n",
        "               test_dataloader=fashion_mnist_test_dataloader,\n",
        "               loss_fn=loss_fn,\n",
        "               optimizer=fashion_mnist_tiny_vgg_optimizer,\n",
        "               accuracy_fn=accuracy_fn,\n",
        "               epochs=EPOCHS,\n",
        "               device=device)"
      ],
      "metadata": {
        "id": "DpEldb52I_uQ",
        "outputId": "c25331d5-67c2-4e84-fd9d-f34bf0394fb0",
        "colab": {
          "base_uri": "https://localhost:8080/",
          "height": 1000,
          "referenced_widgets": [
            "a87b841ef495417bb668bb1e6a89901d",
            "df9b975d8a934c7f863f70f9b2701823",
            "77fb94aefa464cb9b6c9431b6985bf1d",
            "5cacaf5df2f74eb2acc85f1ea31a709b",
            "ceabc767a60e49b7a576284f65518d70",
            "ffb91f1b0cf2407bbf610323b1ade7bf",
            "0cee6bcadd514d9c83871e7555beacb1",
            "8d99d774c6a845d885ab711b0640acfb",
            "5b33fc7569ae4b92bf5c2999ac85f025",
            "7d3f356b15ee4b77a8733baecfd86096",
            "ffa9818e79b547fa83a2539a8e3b3f9f"
          ]
        }
      },
      "execution_count": 95,
      "outputs": [
        {
          "output_type": "display_data",
          "data": {
            "text/plain": [
              "  0%|          | 0/5 [00:00<?, ?it/s]"
            ],
            "application/vnd.jupyter.widget-view+json": {
              "version_major": 2,
              "version_minor": 0,
              "model_id": "a87b841ef495417bb668bb1e6a89901d"
            }
          },
          "metadata": {}
        },
        {
          "output_type": "stream",
          "name": "stdout",
          "text": [
            "Epoch: 0\n",
            "----------------\n",
            "Looked at 32/60000 samples\n",
            "Looked at 9632/60000 samples\n",
            "Looked at 19232/60000 samples\n",
            "Looked at 28832/60000 samples\n",
            "Looked at 38432/60000 samples\n",
            "Looked at 48032/60000 samples\n",
            "Looked at 57632/60000 samples\n",
            "Looked at 60000/60000 samples\n",
            "Train loss: 0.67552 | Train accuracy: 75.12000\n",
            "Test loss: 0.47464 | Test accuracy: 82.90735\n",
            "\n",
            "Epoch: 1\n",
            "----------------\n",
            "Looked at 32/60000 samples\n",
            "Looked at 9632/60000 samples\n",
            "Looked at 19232/60000 samples\n",
            "Looked at 28832/60000 samples\n",
            "Looked at 38432/60000 samples\n",
            "Looked at 48032/60000 samples\n",
            "Looked at 57632/60000 samples\n",
            "Looked at 60000/60000 samples\n",
            "Train loss: 0.42758 | Train accuracy: 84.41667\n",
            "Test loss: 0.43580 | Test accuracy: 84.53474\n",
            "\n",
            "Epoch: 2\n",
            "----------------\n",
            "Looked at 32/60000 samples\n",
            "Looked at 9632/60000 samples\n",
            "Looked at 19232/60000 samples\n",
            "Looked at 28832/60000 samples\n",
            "Looked at 38432/60000 samples\n",
            "Looked at 48032/60000 samples\n",
            "Looked at 57632/60000 samples\n",
            "Looked at 60000/60000 samples\n",
            "Train loss: 0.38745 | Train accuracy: 85.86667\n",
            "Test loss: 0.40857 | Test accuracy: 84.79433\n",
            "\n",
            "Epoch: 3\n",
            "----------------\n",
            "Looked at 32/60000 samples\n",
            "Looked at 9632/60000 samples\n",
            "Looked at 19232/60000 samples\n",
            "Looked at 28832/60000 samples\n",
            "Looked at 38432/60000 samples\n",
            "Looked at 48032/60000 samples\n",
            "Looked at 57632/60000 samples\n",
            "Looked at 60000/60000 samples\n",
            "Train loss: 0.36666 | Train accuracy: 86.61333\n",
            "Test loss: 0.36281 | Test accuracy: 86.79113\n",
            "\n",
            "Epoch: 4\n",
            "----------------\n",
            "Looked at 32/60000 samples\n",
            "Looked at 9632/60000 samples\n",
            "Looked at 19232/60000 samples\n",
            "Looked at 28832/60000 samples\n",
            "Looked at 38432/60000 samples\n",
            "Looked at 48032/60000 samples\n",
            "Looked at 57632/60000 samples\n",
            "Looked at 60000/60000 samples\n",
            "Train loss: 0.35070 | Train accuracy: 87.31833\n",
            "Test loss: 0.37664 | Test accuracy: 86.44169\n",
            "\n",
            "Train time on cuda: 62.247 seconds\n",
            "None\n"
          ]
        }
      ]
    },
    {
      "cell_type": "code",
      "source": [
        "len(fashion_mnist_preds)"
      ],
      "metadata": {
        "id": "nHoXw_jnRc1D",
        "outputId": "bfa36da6-7370-4fbc-95ba-3361b3d8fa6b",
        "colab": {
          "base_uri": "https://localhost:8080/"
        }
      },
      "execution_count": 97,
      "outputs": [
        {
          "output_type": "execute_result",
          "data": {
            "text/plain": [
              "10000"
            ]
          },
          "metadata": {},
          "execution_count": 97
        }
      ]
    },
    {
      "cell_type": "code",
      "source": [
        "# Initialize lists to hold the images and true labels in the test_dataloader\n",
        "fashion_mnist_images_list = []\n",
        "fashion_mnist_labels_list = []\n",
        "\n",
        "for images, labels in fashion_mnist_test_dataloader:\n",
        "    fashion_mnist_images_list.extend(images)\n",
        "    fashion_mnist_labels_list.extend(labels)"
      ],
      "metadata": {
        "id": "jvRxjRFNH_4q"
      },
      "execution_count": 99,
      "outputs": []
    },
    {
      "cell_type": "code",
      "source": [
        "# Combine image, true label, and predicted label as one element in a list\n",
        "fashion_mnist_test_data_and_preds = [(image, true_label, predicted_label) for image, true_label, predicted_label in zip(fashion_mnist_images_list, fashion_mnist_labels_list, list(fashion_mnist_preds.numpy()))]\n",
        "len(fashion_mnist_test_data_and_preds)"
      ],
      "metadata": {
        "id": "L6YzuCtUR_NM",
        "outputId": "d3bf3623-a05c-418d-fbff-b41b295a33de",
        "colab": {
          "base_uri": "https://localhost:8080/"
        }
      },
      "execution_count": 100,
      "outputs": [
        {
          "output_type": "execute_result",
          "data": {
            "text/plain": [
              "10000"
            ]
          },
          "metadata": {},
          "execution_count": 100
        }
      ]
    },
    {
      "cell_type": "code",
      "source": [
        "# The model that we have is currently similar to model_2 from lecture notebook 03.\n",
        "fashion_mnist_wrong_predictions = [(image, true_label, predicted_label) for image, true_label, predicted_label in fashion_mnist_test_data_and_preds if true_label != predicted_label]\n",
        "len(fashion_mnist_wrong_predictions)"
      ],
      "metadata": {
        "id": "78a8LjtdbSZj",
        "colab": {
          "base_uri": "https://localhost:8080/"
        },
        "outputId": "3a8f2ca4-796c-4c71-e765-a885cafdca44"
      },
      "execution_count": 101,
      "outputs": [
        {
          "output_type": "execute_result",
          "data": {
            "text/plain": [
              "1357"
            ]
          },
          "metadata": {},
          "execution_count": 101
        }
      ]
    },
    {
      "cell_type": "code",
      "source": [
        "# Plot Predictions\n",
        "plt.figure(figsize=(9,9))\n",
        "nrows = int(sqrt(NUM_SAMPLES))\n",
        "ncols = int(sqrt(NUM_SAMPLES))\n",
        "\n",
        "for i, data_sample in enumerate(fashion_mnist_wrong_predictions[:NUM_SAMPLES]):\n",
        "  # Unpack data sample\n",
        "  image, true_label, predicted_label = data_sample\n",
        "\n",
        "  # Create subplot\n",
        "  plt.subplot(nrows, ncols, i+1)\n",
        "\n",
        "  # Plot the target image\n",
        "  plt.imshow(image.squeeze(), cmap='gray')\n",
        "\n",
        "  # Find the predicted class name (in text form, e.g. 'Sandal')\n",
        "  predicted_class_name = class_names[predicted_label]\n",
        "\n",
        "  # Get the true class name (in text form)\n",
        "  true_class_name = class_names[true_label]\n",
        "\n",
        "  # Create a title for the plot\n",
        "  title_text = f'Predicted: {predicted_class_name} | Truth: {true_class_name}'\n",
        "\n",
        "  # Check for equality between pred and truth and change color of title text\n",
        "  if predicted_class_name == true_class_name:\n",
        "    title_color = 'g'\n",
        "  else:\n",
        "    title_color = 'r'\n",
        "\n",
        "  # Plot the title\n",
        "  plt.title(title_text, fontsize=10, c=title_color)\n",
        "\n",
        "  plt.axis(False)"
      ],
      "metadata": {
        "id": "tbsxgyVYXbh4",
        "outputId": "5f556b27-8c52-41ef-82b7-be2664c483fb",
        "colab": {
          "base_uri": "https://localhost:8080/",
          "height": 749
        }
      },
      "execution_count": 102,
      "outputs": [
        {
          "output_type": "display_data",
          "data": {
            "text/plain": [
              "<Figure size 900x900 with 9 Axes>"
            ],
            "image/png": "[encoded data removed]"
          },
          "metadata": {}
        }
      ]
    }
  ]
}