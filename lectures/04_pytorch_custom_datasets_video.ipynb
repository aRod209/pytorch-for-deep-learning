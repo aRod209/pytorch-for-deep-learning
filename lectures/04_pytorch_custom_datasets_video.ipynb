{
  "nbformat": 4,
  "nbformat_minor": 0,
  "metadata": {
    "colab": {
      "provenance": [],
      "authorship_tag": "ABX9TyOgxqXWT4XbsKD/cfRKrTWU",
      "include_colab_link": true
    },
    "kernelspec": {
      "name": "python3",
      "display_name": "Python 3"
    },
    "language_info": {
      "name": "python"
    }
  },
  "cells": [
    {
      "cell_type": "markdown",
      "metadata": {
        "id": "view-in-github",
        "colab_type": "text"
      },
      "source": [
        "<a href=\"https://colab.research.google.com/github/aRod209/pytorch-for-deep-learning/blob/main/lectures/04_pytorch_custom_datasets_video.ipynb\" target=\"_parent\"><img src=\"https://colab.research.google.com/assets/colab-badge.svg\" alt=\"Open In Colab\"/></a>"
      ]
    },
    {
      "cell_type": "markdown",
      "source": [
        "# 04. PyTorch Custom Dataasets Video Notebook\n",
        "\n",
        "We've used some datasets with PyTorch before.\n",
        "\n",
        "But how do we get your own data in PyTorch?\n",
        "\n",
        "One of the ways to do so is via: custom datasets.\n",
        "\n",
        "## Domain libraries\n",
        "\n",
        "Depending on what you're working on, vision, text, audio, recommendation, you'll want to look into each of the PyTorch domain libraries for existing data loading functions and customizable data loading functions.\n",
        "\n",
        "**Resources:**\n",
        "* Book version of the course materials for 04: https://www.learnpytorch.io/04_pytorch_custom_datasets/\n",
        "* Ground truth version of notebook 04:\n",
        "\n",
        "https://github.com/mrdbourke/pytorch-deep-learning/blob/main/04_pytorch_custom_datasets.ipynb"
      ],
      "metadata": {
        "id": "z4cNOKVmqRRM"
      }
    },
    {
      "cell_type": "markdown",
      "source": [
        "## 0. Importing PyTorch and setting up device-agnostic code"
      ],
      "metadata": {
        "id": "kEDHpBOJqxth"
      }
    },
    {
      "cell_type": "code",
      "source": [
        "import torch\n",
        "from torch import nn\n",
        "\n",
        "# Note: PyTorch 1.10.0 + is required for this course\n",
        "torch.__version__"
      ],
      "metadata": {
        "colab": {
          "base_uri": "https://localhost:8080/",
          "height": 35
        },
        "id": "A0f_UUIurAuQ",
        "outputId": "710de2d3-f88c-465e-c2e9-e537b4652767"
      },
      "execution_count": 1,
      "outputs": [
        {
          "output_type": "execute_result",
          "data": {
            "text/plain": [
              "'2.1.0+cu121'"
            ],
            "application/vnd.google.colaboratory.intrinsic+json": {
              "type": "string"
            }
          },
          "metadata": {},
          "execution_count": 1
        }
      ]
    },
    {
      "cell_type": "code",
      "source": [
        "# Setup device agnostic code\n",
        "device = 'cuda' if torch.cuda.is_available() else 'cpu'\n",
        "device"
      ],
      "metadata": {
        "colab": {
          "base_uri": "https://localhost:8080/",
          "height": 35
        },
        "id": "Eg5h1v6Xro0N",
        "outputId": "1fed9646-e0fe-40a9-efb2-7014898775af"
      },
      "execution_count": 2,
      "outputs": [
        {
          "output_type": "execute_result",
          "data": {
            "text/plain": [
              "'cpu'"
            ],
            "application/vnd.google.colaboratory.intrinsic+json": {
              "type": "string"
            }
          },
          "metadata": {},
          "execution_count": 2
        }
      ]
    },
    {
      "cell_type": "code",
      "source": [
        "if device == 'cuda':\n",
        "  !nvidia-smi"
      ],
      "metadata": {
        "id": "roJQirS0rxBm"
      },
      "execution_count": 3,
      "outputs": []
    },
    {
      "cell_type": "markdown",
      "source": [
        "## 1. Get Data\n",
        "\n",
        "Our dataset is a subset of the [Food101](https://data.vision.ee.ethz.ch/cvl/datasets_extra/food-101/) dataset.\n",
        "\n",
        "Food101 starts 101 different classes of food and 1000 images per class (750 training, 250 testing).\n",
        "\n",
        "Our dataset starts with 3 classes of food and only 10% of the images (~75 training, 25 testing).\n",
        "\n",
        "Why do this?\n",
        "\n",
        "When starting out ML projects, it's important to try things on a small scale and then increase the scale when necessary.\n",
        "\n",
        "The whole point is to speed up how fast you can experiment."
      ],
      "metadata": {
        "id": "DB9ODMx7r9Ul"
      }
    },
    {
      "cell_type": "code",
      "source": [
        "import requests\n",
        "import zipfile\n",
        "from pathlib import Path\n",
        "\n",
        "# Setup path to a data folder\n",
        "data_path = Path('data/')\n",
        "image_path = data_path / 'pizza_steak_sushi'\n",
        "\n",
        "data_path, image_path"
      ],
      "metadata": {
        "colab": {
          "base_uri": "https://localhost:8080/"
        },
        "id": "40yBdTO5lpB5",
        "outputId": "afcac61b-9ee9-4438-c120-03be2dd0e3c0"
      },
      "execution_count": 4,
      "outputs": [
        {
          "output_type": "execute_result",
          "data": {
            "text/plain": [
              "(PosixPath('data'), PosixPath('data/pizza_steak_sushi'))"
            ]
          },
          "metadata": {},
          "execution_count": 4
        }
      ]
    },
    {
      "cell_type": "code",
      "source": [
        "# If the image folder doesn't exist, download it and prepare it...\n",
        "if image_path.is_dir():\n",
        "  print(f'{image_path} directory already exists... skipping download')\n",
        "else:\n",
        "  print(f'{image_path} does not exist, creating one...')\n",
        "  image_path.mkdir(parents=True, exist_ok=True)"
      ],
      "metadata": {
        "id": "rKKeZK_rxVal",
        "outputId": "eaf88414-5067-42be-d974-de6624819995",
        "colab": {
          "base_uri": "https://localhost:8080/"
        }
      },
      "execution_count": 5,
      "outputs": [
        {
          "output_type": "stream",
          "name": "stdout",
          "text": [
            "data/pizza_steak_sushi does not exist, creating one...\n"
          ]
        }
      ]
    },
    {
      "cell_type": "code",
      "source": [
        "# Download pizza, steak and sushi data\n",
        "with open(data_path / 'pizza_steak_sushi.zip', 'wb') as f:\n",
        "  response = requests.get('https://github.com/mrdbourke/pytorch-deep-learning/raw/main/data/pizza_steak_sushi.zip')\n",
        "  print(f'Downloading pizza, steak, and sushi data...')\n",
        "  f.write(response.content)"
      ],
      "metadata": {
        "id": "WorsJ5LSxVqA",
        "outputId": "971d05eb-6c80-4f1e-dabd-84216c208ee8",
        "colab": {
          "base_uri": "https://localhost:8080/"
        }
      },
      "execution_count": 6,
      "outputs": [
        {
          "output_type": "stream",
          "name": "stdout",
          "text": [
            "Downloading pizza, steak, and sushi data...\n"
          ]
        }
      ]
    },
    {
      "cell_type": "code",
      "source": [
        "# Unzip pizza, steak, and sushi data\n",
        "with zipfile.ZipFile(data_path / 'pizza_steak_sushi.zip', 'r') as zip_ref:\n",
        "  print('Unzipping pizza, steak, and sushi data...')\n",
        "  zip_ref.extractall(image_path)"
      ],
      "metadata": {
        "id": "_6YF-vwSxV4i",
        "outputId": "0c42308b-f7f6-414e-e18e-4f137c3e921d",
        "colab": {
          "base_uri": "https://localhost:8080/"
        }
      },
      "execution_count": 7,
      "outputs": [
        {
          "output_type": "stream",
          "name": "stdout",
          "text": [
            "Unzipping pizza, steak, and sushi data...\n"
          ]
        }
      ]
    },
    {
      "cell_type": "markdown",
      "source": [
        "## 2. Becoming one with the data (data preparation and data exploration)"
      ],
      "metadata": {
        "id": "NLgkeEi40-P9"
      }
    },
    {
      "cell_type": "code",
      "source": [],
      "metadata": {
        "id": "KkKSBGu71Wj3"
      },
      "execution_count": null,
      "outputs": []
    }
  ]
}