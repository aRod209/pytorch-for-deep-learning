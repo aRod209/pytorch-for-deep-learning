{
  "nbformat": 4,
  "nbformat_minor": 0,
  "metadata": {
    "colab": {
      "provenance": [],
      "toc_visible": true,
      "gpuType": "T4",
      "authorship_tag": "ABX9TyPZVXtcUcrjewdngb46wiGn",
      "include_colab_link": true
    },
    "kernelspec": {
      "name": "python3",
      "display_name": "Python 3"
    },
    "language_info": {
      "name": "python"
    },
    "accelerator": "GPU"
  },
  "cells": [
    {
      "cell_type": "markdown",
      "metadata": {
        "id": "view-in-github",
        "colab_type": "text"
      },
      "source": [
        "<a href=\"https://colab.research.google.com/github/aRod209/pytorch-for-deep-learning/blob/main/lectures/00_pytorch_fundamentals.ipynb\" target=\"_parent\"><img src=\"https://colab.research.google.com/assets/colab-badge.svg\" alt=\"Open In Colab\"/></a>"
      ]
    },
    {
      "cell_type": "markdown",
      "source": [
        "## 00. PyTorch Fundamentals\n",
        "\n",
        "Resource notebook: https://www.learnpytorch.io/00_pytorch_fundamentals/\n",
        "\n",
        "If you have a question: https://github.com/mrdbourke/pytorch-deep-learning/discussions"
      ],
      "metadata": {
        "id": "-lnbynsF-1tC"
      }
    },
    {
      "cell_type": "code",
      "source": [
        "import torch\n",
        "import pandas as pd\n",
        "import numpy as np\n",
        "import matplotlib.pyplot as plt\n",
        "print(torch.__version__)"
      ],
      "metadata": {
        "colab": {
          "base_uri": "https://localhost:8080/"
        },
        "id": "X5zcX5UL_srT",
        "outputId": "71068daf-e867-4ded-a689-d85799c26854"
      },
      "execution_count": null,
      "outputs": [
        {
          "output_type": "stream",
          "name": "stdout",
          "text": [
            "2.5.1+cu121\n"
          ]
        }
      ]
    },
    {
      "cell_type": "markdown",
      "source": [
        "## Introduction To Tensors"
      ],
      "metadata": {
        "id": "M7b_Sd_kFNAz"
      }
    },
    {
      "cell_type": "markdown",
      "source": [
        "## A great YouTube video answering the question: \"What's a Tensor?\""
      ],
      "metadata": {
        "id": "25PSWpcFMFXP"
      }
    },
    {
      "cell_type": "code",
      "source": [
        "%%HTML\n",
        "<iframe\n",
        "  width=\"560\"\n",
        "  height=\"315\"\n",
        "  src=\"https://www.youtube.com/embed/f5liqUk0ZTw\"\n",
        "  title=\"YouTube video player\"\n",
        "  frameborder=\"0\"\n",
        "  allow=\"accelerometer; autoplay; clipboard-write; encrypted-media; gyroscope; picture-in-picture; web-share\"\n",
        "  allowfullscreen>\n",
        "</iframe>"
      ],
      "metadata": {
        "colab": {
          "base_uri": "https://localhost:8080/",
          "height": 337
        },
        "id": "wXQgw1c-FQn_",
        "outputId": "3c5b5508-6f3e-42dc-877b-c87adfa6909e"
      },
      "execution_count": null,
      "outputs": [
        {
          "output_type": "display_data",
          "data": {
            "text/plain": [
              "<IPython.core.display.HTML object>"
            ],
            "text/html": [
              "<iframe\n",
              "  width=\"560\"\n",
              "  height=\"315\"\n",
              "  src=\"https://www.youtube.com/embed/f5liqUk0ZTw\"\n",
              "  title=\"YouTube video player\"\n",
              "  frameborder=\"0\"\n",
              "  allow=\"accelerometer; autoplay; clipboard-write; encrypted-media; gyroscope; picture-in-picture; web-share\"\n",
              "  allowfullscreen>\n",
              "</iframe>\n"
            ]
          },
          "metadata": {}
        }
      ]
    },
    {
      "cell_type": "markdown",
      "source": [
        "## Creating Tensors\n"
      ],
      "metadata": {
        "id": "1eGmAsmWMUZy"
      }
    },
    {
      "cell_type": "markdown",
      "source": [
        "PyTorch tensors are created using `torch.tensor()` = https://pytorch.org/docs/stable/tensors.html"
      ],
      "metadata": {
        "id": "BDJEWC-NnZEu"
      }
    },
    {
      "cell_type": "code",
      "source": [
        "# Scalar\n",
        "scalar = torch.tensor(7)\n",
        "scalar"
      ],
      "metadata": {
        "colab": {
          "base_uri": "https://localhost:8080/"
        },
        "id": "MK-c02_sMWq0",
        "outputId": "0f2d83c4-eaac-470e-913b-fa680141f9a1"
      },
      "execution_count": null,
      "outputs": [
        {
          "output_type": "execute_result",
          "data": {
            "text/plain": [
              "tensor(7)"
            ]
          },
          "metadata": {},
          "execution_count": 3
        }
      ]
    },
    {
      "cell_type": "code",
      "source": [
        "# Dimension of scalar\n",
        "scalar.ndim"
      ],
      "metadata": {
        "colab": {
          "base_uri": "https://localhost:8080/"
        },
        "id": "JRKXpKatnD0h",
        "outputId": "d127f329-513c-4d9d-bf50-87ac52021b46"
      },
      "execution_count": null,
      "outputs": [
        {
          "output_type": "execute_result",
          "data": {
            "text/plain": [
              "0"
            ]
          },
          "metadata": {},
          "execution_count": 4
        }
      ]
    },
    {
      "cell_type": "code",
      "source": [
        "# Get the number back as a Python int\n",
        "scalar.item()"
      ],
      "metadata": {
        "colab": {
          "base_uri": "https://localhost:8080/"
        },
        "id": "yEUXAzFanoeD",
        "outputId": "137d0181-5032-465d-e4cb-798cf7b09629"
      },
      "execution_count": null,
      "outputs": [
        {
          "output_type": "execute_result",
          "data": {
            "text/plain": [
              "7"
            ]
          },
          "metadata": {},
          "execution_count": 5
        }
      ]
    },
    {
      "cell_type": "code",
      "source": [
        "scalar.shape"
      ],
      "metadata": {
        "colab": {
          "base_uri": "https://localhost:8080/"
        },
        "id": "YNPyJgtgpTNL",
        "outputId": "048c87ba-5082-494e-e682-ef8690f853d2"
      },
      "execution_count": null,
      "outputs": [
        {
          "output_type": "execute_result",
          "data": {
            "text/plain": [
              "torch.Size([])"
            ]
          },
          "metadata": {},
          "execution_count": 6
        }
      ]
    },
    {
      "cell_type": "code",
      "source": [
        "# Vector\n",
        "vector = torch.tensor([7, 7])\n",
        "vector"
      ],
      "metadata": {
        "colab": {
          "base_uri": "https://localhost:8080/"
        },
        "id": "Vh13v-kqoCU-",
        "outputId": "b04aa54d-0dc2-43dc-a89d-06097f108667"
      },
      "execution_count": null,
      "outputs": [
        {
          "output_type": "execute_result",
          "data": {
            "text/plain": [
              "tensor([7, 7])"
            ]
          },
          "metadata": {},
          "execution_count": 7
        }
      ]
    },
    {
      "cell_type": "code",
      "source": [
        "# Dimension of vector\n",
        "vector.ndim"
      ],
      "metadata": {
        "colab": {
          "base_uri": "https://localhost:8080/"
        },
        "id": "w9HRRXQ8oSL6",
        "outputId": "52d56b4f-0fe2-4be1-b509-c8fb74a1f9d5"
      },
      "execution_count": null,
      "outputs": [
        {
          "output_type": "execute_result",
          "data": {
            "text/plain": [
              "1"
            ]
          },
          "metadata": {},
          "execution_count": 8
        }
      ]
    },
    {
      "cell_type": "code",
      "source": [
        "# Shape should be 2 for 2X1\n",
        "vector.shape"
      ],
      "metadata": {
        "colab": {
          "base_uri": "https://localhost:8080/"
        },
        "id": "m_ceGe3nooGH",
        "outputId": "bf6bf483-9b4c-47b3-88db-87785c593d68"
      },
      "execution_count": null,
      "outputs": [
        {
          "output_type": "execute_result",
          "data": {
            "text/plain": [
              "torch.Size([2])"
            ]
          },
          "metadata": {},
          "execution_count": 9
        }
      ]
    },
    {
      "cell_type": "code",
      "source": [
        "# Matrix\n",
        "MATRIX = torch.tensor([[7, 8],\n",
        "                       [9, 10]])\n",
        "\n",
        "MATRIX"
      ],
      "metadata": {
        "colab": {
          "base_uri": "https://localhost:8080/"
        },
        "id": "7VcSEv-Tor2F",
        "outputId": "ae1f2345-dde3-4dbe-986e-6c4ae888dd44"
      },
      "execution_count": null,
      "outputs": [
        {
          "output_type": "execute_result",
          "data": {
            "text/plain": [
              "tensor([[ 7,  8],\n",
              "        [ 9, 10]])"
            ]
          },
          "metadata": {},
          "execution_count": 10
        }
      ]
    },
    {
      "cell_type": "code",
      "source": [
        "MATRIX.ndim"
      ],
      "metadata": {
        "colab": {
          "base_uri": "https://localhost:8080/"
        },
        "id": "KB34Pu_QpEkD",
        "outputId": "56a2126c-0d9e-4e94-a486-acce1871be77"
      },
      "execution_count": null,
      "outputs": [
        {
          "output_type": "execute_result",
          "data": {
            "text/plain": [
              "2"
            ]
          },
          "metadata": {},
          "execution_count": 11
        }
      ]
    },
    {
      "cell_type": "code",
      "source": [
        "MATRIX[0], MATRIX[1]"
      ],
      "metadata": {
        "colab": {
          "base_uri": "https://localhost:8080/"
        },
        "id": "F494GG5ipGbi",
        "outputId": "f175b1aa-2d10-4056-9b05-c7b4031cf14a"
      },
      "execution_count": null,
      "outputs": [
        {
          "output_type": "execute_result",
          "data": {
            "text/plain": [
              "(tensor([7, 8]), tensor([ 9, 10]))"
            ]
          },
          "metadata": {},
          "execution_count": 12
        }
      ]
    },
    {
      "cell_type": "code",
      "source": [
        "MATRIX.shape"
      ],
      "metadata": {
        "colab": {
          "base_uri": "https://localhost:8080/"
        },
        "id": "pMA-_wEXpKGu",
        "outputId": "9a74abfa-15bb-4b37-87dd-45a1d527d474"
      },
      "execution_count": null,
      "outputs": [
        {
          "output_type": "execute_result",
          "data": {
            "text/plain": [
              "torch.Size([2, 2])"
            ]
          },
          "metadata": {},
          "execution_count": 13
        }
      ]
    },
    {
      "cell_type": "code",
      "source": [
        "# TENSOR\n",
        "TENSOR = torch.tensor([[[1,2,3],\n",
        "                        [3,6,9],\n",
        "                        [2,5,4]]])\n",
        "TENSOR"
      ],
      "metadata": {
        "colab": {
          "base_uri": "https://localhost:8080/"
        },
        "id": "ljdIFrRjpPGp",
        "outputId": "29949db3-0a58-4fc7-f175-bf58948f386d"
      },
      "execution_count": null,
      "outputs": [
        {
          "output_type": "execute_result",
          "data": {
            "text/plain": [
              "tensor([[[1, 2, 3],\n",
              "         [3, 6, 9],\n",
              "         [2, 5, 4]]])"
            ]
          },
          "metadata": {},
          "execution_count": 14
        }
      ]
    },
    {
      "cell_type": "code",
      "source": [
        "TENSOR.ndim"
      ],
      "metadata": {
        "colab": {
          "base_uri": "https://localhost:8080/"
        },
        "id": "Up1NsaRFpxAC",
        "outputId": "9183cb7c-d04d-404d-b4c6-e7b48ac55908"
      },
      "execution_count": null,
      "outputs": [
        {
          "output_type": "execute_result",
          "data": {
            "text/plain": [
              "3"
            ]
          },
          "metadata": {},
          "execution_count": 15
        }
      ]
    },
    {
      "cell_type": "code",
      "source": [
        "# There is 1 3X3 tensor\n",
        "TENSOR.shape"
      ],
      "metadata": {
        "colab": {
          "base_uri": "https://localhost:8080/"
        },
        "id": "nTKdKv6Hp5PM",
        "outputId": "543fc5b7-5334-4920-c98b-88a8f63e9bbf"
      },
      "execution_count": null,
      "outputs": [
        {
          "output_type": "execute_result",
          "data": {
            "text/plain": [
              "torch.Size([1, 3, 3])"
            ]
          },
          "metadata": {},
          "execution_count": 16
        }
      ]
    },
    {
      "cell_type": "code",
      "source": [
        "TENSOR[0]"
      ],
      "metadata": {
        "colab": {
          "base_uri": "https://localhost:8080/"
        },
        "id": "T1G2w-lop7Kz",
        "outputId": "d6a8e018-c02f-4ff2-840d-ab3d60774e8b"
      },
      "execution_count": null,
      "outputs": [
        {
          "output_type": "execute_result",
          "data": {
            "text/plain": [
              "tensor([[1, 2, 3],\n",
              "        [3, 6, 9],\n",
              "        [2, 5, 4]])"
            ]
          },
          "metadata": {},
          "execution_count": 17
        }
      ]
    },
    {
      "cell_type": "code",
      "source": [
        "# Experiment with tensors\n",
        "TENSOR2 = torch.tensor([[[1,2],\n",
        "                         [3,4]],\n",
        "                        [[5,6],\n",
        "                         [7,8]],])"
      ],
      "metadata": {
        "id": "5Jd08oGNqEdg"
      },
      "execution_count": null,
      "outputs": []
    },
    {
      "cell_type": "code",
      "source": [
        "TENSOR2.shape"
      ],
      "metadata": {
        "colab": {
          "base_uri": "https://localhost:8080/"
        },
        "id": "_SFVgRrVl3FD",
        "outputId": "6f9dc50f-1632-44dd-cc99-c494bfbef61c"
      },
      "execution_count": null,
      "outputs": [
        {
          "output_type": "execute_result",
          "data": {
            "text/plain": [
              "torch.Size([2, 2, 2])"
            ]
          },
          "metadata": {},
          "execution_count": 19
        }
      ]
    },
    {
      "cell_type": "code",
      "source": [
        "a = [i for i in range(10)]\n",
        "b = [i for i in range(10,20)]\n",
        "TENSOR3 = torch.tensor([[a,b]])"
      ],
      "metadata": {
        "id": "nZQBayjlmMcS"
      },
      "execution_count": null,
      "outputs": []
    },
    {
      "cell_type": "code",
      "source": [
        "TENSOR3"
      ],
      "metadata": {
        "colab": {
          "base_uri": "https://localhost:8080/"
        },
        "id": "3mGtX2WDBaKY",
        "outputId": "bebad74b-3068-4013-b08c-c384956500d6"
      },
      "execution_count": null,
      "outputs": [
        {
          "output_type": "execute_result",
          "data": {
            "text/plain": [
              "tensor([[[ 0,  1,  2,  3,  4,  5,  6,  7,  8,  9],\n",
              "         [10, 11, 12, 13, 14, 15, 16, 17, 18, 19]]])"
            ]
          },
          "metadata": {},
          "execution_count": 21
        }
      ]
    },
    {
      "cell_type": "code",
      "source": [
        "TENSOR3.shape"
      ],
      "metadata": {
        "colab": {
          "base_uri": "https://localhost:8080/"
        },
        "id": "FrHOlYigBcEi",
        "outputId": "66bdf678-120d-4b78-8ae8-4fa1cb639df5"
      },
      "execution_count": null,
      "outputs": [
        {
          "output_type": "execute_result",
          "data": {
            "text/plain": [
              "torch.Size([1, 2, 10])"
            ]
          },
          "metadata": {},
          "execution_count": 22
        }
      ]
    },
    {
      "cell_type": "markdown",
      "source": [
        "### Random tensors"
      ],
      "metadata": {
        "id": "9xPjvQ06CGaA"
      }
    },
    {
      "cell_type": "markdown",
      "source": [
        "Why random tensors?\n",
        "\n",
        "Random tensors are important because of the way many neural netwoks learn is that they start with tensors full of random numbers and then adjust those random numbers to better represent the data.\n",
        "\n",
        "`Start with random numbers - look at data -> update random numbers -> look at data -> update random numbers`\n",
        "\n",
        "torch random tensors: https://pytorch.org/docs/stable/generated/torch.randn.html"
      ],
      "metadata": {
        "id": "v1A_OGGICK8h"
      }
    },
    {
      "cell_type": "code",
      "source": [
        "# Create a random tensor of size (3,4)\n",
        "\n",
        "random_tensor = torch.rand(3, 4)\n",
        "random_tensor"
      ],
      "metadata": {
        "colab": {
          "base_uri": "https://localhost:8080/"
        },
        "id": "jqj3sr81CJ86",
        "outputId": "4c77de03-8d9e-4ffd-f59d-29fde22b4922"
      },
      "execution_count": null,
      "outputs": [
        {
          "output_type": "execute_result",
          "data": {
            "text/plain": [
              "tensor([[0.9766, 0.2935, 0.7109, 0.8604],\n",
              "        [0.5661, 0.0466, 0.3748, 0.5202],\n",
              "        [0.9560, 0.7985, 0.2337, 0.3914]])"
            ]
          },
          "metadata": {},
          "execution_count": 23
        }
      ]
    },
    {
      "cell_type": "code",
      "source": [
        "random_tensor.ndim"
      ],
      "metadata": {
        "colab": {
          "base_uri": "https://localhost:8080/"
        },
        "id": "lOCfTLtQCw5d",
        "outputId": "228113b6-af2d-48d6-e8ea-134c78855e2a"
      },
      "execution_count": null,
      "outputs": [
        {
          "output_type": "execute_result",
          "data": {
            "text/plain": [
              "2"
            ]
          },
          "metadata": {},
          "execution_count": 24
        }
      ]
    },
    {
      "cell_type": "code",
      "source": [
        "random_tensor.shape"
      ],
      "metadata": {
        "colab": {
          "base_uri": "https://localhost:8080/"
        },
        "id": "2AJihPapDDFo",
        "outputId": "cfefb021-e4b1-4190-d330-6ce49ca4b278"
      },
      "execution_count": null,
      "outputs": [
        {
          "output_type": "execute_result",
          "data": {
            "text/plain": [
              "torch.Size([3, 4])"
            ]
          },
          "metadata": {},
          "execution_count": 25
        }
      ]
    },
    {
      "cell_type": "code",
      "source": [
        "# Create a random tensor with similar shape to an image tensor\n",
        "random_image_size_tensor = torch.rand(size=(3,224, 224)) # height, width, coolour channel\n",
        "random_image_size_tensor.shape, random_image_size_tensor.ndim"
      ],
      "metadata": {
        "colab": {
          "base_uri": "https://localhost:8080/"
        },
        "id": "R33RruH9DHil",
        "outputId": "a8e3f386-fc80-45fe-fcc2-a8efb6a608a8"
      },
      "execution_count": null,
      "outputs": [
        {
          "output_type": "execute_result",
          "data": {
            "text/plain": [
              "(torch.Size([3, 224, 224]), 3)"
            ]
          },
          "metadata": {},
          "execution_count": 26
        }
      ]
    },
    {
      "cell_type": "code",
      "source": [
        "torch.rand(2, 9, 10)"
      ],
      "metadata": {
        "id": "dBsKuTYKDsuT",
        "colab": {
          "base_uri": "https://localhost:8080/"
        },
        "outputId": "b1589047-0b9e-4a3a-fb7a-ca59c24c65eb"
      },
      "execution_count": null,
      "outputs": [
        {
          "output_type": "execute_result",
          "data": {
            "text/plain": [
              "tensor([[[0.1657, 0.5099, 0.8962, 0.9854, 0.7188, 0.9799, 0.0801, 0.6709,\n",
              "          0.5066, 0.2483],\n",
              "         [0.7387, 0.2624, 0.7648, 0.9003, 0.3853, 0.7075, 0.4409, 0.8162,\n",
              "          0.9066, 0.7110],\n",
              "         [0.8090, 0.2967, 0.4977, 0.5460, 0.8717, 0.4892, 0.4305, 0.4976,\n",
              "          0.3935, 0.7627],\n",
              "         [0.4524, 0.8672, 0.8150, 0.6147, 0.9223, 0.6871, 0.1395, 0.3377,\n",
              "          0.2476, 0.9557],\n",
              "         [0.8111, 0.7439, 0.9303, 0.3228, 0.5503, 0.2195, 0.9608, 0.9584,\n",
              "          0.5298, 0.5393],\n",
              "         [0.2128, 0.6978, 0.9119, 0.4006, 0.3368, 0.5772, 0.0118, 0.6925,\n",
              "          0.1321, 0.5953],\n",
              "         [0.8707, 0.6756, 0.3105, 0.9394, 0.0035, 0.1061, 0.2820, 0.1101,\n",
              "          0.6370, 0.1600],\n",
              "         [0.8319, 0.6402, 0.1088, 0.4835, 0.9850, 0.0102, 0.5846, 0.1547,\n",
              "          0.3753, 0.7180],\n",
              "         [0.9256, 0.3726, 0.3178, 0.5986, 0.7406, 0.4963, 0.6989, 0.0771,\n",
              "          0.3851, 0.9403]],\n",
              "\n",
              "        [[0.7311, 0.6450, 0.7669, 0.5994, 0.5848, 0.5733, 0.5764, 0.3615,\n",
              "          0.5185, 0.1901],\n",
              "         [0.6895, 0.2686, 0.2344, 0.0098, 0.6577, 0.8841, 0.2387, 0.3362,\n",
              "          0.6245, 0.3935],\n",
              "         [0.4040, 0.0332, 0.4336, 0.3680, 0.2645, 0.5834, 0.5929, 0.2215,\n",
              "          0.7510, 0.2513],\n",
              "         [0.3573, 0.8505, 0.8230, 0.3380, 0.2918, 0.6777, 0.3020, 0.0685,\n",
              "          0.8906, 0.3670],\n",
              "         [0.6310, 0.2637, 0.7323, 0.4133, 0.9423, 0.9864, 0.5295, 0.4312,\n",
              "          0.3762, 0.7420],\n",
              "         [0.5104, 0.4197, 0.7746, 0.4641, 0.2246, 0.4136, 0.7564, 0.3346,\n",
              "          0.7152, 0.8698],\n",
              "         [0.4484, 0.9306, 0.9158, 0.7280, 0.6225, 0.5695, 0.2879, 0.4493,\n",
              "          0.3289, 0.5271],\n",
              "         [0.4602, 0.2770, 0.2255, 0.8261, 0.8534, 0.0224, 0.0368, 0.8553,\n",
              "          0.7071, 0.6160],\n",
              "         [0.1234, 0.4945, 0.8347, 0.7206, 0.1534, 0.0169, 0.6414, 0.4177,\n",
              "          0.9070, 0.8146]]])"
            ]
          },
          "metadata": {},
          "execution_count": 27
        }
      ]
    },
    {
      "cell_type": "code",
      "source": [
        "torch.rand(size=(3,3,3))"
      ],
      "metadata": {
        "colab": {
          "base_uri": "https://localhost:8080/"
        },
        "id": "Sro1ZCPAKDp-",
        "outputId": "6ad2d0e4-01d8-44d7-a092-4046a8b17ecd"
      },
      "execution_count": null,
      "outputs": [
        {
          "output_type": "execute_result",
          "data": {
            "text/plain": [
              "tensor([[[0.4195, 0.9585, 0.4318],\n",
              "         [0.6216, 0.3635, 0.5881],\n",
              "         [0.9434, 0.5135, 0.5762]],\n",
              "\n",
              "        [[0.5207, 0.7780, 0.8499],\n",
              "         [0.8351, 0.4471, 0.6188],\n",
              "         [0.4717, 0.9736, 0.0573]],\n",
              "\n",
              "        [[0.8590, 0.8540, 0.1028],\n",
              "         [0.2813, 0.2978, 0.4624],\n",
              "         [0.1521, 0.1038, 0.6522]]])"
            ]
          },
          "metadata": {},
          "execution_count": 28
        }
      ]
    },
    {
      "cell_type": "markdown",
      "source": [
        "### Zeros and ones"
      ],
      "metadata": {
        "id": "rGTcpR1cKVcV"
      }
    },
    {
      "cell_type": "code",
      "source": [
        "# Create a tensor of all zzeros\n",
        "zeros = torch.zeros(size=(3, 4))\n",
        "zeros"
      ],
      "metadata": {
        "colab": {
          "base_uri": "https://localhost:8080/"
        },
        "id": "kenAregxKYOi",
        "outputId": "544338e1-f4d8-4c05-d77d-1720c85412cc"
      },
      "execution_count": null,
      "outputs": [
        {
          "output_type": "execute_result",
          "data": {
            "text/plain": [
              "tensor([[0., 0., 0., 0.],\n",
              "        [0., 0., 0., 0.],\n",
              "        [0., 0., 0., 0.]])"
            ]
          },
          "metadata": {},
          "execution_count": 29
        }
      ]
    },
    {
      "cell_type": "code",
      "source": [
        "zeros * random_tensor"
      ],
      "metadata": {
        "colab": {
          "base_uri": "https://localhost:8080/"
        },
        "id": "ffKpBU2SKf-T",
        "outputId": "43497b8d-eb94-451a-9671-6e7b5364f628"
      },
      "execution_count": null,
      "outputs": [
        {
          "output_type": "execute_result",
          "data": {
            "text/plain": [
              "tensor([[0., 0., 0., 0.],\n",
              "        [0., 0., 0., 0.],\n",
              "        [0., 0., 0., 0.]])"
            ]
          },
          "metadata": {},
          "execution_count": 30
        }
      ]
    },
    {
      "cell_type": "code",
      "source": [
        "# Create tensor of all ones\n",
        "ones = torch.ones(size=(3, 4))\n",
        "ones"
      ],
      "metadata": {
        "colab": {
          "base_uri": "https://localhost:8080/"
        },
        "id": "M3oXjbwnKnFo",
        "outputId": "3fcd1e10-fe4b-430f-f0e4-ae56cda4fe14"
      },
      "execution_count": null,
      "outputs": [
        {
          "output_type": "execute_result",
          "data": {
            "text/plain": [
              "tensor([[1., 1., 1., 1.],\n",
              "        [1., 1., 1., 1.],\n",
              "        [1., 1., 1., 1.]])"
            ]
          },
          "metadata": {},
          "execution_count": 31
        }
      ]
    },
    {
      "cell_type": "code",
      "source": [
        "ones.dtype"
      ],
      "metadata": {
        "colab": {
          "base_uri": "https://localhost:8080/"
        },
        "id": "J5_cKMPoKs-3",
        "outputId": "bfffc9e1-b13e-4b0e-ce6e-ee59cbe67c03"
      },
      "execution_count": null,
      "outputs": [
        {
          "output_type": "execute_result",
          "data": {
            "text/plain": [
              "torch.float32"
            ]
          },
          "metadata": {},
          "execution_count": 32
        }
      ]
    },
    {
      "cell_type": "code",
      "source": [
        "random_tensor.dtype"
      ],
      "metadata": {
        "colab": {
          "base_uri": "https://localhost:8080/"
        },
        "id": "Zsaqd9prKuON",
        "outputId": "2fc57efd-684c-4ded-d650-3521d7322f0b"
      },
      "execution_count": null,
      "outputs": [
        {
          "output_type": "execute_result",
          "data": {
            "text/plain": [
              "torch.float32"
            ]
          },
          "metadata": {},
          "execution_count": 33
        }
      ]
    },
    {
      "cell_type": "markdown",
      "source": [
        "### Creating a range of tensors and tensors-like"
      ],
      "metadata": {
        "id": "KnFBEt_uAE3N"
      }
    },
    {
      "cell_type": "code",
      "source": [
        "# Use torch.range() and get deprecated message, use torch.arange()\n",
        "one_to_ten = torch.arange(start=0, end=11, step=1)\n",
        "one_to_ten"
      ],
      "metadata": {
        "colab": {
          "base_uri": "https://localhost:8080/"
        },
        "id": "raTgEA7qAIDH",
        "outputId": "97ca3faf-a387-46f4-b8df-8d25bc7679ae"
      },
      "execution_count": null,
      "outputs": [
        {
          "output_type": "execute_result",
          "data": {
            "text/plain": [
              "tensor([ 0,  1,  2,  3,  4,  5,  6,  7,  8,  9, 10])"
            ]
          },
          "metadata": {},
          "execution_count": 34
        }
      ]
    },
    {
      "cell_type": "code",
      "source": [
        "torch.__version__"
      ],
      "metadata": {
        "colab": {
          "base_uri": "https://localhost:8080/",
          "height": 36
        },
        "id": "AwQA5Mr9ALRQ",
        "outputId": "e6048d07-322c-4171-ef78-ca9df9489393"
      },
      "execution_count": null,
      "outputs": [
        {
          "output_type": "execute_result",
          "data": {
            "text/plain": [
              "'2.5.1+cu121'"
            ],
            "application/vnd.google.colaboratory.intrinsic+json": {
              "type": "string"
            }
          },
          "metadata": {},
          "execution_count": 35
        }
      ]
    },
    {
      "cell_type": "code",
      "source": [
        "# Creating tensors like\n",
        "ten_zeros = torch.zeros_like(one_to_ten)\n",
        "ten_zeros"
      ],
      "metadata": {
        "colab": {
          "base_uri": "https://localhost:8080/"
        },
        "id": "n8Qg3DbZAikQ",
        "outputId": "a834d48a-a0c8-4410-fac5-f7a7c8df1f4f"
      },
      "execution_count": null,
      "outputs": [
        {
          "output_type": "execute_result",
          "data": {
            "text/plain": [
              "tensor([0, 0, 0, 0, 0, 0, 0, 0, 0, 0, 0])"
            ]
          },
          "metadata": {},
          "execution_count": 36
        }
      ]
    },
    {
      "cell_type": "markdown",
      "source": [
        "### Tensor datatypes\n",
        "\n",
        "**Note:** Tensor datatypes is one of the 3 big errors with PyTorch & deep learning:\n",
        "1. Tensors not right datatype\n",
        "2. Tensors not right shape\n",
        "3. Tensors not on the right device\n",
        "\n",
        "Precision in computing: https://en.wikipedia.org/wiki/Precision_(computer_science)"
      ],
      "metadata": {
        "id": "KvEFZUr0E55V"
      }
    },
    {
      "cell_type": "code",
      "source": [
        "# Float 32 tensor\n",
        "float_32_tensor = torch.tensor([3.0, 6.0, 9.0],\n",
        "                               dtype=None, # what datatype is the tensor (e.g. float32 or float16)\n",
        "                               device='cpu', # What device is your tensor on\n",
        "                               requires_grad=False) # whether or not to track gradients with this tensor's operations\n",
        "\n",
        "float_32_tensor"
      ],
      "metadata": {
        "colab": {
          "base_uri": "https://localhost:8080/"
        },
        "id": "HF4dUbpPE778",
        "outputId": "040c1b0d-8556-4948-b5bd-596e81f7589e"
      },
      "execution_count": null,
      "outputs": [
        {
          "output_type": "execute_result",
          "data": {
            "text/plain": [
              "tensor([3., 6., 9.])"
            ]
          },
          "metadata": {},
          "execution_count": 37
        }
      ]
    },
    {
      "cell_type": "code",
      "source": [
        "float_32_tensor.dtype"
      ],
      "metadata": {
        "colab": {
          "base_uri": "https://localhost:8080/"
        },
        "id": "1pt8qswmFKho",
        "outputId": "10fef774-5c93-4cd4-95f4-770b0568b06b"
      },
      "execution_count": null,
      "outputs": [
        {
          "output_type": "execute_result",
          "data": {
            "text/plain": [
              "torch.float32"
            ]
          },
          "metadata": {},
          "execution_count": 38
        }
      ]
    },
    {
      "cell_type": "code",
      "source": [
        "float_16_tensor = float_32_tensor.type(torch.half)\n",
        "float_16_tensor"
      ],
      "metadata": {
        "colab": {
          "base_uri": "https://localhost:8080/"
        },
        "id": "JmcszpkMFOfu",
        "outputId": "8cef9e50-efe6-4453-bc57-31065d905d76"
      },
      "execution_count": null,
      "outputs": [
        {
          "output_type": "execute_result",
          "data": {
            "text/plain": [
              "tensor([3., 6., 9.], dtype=torch.float16)"
            ]
          },
          "metadata": {},
          "execution_count": 39
        }
      ]
    },
    {
      "cell_type": "code",
      "source": [
        "int_32_tensor = torch.tensor([3, 6, 9], dtype=torch.long)\n",
        "int_32_tensor"
      ],
      "metadata": {
        "colab": {
          "base_uri": "https://localhost:8080/"
        },
        "id": "dHQvxp1OJaMn",
        "outputId": "cc868571-78f9-4d91-cdfa-764c832879e0"
      },
      "execution_count": null,
      "outputs": [
        {
          "output_type": "execute_result",
          "data": {
            "text/plain": [
              "tensor([3, 6, 9])"
            ]
          },
          "metadata": {},
          "execution_count": 40
        }
      ]
    },
    {
      "cell_type": "code",
      "source": [
        "float_32_tensor * int_32_tensor"
      ],
      "metadata": {
        "colab": {
          "base_uri": "https://localhost:8080/"
        },
        "id": "3Za8jQZwJgiX",
        "outputId": "be96fb25-89f6-4577-a3b5-90fc59879f51"
      },
      "execution_count": null,
      "outputs": [
        {
          "output_type": "execute_result",
          "data": {
            "text/plain": [
              "tensor([ 9., 36., 81.])"
            ]
          },
          "metadata": {},
          "execution_count": 41
        }
      ]
    },
    {
      "cell_type": "markdown",
      "source": [
        "### Getting information from tensors (tensor attributes)\n",
        "\n",
        "1. Tensors not right datatype - to do get datatype from a tensor, can use `tensor.dtype`\n",
        "2. Tensors not right shape - to get shape from tensor, can use `tensor.shape`\n",
        "3. Tensors not on the right device - to get device from a tensor, can use `tensor.device`"
      ],
      "metadata": {
        "id": "xO1XKVEUKCZu"
      }
    },
    {
      "cell_type": "code",
      "source": [
        "# Create a tensor\n",
        "some_tensor = torch.rand(3,4)\n",
        "some_tensor"
      ],
      "metadata": {
        "colab": {
          "base_uri": "https://localhost:8080/"
        },
        "id": "c9VokMByKTwp",
        "outputId": "a9b592c1-f6a9-48ce-9e94-8c330f877843"
      },
      "execution_count": null,
      "outputs": [
        {
          "output_type": "execute_result",
          "data": {
            "text/plain": [
              "tensor([[0.7711, 0.1181, 0.2090, 0.9085],\n",
              "        [0.0596, 0.7024, 0.2750, 0.3626],\n",
              "        [0.5437, 0.1478, 0.1265, 0.2614]])"
            ]
          },
          "metadata": {},
          "execution_count": 42
        }
      ]
    },
    {
      "cell_type": "code",
      "source": [
        "# Find out details about some tensor ()\n",
        "print(some_tensor)\n",
        "print(f'Datatype of tensor: {some_tensor.dtype}')\n",
        "print(f'Shape of tensor: {some_tensor.shape}') # or some_tensor.size() - a method\n",
        "print(f'Device tensor is on: {some_tensor.device}')"
      ],
      "metadata": {
        "colab": {
          "base_uri": "https://localhost:8080/"
        },
        "id": "PA59NEepKpZq",
        "outputId": "53ccec5b-d8c3-49d6-dff6-d2713699fc7b"
      },
      "execution_count": null,
      "outputs": [
        {
          "output_type": "stream",
          "name": "stdout",
          "text": [
            "tensor([[0.7711, 0.1181, 0.2090, 0.9085],\n",
            "        [0.0596, 0.7024, 0.2750, 0.3626],\n",
            "        [0.5437, 0.1478, 0.1265, 0.2614]])\n",
            "Datatype of tensor: torch.float32\n",
            "Shape of tensor: torch.Size([3, 4])\n",
            "Device tensor is on: cpu\n"
          ]
        }
      ]
    },
    {
      "cell_type": "markdown",
      "source": [
        "### Manipulating Tensors (tensor operations)\n",
        "\n",
        "Tensor operations include:\n",
        "* Addition\n",
        "* Subtraction\n",
        "* Multiplication (element-wise)\n",
        "* Division\n",
        "* Matrix multiplication"
      ],
      "metadata": {
        "id": "VHXtFUcCN9fN"
      }
    },
    {
      "cell_type": "code",
      "source": [
        "# Create a tensor and add 10 to it\n",
        "tensor = torch.tensor([1, 2, 3])\n",
        "tensor + 10"
      ],
      "metadata": {
        "colab": {
          "base_uri": "https://localhost:8080/"
        },
        "id": "B0h-QWmJOULd",
        "outputId": "32ee541f-b30b-4a58-b143-536dafa0ae2e"
      },
      "execution_count": null,
      "outputs": [
        {
          "output_type": "execute_result",
          "data": {
            "text/plain": [
              "tensor([11, 12, 13])"
            ]
          },
          "metadata": {},
          "execution_count": 44
        }
      ]
    },
    {
      "cell_type": "code",
      "source": [
        "# Subtract 10\n",
        "tensor - 10"
      ],
      "metadata": {
        "colab": {
          "base_uri": "https://localhost:8080/"
        },
        "id": "kkvw53U3OkWn",
        "outputId": "d00664dd-8c0f-47d9-f9e7-0e2af1583ef9"
      },
      "execution_count": null,
      "outputs": [
        {
          "output_type": "execute_result",
          "data": {
            "text/plain": [
              "tensor([-9, -8, -7])"
            ]
          },
          "metadata": {},
          "execution_count": 45
        }
      ]
    },
    {
      "cell_type": "code",
      "source": [
        "# Multiply tensor by 10\n",
        "tensor * 10"
      ],
      "metadata": {
        "colab": {
          "base_uri": "https://localhost:8080/"
        },
        "id": "t9vgzhl-Odsn",
        "outputId": "d2cd2b96-9a5a-4670-9311-f2277b10dd2b"
      },
      "execution_count": null,
      "outputs": [
        {
          "output_type": "execute_result",
          "data": {
            "text/plain": [
              "tensor([10, 20, 30])"
            ]
          },
          "metadata": {},
          "execution_count": 46
        }
      ]
    },
    {
      "cell_type": "code",
      "source": [
        "# Try out PyTorch in-built functions\n",
        "torch.mul(tensor, 10)"
      ],
      "metadata": {
        "colab": {
          "base_uri": "https://localhost:8080/"
        },
        "id": "4HCQhWDqOyZA",
        "outputId": "4c035c8a-6539-4cfa-fa5d-6b4b70a0d688"
      },
      "execution_count": null,
      "outputs": [
        {
          "output_type": "execute_result",
          "data": {
            "text/plain": [
              "tensor([10, 20, 30])"
            ]
          },
          "metadata": {},
          "execution_count": 47
        }
      ]
    },
    {
      "cell_type": "code",
      "source": [
        "torch.add(tensor, 10)"
      ],
      "metadata": {
        "colab": {
          "base_uri": "https://localhost:8080/"
        },
        "id": "fRw13XJzO5cj",
        "outputId": "66dc9b09-5b3c-4a8a-b007-448c4c4c2fc2"
      },
      "execution_count": null,
      "outputs": [
        {
          "output_type": "execute_result",
          "data": {
            "text/plain": [
              "tensor([11, 12, 13])"
            ]
          },
          "metadata": {},
          "execution_count": 48
        }
      ]
    },
    {
      "cell_type": "code",
      "source": [
        "tensor * 2 / 2"
      ],
      "metadata": {
        "colab": {
          "base_uri": "https://localhost:8080/"
        },
        "id": "_VtctmLkPH5l",
        "outputId": "97829607-38a8-42d9-a90d-5e1b7284b1b8"
      },
      "execution_count": null,
      "outputs": [
        {
          "output_type": "execute_result",
          "data": {
            "text/plain": [
              "tensor([1., 2., 3.])"
            ]
          },
          "metadata": {},
          "execution_count": 49
        }
      ]
    },
    {
      "cell_type": "markdown",
      "source": [
        "### Matrix multiplication"
      ],
      "metadata": {
        "id": "203zNXy-bcOR"
      }
    },
    {
      "cell_type": "markdown",
      "source": [
        "Two main ways of performing mulitplication in neural networks and deep learning:\n",
        "\n",
        "1. Element-wise multiplication\n",
        "2. Matrix mulitplication\n",
        "\n",
        "There are two main rules that performing matrix multiplication needs to satisfy:\n",
        "\n",
        "1. The **inner dimensions** must match:\n",
        "* (3, 2) @ (3,2) won't work\n",
        "* (2, 3) @ (3, 2) will work\n",
        "* (3, 2) @ (2, 3) will work\n",
        "2. The resulting matrix has the shape of the **outer dimensions**:\n",
        "* (2, 3) @ (3, 2) -> (2, 2)\n",
        "* (3, 2) @ (2, 3) - > (3, 3)"
      ],
      "metadata": {
        "id": "iBCj-d1Ubh-l"
      }
    },
    {
      "cell_type": "code",
      "source": [
        "torch.rand(3, 2) @ torch.rand(3 ,2)"
      ],
      "metadata": {
        "colab": {
          "base_uri": "https://localhost:8080/",
          "height": 141
        },
        "id": "dczQNtkGW5Cv",
        "outputId": "8adeb9fb-8ec1-4ebe-d503-1d29a69b4f84"
      },
      "execution_count": null,
      "outputs": [
        {
          "output_type": "error",
          "ename": "RuntimeError",
          "evalue": "mat1 and mat2 shapes cannot be multiplied (3x2 and 3x2)",
          "traceback": [
            "\u001b[0;31m---------------------------------------------------------------------------\u001b[0m",
            "\u001b[0;31mRuntimeError\u001b[0m                              Traceback (most recent call last)",
            "\u001b[0;32m<ipython-input-50-2a36d21c24b5>\u001b[0m in \u001b[0;36m<cell line: 0>\u001b[0;34m()\u001b[0m\n\u001b[0;32m----> 1\u001b[0;31m \u001b[0mtorch\u001b[0m\u001b[0;34m.\u001b[0m\u001b[0mrand\u001b[0m\u001b[0;34m(\u001b[0m\u001b[0;36m3\u001b[0m\u001b[0;34m,\u001b[0m \u001b[0;36m2\u001b[0m\u001b[0;34m)\u001b[0m \u001b[0;34m@\u001b[0m \u001b[0mtorch\u001b[0m\u001b[0;34m.\u001b[0m\u001b[0mrand\u001b[0m\u001b[0;34m(\u001b[0m\u001b[0;36m3\u001b[0m \u001b[0;34m,\u001b[0m\u001b[0;36m2\u001b[0m\u001b[0;34m)\u001b[0m\u001b[0;34m\u001b[0m\u001b[0;34m\u001b[0m\u001b[0m\n\u001b[0m",
            "\u001b[0;31mRuntimeError\u001b[0m: mat1 and mat2 shapes cannot be multiplied (3x2 and 3x2)"
          ]
        }
      ]
    },
    {
      "cell_type": "code",
      "source": [
        "torch.rand(2, 3) @ torch.rand(3, 2)"
      ],
      "metadata": {
        "id": "Qdy-P4xCXCQv",
        "colab": {
          "base_uri": "https://localhost:8080/"
        },
        "outputId": "02a7e40f-7bfa-41f5-bb3e-1ad4d676e355"
      },
      "execution_count": null,
      "outputs": [
        {
          "output_type": "execute_result",
          "data": {
            "text/plain": [
              "tensor([[0.3818, 0.6266],\n",
              "        [0.8844, 1.0586]])"
            ]
          },
          "metadata": {},
          "execution_count": 51
        }
      ]
    },
    {
      "cell_type": "code",
      "source": [
        "torch.rand(3, 2) @ torch.rand(2, 3)"
      ],
      "metadata": {
        "id": "SeJIHoMHXHI7",
        "colab": {
          "base_uri": "https://localhost:8080/"
        },
        "outputId": "a2ffec51-5cad-4660-9d0a-f3718905045e"
      },
      "execution_count": null,
      "outputs": [
        {
          "output_type": "execute_result",
          "data": {
            "text/plain": [
              "tensor([[0.3372, 0.2171, 0.2118],\n",
              "        [0.5311, 0.3351, 0.3420],\n",
              "        [0.2773, 0.1521, 0.2062]])"
            ]
          },
          "metadata": {},
          "execution_count": 52
        }
      ]
    },
    {
      "cell_type": "code",
      "source": [
        "# Element wise multiplication\n",
        "print(tensor, '*', tensor)\n",
        "print(f'Equals {tensor * tensor}')"
      ],
      "metadata": {
        "id": "was6izpfcXyt",
        "colab": {
          "base_uri": "https://localhost:8080/"
        },
        "outputId": "e2fb0f68-2b9d-4935-fb85-20aacfe26963"
      },
      "execution_count": null,
      "outputs": [
        {
          "output_type": "stream",
          "name": "stdout",
          "text": [
            "tensor([1, 2, 3]) * tensor([1, 2, 3])\n",
            "Equals tensor([1, 4, 9])\n"
          ]
        }
      ]
    },
    {
      "cell_type": "code",
      "source": [
        "# Matrix multiplication\n",
        "torch.matmul(tensor, tensor)"
      ],
      "metadata": {
        "id": "R2YhYnBecjin",
        "colab": {
          "base_uri": "https://localhost:8080/"
        },
        "outputId": "a06bcf65-0708-4b43-da38-ecac44e1de13"
      },
      "execution_count": null,
      "outputs": [
        {
          "output_type": "execute_result",
          "data": {
            "text/plain": [
              "tensor(14)"
            ]
          },
          "metadata": {},
          "execution_count": 54
        }
      ]
    },
    {
      "cell_type": "code",
      "source": [
        "tensor"
      ],
      "metadata": {
        "id": "cbpne_4Bcpno",
        "colab": {
          "base_uri": "https://localhost:8080/"
        },
        "outputId": "bcc29f09-33a1-439e-bd63-ff0b6f171a09"
      },
      "execution_count": null,
      "outputs": [
        {
          "output_type": "execute_result",
          "data": {
            "text/plain": [
              "tensor([1, 2, 3])"
            ]
          },
          "metadata": {},
          "execution_count": 55
        }
      ]
    },
    {
      "cell_type": "code",
      "source": [
        "# Matrix multiplication by hand\n",
        "1*1 + 2*2 + 3*3"
      ],
      "metadata": {
        "id": "QXD7xCRFc3LK",
        "colab": {
          "base_uri": "https://localhost:8080/"
        },
        "outputId": "04ddace0-e692-423b-def5-9855bdb86866"
      },
      "execution_count": null,
      "outputs": [
        {
          "output_type": "execute_result",
          "data": {
            "text/plain": [
              "14"
            ]
          },
          "metadata": {},
          "execution_count": 56
        }
      ]
    },
    {
      "cell_type": "code",
      "source": [
        "%%time\n",
        "value = 0\n",
        "for i in range(len(tensor)):\n",
        "  value += tensor[i] * tensor[i]\n",
        "\n",
        "value"
      ],
      "metadata": {
        "id": "ZcK0NXs-c9V2",
        "colab": {
          "base_uri": "https://localhost:8080/"
        },
        "outputId": "b0b558b4-b748-4fc6-c270-094522e453b7"
      },
      "execution_count": null,
      "outputs": [
        {
          "output_type": "stream",
          "name": "stdout",
          "text": [
            "CPU times: user 1.39 ms, sys: 50 µs, total: 1.44 ms\n",
            "Wall time: 1.51 ms\n"
          ]
        },
        {
          "output_type": "execute_result",
          "data": {
            "text/plain": [
              "tensor(14)"
            ]
          },
          "metadata": {},
          "execution_count": 57
        }
      ]
    },
    {
      "cell_type": "code",
      "source": [
        "%%time\n",
        "torch.matmul(tensor, tensor)"
      ],
      "metadata": {
        "id": "gfbAWb-edShH",
        "colab": {
          "base_uri": "https://localhost:8080/"
        },
        "outputId": "adbfc1ea-f867-4016-9396-32cd2fd0aeb8"
      },
      "execution_count": null,
      "outputs": [
        {
          "output_type": "stream",
          "name": "stdout",
          "text": [
            "CPU times: user 394 µs, sys: 51 µs, total: 445 µs\n",
            "Wall time: 369 µs\n"
          ]
        },
        {
          "output_type": "execute_result",
          "data": {
            "text/plain": [
              "tensor(14)"
            ]
          },
          "metadata": {},
          "execution_count": 58
        }
      ]
    },
    {
      "cell_type": "markdown",
      "source": [
        "### One of the most common errors in deep learning: shape errors"
      ],
      "metadata": {
        "id": "UeO9A9TyvW96"
      }
    },
    {
      "cell_type": "code",
      "source": [
        "# Shapes for matrix multiplication\n",
        "tensor_A = torch.tensor([[1, 2],\n",
        "                         [3, 4],\n",
        "                         [5, 6]])\n",
        "\n",
        "tensor_B = torch.tensor([[7 ,10],\n",
        "                         [8, 11],\n",
        "                         [9, 12]])\n",
        "\n",
        "torch.matmul(tensor_A, tensor_B) # torch.mm is the same as torch.matmul (it's an alias for matrix multiplication)"
      ],
      "metadata": {
        "id": "BuMB2ZTXvh3a",
        "colab": {
          "base_uri": "https://localhost:8080/",
          "height": 176
        },
        "outputId": "295ec1e4-8b48-40b4-c779-7a762c5f8303"
      },
      "execution_count": null,
      "outputs": [
        {
          "output_type": "error",
          "ename": "RuntimeError",
          "evalue": "mat1 and mat2 shapes cannot be multiplied (3x2 and 3x2)",
          "traceback": [
            "\u001b[0;31m---------------------------------------------------------------------------\u001b[0m",
            "\u001b[0;31mRuntimeError\u001b[0m                              Traceback (most recent call last)",
            "\u001b[0;32m<ipython-input-59-2f680a2bf1b5>\u001b[0m in \u001b[0;36m<cell line: 0>\u001b[0;34m()\u001b[0m\n\u001b[1;32m      8\u001b[0m                          [9, 12]])\n\u001b[1;32m      9\u001b[0m \u001b[0;34m\u001b[0m\u001b[0m\n\u001b[0;32m---> 10\u001b[0;31m \u001b[0mtorch\u001b[0m\u001b[0;34m.\u001b[0m\u001b[0mmatmul\u001b[0m\u001b[0;34m(\u001b[0m\u001b[0mtensor_A\u001b[0m\u001b[0;34m,\u001b[0m \u001b[0mtensor_B\u001b[0m\u001b[0;34m)\u001b[0m \u001b[0;31m# torch.mm is the same as torch.matmul (it's an alias for matrix multiplication)\u001b[0m\u001b[0;34m\u001b[0m\u001b[0;34m\u001b[0m\u001b[0m\n\u001b[0m",
            "\u001b[0;31mRuntimeError\u001b[0m: mat1 and mat2 shapes cannot be multiplied (3x2 and 3x2)"
          ]
        }
      ]
    },
    {
      "cell_type": "code",
      "source": [
        "tensor_A.shape, tensor_B.shape"
      ],
      "metadata": {
        "id": "Hy_BJcNZVJg-",
        "colab": {
          "base_uri": "https://localhost:8080/"
        },
        "outputId": "0fac70a3-4639-4a1f-9bef-cc38e6738391"
      },
      "execution_count": null,
      "outputs": [
        {
          "output_type": "execute_result",
          "data": {
            "text/plain": [
              "(torch.Size([3, 2]), torch.Size([3, 2]))"
            ]
          },
          "metadata": {},
          "execution_count": 60
        }
      ]
    },
    {
      "cell_type": "markdown",
      "source": [
        "To fix our tensor shape issues, we can manipulate the shape of one of our tensors using a **transpose.**\n",
        "\n",
        "A **transpose** switches the axes or dimensions of a given tensor."
      ],
      "metadata": {
        "id": "cgNp1Op-Vdl7"
      }
    },
    {
      "cell_type": "code",
      "source": [
        "tensor_B, tensor_B.shape"
      ],
      "metadata": {
        "id": "ffhonGt3V25n",
        "colab": {
          "base_uri": "https://localhost:8080/"
        },
        "outputId": "b64c7b54-2818-46d5-e300-6bb4a5ebb45e"
      },
      "execution_count": null,
      "outputs": [
        {
          "output_type": "execute_result",
          "data": {
            "text/plain": [
              "(tensor([[ 7, 10],\n",
              "         [ 8, 11],\n",
              "         [ 9, 12]]),\n",
              " torch.Size([3, 2]))"
            ]
          },
          "metadata": {},
          "execution_count": 61
        }
      ]
    },
    {
      "cell_type": "code",
      "source": [
        "tensor_B.T, tensor_B.T.shape"
      ],
      "metadata": {
        "id": "F3kuTYCzV6CE",
        "colab": {
          "base_uri": "https://localhost:8080/"
        },
        "outputId": "be8f899d-aeb4-436a-89df-a3e6eee9f5f4"
      },
      "execution_count": null,
      "outputs": [
        {
          "output_type": "execute_result",
          "data": {
            "text/plain": [
              "(tensor([[ 7,  8,  9],\n",
              "         [10, 11, 12]]),\n",
              " torch.Size([2, 3]))"
            ]
          },
          "metadata": {},
          "execution_count": 62
        }
      ]
    },
    {
      "cell_type": "code",
      "source": [
        "# the matrix multiplication operation works when tensor_B is transposed\n",
        "print(f'Original shapes: tensor_A = {tensor_A.shape}, tensor_B = {tensor_B.shape}')\n",
        "print(f'New shapes: tensor_A = {tensor_A.shape} (same shape as above) tensor_B.T = {tensor_B.T.shape}')\n",
        "print(f'Mulitplying: {tensor_A.shape} @ {tensor_B.T.shape} <- inner dimensions must match.')\n",
        "print('Output:\\n')\n",
        "output = torch.matmul(tensor_A, tensor_B.T)\n",
        "print(output)\n",
        "print(f'\\nOutput shape: {output.shape}')"
      ],
      "metadata": {
        "id": "CgS99ua8V-2P",
        "colab": {
          "base_uri": "https://localhost:8080/"
        },
        "outputId": "62db3207-ca3c-4818-e4cf-8a8956272c06"
      },
      "execution_count": null,
      "outputs": [
        {
          "output_type": "stream",
          "name": "stdout",
          "text": [
            "Original shapes: tensor_A = torch.Size([3, 2]), tensor_B = torch.Size([3, 2])\n",
            "New shapes: tensor_A = torch.Size([3, 2]) (same shape as above) tensor_B.T = torch.Size([2, 3])\n",
            "Mulitplying: torch.Size([3, 2]) @ torch.Size([2, 3]) <- inner dimensions must match.\n",
            "Output:\n",
            "\n",
            "tensor([[ 27,  30,  33],\n",
            "        [ 61,  68,  75],\n",
            "        [ 95, 106, 117]])\n",
            "\n",
            "Output shape: torch.Size([3, 3])\n"
          ]
        }
      ]
    },
    {
      "cell_type": "markdown",
      "source": [
        "## Finding the min, max, mean, sum etc (tensor aggregation)"
      ],
      "metadata": {
        "id": "2yA1gdqhXWAH"
      }
    },
    {
      "cell_type": "code",
      "source": [
        "# Create a tensor\n",
        "x = torch.arange(0, 100, 10)\n",
        "x"
      ],
      "metadata": {
        "id": "yGG10aYGZHWn",
        "colab": {
          "base_uri": "https://localhost:8080/"
        },
        "outputId": "82909e18-f702-4a8e-cbdc-52ad0e61e018"
      },
      "execution_count": null,
      "outputs": [
        {
          "output_type": "execute_result",
          "data": {
            "text/plain": [
              "tensor([ 0, 10, 20, 30, 40, 50, 60, 70, 80, 90])"
            ]
          },
          "metadata": {},
          "execution_count": 64
        }
      ]
    },
    {
      "cell_type": "code",
      "source": [
        "# Find the min\n",
        "torch.min(x), x.min()"
      ],
      "metadata": {
        "id": "_evDUdw0ZQSv",
        "colab": {
          "base_uri": "https://localhost:8080/"
        },
        "outputId": "e54e76ca-930b-41b2-daf9-5bcf8ef48dfc"
      },
      "execution_count": null,
      "outputs": [
        {
          "output_type": "execute_result",
          "data": {
            "text/plain": [
              "(tensor(0), tensor(0))"
            ]
          },
          "metadata": {},
          "execution_count": 65
        }
      ]
    },
    {
      "cell_type": "code",
      "source": [
        "# Find the max\n",
        "torch.max(x), x.max()"
      ],
      "metadata": {
        "id": "PDei2FcTZU03",
        "colab": {
          "base_uri": "https://localhost:8080/"
        },
        "outputId": "243dd14b-6773-4b73-9de0-643326de91b4"
      },
      "execution_count": null,
      "outputs": [
        {
          "output_type": "execute_result",
          "data": {
            "text/plain": [
              "(tensor(90), tensor(90))"
            ]
          },
          "metadata": {},
          "execution_count": 66
        }
      ]
    },
    {
      "cell_type": "code",
      "source": [
        "x.dtype"
      ],
      "metadata": {
        "id": "Oz6eGHuQZkyR",
        "colab": {
          "base_uri": "https://localhost:8080/"
        },
        "outputId": "d48a9716-0aea-40e1-abe1-469aa6d93c4d"
      },
      "execution_count": null,
      "outputs": [
        {
          "output_type": "execute_result",
          "data": {
            "text/plain": [
              "torch.int64"
            ]
          },
          "metadata": {},
          "execution_count": 67
        }
      ]
    },
    {
      "cell_type": "code",
      "source": [
        "# Find the mean - note: the torch.mean() function requires a tensor of float 32 datatype to work.\n",
        "torch.mean(x.type(torch.float32)), x.type(torch.float32).mean()"
      ],
      "metadata": {
        "id": "s9_TYEwHZYGA",
        "colab": {
          "base_uri": "https://localhost:8080/"
        },
        "outputId": "c835301e-36c9-43b4-c892-0b360e808544"
      },
      "execution_count": null,
      "outputs": [
        {
          "output_type": "execute_result",
          "data": {
            "text/plain": [
              "(tensor(45.), tensor(45.))"
            ]
          },
          "metadata": {},
          "execution_count": 68
        }
      ]
    },
    {
      "cell_type": "code",
      "source": [
        "# Find the sum\n",
        "torch.sum(x), x.sum()"
      ],
      "metadata": {
        "id": "9dDsbHbRZg1m",
        "colab": {
          "base_uri": "https://localhost:8080/"
        },
        "outputId": "6461c185-ce22-4496-be16-ebbcaeca0e6f"
      },
      "execution_count": null,
      "outputs": [
        {
          "output_type": "execute_result",
          "data": {
            "text/plain": [
              "(tensor(450), tensor(450))"
            ]
          },
          "metadata": {},
          "execution_count": 69
        }
      ]
    },
    {
      "cell_type": "markdown",
      "source": [
        "## Finding the positional min and max"
      ],
      "metadata": {
        "id": "BT-XUIM7aJUg"
      }
    },
    {
      "cell_type": "code",
      "source": [
        "x"
      ],
      "metadata": {
        "id": "FQ31DDeehfrc",
        "colab": {
          "base_uri": "https://localhost:8080/"
        },
        "outputId": "a059676c-b805-49bd-cf53-fd05a55f4499"
      },
      "execution_count": null,
      "outputs": [
        {
          "output_type": "execute_result",
          "data": {
            "text/plain": [
              "tensor([ 0, 10, 20, 30, 40, 50, 60, 70, 80, 90])"
            ]
          },
          "metadata": {},
          "execution_count": 70
        }
      ]
    },
    {
      "cell_type": "code",
      "source": [
        "# Find the position in the tensor that has the minimum value with argmin() -> returns index position of target tensor where the minimum value occurs.\n",
        "x = np.arange(1, 100, 10)\n",
        "x.argmin()"
      ],
      "metadata": {
        "id": "an4Fu0o-hkRf",
        "colab": {
          "base_uri": "https://localhost:8080/"
        },
        "outputId": "f453afee-87f6-43b9-d86c-9f65ef94c82d"
      },
      "execution_count": null,
      "outputs": [
        {
          "output_type": "execute_result",
          "data": {
            "text/plain": [
              "0"
            ]
          },
          "metadata": {},
          "execution_count": 71
        }
      ]
    },
    {
      "cell_type": "code",
      "source": [
        "x[0]"
      ],
      "metadata": {
        "id": "XMrqTCgphgY-",
        "colab": {
          "base_uri": "https://localhost:8080/"
        },
        "outputId": "f867cbb6-d6a3-4b30-8163-daa45e8beed6"
      },
      "execution_count": null,
      "outputs": [
        {
          "output_type": "execute_result",
          "data": {
            "text/plain": [
              "1"
            ]
          },
          "metadata": {},
          "execution_count": 72
        }
      ]
    },
    {
      "cell_type": "code",
      "source": [
        "# Find the position in the tensor that has the maximum value with argmax()\n",
        "x.argmax()"
      ],
      "metadata": {
        "id": "8OVwQfCahhrl",
        "colab": {
          "base_uri": "https://localhost:8080/"
        },
        "outputId": "b3cbc781-12dc-4e95-ea84-ae306a5327bf"
      },
      "execution_count": null,
      "outputs": [
        {
          "output_type": "execute_result",
          "data": {
            "text/plain": [
              "9"
            ]
          },
          "metadata": {},
          "execution_count": 73
        }
      ]
    },
    {
      "cell_type": "code",
      "source": [
        "x[9]"
      ],
      "metadata": {
        "id": "WW4EJPy_iCXG",
        "colab": {
          "base_uri": "https://localhost:8080/"
        },
        "outputId": "0dae3aa4-b737-43b5-e044-6ce05fe2a071"
      },
      "execution_count": null,
      "outputs": [
        {
          "output_type": "execute_result",
          "data": {
            "text/plain": [
              "91"
            ]
          },
          "metadata": {},
          "execution_count": 74
        }
      ]
    },
    {
      "cell_type": "markdown",
      "source": [
        "## Reshaping , stacking, squeezing and unsqueezing tensors\n",
        "\n",
        "* Reshaping - reshapes an input tensor to a defined shape\n",
        "* View - Return a view of an input tensor of certain shape but keep the same memory as the orignal tensor\n",
        "* Stacking - combine multiple tensors on top of eachother (vstack) or side-by-side (hstack)\n",
        "* Squeeze - removes all `1` dimensions from a tensor\n",
        "* Unqueeze - add a `1` dimension to a target tensor\n",
        "* Permute - Return a view of the input with dimension permuted (swapped) in a certain way"
      ],
      "metadata": {
        "id": "YozOuJo0iDRY"
      }
    },
    {
      "cell_type": "code",
      "source": [
        "# Let's create a tensor\n",
        "import torch\n",
        "x = torch.arange(1., 10.)\n",
        "x, x.shape, x.ndim"
      ],
      "metadata": {
        "id": "sSyI9f36jwPi",
        "colab": {
          "base_uri": "https://localhost:8080/"
        },
        "outputId": "4556a1b9-b660-454e-9708-48850fa7be6e"
      },
      "execution_count": null,
      "outputs": [
        {
          "output_type": "execute_result",
          "data": {
            "text/plain": [
              "(tensor([1., 2., 3., 4., 5., 6., 7., 8., 9.]), torch.Size([9]), 1)"
            ]
          },
          "metadata": {},
          "execution_count": 83
        }
      ]
    },
    {
      "cell_type": "code",
      "source": [
        "# Add an extra dimension - has to be compatible with the original size\n",
        "x_reshaped = x.reshape(1, 9)\n",
        "x_reshaped, x_reshaped.shape, x_reshaped.ndim,  x_reshaped.dtype"
      ],
      "metadata": {
        "id": "rIAr9Xkmj7ot",
        "colab": {
          "base_uri": "https://localhost:8080/"
        },
        "outputId": "c3cbd12f-82f8-427c-d5e9-078e7eccd339"
      },
      "execution_count": null,
      "outputs": [
        {
          "output_type": "execute_result",
          "data": {
            "text/plain": [
              "(tensor([[1., 2., 3., 4., 5., 6., 7., 8., 9.]]),\n",
              " torch.Size([1, 9]),\n",
              " 2,\n",
              " torch.float32)"
            ]
          },
          "metadata": {},
          "execution_count": 84
        }
      ]
    },
    {
      "cell_type": "code",
      "source": [
        "# Chage the view\n",
        "z = x.view(1, 9)\n",
        "z, z.shape"
      ],
      "metadata": {
        "id": "VtPygr7RkGY7",
        "colab": {
          "base_uri": "https://localhost:8080/"
        },
        "outputId": "b2dcf2d1-97ea-4878-b313-e5fc25970e06"
      },
      "execution_count": null,
      "outputs": [
        {
          "output_type": "execute_result",
          "data": {
            "text/plain": [
              "(tensor([[1., 2., 3., 4., 5., 6., 7., 8., 9.]]), torch.Size([1, 9]))"
            ]
          },
          "metadata": {},
          "execution_count": 85
        }
      ]
    },
    {
      "cell_type": "code",
      "source": [
        "x, x.shape"
      ],
      "metadata": {
        "colab": {
          "base_uri": "https://localhost:8080/"
        },
        "id": "kG-1miY0Cr-Q",
        "outputId": "07b801d9-11cd-4881-c5ab-4b69f3270e36"
      },
      "execution_count": null,
      "outputs": [
        {
          "output_type": "execute_result",
          "data": {
            "text/plain": [
              "(tensor([1., 2., 3., 4., 5., 6., 7., 8., 9.]), torch.Size([9]))"
            ]
          },
          "metadata": {},
          "execution_count": 86
        }
      ]
    },
    {
      "cell_type": "code",
      "source": [
        "# Chaging z changes x (because a view of a tensor shares the same memory as the original tensor)\n",
        "z[:, 0] = 5\n",
        "z, x"
      ],
      "metadata": {
        "id": "rFyTdG62losV",
        "colab": {
          "base_uri": "https://localhost:8080/"
        },
        "outputId": "b6967f8d-02ee-4181-e96f-ccd77f7300ee"
      },
      "execution_count": null,
      "outputs": [
        {
          "output_type": "execute_result",
          "data": {
            "text/plain": [
              "(tensor([[5., 2., 3., 4., 5., 6., 7., 8., 9.]]),\n",
              " tensor([5., 2., 3., 4., 5., 6., 7., 8., 9.]))"
            ]
          },
          "metadata": {},
          "execution_count": 87
        }
      ]
    },
    {
      "cell_type": "code",
      "source": [
        "# Stack tensors on top of each other.\n",
        "x_stacked = torch.stack([x, x, x, x], dim=0)\n",
        "x_stacked"
      ],
      "metadata": {
        "id": "cfyQLE8Cl1Wn",
        "colab": {
          "base_uri": "https://localhost:8080/"
        },
        "outputId": "d5cf9eb6-d41d-4008-ca26-13235e3e4a29"
      },
      "execution_count": null,
      "outputs": [
        {
          "output_type": "execute_result",
          "data": {
            "text/plain": [
              "tensor([[5., 2., 3., 4., 5., 6., 7., 8., 9.],\n",
              "        [5., 2., 3., 4., 5., 6., 7., 8., 9.],\n",
              "        [5., 2., 3., 4., 5., 6., 7., 8., 9.],\n",
              "        [5., 2., 3., 4., 5., 6., 7., 8., 9.]])"
            ]
          },
          "metadata": {},
          "execution_count": 88
        }
      ]
    },
    {
      "cell_type": "code",
      "source": [
        "x_stacked = torch.stack([x, x, x, x], dim=1)\n",
        "x_stacked"
      ],
      "metadata": {
        "id": "oeJS5Ve4nlNR",
        "colab": {
          "base_uri": "https://localhost:8080/"
        },
        "outputId": "d331aba9-78d0-403a-9eda-3b673301c664"
      },
      "execution_count": null,
      "outputs": [
        {
          "output_type": "execute_result",
          "data": {
            "text/plain": [
              "tensor([[5., 5., 5., 5.],\n",
              "        [2., 2., 2., 2.],\n",
              "        [3., 3., 3., 3.],\n",
              "        [4., 4., 4., 4.],\n",
              "        [5., 5., 5., 5.],\n",
              "        [6., 6., 6., 6.],\n",
              "        [7., 7., 7., 7.],\n",
              "        [8., 8., 8., 8.],\n",
              "        [9., 9., 9., 9.]])"
            ]
          },
          "metadata": {},
          "execution_count": 89
        }
      ]
    },
    {
      "cell_type": "code",
      "source": [
        "x_stacked = torch.vstack([x, x, x, x])\n",
        "x_stacked"
      ],
      "metadata": {
        "id": "g4lOqhK4nvqf",
        "colab": {
          "base_uri": "https://localhost:8080/"
        },
        "outputId": "805ccdb8-0fe3-4240-d10e-eb9983505f5c"
      },
      "execution_count": null,
      "outputs": [
        {
          "output_type": "execute_result",
          "data": {
            "text/plain": [
              "tensor([[5., 2., 3., 4., 5., 6., 7., 8., 9.],\n",
              "        [5., 2., 3., 4., 5., 6., 7., 8., 9.],\n",
              "        [5., 2., 3., 4., 5., 6., 7., 8., 9.],\n",
              "        [5., 2., 3., 4., 5., 6., 7., 8., 9.]])"
            ]
          },
          "metadata": {},
          "execution_count": 90
        }
      ]
    },
    {
      "cell_type": "code",
      "source": [
        "x_stacked = torch.hstack([x, x, x, x])\n",
        "x_stacked"
      ],
      "metadata": {
        "id": "5kXJGO_gn0p_",
        "colab": {
          "base_uri": "https://localhost:8080/"
        },
        "outputId": "209c9cf6-5cad-4c5c-c8fb-e7df5399811d"
      },
      "execution_count": null,
      "outputs": [
        {
          "output_type": "execute_result",
          "data": {
            "text/plain": [
              "tensor([5., 2., 3., 4., 5., 6., 7., 8., 9., 5., 2., 3., 4., 5., 6., 7., 8., 9.,\n",
              "        5., 2., 3., 4., 5., 6., 7., 8., 9., 5., 2., 3., 4., 5., 6., 7., 8., 9.])"
            ]
          },
          "metadata": {},
          "execution_count": 91
        }
      ]
    },
    {
      "cell_type": "code",
      "source": [
        "# torch.squeeze() - removes all single dimensions from a target tensor\n",
        "print(f'Previous tensor: {x_reshaped}')\n",
        "print(f'Previous shape: {x_reshaped.shape}')\n",
        "\n",
        "# Remove extra dimensions form x_reshaped\n",
        "x_squeezed = x_reshaped.squeeze()\n",
        "print(f'\\nNew tensor: {x_squeezed}')\n",
        "print(f'New shpae; {x_squeezed.shape}')"
      ],
      "metadata": {
        "id": "oDKzMB6-n3dq",
        "colab": {
          "base_uri": "https://localhost:8080/"
        },
        "outputId": "f0af9d5b-d475-4349-8b0c-e97da45169a6"
      },
      "execution_count": null,
      "outputs": [
        {
          "output_type": "stream",
          "name": "stdout",
          "text": [
            "Previous tensor: tensor([[5., 2., 3., 4., 5., 6., 7., 8., 9.]])\n",
            "Previous shape: torch.Size([1, 9])\n",
            "\n",
            "New tensor: tensor([5., 2., 3., 4., 5., 6., 7., 8., 9.])\n",
            "New shpae; torch.Size([9])\n"
          ]
        }
      ]
    },
    {
      "cell_type": "code",
      "source": [
        "# torch.unsqueeze() - adds a single dimension to a target tensor at a specific dim (dimension)\n",
        "print(f'Previous target: {x_squeezed}')\n",
        "print(f'Previos shape: {x_squeezed.shape}')\n",
        "\n",
        "# Add an extra dimension with unsqueeze\n",
        "x_unsqueezed = x_squeezed.unsqueeze(dim=0)\n",
        "print(f'\\nNew tensor: {x_unsqueezed}')\n",
        "print(f'New shape: {x_unsqueezed.shape}')"
      ],
      "metadata": {
        "id": "c4bB835MobyK",
        "colab": {
          "base_uri": "https://localhost:8080/"
        },
        "outputId": "d50bb954-b507-45da-b01f-9c7da0023143"
      },
      "execution_count": null,
      "outputs": [
        {
          "output_type": "stream",
          "name": "stdout",
          "text": [
            "Previous target: tensor([5., 2., 3., 4., 5., 6., 7., 8., 9.])\n",
            "Previos shape: torch.Size([9])\n",
            "\n",
            "New tensor: tensor([[5., 2., 3., 4., 5., 6., 7., 8., 9.]])\n",
            "New shape: torch.Size([1, 9])\n"
          ]
        }
      ]
    },
    {
      "cell_type": "code",
      "source": [
        "# torch.permute - rearranges the dimensions of a target tensor in a specified order\n",
        "x_original = torch.rand(size=(224, 224, 3)) # [height, width, colour_channels]\n",
        "x_original, x_original.shape"
      ],
      "metadata": {
        "id": "Mzd5SN6BoecY",
        "colab": {
          "base_uri": "https://localhost:8080/"
        },
        "outputId": "661d00dc-2ff0-4517-805b-4efc11d67759"
      },
      "execution_count": null,
      "outputs": [
        {
          "output_type": "execute_result",
          "data": {
            "text/plain": [
              "(tensor([[[0.8672, 0.7755, 0.7119],\n",
              "          [0.4787, 0.8433, 0.6098],\n",
              "          [0.0206, 0.9849, 0.5864],\n",
              "          ...,\n",
              "          [0.3511, 0.1396, 0.4571],\n",
              "          [0.6128, 0.0629, 0.2124],\n",
              "          [0.2937, 0.0626, 0.1588]],\n",
              " \n",
              "         [[0.5646, 0.5662, 0.3465],\n",
              "          [0.3763, 0.3869, 0.4344],\n",
              "          [0.2330, 0.5356, 0.0058],\n",
              "          ...,\n",
              "          [0.1071, 0.8668, 0.2389],\n",
              "          [0.9146, 0.7538, 0.1760],\n",
              "          [0.5724, 0.0694, 0.7118]],\n",
              " \n",
              "         [[0.0464, 0.8367, 0.5703],\n",
              "          [0.5478, 0.8388, 0.5417],\n",
              "          [0.7981, 0.9880, 0.0496],\n",
              "          ...,\n",
              "          [0.5962, 0.8054, 0.8089],\n",
              "          [0.6470, 0.7318, 0.2566],\n",
              "          [0.5363, 0.4233, 0.4605]],\n",
              " \n",
              "         ...,\n",
              " \n",
              "         [[0.9669, 0.0704, 0.8237],\n",
              "          [0.5141, 0.4284, 0.7215],\n",
              "          [0.8886, 0.6030, 0.8082],\n",
              "          ...,\n",
              "          [0.4945, 0.2570, 0.6574],\n",
              "          [0.1307, 0.8442, 0.2563],\n",
              "          [0.9845, 0.4976, 0.9789]],\n",
              " \n",
              "         [[0.7201, 0.9623, 0.6615],\n",
              "          [0.8430, 0.4825, 0.4264],\n",
              "          [0.9084, 0.8806, 0.3217],\n",
              "          ...,\n",
              "          [0.6287, 0.5087, 0.8305],\n",
              "          [0.2045, 0.5602, 0.7328],\n",
              "          [0.5241, 0.9395, 0.5489]],\n",
              " \n",
              "         [[0.1928, 0.8873, 0.9719],\n",
              "          [0.2443, 0.9511, 0.9595],\n",
              "          [0.6316, 0.2089, 0.1714],\n",
              "          ...,\n",
              "          [0.8995, 0.1983, 0.8933],\n",
              "          [0.2663, 0.2859, 0.8423],\n",
              "          [0.2080, 0.4638, 0.6644]]]),\n",
              " torch.Size([224, 224, 3]))"
            ]
          },
          "metadata": {},
          "execution_count": 94
        }
      ]
    },
    {
      "cell_type": "code",
      "source": [
        "# Permute the orignal tensor to rearrange the axis (or dim) order\n",
        "x_permuted = x_original.permute(2, 0, 1) # shifts axis 0->1, 1->2, 2->0\n",
        "x_permuted, x_permuted.shape"
      ],
      "metadata": {
        "id": "mF4nD1ECqXY-",
        "colab": {
          "base_uri": "https://localhost:8080/"
        },
        "outputId": "82384047-b756-4992-df17-cf80ecc53246"
      },
      "execution_count": null,
      "outputs": [
        {
          "output_type": "execute_result",
          "data": {
            "text/plain": [
              "(tensor([[[0.8672, 0.4787, 0.0206,  ..., 0.3511, 0.6128, 0.2937],\n",
              "          [0.5646, 0.3763, 0.2330,  ..., 0.1071, 0.9146, 0.5724],\n",
              "          [0.0464, 0.5478, 0.7981,  ..., 0.5962, 0.6470, 0.5363],\n",
              "          ...,\n",
              "          [0.9669, 0.5141, 0.8886,  ..., 0.4945, 0.1307, 0.9845],\n",
              "          [0.7201, 0.8430, 0.9084,  ..., 0.6287, 0.2045, 0.5241],\n",
              "          [0.1928, 0.2443, 0.6316,  ..., 0.8995, 0.2663, 0.2080]],\n",
              " \n",
              "         [[0.7755, 0.8433, 0.9849,  ..., 0.1396, 0.0629, 0.0626],\n",
              "          [0.5662, 0.3869, 0.5356,  ..., 0.8668, 0.7538, 0.0694],\n",
              "          [0.8367, 0.8388, 0.9880,  ..., 0.8054, 0.7318, 0.4233],\n",
              "          ...,\n",
              "          [0.0704, 0.4284, 0.6030,  ..., 0.2570, 0.8442, 0.4976],\n",
              "          [0.9623, 0.4825, 0.8806,  ..., 0.5087, 0.5602, 0.9395],\n",
              "          [0.8873, 0.9511, 0.2089,  ..., 0.1983, 0.2859, 0.4638]],\n",
              " \n",
              "         [[0.7119, 0.6098, 0.5864,  ..., 0.4571, 0.2124, 0.1588],\n",
              "          [0.3465, 0.4344, 0.0058,  ..., 0.2389, 0.1760, 0.7118],\n",
              "          [0.5703, 0.5417, 0.0496,  ..., 0.8089, 0.2566, 0.4605],\n",
              "          ...,\n",
              "          [0.8237, 0.7215, 0.8082,  ..., 0.6574, 0.2563, 0.9789],\n",
              "          [0.6615, 0.4264, 0.3217,  ..., 0.8305, 0.7328, 0.5489],\n",
              "          [0.9719, 0.9595, 0.1714,  ..., 0.8933, 0.8423, 0.6644]]]),\n",
              " torch.Size([3, 224, 224]))"
            ]
          },
          "metadata": {},
          "execution_count": 95
        }
      ]
    },
    {
      "cell_type": "code",
      "source": [
        "x_original, x_original.shape"
      ],
      "metadata": {
        "id": "RApiaBm4rneV",
        "colab": {
          "base_uri": "https://localhost:8080/"
        },
        "outputId": "58b3ba6b-7402-48f3-d47d-1cdf2e5f8d16"
      },
      "execution_count": null,
      "outputs": [
        {
          "output_type": "execute_result",
          "data": {
            "text/plain": [
              "(tensor([[[0.8672, 0.7755, 0.7119],\n",
              "          [0.4787, 0.8433, 0.6098],\n",
              "          [0.0206, 0.9849, 0.5864],\n",
              "          ...,\n",
              "          [0.3511, 0.1396, 0.4571],\n",
              "          [0.6128, 0.0629, 0.2124],\n",
              "          [0.2937, 0.0626, 0.1588]],\n",
              " \n",
              "         [[0.5646, 0.5662, 0.3465],\n",
              "          [0.3763, 0.3869, 0.4344],\n",
              "          [0.2330, 0.5356, 0.0058],\n",
              "          ...,\n",
              "          [0.1071, 0.8668, 0.2389],\n",
              "          [0.9146, 0.7538, 0.1760],\n",
              "          [0.5724, 0.0694, 0.7118]],\n",
              " \n",
              "         [[0.0464, 0.8367, 0.5703],\n",
              "          [0.5478, 0.8388, 0.5417],\n",
              "          [0.7981, 0.9880, 0.0496],\n",
              "          ...,\n",
              "          [0.5962, 0.8054, 0.8089],\n",
              "          [0.6470, 0.7318, 0.2566],\n",
              "          [0.5363, 0.4233, 0.4605]],\n",
              " \n",
              "         ...,\n",
              " \n",
              "         [[0.9669, 0.0704, 0.8237],\n",
              "          [0.5141, 0.4284, 0.7215],\n",
              "          [0.8886, 0.6030, 0.8082],\n",
              "          ...,\n",
              "          [0.4945, 0.2570, 0.6574],\n",
              "          [0.1307, 0.8442, 0.2563],\n",
              "          [0.9845, 0.4976, 0.9789]],\n",
              " \n",
              "         [[0.7201, 0.9623, 0.6615],\n",
              "          [0.8430, 0.4825, 0.4264],\n",
              "          [0.9084, 0.8806, 0.3217],\n",
              "          ...,\n",
              "          [0.6287, 0.5087, 0.8305],\n",
              "          [0.2045, 0.5602, 0.7328],\n",
              "          [0.5241, 0.9395, 0.5489]],\n",
              " \n",
              "         [[0.1928, 0.8873, 0.9719],\n",
              "          [0.2443, 0.9511, 0.9595],\n",
              "          [0.6316, 0.2089, 0.1714],\n",
              "          ...,\n",
              "          [0.8995, 0.1983, 0.8933],\n",
              "          [0.2663, 0.2859, 0.8423],\n",
              "          [0.2080, 0.4638, 0.6644]]]),\n",
              " torch.Size([224, 224, 3]))"
            ]
          },
          "metadata": {},
          "execution_count": 96
        }
      ]
    },
    {
      "cell_type": "code",
      "source": [
        "print(f'Previous shape: {x_original.shape}') #[colour_chanel, height, width]\n",
        "print(f'New shape: {x_permuted.shape}')"
      ],
      "metadata": {
        "id": "fPePR5zvr0vm",
        "colab": {
          "base_uri": "https://localhost:8080/"
        },
        "outputId": "8f496765-6873-4abe-9701-40f2b9bf5b9f"
      },
      "execution_count": null,
      "outputs": [
        {
          "output_type": "stream",
          "name": "stdout",
          "text": [
            "Previous shape: torch.Size([224, 224, 3])\n",
            "New shape: torch.Size([3, 224, 224])\n"
          ]
        }
      ]
    },
    {
      "cell_type": "code",
      "source": [
        "x_original[0, 0, 0]"
      ],
      "metadata": {
        "id": "NJUMQZJpsLE9",
        "colab": {
          "base_uri": "https://localhost:8080/"
        },
        "outputId": "84b4ba6b-b288-4313-a099-94f0de4dc697"
      },
      "execution_count": null,
      "outputs": [
        {
          "output_type": "execute_result",
          "data": {
            "text/plain": [
              "tensor(0.8672)"
            ]
          },
          "metadata": {},
          "execution_count": 98
        }
      ]
    },
    {
      "cell_type": "code",
      "source": [
        "x_permuted[0, 0, 0]"
      ],
      "metadata": {
        "id": "nORtoJcosUum",
        "colab": {
          "base_uri": "https://localhost:8080/"
        },
        "outputId": "45e05266-5c7c-42ab-fe2a-ed82bb069603"
      },
      "execution_count": null,
      "outputs": [
        {
          "output_type": "execute_result",
          "data": {
            "text/plain": [
              "tensor(0.8672)"
            ]
          },
          "metadata": {},
          "execution_count": 99
        }
      ]
    },
    {
      "cell_type": "code",
      "source": [
        "x_permuted[0, 0, 0] = .999"
      ],
      "metadata": {
        "id": "mDLJWdNxsac3"
      },
      "execution_count": null,
      "outputs": []
    },
    {
      "cell_type": "code",
      "source": [
        "x_permuted[0, 0, 0]"
      ],
      "metadata": {
        "id": "o4Qq0zmDsejj",
        "colab": {
          "base_uri": "https://localhost:8080/"
        },
        "outputId": "ea4bcf2c-f81a-45ef-9863-de0d9e0b9d37"
      },
      "execution_count": null,
      "outputs": [
        {
          "output_type": "execute_result",
          "data": {
            "text/plain": [
              "tensor(0.9990)"
            ]
          },
          "metadata": {},
          "execution_count": 101
        }
      ]
    },
    {
      "cell_type": "code",
      "source": [
        "x_original[0, 0, 0]"
      ],
      "metadata": {
        "id": "g3j3BnCosgl7",
        "colab": {
          "base_uri": "https://localhost:8080/"
        },
        "outputId": "952cd68a-db40-4834-cd8f-02630053fefd"
      },
      "execution_count": null,
      "outputs": [
        {
          "output_type": "execute_result",
          "data": {
            "text/plain": [
              "tensor(0.9990)"
            ]
          },
          "metadata": {},
          "execution_count": 102
        }
      ]
    },
    {
      "cell_type": "markdown",
      "source": [
        "## Indexing (selecting data from tensors)\n",
        "\n",
        "Indexing with PyTorch is similar to indexing with NumPy."
      ],
      "metadata": {
        "id": "lBJz20b8fiW1"
      }
    },
    {
      "cell_type": "code",
      "source": [
        "# Create a tensor\n",
        "import torch\n",
        "x = torch.arange(1, 10).reshape(1, 3, 3)\n",
        "x, x.shape"
      ],
      "metadata": {
        "id": "pusJokfIfqaa",
        "colab": {
          "base_uri": "https://localhost:8080/"
        },
        "outputId": "e0328d27-7952-4763-827a-14cde83f2c13"
      },
      "execution_count": null,
      "outputs": [
        {
          "output_type": "execute_result",
          "data": {
            "text/plain": [
              "(tensor([[[1, 2, 3],\n",
              "          [4, 5, 6],\n",
              "          [7, 8, 9]]]),\n",
              " torch.Size([1, 3, 3]))"
            ]
          },
          "metadata": {},
          "execution_count": 103
        }
      ]
    },
    {
      "cell_type": "code",
      "source": [
        "# Let's index on our new tensor (dim=0)\n",
        "x[0]"
      ],
      "metadata": {
        "id": "X2nTUTTUfx-9",
        "colab": {
          "base_uri": "https://localhost:8080/"
        },
        "outputId": "b63ff2b7-4623-4819-e05c-508ae60f7e15"
      },
      "execution_count": null,
      "outputs": [
        {
          "output_type": "execute_result",
          "data": {
            "text/plain": [
              "tensor([[1, 2, 3],\n",
              "        [4, 5, 6],\n",
              "        [7, 8, 9]])"
            ]
          },
          "metadata": {},
          "execution_count": 104
        }
      ]
    },
    {
      "cell_type": "code",
      "source": [
        "# Let's index on the middle bracket (dim=1)\n",
        "x[0][0], x[0, 0]"
      ],
      "metadata": {
        "id": "a08zPPxcglMg",
        "colab": {
          "base_uri": "https://localhost:8080/"
        },
        "outputId": "d6af7e5c-3da9-412d-9e64-60b00eb150a0"
      },
      "execution_count": null,
      "outputs": [
        {
          "output_type": "execute_result",
          "data": {
            "text/plain": [
              "(tensor([1, 2, 3]), tensor([1, 2, 3]))"
            ]
          },
          "metadata": {},
          "execution_count": 105
        }
      ]
    },
    {
      "cell_type": "code",
      "source": [
        "# Let's index on the most inner bracket (last dimension)\n",
        "x[0][0][0], x[0,0,0]"
      ],
      "metadata": {
        "id": "Ia0F_-x3hc0B",
        "colab": {
          "base_uri": "https://localhost:8080/"
        },
        "outputId": "b557ff41-93e9-441d-9f31-a17e59de05ef"
      },
      "execution_count": null,
      "outputs": [
        {
          "output_type": "execute_result",
          "data": {
            "text/plain": [
              "(tensor(1), tensor(1))"
            ]
          },
          "metadata": {},
          "execution_count": 106
        }
      ]
    },
    {
      "cell_type": "code",
      "source": [
        "# You can also use \":\" to select \"all\" of a target dimension\n",
        "x[:, 0]"
      ],
      "metadata": {
        "id": "Vd91vCybhq1x",
        "colab": {
          "base_uri": "https://localhost:8080/"
        },
        "outputId": "39e86cae-7053-4442-a22d-0220d1d3bfdc"
      },
      "execution_count": null,
      "outputs": [
        {
          "output_type": "execute_result",
          "data": {
            "text/plain": [
              "tensor([[1, 2, 3]])"
            ]
          },
          "metadata": {},
          "execution_count": 107
        }
      ]
    },
    {
      "cell_type": "code",
      "source": [
        "# Get all values of 0th and 1st dimensions but only index 1 of 2nd dimension\n",
        "x[:, :, 1]"
      ],
      "metadata": {
        "id": "yZBk27dXiQUU",
        "colab": {
          "base_uri": "https://localhost:8080/"
        },
        "outputId": "95901341-b027-454b-80da-a79ed2076aa9"
      },
      "execution_count": null,
      "outputs": [
        {
          "output_type": "execute_result",
          "data": {
            "text/plain": [
              "tensor([[2, 5, 8]])"
            ]
          },
          "metadata": {},
          "execution_count": 108
        }
      ]
    },
    {
      "cell_type": "code",
      "source": [
        "# Get all vaues of the 0 dimension but only the 1 index value of 1st and 2nd dimension\n",
        "x[:, 1, 1]"
      ],
      "metadata": {
        "id": "aQr-yNFqiZx-",
        "colab": {
          "base_uri": "https://localhost:8080/"
        },
        "outputId": "ec41585f-5df0-4f34-9a64-400262cacf56"
      },
      "execution_count": null,
      "outputs": [
        {
          "output_type": "execute_result",
          "data": {
            "text/plain": [
              "tensor([5])"
            ]
          },
          "metadata": {},
          "execution_count": 109
        }
      ]
    },
    {
      "cell_type": "code",
      "source": [
        "# Get index 0 of 0th and 1st dimension and all values of 2nd dimension\n",
        "x[0, 0, :]"
      ],
      "metadata": {
        "id": "lzypwfpLimos",
        "colab": {
          "base_uri": "https://localhost:8080/"
        },
        "outputId": "66b21a96-0514-4330-d585-279338946129"
      },
      "execution_count": null,
      "outputs": [
        {
          "output_type": "execute_result",
          "data": {
            "text/plain": [
              "tensor([1, 2, 3])"
            ]
          },
          "metadata": {},
          "execution_count": 110
        }
      ]
    },
    {
      "cell_type": "code",
      "source": [
        "# Index on x to return 9\n",
        "x[0,2,2]"
      ],
      "metadata": {
        "id": "jXSibC6Di0kC",
        "colab": {
          "base_uri": "https://localhost:8080/"
        },
        "outputId": "f1a21484-866e-498e-8c2a-79e3670a5f8d"
      },
      "execution_count": null,
      "outputs": [
        {
          "output_type": "execute_result",
          "data": {
            "text/plain": [
              "tensor(9)"
            ]
          },
          "metadata": {},
          "execution_count": 111
        }
      ]
    },
    {
      "cell_type": "code",
      "source": [
        "# Index on x to return 3, 6 9\n",
        "x[0, :, 2]"
      ],
      "metadata": {
        "id": "u7LbiPJ0jD2d",
        "colab": {
          "base_uri": "https://localhost:8080/"
        },
        "outputId": "07227fe6-4d9b-492b-c26e-f01f248fae80"
      },
      "execution_count": null,
      "outputs": [
        {
          "output_type": "execute_result",
          "data": {
            "text/plain": [
              "tensor([3, 6, 9])"
            ]
          },
          "metadata": {},
          "execution_count": 112
        }
      ]
    },
    {
      "cell_type": "markdown",
      "source": [
        "## PyTorch tensors & NumPy\n",
        "\n",
        "NumPy is a popular scientific Python numerical computing library.\n",
        "\n",
        "And because of this, PyTorch has functionality to interact with it.\n",
        "\n",
        "* Data in NumPy, want in PyTorch tensor -> `torch.from_numpy(ndarray)`\n",
        "* PyTorch tensor -> NumPy -> `torch.Tensor.numpy()`"
      ],
      "metadata": {
        "id": "aCyNYGmLjR63"
      }
    },
    {
      "cell_type": "code",
      "source": [
        "# NumPy array to tensor\n",
        "import torch\n",
        "import numpy as np\n",
        "\n",
        "array = np.arange(1.0, 8.0)\n",
        "tensor = torch.from_numpy(array) # warning: when converting from numpy -> pytorch, pytorch relfects numpy's default datatype of float64 unless otherwise specifiec. See below.\n",
        "array, tensor"
      ],
      "metadata": {
        "id": "b2wgWDf1mK9U",
        "colab": {
          "base_uri": "https://localhost:8080/"
        },
        "outputId": "7a3d3663-e413-4e41-cc0b-5298e8ce9948"
      },
      "execution_count": null,
      "outputs": [
        {
          "output_type": "execute_result",
          "data": {
            "text/plain": [
              "(array([1., 2., 3., 4., 5., 6., 7.]),\n",
              " tensor([1., 2., 3., 4., 5., 6., 7.], dtype=torch.float64))"
            ]
          },
          "metadata": {},
          "execution_count": 113
        }
      ]
    },
    {
      "cell_type": "code",
      "source": [
        "array.dtype"
      ],
      "metadata": {
        "id": "ND5JLnZumWKk",
        "colab": {
          "base_uri": "https://localhost:8080/"
        },
        "outputId": "dda41f7c-e8cf-4289-83d7-2a509da0fc97"
      },
      "execution_count": null,
      "outputs": [
        {
          "output_type": "execute_result",
          "data": {
            "text/plain": [
              "dtype('float64')"
            ]
          },
          "metadata": {},
          "execution_count": 114
        }
      ]
    },
    {
      "cell_type": "code",
      "source": [
        "tensor.dtype"
      ],
      "metadata": {
        "id": "iGcrJ8komb9r",
        "colab": {
          "base_uri": "https://localhost:8080/"
        },
        "outputId": "a8e70be5-1940-4304-f147-fbeb7c7009e5"
      },
      "execution_count": null,
      "outputs": [
        {
          "output_type": "execute_result",
          "data": {
            "text/plain": [
              "torch.float64"
            ]
          },
          "metadata": {},
          "execution_count": 115
        }
      ]
    },
    {
      "cell_type": "code",
      "source": [
        "# But the default tensor data type is float 32\n",
        "torch.arange(1.0, 8.0).dtype"
      ],
      "metadata": {
        "id": "LeUXSFqXmda5",
        "colab": {
          "base_uri": "https://localhost:8080/"
        },
        "outputId": "79383aa9-7dd0-40d5-9c45-e5170cdd2b1a"
      },
      "execution_count": null,
      "outputs": [
        {
          "output_type": "execute_result",
          "data": {
            "text/plain": [
              "torch.float32"
            ]
          },
          "metadata": {},
          "execution_count": 116
        }
      ]
    },
    {
      "cell_type": "code",
      "source": [
        "# Make sure of type, other than default, on initialization\n",
        "tensor = torch.from_numpy(array).type(torch.float32)\n",
        "tensor.dtype"
      ],
      "metadata": {
        "id": "lVoXz2hEmni8",
        "colab": {
          "base_uri": "https://localhost:8080/"
        },
        "outputId": "b8380968-c359-4cff-95f6-ed70a6638cf2"
      },
      "execution_count": null,
      "outputs": [
        {
          "output_type": "execute_result",
          "data": {
            "text/plain": [
              "torch.float32"
            ]
          },
          "metadata": {},
          "execution_count": 117
        }
      ]
    },
    {
      "cell_type": "code",
      "source": [
        "# Chage the value of array, what will this do to `tensor`?\n",
        "array = array + 1\n",
        "array, tensor"
      ],
      "metadata": {
        "id": "rVYcqf6Nmy6h",
        "colab": {
          "base_uri": "https://localhost:8080/"
        },
        "outputId": "d518316a-aecb-4fce-bad6-7ce36f4f62a3"
      },
      "execution_count": null,
      "outputs": [
        {
          "output_type": "execute_result",
          "data": {
            "text/plain": [
              "(array([2., 3., 4., 5., 6., 7., 8.]), tensor([1., 2., 3., 4., 5., 6., 7.]))"
            ]
          },
          "metadata": {},
          "execution_count": 118
        }
      ]
    },
    {
      "cell_type": "code",
      "source": [
        "# Tensor to NumPy array\n",
        "tensor = torch.ones(7)\n",
        "numpy_tensor = tensor.numpy()\n",
        "tensor, numpy_tensor"
      ],
      "metadata": {
        "id": "Axfpaj8bn_fY",
        "colab": {
          "base_uri": "https://localhost:8080/"
        },
        "outputId": "b76096b3-27f3-4605-8e00-d2a915323b68"
      },
      "execution_count": null,
      "outputs": [
        {
          "output_type": "execute_result",
          "data": {
            "text/plain": [
              "(tensor([1., 1., 1., 1., 1., 1., 1.]),\n",
              " array([1., 1., 1., 1., 1., 1., 1.], dtype=float32))"
            ]
          },
          "metadata": {},
          "execution_count": 119
        }
      ]
    },
    {
      "cell_type": "code",
      "source": [
        "# warning: when converting from pytorch -> numpy, numpy relfects pytorch's default datatype of float32 unless otherwise specifiec. See below.\n",
        "tensor.dtype, numpy_tensor.dtype"
      ],
      "metadata": {
        "id": "Cn47AbKFoN9G",
        "colab": {
          "base_uri": "https://localhost:8080/"
        },
        "outputId": "e3945c68-3dd2-4187-e8ae-3b83445e1ba4"
      },
      "execution_count": null,
      "outputs": [
        {
          "output_type": "execute_result",
          "data": {
            "text/plain": [
              "(torch.float32, dtype('float32'))"
            ]
          },
          "metadata": {},
          "execution_count": 120
        }
      ]
    },
    {
      "cell_type": "code",
      "source": [
        "# Change the tensor, what happens to `numpy_tensor`?\n",
        "tensor = tensor + 1\n",
        "tensor, numpy_tensor"
      ],
      "metadata": {
        "id": "IoLLhhwloP4I",
        "colab": {
          "base_uri": "https://localhost:8080/"
        },
        "outputId": "af76ac45-ee93-416f-e67e-b94a383bda2e"
      },
      "execution_count": null,
      "outputs": [
        {
          "output_type": "execute_result",
          "data": {
            "text/plain": [
              "(tensor([2., 2., 2., 2., 2., 2., 2.]),\n",
              " array([1., 1., 1., 1., 1., 1., 1.], dtype=float32))"
            ]
          },
          "metadata": {},
          "execution_count": 121
        }
      ]
    },
    {
      "cell_type": "markdown",
      "source": [
        "## Reproducibility (trying to take random out of random)\n",
        "\n",
        "In short how a neural network learns:\n",
        "\n",
        "`start with random numbers -> tensor operations -> update random numbers to try and make them better representations of the data -> again -> again -> again...`\n",
        "\n",
        "To reduce the randomness in neural networks and PyTorch comes the concept of a **random seed**.\n",
        "\n",
        "Essentially what the random seed does is \"flavour\" the randomness."
      ],
      "metadata": {
        "id": "61Liu7omouYo"
      }
    },
    {
      "cell_type": "code",
      "source": [
        "import torch\n",
        "\n",
        "# Create two random tensors\n",
        "random_tensor_A = torch.rand(3, 4)\n",
        "random_tensor_B = torch.rand(3, 4)\n",
        "\n",
        "print(random_tensor_A)\n",
        "print(random_tensor_B)\n",
        "print(random_tensor_A == random_tensor_B)"
      ],
      "metadata": {
        "id": "5rRlEphDpA0I",
        "colab": {
          "base_uri": "https://localhost:8080/"
        },
        "outputId": "99db1c50-3282-440f-e016-fac6f1021780"
      },
      "execution_count": null,
      "outputs": [
        {
          "output_type": "stream",
          "name": "stdout",
          "text": [
            "tensor([[0.7707, 0.3881, 0.4534, 0.4578],\n",
            "        [0.3554, 0.3222, 0.0742, 0.4190],\n",
            "        [0.7450, 0.7292, 0.6043, 0.6903]])\n",
            "tensor([[0.0980, 0.4919, 0.8097, 0.9370],\n",
            "        [0.2755, 0.1023, 0.5940, 0.8923],\n",
            "        [0.5141, 0.8238, 0.0253, 0.6170]])\n",
            "tensor([[False, False, False, False],\n",
            "        [False, False, False, False],\n",
            "        [False, False, False, False]])\n"
          ]
        }
      ]
    },
    {
      "cell_type": "code",
      "source": [
        "# Let's make some random but reproducible tensors\n",
        "import torch\n",
        "\n",
        "# Set the random seed\n",
        "RANDOM_SEED = 369\n",
        "torch.manual_seed(RANDOM_SEED)\n",
        "random_tensor_C = torch.rand(3, 4)\n",
        "\n",
        "torch.manual_seed(RANDOM_SEED)\n",
        "random_tensor_D = torch.rand(3, 4)\n",
        "\n",
        "print(random_tensor_C)\n",
        "print(random_tensor_D)\n",
        "print(random_tensor_C == random_tensor_D)"
      ],
      "metadata": {
        "id": "RU_uMA5ApNFg",
        "colab": {
          "base_uri": "https://localhost:8080/"
        },
        "outputId": "ea7dc8b1-4a1c-4596-b277-430103332ae9"
      },
      "execution_count": null,
      "outputs": [
        {
          "output_type": "stream",
          "name": "stdout",
          "text": [
            "tensor([[0.3998, 0.6201, 0.9229, 0.0735],\n",
            "        [0.8979, 0.8878, 0.9014, 0.5796],\n",
            "        [0.4578, 0.3855, 0.9865, 0.2216]])\n",
            "tensor([[0.3998, 0.6201, 0.9229, 0.0735],\n",
            "        [0.8979, 0.8878, 0.9014, 0.5796],\n",
            "        [0.4578, 0.3855, 0.9865, 0.2216]])\n",
            "tensor([[True, True, True, True],\n",
            "        [True, True, True, True],\n",
            "        [True, True, True, True]])\n"
          ]
        }
      ]
    },
    {
      "cell_type": "markdown",
      "source": [
        "Extra resources for reproducibility:\n",
        "* https://pytorch.org/docs/stable/notes/randomness.html\n",
        "* https://en.wikipedia.org/wiki/Random_seed"
      ],
      "metadata": {
        "id": "LDU1JYHcvK62"
      }
    },
    {
      "cell_type": "markdown",
      "source": [
        "## Running tensors and PyTorch objects on the GPUs (and making faster computations)\n",
        "\n",
        "GPUs = faster computation on numbers, thanks to CUDA + NVIDIA + PyTorch working behind the scenes to make everything hunky dory (good)."
      ],
      "metadata": {
        "id": "wNNuIKIo4vz_"
      }
    },
    {
      "cell_type": "markdown",
      "source": [
        "### 1. Getting a GPU\n",
        "\n",
        "1. Easiest - Use Google Colab for a free GPU (options to upgrade as well)\n",
        "2. Use your own GPU - takes a little bit of setup and requires the investment of purchasing a GPU, there's lots of options..., see online for what option to get.\n",
        "3. Use cloud computing - GCP, AWS, Azure, these services allow you to rent computers on the cloud and access them.\n",
        "\n",
        "For 2, 3 PyTorch + GPU drivers (CUDA) takes a little bit of setting up, to do this, refer to PyTorch setup documentation: https://pytorch.org/get-started/locally/\n"
      ],
      "metadata": {
        "id": "D7Yd1djE8Ign"
      }
    },
    {
      "cell_type": "code",
      "source": [
        "!nvidia-smi"
      ],
      "metadata": {
        "id": "5Lf8iHLM-jCB",
        "colab": {
          "base_uri": "https://localhost:8080/"
        },
        "outputId": "67999b49-1552-4d0d-82b4-33fa0b272301"
      },
      "execution_count": null,
      "outputs": [
        {
          "output_type": "stream",
          "name": "stdout",
          "text": [
            "Sat Jan 18 15:44:14 2025       \n",
            "+---------------------------------------------------------------------------------------+\n",
            "| NVIDIA-SMI 535.104.05             Driver Version: 535.104.05   CUDA Version: 12.2     |\n",
            "|-----------------------------------------+----------------------+----------------------+\n",
            "| GPU  Name                 Persistence-M | Bus-Id        Disp.A | Volatile Uncorr. ECC |\n",
            "| Fan  Temp   Perf          Pwr:Usage/Cap |         Memory-Usage | GPU-Util  Compute M. |\n",
            "|                                         |                      |               MIG M. |\n",
            "|=========================================+======================+======================|\n",
            "|   0  Tesla T4                       Off | 00000000:00:04.0 Off |                    0 |\n",
            "| N/A   43C    P8              12W /  70W |      0MiB / 15360MiB |      0%      Default |\n",
            "|                                         |                      |                  N/A |\n",
            "+-----------------------------------------+----------------------+----------------------+\n",
            "                                                                                         \n",
            "+---------------------------------------------------------------------------------------+\n",
            "| Processes:                                                                            |\n",
            "|  GPU   GI   CI        PID   Type   Process name                            GPU Memory |\n",
            "|        ID   ID                                                             Usage      |\n",
            "|=======================================================================================|\n",
            "|  No running processes found                                                           |\n",
            "+---------------------------------------------------------------------------------------+\n"
          ]
        }
      ]
    },
    {
      "cell_type": "markdown",
      "source": [
        "### 2. Check for GPU access with PyTorch"
      ],
      "metadata": {
        "id": "iWWusQw8-zNW"
      }
    },
    {
      "cell_type": "code",
      "source": [
        "# Check for GPU access with PyTorch\n",
        "import torch\n",
        "torch.cuda.is_available()"
      ],
      "metadata": {
        "id": "sJJOjTkF_bV4",
        "colab": {
          "base_uri": "https://localhost:8080/"
        },
        "outputId": "33bcdad7-baf0-4c68-dcc6-b178d9a84221"
      },
      "execution_count": null,
      "outputs": [
        {
          "output_type": "execute_result",
          "data": {
            "text/plain": [
              "True"
            ]
          },
          "metadata": {},
          "execution_count": 125
        }
      ]
    },
    {
      "cell_type": "markdown",
      "source": [
        "For PyTorch since it's capable of running compute on the GPU or CPU, it's best practice to setup device agnostic code: https://pytorch.org/get-started/locally/\n",
        "\n",
        "E.g. run on GPU if availalbe, else default to CPU"
      ],
      "metadata": {
        "id": "gHUHhzjQCg_x"
      }
    },
    {
      "cell_type": "code",
      "source": [
        "# Setup device agnostic code\n",
        "device = 'cuda' if torch.cuda.is_available() else 'cpu'\n",
        "device"
      ],
      "metadata": {
        "id": "PXwmGTZJ_hFe",
        "colab": {
          "base_uri": "https://localhost:8080/",
          "height": 36
        },
        "outputId": "680335e4-bf25-4b01-91da-aab18b33b605"
      },
      "execution_count": null,
      "outputs": [
        {
          "output_type": "execute_result",
          "data": {
            "text/plain": [
              "'cuda'"
            ],
            "application/vnd.google.colaboratory.intrinsic+json": {
              "type": "string"
            }
          },
          "metadata": {},
          "execution_count": 126
        }
      ]
    },
    {
      "cell_type": "code",
      "source": [
        "# Count number of devices\n",
        "torch.cuda.device_count()"
      ],
      "metadata": {
        "id": "Bf1vD2g__0pi",
        "colab": {
          "base_uri": "https://localhost:8080/"
        },
        "outputId": "52d22b77-3ac1-4e4a-85e6-2334667ac2bf"
      },
      "execution_count": null,
      "outputs": [
        {
          "output_type": "execute_result",
          "data": {
            "text/plain": [
              "1"
            ]
          },
          "metadata": {},
          "execution_count": 127
        }
      ]
    },
    {
      "cell_type": "markdown",
      "source": [
        "## 3. Putting tensors (and models) on the GPU\n",
        "\n",
        "The reason we want our tensors/models on the GPU is because using a GPU results in faster computations."
      ],
      "metadata": {
        "id": "yaq3tFrUCDUM"
      }
    },
    {
      "cell_type": "code",
      "source": [
        "# Create a tensor (default on the CPU)\n",
        "tensor = torch.tensor([1, 2, 3])\n",
        "\n",
        "# Tensor no on GPU\n",
        "print(tensor, tensor.device)"
      ],
      "metadata": {
        "id": "KWbUGE42DHVU",
        "colab": {
          "base_uri": "https://localhost:8080/"
        },
        "outputId": "8cc0c74c-e78b-415c-f766-0e0e5382e94d"
      },
      "execution_count": null,
      "outputs": [
        {
          "output_type": "stream",
          "name": "stdout",
          "text": [
            "tensor([1, 2, 3]) cpu\n"
          ]
        }
      ]
    },
    {
      "cell_type": "code",
      "source": [
        "# Move tensor to GPU (if available)\n",
        "tensor_on_gpu = tensor.to(device)\n",
        "tensor_on_gpu"
      ],
      "metadata": {
        "id": "M1zVWbS_DXuH",
        "colab": {
          "base_uri": "https://localhost:8080/"
        },
        "outputId": "e0f89668-60cb-4714-ebab-5c34e620f2c2"
      },
      "execution_count": null,
      "outputs": [
        {
          "output_type": "execute_result",
          "data": {
            "text/plain": [
              "tensor([1, 2, 3], device='cuda:0')"
            ]
          },
          "metadata": {},
          "execution_count": 129
        }
      ]
    },
    {
      "cell_type": "markdown",
      "source": [
        "### 4. Moving tensors back to the CPU"
      ],
      "metadata": {
        "id": "4ZChlDH3Dlxa"
      }
    },
    {
      "cell_type": "code",
      "source": [
        "# If tensor is on GPU, can't transorm it to NumPy\n",
        "tensor_on_gpu.numpy()"
      ],
      "metadata": {
        "id": "yCoyLoHbD5nh",
        "colab": {
          "base_uri": "https://localhost:8080/",
          "height": 158
        },
        "outputId": "3fbb64e7-e4f8-4198-e303-f23a6e88fe3b"
      },
      "execution_count": null,
      "outputs": [
        {
          "output_type": "error",
          "ename": "TypeError",
          "evalue": "can't convert cuda:0 device type tensor to numpy. Use Tensor.cpu() to copy the tensor to host memory first.",
          "traceback": [
            "\u001b[0;31m---------------------------------------------------------------------------\u001b[0m",
            "\u001b[0;31mTypeError\u001b[0m                                 Traceback (most recent call last)",
            "\u001b[0;32m<ipython-input-130-fbd566b407d2>\u001b[0m in \u001b[0;36m<cell line: 0>\u001b[0;34m()\u001b[0m\n\u001b[1;32m      1\u001b[0m \u001b[0;31m# If tensor is on GPU, can't transorm it to NumPy\u001b[0m\u001b[0;34m\u001b[0m\u001b[0;34m\u001b[0m\u001b[0m\n\u001b[0;32m----> 2\u001b[0;31m \u001b[0mtensor_on_gpu\u001b[0m\u001b[0;34m.\u001b[0m\u001b[0mnumpy\u001b[0m\u001b[0;34m(\u001b[0m\u001b[0;34m)\u001b[0m\u001b[0;34m\u001b[0m\u001b[0;34m\u001b[0m\u001b[0m\n\u001b[0m",
            "\u001b[0;31mTypeError\u001b[0m: can't convert cuda:0 device type tensor to numpy. Use Tensor.cpu() to copy the tensor to host memory first."
          ]
        }
      ]
    },
    {
      "cell_type": "code",
      "source": [
        "# To fix the GPU tensor with NumPy issue, we can first set it to the CPU\n",
        "tensor_back_on_cpu = tensor_on_gpu.cpu().numpy()\n",
        "tensor_back_on_cpu"
      ],
      "metadata": {
        "id": "QGJeBl-ZD_wk",
        "colab": {
          "base_uri": "https://localhost:8080/"
        },
        "outputId": "24973843-c650-4f0e-e690-d7a5019ead66"
      },
      "execution_count": null,
      "outputs": [
        {
          "output_type": "execute_result",
          "data": {
            "text/plain": [
              "array([1, 2, 3])"
            ]
          },
          "metadata": {},
          "execution_count": 131
        }
      ]
    },
    {
      "cell_type": "code",
      "source": [
        "# This should be unchanged\n",
        "tensor_on_gpu"
      ],
      "metadata": {
        "id": "Lmh0DuNIEUHK",
        "colab": {
          "base_uri": "https://localhost:8080/"
        },
        "outputId": "d0472e68-764f-49a3-e0d7-b5383faaea78"
      },
      "execution_count": null,
      "outputs": [
        {
          "output_type": "execute_result",
          "data": {
            "text/plain": [
              "tensor([1, 2, 3], device='cuda:0')"
            ]
          },
          "metadata": {},
          "execution_count": 132
        }
      ]
    },
    {
      "cell_type": "markdown",
      "source": [
        "## Exercises & Extra-cuurriculum\n",
        "\n",
        "See exercises for this notebook here: https://www.learnpytorch.io/00_pytorch_fundamentals/#exercises"
      ],
      "metadata": {
        "id": "Xr6v8oeiEXOI"
      }
    }
  ]
}